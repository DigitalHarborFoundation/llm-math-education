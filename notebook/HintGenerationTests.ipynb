{
 "cells": [
  {
   "cell_type": "markdown",
   "id": "01ed92ab-bd20-4e43-9436-447301edab14",
   "metadata": {},
   "source": [
    "Hint Generation Tests\n",
    "===\n",
    "\n",
    "Goal: explain to the student why their answer is wrong.\n",
    "\n",
    "Axis 1:\n",
    " - With revealing the right answer\n",
    " - Without revealing the right answer\n",
    "\n",
    "Axis 2:\n",
    " - Using no lesson content? (Probably not, doesn't matter how good this is.)\n",
    " - Using lesson context only\n",
    " - Using larger Rori context\n",
    " - Using Rori + external math corpus context\n",
    "\n",
    "Axis 3:\n",
    " - Single prompt, no CoT\n",
    " - Single CoT prompt + refinement prompt\n",
    " - Multi-stage refinment or retrieval"
   ]
  },
  {
   "cell_type": "code",
   "execution_count": 1,
   "id": "75bad6ad-c299-4542-bae9-e1f528b2fcf6",
   "metadata": {},
   "outputs": [],
   "source": [
    "import json\n",
    "import locale\n",
    "import os\n",
    "import time\n",
    "from collections import defaultdict\n",
    "from pathlib import Path\n",
    "from pprint import pprint\n",
    "\n",
    "import dotenv\n",
    "import matplotlib.pyplot as plt\n",
    "import numpy as np\n",
    "import openai\n",
    "import pandas as pd\n",
    "import scipy\n",
    "import tiktoken\n",
    "from tqdm import tqdm"
   ]
  },
  {
   "cell_type": "code",
   "execution_count": 2,
   "id": "e7e6f1c5-1318-45e5-a7d5-9cf52ca4dde6",
   "metadata": {},
   "outputs": [
    {
     "data": {
      "text/plain": [
       "True"
      ]
     },
     "execution_count": 2,
     "metadata": {},
     "output_type": "execute_result"
    }
   ],
   "source": [
    "dotenv.load_dotenv(\"../.env\")"
   ]
  },
  {
   "cell_type": "code",
   "execution_count": 3,
   "id": "8c032d5d-70ac-4964-9fd5-15f5dfc79c34",
   "metadata": {},
   "outputs": [
    {
     "data": {
      "text/plain": [
       "'sk-'"
      ]
     },
     "execution_count": 3,
     "metadata": {},
     "output_type": "execute_result"
    }
   ],
   "source": [
    "os.environ[\"OPENAI_API_KEY\"][:3]"
   ]
  },
  {
   "cell_type": "code",
   "execution_count": 4,
   "id": "257d08da-b5c9-4c60-a1fb-3ca40657bbce",
   "metadata": {},
   "outputs": [],
   "source": [
    "openai.api_key = os.environ[\"OPENAI_API_KEY\"]"
   ]
  },
  {
   "cell_type": "code",
   "execution_count": 5,
   "id": "16509047-5873-4bd9-937c-ef33cc1e028b",
   "metadata": {},
   "outputs": [
    {
     "data": {
      "text/plain": [
       "(2570, 20)"
      ]
     },
     "execution_count": 5,
     "metadata": {},
     "output_type": "execute_result"
    }
   ],
   "source": [
    "data_dir = Path(\"../data\")\n",
    "assert data_dir.exists()\n",
    "lesson_df = pd.read_pickle(data_dir / \"derived\" / \"rori_lessons.pkl\")\n",
    "lesson_df.shape"
   ]
  },
  {
   "cell_type": "code",
   "execution_count": 6,
   "id": "414ad2b0-312b-4e9c-89d4-d0da05dfd036",
   "metadata": {},
   "outputs": [],
   "source": [
    "lesson_df = lesson_df.reset_index().rename(columns={\"index\": \"unique_index\"})"
   ]
  },
  {
   "cell_type": "code",
   "execution_count": 7,
   "id": "7b66c8c7-6e28-44e0-84aa-3aa1827c21c8",
   "metadata": {},
   "outputs": [
    {
     "data": {
      "text/plain": [
       "Index(['unique_index', 'lesson_code', 'grade', 'domain', 'construct',\n",
       "       'subconstruct', 'skill', 'lesson_index', 'topic', 'short_description',\n",
       "       'lesson', 'question', 'answer', 'hint', 'has_image', 'section',\n",
       "       'question_index', 'is_explanation', 'needs_context', 'context_string',\n",
       "       'n_question_tokens'],\n",
       "      dtype='object')"
      ]
     },
     "execution_count": 7,
     "metadata": {},
     "output_type": "execute_result"
    }
   ],
   "source": [
    "lesson_df.columns"
   ]
  },
  {
   "cell_type": "code",
   "execution_count": 8,
   "id": "ed629973-4486-4b60-83bf-99f700e000b4",
   "metadata": {},
   "outputs": [
    {
     "data": {
      "text/html": [
       "<div>\n",
       "<style scoped>\n",
       "    .dataframe tbody tr th:only-of-type {\n",
       "        vertical-align: middle;\n",
       "    }\n",
       "\n",
       "    .dataframe tbody tr th {\n",
       "        vertical-align: top;\n",
       "    }\n",
       "\n",
       "    .dataframe thead th {\n",
       "        text-align: right;\n",
       "    }\n",
       "</style>\n",
       "<table border=\"1\" class=\"dataframe\">\n",
       "  <thead>\n",
       "    <tr style=\"text-align: right;\">\n",
       "      <th></th>\n",
       "      <th>unique_index</th>\n",
       "      <th>lesson_code</th>\n",
       "      <th>grade</th>\n",
       "      <th>domain</th>\n",
       "      <th>construct</th>\n",
       "      <th>subconstruct</th>\n",
       "      <th>skill</th>\n",
       "      <th>lesson_index</th>\n",
       "      <th>topic</th>\n",
       "      <th>short_description</th>\n",
       "      <th>...</th>\n",
       "      <th>question</th>\n",
       "      <th>answer</th>\n",
       "      <th>hint</th>\n",
       "      <th>has_image</th>\n",
       "      <th>section</th>\n",
       "      <th>question_index</th>\n",
       "      <th>is_explanation</th>\n",
       "      <th>needs_context</th>\n",
       "      <th>context_string</th>\n",
       "      <th>n_question_tokens</th>\n",
       "    </tr>\n",
       "  </thead>\n",
       "  <tbody>\n",
       "    <tr>\n",
       "      <th>1679</th>\n",
       "      <td>1679</td>\n",
       "      <td>G4.N1.1.2.4</td>\n",
       "      <td>4</td>\n",
       "      <td>N</td>\n",
       "      <td>N1</td>\n",
       "      <td>N1.1</td>\n",
       "      <td>N1.1.2</td>\n",
       "      <td>4</td>\n",
       "      <td>Compare and order (4 of 7)</td>\n",
       "      <td>Today, we will order numbers from largest to s...</td>\n",
       "      <td>...</td>\n",
       "      <td>13, 942, 1,620 and 5.\\n \\nA. 1,620, 942, 13, 5...</td>\n",
       "      <td>A</td>\n",
       "      <td>Numbers with more digits are larger. \\nSo the ...</td>\n",
       "      <td>False</td>\n",
       "      <td>1</td>\n",
       "      <td>1</td>\n",
       "      <td>False</td>\n",
       "      <td>False</td>\n",
       "      <td></td>\n",
       "      <td>18.0</td>\n",
       "    </tr>\n",
       "    <tr>\n",
       "      <th>109</th>\n",
       "      <td>109</td>\n",
       "      <td>G9.A2.1.3.1</td>\n",
       "      <td>9</td>\n",
       "      <td>A</td>\n",
       "      <td>A2</td>\n",
       "      <td>A2.1</td>\n",
       "      <td>A2.1.3</td>\n",
       "      <td>1</td>\n",
       "      <td>Expressions (1 of 2)</td>\n",
       "      <td>Today, we are going to learn how to multiply t...</td>\n",
       "      <td>...</td>\n",
       "      <td>(x - 9) (x + 4)\\n\\nA. x² + 5x + 36\\nB. x² - 5x...</td>\n",
       "      <td>B</td>\n",
       "      <td>Use the FOIL method to get \\nx² + 4x - 9x - 36...</td>\n",
       "      <td>False</td>\n",
       "      <td>2</td>\n",
       "      <td>7</td>\n",
       "      <td>False</td>\n",
       "      <td>False</td>\n",
       "      <td></td>\n",
       "      <td>26.0</td>\n",
       "    </tr>\n",
       "    <tr>\n",
       "      <th>1588</th>\n",
       "      <td>1588</td>\n",
       "      <td>G3.N1.3.3.24</td>\n",
       "      <td>3</td>\n",
       "      <td>N</td>\n",
       "      <td>N1</td>\n",
       "      <td>N1.3</td>\n",
       "      <td>N1.3.3</td>\n",
       "      <td>24</td>\n",
       "      <td>Divide ( 2 of 4)</td>\n",
       "      <td>We have already learned dividing numbers. \\nTo...</td>\n",
       "      <td>...</td>\n",
       "      <td>40 ÷ ?= 4\\n\\nA. 10\\nB. 8</td>\n",
       "      <td>A</td>\n",
       "      <td>4 times which number make 40.</td>\n",
       "      <td>False</td>\n",
       "      <td>1</td>\n",
       "      <td>3</td>\n",
       "      <td>False</td>\n",
       "      <td>False</td>\n",
       "      <td></td>\n",
       "      <td>6.0</td>\n",
       "    </tr>\n",
       "  </tbody>\n",
       "</table>\n",
       "<p>3 rows × 21 columns</p>\n",
       "</div>"
      ],
      "text/plain": [
       "      unique_index   lesson_code  grade domain construct subconstruct   skill  \\\n",
       "1679          1679   G4.N1.1.2.4      4      N        N1         N1.1  N1.1.2   \n",
       "109            109   G9.A2.1.3.1      9      A        A2         A2.1  A2.1.3   \n",
       "1588          1588  G3.N1.3.3.24      3      N        N1         N1.3  N1.3.3   \n",
       "\n",
       "      lesson_index                       topic  \\\n",
       "1679             4  Compare and order (4 of 7)   \n",
       "109              1        Expressions (1 of 2)   \n",
       "1588            24            Divide ( 2 of 4)   \n",
       "\n",
       "                                      short_description  ...  \\\n",
       "1679  Today, we will order numbers from largest to s...  ...   \n",
       "109   Today, we are going to learn how to multiply t...  ...   \n",
       "1588  We have already learned dividing numbers. \\nTo...  ...   \n",
       "\n",
       "                                               question answer  \\\n",
       "1679  13, 942, 1,620 and 5.\\n \\nA. 1,620, 942, 13, 5...      A   \n",
       "109   (x - 9) (x + 4)\\n\\nA. x² + 5x + 36\\nB. x² - 5x...      B   \n",
       "1588                           40 ÷ ?= 4\\n\\nA. 10\\nB. 8      A   \n",
       "\n",
       "                                                   hint has_image  section  \\\n",
       "1679  Numbers with more digits are larger. \\nSo the ...     False        1   \n",
       "109   Use the FOIL method to get \\nx² + 4x - 9x - 36...     False        2   \n",
       "1588                      4 times which number make 40.     False        1   \n",
       "\n",
       "      question_index  is_explanation  needs_context  context_string  \\\n",
       "1679               1           False          False                   \n",
       "109                7           False          False                   \n",
       "1588               3           False          False                   \n",
       "\n",
       "     n_question_tokens  \n",
       "1679              18.0  \n",
       "109               26.0  \n",
       "1588               6.0  \n",
       "\n",
       "[3 rows x 21 columns]"
      ]
     },
     "execution_count": 8,
     "metadata": {},
     "output_type": "execute_result"
    }
   ],
   "source": [
    "lesson_df.sample(n=3)"
   ]
  },
  {
   "cell_type": "code",
   "execution_count": 9,
   "id": "dbcd7f36-51d7-4712-9a18-75fd2622d42d",
   "metadata": {},
   "outputs": [
    {
     "data": {
      "text/html": [
       "<div>\n",
       "<style scoped>\n",
       "    .dataframe tbody tr th:only-of-type {\n",
       "        vertical-align: middle;\n",
       "    }\n",
       "\n",
       "    .dataframe tbody tr th {\n",
       "        vertical-align: top;\n",
       "    }\n",
       "\n",
       "    .dataframe thead th {\n",
       "        text-align: right;\n",
       "    }\n",
       "</style>\n",
       "<table border=\"1\" class=\"dataframe\">\n",
       "  <thead>\n",
       "    <tr style=\"text-align: right;\">\n",
       "      <th></th>\n",
       "      <th>question_index</th>\n",
       "      <th>is_explanation</th>\n",
       "      <th>section</th>\n",
       "      <th>lesson</th>\n",
       "      <th>question</th>\n",
       "      <th>answer</th>\n",
       "      <th>hint</th>\n",
       "    </tr>\n",
       "  </thead>\n",
       "  <tbody>\n",
       "    <tr>\n",
       "      <th>586</th>\n",
       "      <td>0</td>\n",
       "      <td>True</td>\n",
       "      <td>1</td>\n",
       "      <td>The circle is a curved shape with a centre. Th...</td>\n",
       "      <td>None</td>\n",
       "      <td>None</td>\n",
       "      <td>None</td>\n",
       "    </tr>\n",
       "    <tr>\n",
       "      <th>2032</th>\n",
       "      <td>6</td>\n",
       "      <td>True</td>\n",
       "      <td>2</td>\n",
       "      <td>You did great!\\n\\nThe place value of a digit i...</td>\n",
       "      <td>None</td>\n",
       "      <td>None</td>\n",
       "      <td>None</td>\n",
       "    </tr>\n",
       "    <tr>\n",
       "      <th>226</th>\n",
       "      <td>0</td>\n",
       "      <td>True</td>\n",
       "      <td>1</td>\n",
       "      <td>Circles are measured using radius and diameter...</td>\n",
       "      <td>None</td>\n",
       "      <td>None</td>\n",
       "      <td>None</td>\n",
       "    </tr>\n",
       "  </tbody>\n",
       "</table>\n",
       "</div>"
      ],
      "text/plain": [
       "      question_index  is_explanation  section  \\\n",
       "586                0            True        1   \n",
       "2032               6            True        2   \n",
       "226                0            True        1   \n",
       "\n",
       "                                                 lesson question answer  hint  \n",
       "586   The circle is a curved shape with a centre. Th...     None   None  None  \n",
       "2032  You did great!\\n\\nThe place value of a digit i...     None   None  None  \n",
       "226   Circles are measured using radius and diameter...     None   None  None  "
      ]
     },
     "execution_count": 9,
     "metadata": {},
     "output_type": "execute_result"
    }
   ],
   "source": [
    "lesson_df[[\"question_index\", \"is_explanation\", \"section\", \"lesson\", \"question\", \"answer\", \"hint\"]].sample(n=3)"
   ]
  },
  {
   "cell_type": "markdown",
   "id": "638d6563-be19-469a-9466-ef6988d048bf",
   "metadata": {},
   "source": [
    "#### Incorrect answers and misconceptions\n",
    "\n",
    "Based on student answer data"
   ]
  },
  {
   "cell_type": "code",
   "execution_count": 10,
   "id": "9d264ae5-31b9-4f4a-912b-b8f922ce78bc",
   "metadata": {},
   "outputs": [
    {
     "data": {
      "text/plain": [
       "(74653, 19)"
      ]
     },
     "execution_count": 10,
     "metadata": {},
     "output_type": "execute_result"
    }
   ],
   "source": [
    "student_answers_filepath = data_dir / \"raw\" / \"rori\" / \"math_student_answers_5.15_6.16.csv\"\n",
    "answer_df = pd.read_csv(student_answers_filepath).rename(columns={\"Unnamed: 0\": \"answer_id\"})\n",
    "answer_df.shape"
   ]
  },
  {
   "cell_type": "code",
   "execution_count": 11,
   "id": "f2a4f9c0-d77b-4a12-8ceb-62f9cbad82c8",
   "metadata": {},
   "outputs": [
    {
     "data": {
      "text/plain": [
       "Index(['answer_id', 'original_message_id', 'text', 'message_inserted_at',\n",
       "       'nlu_response_data', 'nlu_response_type', 'nlu_response_confidence',\n",
       "       'contact_uuid', 'question', 'question_level', 'question_skill',\n",
       "       'question_topic', 'question_number', 'expected_answer',\n",
       "       'question_micro_lesson', 'line_name', 'line_number', 'answer_type',\n",
       "       'supabase_id'],\n",
       "      dtype='object')"
      ]
     },
     "execution_count": 11,
     "metadata": {},
     "output_type": "execute_result"
    }
   ],
   "source": [
    "answer_df.columns"
   ]
  },
  {
   "cell_type": "code",
   "execution_count": 15,
   "id": "48058542-c400-4315-892c-2e3a903a3015",
   "metadata": {},
   "outputs": [
    {
     "data": {
      "text/plain": [
       "1780"
      ]
     },
     "execution_count": 15,
     "metadata": {},
     "output_type": "execute_result"
    }
   ],
   "source": [
    "question_map = defaultdict(list)\n",
    "answer_map = defaultdict(list)\n",
    "for row in lesson_df[(lesson_df.question.notna()) & (~lesson_df.has_image)].itertuples():\n",
    "    q = row.question\n",
    "    a = row.answer\n",
    "    q_normalized = q.replace(\"\\n\", \" \").strip()\n",
    "    question_map[(q_normalized, row.lesson_code)].append(int(row.unique_index))\n",
    "    answer_map[q_normalized].append(a)\n",
    "len(question_map)"
   ]
  },
  {
   "cell_type": "code",
   "execution_count": null,
   "id": "d55937b5-72e6-4864-9a64-524f17e150d2",
   "metadata": {},
   "outputs": [],
   "source": []
  },
  {
   "cell_type": "code",
   "execution_count": 16,
   "id": "dcfe7f37-32f8-4224-bdc5-939650169d9f",
   "metadata": {},
   "outputs": [
    {
     "data": {
      "image/png": "[encoded data removed]",
      "text/plain": [
       "<Figure size 400x280 with 1 Axes>"
      ]
     },
     "metadata": {},
     "output_type": "display_data"
    }
   ],
   "source": [
    "fig, ax = plt.subplots(1, 1, figsize=(4, 2.8))\n",
    "\n",
    "counts = np.array([len(l) for l in question_map.values()])\n",
    "ax.hist(counts, bins=np.arange(1, 16), log=True)\n",
    "\n",
    "ax.axvline(2, color=\"black\", linestyle=\"--\", label=f\"{(counts > 1).sum() / len(counts):.1%} duplicated 1+ time\")\n",
    "\n",
    "ax.set_title(\"Duplicate question counts\")\n",
    "ax.set_xlabel(\"# of occurrences\")\n",
    "ax.set_ylabel(\"Question count\")\n",
    "ax.legend()\n",
    "\n",
    "fig.tight_layout()\n",
    "plt.show()"
   ]
  },
  {
   "cell_type": "code",
   "execution_count": 17,
   "id": "9d4f7fa2-8fa4-49bb-9c3d-a4e2eb201349",
   "metadata": {},
   "outputs": [],
   "source": [
    "# all multi-answer questions have associated images; makes sense\n",
    "for q, answers in answer_map.items():\n",
    "    if len({str(a).strip() for a in answers}) > 1:\n",
    "        print(f\"{q} {answers}\")"
   ]
  },
  {
   "cell_type": "code",
   "execution_count": 24,
   "id": "abcc8a01-3836-46ac-beab-ea38859a8607",
   "metadata": {},
   "outputs": [
    {
     "data": {
      "text/plain": [
       "0.722556360762461"
      ]
     },
     "execution_count": 24,
     "metadata": {},
     "output_type": "execute_result"
    }
   ],
   "source": [
    "def normalize_text(t):\n",
    "    if type(t) != str:\n",
    "        return t\n",
    "    return t.replace(\"\\n\", \" \").strip()\n",
    "\n",
    "\n",
    "def get_index(q, lesson_code):\n",
    "    q_normalized = normalize_text(q)\n",
    "    index = (q_normalized, lesson_code)\n",
    "    if index not in question_map:\n",
    "        return None\n",
    "    if len(question_map[index]) > 1:\n",
    "        return None\n",
    "        # assert False, index\n",
    "    return question_map[index][0]\n",
    "\n",
    "\n",
    "answer_df[\"question_index\"] = [get_index(row.question, row.question_micro_lesson) for row in answer_df.itertuples()]\n",
    "answer_df.question_index.notna().sum() / len(answer_df)"
   ]
  },
  {
   "cell_type": "code",
   "execution_count": 25,
   "id": "9bbbf9a6-0fbc-47c8-aec3-c73943b266ae",
   "metadata": {},
   "outputs": [
    {
     "data": {
      "text/plain": [
       "(53941, 53941)"
      ]
     },
     "execution_count": 25,
     "metadata": {},
     "output_type": "execute_result"
    }
   ],
   "source": [
    "m = answer_df.merge(\n",
    "    lesson_df[[\"unique_index\", \"question\", \"answer\"]],\n",
    "    left_on=\"question_index\",\n",
    "    right_on=\"unique_index\",\n",
    "    how=\"inner\",\n",
    "    validate=\"many_to_one\",\n",
    "    suffixes=(\"\", \"_merged\"),\n",
    ")\n",
    "# should be the same\n",
    "(m.question.map(normalize_text) == m.question_merged.map(normalize_text)).sum(), len(m)"
   ]
  },
  {
   "cell_type": "code",
   "execution_count": 26,
   "id": "c156cd1d-ffa6-4dcc-ad60-8d3cac1ac3fc",
   "metadata": {},
   "outputs": [
    {
     "data": {
      "text/plain": [
       "(13961, 53941, 628)"
      ]
     },
     "execution_count": 26,
     "metadata": {},
     "output_type": "execute_result"
    }
   ],
   "source": [
    "m[\"is_answer_mismatch\"] = m.expected_answer.map(normalize_text) == m.answer.map(normalize_text)\n",
    "m.is_answer_mismatch.sum(), len(m), m.groupby(\"question_index\").is_answer_mismatch.any().sum()"
   ]
  },
  {
   "cell_type": "code",
   "execution_count": 27,
   "id": "f2e6c222-ca51-402a-855e-5c0af2f703a2",
   "metadata": {},
   "outputs": [
    {
     "data": {
      "text/plain": [
       "628"
      ]
     },
     "execution_count": 27,
     "metadata": {},
     "output_type": "execute_result"
    }
   ],
   "source": [
    "mismatched_questions = m.groupby(\"question_index\").is_answer_mismatch.any()\n",
    "mismatched_questions = set(mismatched_questions[mismatched_questions].index)\n",
    "len(mismatched_questions)"
   ]
  },
  {
   "cell_type": "code",
   "execution_count": 28,
   "id": "e7e7e58f-d44f-4ef3-a088-277867b05d29",
   "metadata": {},
   "outputs": [
    {
     "data": {
      "text/plain": [
       "nlu_response_data\n",
       "Yes     8101\n",
       "5       2730\n",
       "next    2252\n",
       "menu    1986\n",
       "B       1946\n",
       "9       1910\n",
       "10      1868\n",
       "30      1830\n",
       "A       1796\n",
       "24      1711\n",
       "C       1657\n",
       "2       1552\n",
       "12      1525\n",
       "26      1484\n",
       "7       1432\n",
       "Name: count, dtype: int64"
      ]
     },
     "execution_count": 28,
     "metadata": {},
     "output_type": "execute_result"
    }
   ],
   "source": [
    "answer_df.nlu_response_data.value_counts().head(15)"
   ]
  },
  {
   "cell_type": "code",
   "execution_count": 21,
   "id": "bf811633-6778-45fe-a2dd-09697a133b0c",
   "metadata": {},
   "outputs": [
    {
     "data": {
      "text/plain": [
       "nlu_response_data\n",
       "next          2252\n",
       "menu          1986\n",
       "harder         737\n",
       "skip           485\n",
       "hint           390\n",
       "stop           378\n",
       "Even           302\n",
       "greeting       286\n",
       "okay           273\n",
       "math topic     262\n",
       "help           234\n",
       "wait           219\n",
       "exit           214\n",
       "math           214\n",
       "Next           182\n",
       "Name: count, dtype: int64"
      ]
     },
     "execution_count": 21,
     "metadata": {},
     "output_type": "execute_result"
    }
   ],
   "source": [
    "answer_df[answer_df.nlu_response_data.map(len) > 3].nlu_response_data.value_counts().head(15)"
   ]
  },
  {
   "cell_type": "code",
   "execution_count": 29,
   "id": "6b4bfff0-d1eb-478d-935d-98a6e549fd4d",
   "metadata": {},
   "outputs": [
    {
     "data": {
      "text/plain": [
       "(50435, 23)"
      ]
     },
     "execution_count": 29,
     "metadata": {},
     "output_type": "execute_result"
    }
   ],
   "source": [
    "sdf = answer_df.merge(\n",
    "    lesson_df[[\"unique_index\", \"question\", \"answer\"]],\n",
    "    left_on=\"question_index\",\n",
    "    right_on=\"unique_index\",\n",
    "    how=\"inner\",\n",
    "    validate=\"many_to_one\",\n",
    "    suffixes=(\"\", \"_merged\"),\n",
    ")\n",
    "sdf[\"expected_answer\"] = sdf[\"answer\"]  # due to confirmed bug, override mismatched answers\n",
    "# sdf = answer_df[(answer_df.question_index.notna())&(~answer_df.question_index.isin(mismatched_questions))]\n",
    "sdf = sdf[\n",
    "    ~sdf.nlu_response_data.isin(\n",
    "        [\n",
    "            \"next\",\n",
    "            \"menu\",\n",
    "            \"harder\",\n",
    "            \"skip\",\n",
    "            \"hint\",\n",
    "            \"math\",\n",
    "            \"math topic\",\n",
    "            \"stop\",\n",
    "            \"greeting\",\n",
    "            \"okay\",\n",
    "            \"help\",\n",
    "            \"wait\",\n",
    "            \"exit\",\n",
    "            \"tomorrow\",\n",
    "        ]\n",
    "    )\n",
    "]\n",
    "sdf.shape"
   ]
  },
  {
   "cell_type": "code",
   "execution_count": 30,
   "id": "f36e1c79-a50d-4a52-a416-d19565f62f9c",
   "metadata": {},
   "outputs": [
    {
     "data": {
      "text/plain": [
       "'en_US.UTF-8'"
      ]
     },
     "execution_count": 30,
     "metadata": {},
     "output_type": "execute_result"
    }
   ],
   "source": [
    "locale.setlocale(locale.LC_ALL, \"en_US.UTF-8\")"
   ]
  },
  {
   "cell_type": "code",
   "execution_count": 36,
   "id": "724f116d-a050-4415-b47a-d5b5a164f6df",
   "metadata": {},
   "outputs": [
    {
     "data": {
      "text/plain": [
       "True"
      ]
     },
     "execution_count": 36,
     "metadata": {},
     "output_type": "execute_result"
    }
   ],
   "source": [
    "locale.atof(\"-5\") == locale.atoi(\"-5\")"
   ]
  },
  {
   "cell_type": "code",
   "execution_count": 40,
   "id": "62270d06-c1ac-4106-bf9b-22c02dd8293e",
   "metadata": {},
   "outputs": [
    {
     "data": {
      "text/html": [
       "<div>\n",
       "<style scoped>\n",
       "    .dataframe tbody tr th:only-of-type {\n",
       "        vertical-align: middle;\n",
       "    }\n",
       "\n",
       "    .dataframe tbody tr th {\n",
       "        vertical-align: top;\n",
       "    }\n",
       "\n",
       "    .dataframe thead th {\n",
       "        text-align: right;\n",
       "    }\n",
       "</style>\n",
       "<table border=\"1\" class=\"dataframe\">\n",
       "  <thead>\n",
       "    <tr style=\"text-align: right;\">\n",
       "      <th></th>\n",
       "      <th>text</th>\n",
       "      <th>nlu_response_data</th>\n",
       "      <th>expected_answer</th>\n",
       "    </tr>\n",
       "  </thead>\n",
       "  <tbody>\n",
       "    <tr>\n",
       "      <th>13103</th>\n",
       "      <td>B</td>\n",
       "      <td>B</td>\n",
       "      <td>C</td>\n",
       "    </tr>\n",
       "    <tr>\n",
       "      <th>13762</th>\n",
       "      <td>A</td>\n",
       "      <td>A</td>\n",
       "      <td>C</td>\n",
       "    </tr>\n",
       "    <tr>\n",
       "      <th>53329</th>\n",
       "      <td>The correct answer:44</td>\n",
       "      <td>Next</td>\n",
       "      <td>44</td>\n",
       "    </tr>\n",
       "    <tr>\n",
       "      <th>45689</th>\n",
       "      <td>B</td>\n",
       "      <td>B</td>\n",
       "      <td>C</td>\n",
       "    </tr>\n",
       "    <tr>\n",
       "      <th>39321</th>\n",
       "      <td>28</td>\n",
       "      <td>28</td>\n",
       "      <td>29</td>\n",
       "    </tr>\n",
       "    <tr>\n",
       "      <th>42422</th>\n",
       "      <td>Ok</td>\n",
       "      <td>1</td>\n",
       "      <td>1/4</td>\n",
       "    </tr>\n",
       "    <tr>\n",
       "      <th>404</th>\n",
       "      <td>T</td>\n",
       "      <td>T</td>\n",
       "      <td>F</td>\n",
       "    </tr>\n",
       "    <tr>\n",
       "      <th>39171</th>\n",
       "      <td>Thursday</td>\n",
       "      <td>Thursday</td>\n",
       "      <td>Saturday</td>\n",
       "    </tr>\n",
       "    <tr>\n",
       "      <th>25729</th>\n",
       "      <td>E</td>\n",
       "      <td>1</td>\n",
       "      <td>T</td>\n",
       "    </tr>\n",
       "    <tr>\n",
       "      <th>21767</th>\n",
       "      <td>1 .8</td>\n",
       "      <td>1</td>\n",
       "      <td>1.8</td>\n",
       "    </tr>\n",
       "    <tr>\n",
       "      <th>50410</th>\n",
       "      <td>11</td>\n",
       "      <td>11</td>\n",
       "      <td>10</td>\n",
       "    </tr>\n",
       "    <tr>\n",
       "      <th>47012</th>\n",
       "      <td>3</td>\n",
       "      <td>3</td>\n",
       "      <td>=</td>\n",
       "    </tr>\n",
       "    <tr>\n",
       "      <th>30416</th>\n",
       "      <td>B</td>\n",
       "      <td>B</td>\n",
       "      <td>A</td>\n",
       "    </tr>\n",
       "    <tr>\n",
       "      <th>9952</th>\n",
       "      <td>7</td>\n",
       "      <td>7</td>\n",
       "      <td>5</td>\n",
       "    </tr>\n",
       "    <tr>\n",
       "      <th>30212</th>\n",
       "      <td>7</td>\n",
       "      <td>7</td>\n",
       "      <td>14</td>\n",
       "    </tr>\n",
       "    <tr>\n",
       "      <th>42832</th>\n",
       "      <td>2/6</td>\n",
       "      <td>2/6</td>\n",
       "      <td>1/36</td>\n",
       "    </tr>\n",
       "    <tr>\n",
       "      <th>43181</th>\n",
       "      <td>9/39</td>\n",
       "      <td>9/39</td>\n",
       "      <td>1/4</td>\n",
       "    </tr>\n",
       "    <tr>\n",
       "      <th>45488</th>\n",
       "      <td>A</td>\n",
       "      <td>A</td>\n",
       "      <td>B</td>\n",
       "    </tr>\n",
       "    <tr>\n",
       "      <th>44221</th>\n",
       "      <td>9.2</td>\n",
       "      <td>9.2</td>\n",
       "      <td>0.092</td>\n",
       "    </tr>\n",
       "    <tr>\n",
       "      <th>8611</th>\n",
       "      <td>1,2,3,4</td>\n",
       "      <td>1234</td>\n",
       "      <td>5</td>\n",
       "    </tr>\n",
       "  </tbody>\n",
       "</table>\n",
       "</div>"
      ],
      "text/plain": [
       "                        text nlu_response_data expected_answer\n",
       "13103                      B                 B               C\n",
       "13762                      A                 A               C\n",
       "53329  The correct answer:44              Next              44\n",
       "45689                      B                 B               C\n",
       "39321                     28                28              29\n",
       "42422                     Ok                 1             1/4\n",
       "404                        T                 T               F\n",
       "39171               Thursday          Thursday        Saturday\n",
       "25729                      E                 1               T\n",
       "21767                   1 .8                 1             1.8\n",
       "50410                     11                11              10\n",
       "47012                      3                 3               =\n",
       "30416                      B                 B               A\n",
       "9952                       7                 7               5\n",
       "30212                      7                 7              14\n",
       "42832                    2/6               2/6            1/36\n",
       "43181                   9/39              9/39             1/4\n",
       "45488                      A                 A               B\n",
       "44221                    9.2               9.2           0.092\n",
       "8611                 1,2,3,4              1234               5"
      ]
     },
     "execution_count": 40,
     "metadata": {},
     "output_type": "execute_result"
    }
   ],
   "source": [
    "# now, filter to only incorrect answers\n",
    "\n",
    "\n",
    "def normalize_answer(a):\n",
    "    if type(a) == str:\n",
    "        try:\n",
    "            return locale.atof(a)\n",
    "        except:\n",
    "            return a.strip()\n",
    "    else:\n",
    "        return a\n",
    "\n",
    "\n",
    "is_wrong_answer = sdf.nlu_response_data.map(normalize_answer) != sdf.expected_answer.map(normalize_answer)\n",
    "sdf[is_wrong_answer][[\"text\", \"nlu_response_data\", \"expected_answer\"]].sample(20)"
   ]
  },
  {
   "cell_type": "code",
   "execution_count": 41,
   "id": "ad0f9b4d-150d-48ba-ba84-a4f017bcc1f7",
   "metadata": {},
   "outputs": [
    {
     "data": {
      "text/plain": [
       "(10964, 23)"
      ]
     },
     "execution_count": 41,
     "metadata": {},
     "output_type": "execute_result"
    }
   ],
   "source": [
    "sdf = sdf[is_wrong_answer]\n",
    "sdf.shape"
   ]
  },
  {
   "cell_type": "code",
   "execution_count": 42,
   "id": "b9d94dde-37e8-4a29-a137-2734cb3e5b33",
   "metadata": {},
   "outputs": [
    {
     "name": "stdout",
     "output_type": "stream",
     "text": [
      "(367, 7)\n"
     ]
    },
    {
     "data": {
      "text/html": [
       "<div>\n",
       "<style scoped>\n",
       "    .dataframe tbody tr th:only-of-type {\n",
       "        vertical-align: middle;\n",
       "    }\n",
       "\n",
       "    .dataframe tbody tr th {\n",
       "        vertical-align: top;\n",
       "    }\n",
       "\n",
       "    .dataframe thead th {\n",
       "        text-align: right;\n",
       "    }\n",
       "</style>\n",
       "<table border=\"1\" class=\"dataframe\">\n",
       "  <thead>\n",
       "    <tr style=\"text-align: right;\">\n",
       "      <th></th>\n",
       "      <th>question_index</th>\n",
       "      <th>n_responses</th>\n",
       "      <th>n_unique_responses</th>\n",
       "      <th>most_common</th>\n",
       "      <th>most_common_n</th>\n",
       "      <th>second_most_common</th>\n",
       "      <th>expected_answer</th>\n",
       "    </tr>\n",
       "  </thead>\n",
       "  <tbody>\n",
       "    <tr>\n",
       "      <th>100</th>\n",
       "      <td>530</td>\n",
       "      <td>6</td>\n",
       "      <td>5</td>\n",
       "      <td>1</td>\n",
       "      <td>2</td>\n",
       "      <td>1/2</td>\n",
       "      <td>1/6</td>\n",
       "    </tr>\n",
       "    <tr>\n",
       "      <th>299</th>\n",
       "      <td>1985</td>\n",
       "      <td>9</td>\n",
       "      <td>1</td>\n",
       "      <td>F</td>\n",
       "      <td>9</td>\n",
       "      <td>None</td>\n",
       "      <td>T</td>\n",
       "    </tr>\n",
       "    <tr>\n",
       "      <th>366</th>\n",
       "      <td>2567</td>\n",
       "      <td>7</td>\n",
       "      <td>5</td>\n",
       "      <td>108</td>\n",
       "      <td>2</td>\n",
       "      <td>84</td>\n",
       "      <td>36</td>\n",
       "    </tr>\n",
       "  </tbody>\n",
       "</table>\n",
       "</div>"
      ],
      "text/plain": [
       "     question_index  n_responses  n_unique_responses most_common  \\\n",
       "100             530            6                   5           1   \n",
       "299            1985            9                   1           F   \n",
       "366            2567            7                   5         108   \n",
       "\n",
       "     most_common_n second_most_common expected_answer  \n",
       "100              2                1/2             1/6  \n",
       "299              9               None               T  \n",
       "366              2                 84              36  "
      ]
     },
     "execution_count": 42,
     "metadata": {},
     "output_type": "execute_result"
    }
   ],
   "source": [
    "ds = []\n",
    "for question_index, group in sdf.groupby(\"question_index\"):\n",
    "    if len(group) > 5:\n",
    "        counts = group.nlu_response_data.value_counts()\n",
    "        ds.append(\n",
    "            {\n",
    "                \"question_index\": int(question_index),\n",
    "                \"n_responses\": len(group),\n",
    "                \"n_unique_responses\": len(counts),\n",
    "                \"most_common\": counts.index[0],\n",
    "                \"most_common_n\": counts.iloc[0],\n",
    "                \"second_most_common\": counts.index[1] if len(counts) > 1 else None,\n",
    "                \"expected_answer\": group.iloc[0].expected_answer,\n",
    "            }\n",
    "        )\n",
    "incorrect_df = pd.DataFrame(ds)\n",
    "print(incorrect_df.shape)\n",
    "incorrect_df.sample(n=3)"
   ]
  },
  {
   "cell_type": "code",
   "execution_count": 43,
   "id": "2b70cdb9-e1ab-4e94-97d8-0e17622e90f5",
   "metadata": {},
   "outputs": [
    {
     "name": "stdout",
     "output_type": "stream",
     "text": [
      "153\n"
     ]
    },
    {
     "data": {
      "text/plain": [
       "most_common\n",
       "A    11\n",
       "4    11\n",
       "T     8\n",
       "7     8\n",
       "B     7\n",
       "Name: count, dtype: int64"
      ]
     },
     "execution_count": 43,
     "metadata": {},
     "output_type": "execute_result"
    }
   ],
   "source": [
    "incorrect_df = incorrect_df[incorrect_df.most_common_n > 5].reset_index(drop=True)\n",
    "print(len(incorrect_df))\n",
    "incorrect_df.most_common.value_counts().head()"
   ]
  },
  {
   "cell_type": "code",
   "execution_count": 44,
   "id": "2653ba65-2753-4fcf-9e45-e5e7eea42f08",
   "metadata": {},
   "outputs": [
    {
     "data": {
      "text/plain": [
       "(153, 25)"
      ]
     },
     "execution_count": 44,
     "metadata": {},
     "output_type": "execute_result"
    }
   ],
   "source": [
    "incorrect_lesson_df = lesson_df.merge(\n",
    "    incorrect_df[[\"question_index\", \"most_common\", \"most_common_n\", \"expected_answer\"]].rename(\n",
    "        columns={\n",
    "            \"most_common\": \"incorrect_answer\",\n",
    "            \"incorrect_answer_occurrence\": \"most_common_n\",\n",
    "        }\n",
    "    ),\n",
    "    left_on=\"unique_index\",\n",
    "    right_on=\"question_index\",\n",
    "    how=\"inner\",\n",
    ")\n",
    "incorrect_lesson_df.shape"
   ]
  },
  {
   "cell_type": "code",
   "execution_count": 48,
   "id": "fab6f1bc-701f-4a12-8b6c-a1c27ed5c626",
   "metadata": {},
   "outputs": [
    {
     "data": {
      "text/html": [
       "<div>\n",
       "<style scoped>\n",
       "    .dataframe tbody tr th:only-of-type {\n",
       "        vertical-align: middle;\n",
       "    }\n",
       "\n",
       "    .dataframe tbody tr th {\n",
       "        vertical-align: top;\n",
       "    }\n",
       "\n",
       "    .dataframe thead th {\n",
       "        text-align: right;\n",
       "    }\n",
       "</style>\n",
       "<table border=\"1\" class=\"dataframe\">\n",
       "  <thead>\n",
       "    <tr style=\"text-align: right;\">\n",
       "      <th></th>\n",
       "      <th>answer</th>\n",
       "      <th>expected_answer</th>\n",
       "    </tr>\n",
       "  </thead>\n",
       "  <tbody>\n",
       "    <tr>\n",
       "      <th>0</th>\n",
       "      <td>C</td>\n",
       "      <td>C</td>\n",
       "    </tr>\n",
       "    <tr>\n",
       "      <th>1</th>\n",
       "      <td>D</td>\n",
       "      <td>D</td>\n",
       "    </tr>\n",
       "    <tr>\n",
       "      <th>2</th>\n",
       "      <td>15</td>\n",
       "      <td>15</td>\n",
       "    </tr>\n",
       "    <tr>\n",
       "      <th>3</th>\n",
       "      <td>B</td>\n",
       "      <td>B</td>\n",
       "    </tr>\n",
       "    <tr>\n",
       "      <th>4</th>\n",
       "      <td>1/4</td>\n",
       "      <td>1/4</td>\n",
       "    </tr>\n",
       "    <tr>\n",
       "      <th>...</th>\n",
       "      <td>...</td>\n",
       "      <td>...</td>\n",
       "    </tr>\n",
       "    <tr>\n",
       "      <th>148</th>\n",
       "      <td>A</td>\n",
       "      <td>A</td>\n",
       "    </tr>\n",
       "    <tr>\n",
       "      <th>149</th>\n",
       "      <td>4</td>\n",
       "      <td>4</td>\n",
       "    </tr>\n",
       "    <tr>\n",
       "      <th>150</th>\n",
       "      <td>4</td>\n",
       "      <td>4</td>\n",
       "    </tr>\n",
       "    <tr>\n",
       "      <th>151</th>\n",
       "      <td>18</td>\n",
       "      <td>18</td>\n",
       "    </tr>\n",
       "    <tr>\n",
       "      <th>152</th>\n",
       "      <td>20</td>\n",
       "      <td>20</td>\n",
       "    </tr>\n",
       "  </tbody>\n",
       "</table>\n",
       "<p>153 rows × 2 columns</p>\n",
       "</div>"
      ],
      "text/plain": [
       "    answer expected_answer\n",
       "0        C               C\n",
       "1        D               D\n",
       "2       15              15\n",
       "3        B               B\n",
       "4      1/4             1/4\n",
       "..     ...             ...\n",
       "148      A               A\n",
       "149      4               4\n",
       "150      4               4\n",
       "151     18              18\n",
       "152     20              20\n",
       "\n",
       "[153 rows x 2 columns]"
      ]
     },
     "execution_count": 48,
     "metadata": {},
     "output_type": "execute_result"
    }
   ],
   "source": [
    "assert (incorrect_lesson_df.answer != incorrect_lesson_df.expected_answer).sum() == 0\n",
    "incorrect_lesson_df[incorrect_lesson_df.answer == incorrect_lesson_df.expected_answer][[\"answer\", \"expected_answer\"]]"
   ]
  },
  {
   "cell_type": "code",
   "execution_count": 50,
   "id": "9e990ca0-4b88-472a-bb85-8b991f5eca01",
   "metadata": {},
   "outputs": [
    {
     "data": {
      "text/plain": [
       "0"
      ]
     },
     "execution_count": 50,
     "metadata": {},
     "output_type": "execute_result"
    }
   ],
   "source": [
    "is_actually_correct_answer = incorrect_lesson_df.answer.map(\n",
    "    normalize_answer\n",
    ") == incorrect_lesson_df.incorrect_answer.map(normalize_answer)\n",
    "is_actually_correct_answer.sum()"
   ]
  },
  {
   "cell_type": "code",
   "execution_count": 51,
   "id": "440f9027-d06e-44d5-a89b-39db63cfb8fc",
   "metadata": {},
   "outputs": [
    {
     "data": {
      "text/html": [
       "<div>\n",
       "<style scoped>\n",
       "    .dataframe tbody tr th:only-of-type {\n",
       "        vertical-align: middle;\n",
       "    }\n",
       "\n",
       "    .dataframe tbody tr th {\n",
       "        vertical-align: top;\n",
       "    }\n",
       "\n",
       "    .dataframe thead th {\n",
       "        text-align: right;\n",
       "    }\n",
       "</style>\n",
       "<table border=\"1\" class=\"dataframe\">\n",
       "  <thead>\n",
       "    <tr style=\"text-align: right;\">\n",
       "      <th></th>\n",
       "      <th>unique_index</th>\n",
       "      <th>question</th>\n",
       "      <th>answer</th>\n",
       "      <th>expected_answer</th>\n",
       "      <th>incorrect_answer</th>\n",
       "    </tr>\n",
       "  </thead>\n",
       "  <tbody>\n",
       "  </tbody>\n",
       "</table>\n",
       "</div>"
      ],
      "text/plain": [
       "Empty DataFrame\n",
       "Columns: [unique_index, question, answer, expected_answer, incorrect_answer]\n",
       "Index: []"
      ]
     },
     "execution_count": 51,
     "metadata": {},
     "output_type": "execute_result"
    }
   ],
   "source": [
    "incorrect_lesson_df[is_actually_correct_answer][\n",
    "    [\"unique_index\", \"question\", \"answer\", \"expected_answer\", \"incorrect_answer\"]\n",
    "]"
   ]
  },
  {
   "cell_type": "code",
   "execution_count": 52,
   "id": "fce3f608-40dd-48f0-9bad-34e0f224d92c",
   "metadata": {},
   "outputs": [],
   "source": [
    "for q in incorrect_lesson_df[is_actually_correct_answer][\n",
    "    [\"unique_index\", \"question\", \"answer\", \"incorrect_answer\"]\n",
    "].question:\n",
    "    print(q)"
   ]
  },
  {
   "cell_type": "code",
   "execution_count": 53,
   "id": "a4342d19-02e5-419b-9395-c7105781de12",
   "metadata": {},
   "outputs": [
    {
     "data": {
      "text/plain": [
       "expected_answer                    A\n",
       "question_micro_lesson    G9.A3.1.2.1\n",
       "question_number                    9\n",
       "Name: 47991, dtype: object"
      ]
     },
     "execution_count": 53,
     "metadata": {},
     "output_type": "execute_result"
    }
   ],
   "source": [
    "answer_df[answer_df.question_index == 87].iloc[0][[\"expected_answer\", \"question_micro_lesson\", \"question_number\"]]"
   ]
  },
  {
   "cell_type": "code",
   "execution_count": 54,
   "id": "c5c4d2d4-a326-462c-9c62-a3854c9ae8bc",
   "metadata": {},
   "outputs": [
    {
     "data": {
      "text/html": [
       "<div>\n",
       "<style scoped>\n",
       "    .dataframe tbody tr th:only-of-type {\n",
       "        vertical-align: middle;\n",
       "    }\n",
       "\n",
       "    .dataframe tbody tr th {\n",
       "        vertical-align: top;\n",
       "    }\n",
       "\n",
       "    .dataframe thead th {\n",
       "        text-align: right;\n",
       "    }\n",
       "</style>\n",
       "<table border=\"1\" class=\"dataframe\">\n",
       "  <thead>\n",
       "    <tr style=\"text-align: right;\">\n",
       "      <th></th>\n",
       "      <th>unique_index</th>\n",
       "      <th>incorrect_answer</th>\n",
       "      <th>answer</th>\n",
       "    </tr>\n",
       "  </thead>\n",
       "  <tbody>\n",
       "    <tr>\n",
       "      <th>0</th>\n",
       "      <td>16</td>\n",
       "      <td>B</td>\n",
       "      <td>C</td>\n",
       "    </tr>\n",
       "    <tr>\n",
       "      <th>1</th>\n",
       "      <td>17</td>\n",
       "      <td>A</td>\n",
       "      <td>D</td>\n",
       "    </tr>\n",
       "    <tr>\n",
       "      <th>2</th>\n",
       "      <td>54</td>\n",
       "      <td>5</td>\n",
       "      <td>15</td>\n",
       "    </tr>\n",
       "    <tr>\n",
       "      <th>3</th>\n",
       "      <td>105</td>\n",
       "      <td>A</td>\n",
       "      <td>B</td>\n",
       "    </tr>\n",
       "    <tr>\n",
       "      <th>4</th>\n",
       "      <td>127</td>\n",
       "      <td>1/2</td>\n",
       "      <td>1/4</td>\n",
       "    </tr>\n",
       "    <tr>\n",
       "      <th>...</th>\n",
       "      <td>...</td>\n",
       "      <td>...</td>\n",
       "      <td>...</td>\n",
       "    </tr>\n",
       "    <tr>\n",
       "      <th>148</th>\n",
       "      <td>2537</td>\n",
       "      <td>B</td>\n",
       "      <td>A</td>\n",
       "    </tr>\n",
       "    <tr>\n",
       "      <th>149</th>\n",
       "      <td>2549</td>\n",
       "      <td>8</td>\n",
       "      <td>4</td>\n",
       "    </tr>\n",
       "    <tr>\n",
       "      <th>150</th>\n",
       "      <td>2550</td>\n",
       "      <td>2</td>\n",
       "      <td>4</td>\n",
       "    </tr>\n",
       "    <tr>\n",
       "      <th>151</th>\n",
       "      <td>2551</td>\n",
       "      <td>6</td>\n",
       "      <td>18</td>\n",
       "    </tr>\n",
       "    <tr>\n",
       "      <th>152</th>\n",
       "      <td>2558</td>\n",
       "      <td>10</td>\n",
       "      <td>20</td>\n",
       "    </tr>\n",
       "  </tbody>\n",
       "</table>\n",
       "<p>153 rows × 3 columns</p>\n",
       "</div>"
      ],
      "text/plain": [
       "     unique_index incorrect_answer answer\n",
       "0              16                B      C\n",
       "1              17                A      D\n",
       "2              54                5     15\n",
       "3             105                A      B\n",
       "4             127              1/2    1/4\n",
       "..            ...              ...    ...\n",
       "148          2537                B      A\n",
       "149          2549                8      4\n",
       "150          2550                2      4\n",
       "151          2551                6     18\n",
       "152          2558               10     20\n",
       "\n",
       "[153 rows x 3 columns]"
      ]
     },
     "execution_count": 54,
     "metadata": {},
     "output_type": "execute_result"
    }
   ],
   "source": [
    "incorrect_lesson_df[~is_actually_correct_answer][[\"unique_index\", \"incorrect_answer\", \"answer\"]]"
   ]
  },
  {
   "cell_type": "code",
   "execution_count": 55,
   "id": "f9f96897-b665-479e-b0e6-23236bd33861",
   "metadata": {},
   "outputs": [
    {
     "data": {
      "text/html": [
       "<div>\n",
       "<style scoped>\n",
       "    .dataframe tbody tr th:only-of-type {\n",
       "        vertical-align: middle;\n",
       "    }\n",
       "\n",
       "    .dataframe tbody tr th {\n",
       "        vertical-align: top;\n",
       "    }\n",
       "\n",
       "    .dataframe thead th {\n",
       "        text-align: right;\n",
       "    }\n",
       "</style>\n",
       "<table border=\"1\" class=\"dataframe\">\n",
       "  <thead>\n",
       "    <tr style=\"text-align: right;\">\n",
       "      <th></th>\n",
       "      <th>unique_index</th>\n",
       "      <th>incorrect_answer</th>\n",
       "      <th>answer</th>\n",
       "    </tr>\n",
       "  </thead>\n",
       "  <tbody>\n",
       "    <tr>\n",
       "      <th>111</th>\n",
       "      <td>1264</td>\n",
       "      <td>44</td>\n",
       "      <td>181</td>\n",
       "    </tr>\n",
       "    <tr>\n",
       "      <th>5</th>\n",
       "      <td>128</td>\n",
       "      <td>1/2</td>\n",
       "      <td>1/4</td>\n",
       "    </tr>\n",
       "    <tr>\n",
       "      <th>17</th>\n",
       "      <td>366</td>\n",
       "      <td>5</td>\n",
       "      <td>2^5</td>\n",
       "    </tr>\n",
       "    <tr>\n",
       "      <th>136</th>\n",
       "      <td>1990</td>\n",
       "      <td>T</td>\n",
       "      <td>F</td>\n",
       "    </tr>\n",
       "    <tr>\n",
       "      <th>62</th>\n",
       "      <td>980</td>\n",
       "      <td>25</td>\n",
       "      <td>24</td>\n",
       "    </tr>\n",
       "    <tr>\n",
       "      <th>82</th>\n",
       "      <td>1034</td>\n",
       "      <td>B</td>\n",
       "      <td>C</td>\n",
       "    </tr>\n",
       "    <tr>\n",
       "      <th>102</th>\n",
       "      <td>1194</td>\n",
       "      <td>67</td>\n",
       "      <td>7</td>\n",
       "    </tr>\n",
       "    <tr>\n",
       "      <th>89</th>\n",
       "      <td>1083</td>\n",
       "      <td>3</td>\n",
       "      <td>5</td>\n",
       "    </tr>\n",
       "    <tr>\n",
       "      <th>19</th>\n",
       "      <td>388</td>\n",
       "      <td>10</td>\n",
       "      <td>12</td>\n",
       "    </tr>\n",
       "    <tr>\n",
       "      <th>29</th>\n",
       "      <td>417</td>\n",
       "      <td>A</td>\n",
       "      <td>B</td>\n",
       "    </tr>\n",
       "    <tr>\n",
       "      <th>58</th>\n",
       "      <td>976</td>\n",
       "      <td>5678</td>\n",
       "      <td>5</td>\n",
       "    </tr>\n",
       "    <tr>\n",
       "      <th>75</th>\n",
       "      <td>1004</td>\n",
       "      <td>20</td>\n",
       "      <td>18</td>\n",
       "    </tr>\n",
       "    <tr>\n",
       "      <th>10</th>\n",
       "      <td>152</td>\n",
       "      <td>7</td>\n",
       "      <td>12</td>\n",
       "    </tr>\n",
       "    <tr>\n",
       "      <th>12</th>\n",
       "      <td>154</td>\n",
       "      <td>7</td>\n",
       "      <td>8</td>\n",
       "    </tr>\n",
       "    <tr>\n",
       "      <th>107</th>\n",
       "      <td>1246</td>\n",
       "      <td>T</td>\n",
       "      <td>F</td>\n",
       "    </tr>\n",
       "    <tr>\n",
       "      <th>106</th>\n",
       "      <td>1211</td>\n",
       "      <td>7</td>\n",
       "      <td>14</td>\n",
       "    </tr>\n",
       "    <tr>\n",
       "      <th>114</th>\n",
       "      <td>1649</td>\n",
       "      <td>Odd</td>\n",
       "      <td>Even</td>\n",
       "    </tr>\n",
       "    <tr>\n",
       "      <th>103</th>\n",
       "      <td>1195</td>\n",
       "      <td>7</td>\n",
       "      <td>70</td>\n",
       "    </tr>\n",
       "    <tr>\n",
       "      <th>129</th>\n",
       "      <td>1910</td>\n",
       "      <td>10000</td>\n",
       "      <td>50000</td>\n",
       "    </tr>\n",
       "    <tr>\n",
       "      <th>139</th>\n",
       "      <td>2449</td>\n",
       "      <td>0.18</td>\n",
       "      <td>1.8</td>\n",
       "    </tr>\n",
       "  </tbody>\n",
       "</table>\n",
       "</div>"
      ],
      "text/plain": [
       "     unique_index incorrect_answer answer\n",
       "111          1264               44    181\n",
       "5             128              1/2    1/4\n",
       "17            366                5    2^5\n",
       "136          1990                T      F\n",
       "62            980               25     24\n",
       "82           1034                B      C\n",
       "102          1194               67      7\n",
       "89           1083                3      5\n",
       "19            388               10     12\n",
       "29            417                A      B\n",
       "58            976             5678      5\n",
       "75           1004               20     18\n",
       "10            152                7     12\n",
       "12            154                7      8\n",
       "107          1246                T      F\n",
       "106          1211                7     14\n",
       "114          1649              Odd   Even\n",
       "103          1195                7     70\n",
       "129          1910            10000  50000\n",
       "139          2449             0.18    1.8"
      ]
     },
     "execution_count": 55,
     "metadata": {},
     "output_type": "execute_result"
    }
   ],
   "source": [
    "incorrect_lesson_df[~is_actually_correct_answer][[\"unique_index\", \"incorrect_answer\", \"answer\"]].sample(n=20)"
   ]
  },
  {
   "cell_type": "code",
   "execution_count": 62,
   "id": "b620d5c2-a29c-4a3c-9a5e-85f28a400769",
   "metadata": {},
   "outputs": [],
   "source": [
    "incorrect_answer_csv_filepath = data_dir / \"derived\" / \"incorrect_answers.csv\"\n",
    "incorrect_lesson_df[[\"unique_index\", \"answer\", \"incorrect_answer\"]].to_csv(incorrect_answer_csv_filepath, index=False)"
   ]
  },
  {
   "cell_type": "markdown",
   "id": "3bf682fa-e643-42ab-99da-2182cac00358",
   "metadata": {},
   "source": [
    "#### Hint generation"
   ]
  },
  {
   "cell_type": "code",
   "execution_count": 64,
   "id": "b9fa6370-c018-4204-a17d-87459921bfed",
   "metadata": {},
   "outputs": [
    {
     "name": "stdout",
     "output_type": "stream",
     "text": [
      "(153, 3)\n"
     ]
    },
    {
     "data": {
      "text/html": [
       "<div>\n",
       "<style scoped>\n",
       "    .dataframe tbody tr th:only-of-type {\n",
       "        vertical-align: middle;\n",
       "    }\n",
       "\n",
       "    .dataframe tbody tr th {\n",
       "        vertical-align: top;\n",
       "    }\n",
       "\n",
       "    .dataframe thead th {\n",
       "        text-align: right;\n",
       "    }\n",
       "</style>\n",
       "<table border=\"1\" class=\"dataframe\">\n",
       "  <thead>\n",
       "    <tr style=\"text-align: right;\">\n",
       "      <th></th>\n",
       "      <th>unique_index</th>\n",
       "      <th>answer</th>\n",
       "      <th>incorrect_answer</th>\n",
       "    </tr>\n",
       "  </thead>\n",
       "  <tbody>\n",
       "    <tr>\n",
       "      <th>25</th>\n",
       "      <td>412</td>\n",
       "      <td>B</td>\n",
       "      <td>C</td>\n",
       "    </tr>\n",
       "    <tr>\n",
       "      <th>21</th>\n",
       "      <td>400</td>\n",
       "      <td>&gt;</td>\n",
       "      <td>=</td>\n",
       "    </tr>\n",
       "    <tr>\n",
       "      <th>33</th>\n",
       "      <td>437</td>\n",
       "      <td>A</td>\n",
       "      <td>B</td>\n",
       "    </tr>\n",
       "  </tbody>\n",
       "</table>\n",
       "</div>"
      ],
      "text/plain": [
       "    unique_index answer incorrect_answer\n",
       "25           412      B                C\n",
       "21           400      >                =\n",
       "33           437      A                B"
      ]
     },
     "execution_count": 64,
     "metadata": {},
     "output_type": "execute_result"
    }
   ],
   "source": [
    "incorrect_answer_csv_filepath = data_dir / \"derived\" / \"incorrect_answers.csv\"\n",
    "incorrect_lesson_df = pd.read_csv(incorrect_answer_csv_filepath)\n",
    "print(incorrect_lesson_df.shape)\n",
    "incorrect_lesson_df.sample(n=3)"
   ]
  },
  {
   "cell_type": "code",
   "execution_count": 65,
   "id": "136288db-565e-4830-871d-6a5dbf26bcbc",
   "metadata": {},
   "outputs": [
    {
     "data": {
      "text/plain": [
       "225"
      ]
     },
     "execution_count": 65,
     "metadata": {},
     "output_type": "execute_result"
    }
   ],
   "source": [
    "lesson_codes_with_images = set()\n",
    "for lesson_code, lesson in lesson_df.groupby(\"lesson_code\"):\n",
    "    has_image_explanation = ((lesson.is_explanation) & (lesson.has_image)).any()\n",
    "    has_image_question = ((~lesson.is_explanation) & (lesson.has_image)).any()\n",
    "    has_image = has_image_explanation or has_image_question\n",
    "    lesson_codes_with_images.add(lesson_code)\n",
    "len(lesson_codes_with_images)"
   ]
  },
  {
   "cell_type": "code",
   "execution_count": 66,
   "id": "2fc99667-c8c3-46ae-a78c-28cf9a6246cc",
   "metadata": {},
   "outputs": [
    {
     "data": {
      "text/plain": [
       "('904 / 2570', '80 / 225')"
      ]
     },
     "execution_count": 66,
     "metadata": {},
     "output_type": "execute_result"
    }
   ],
   "source": [
    "sdf = lesson_df[(lesson_df.lesson_code.isin(lesson_codes_with_images)) & (lesson_df.grade.isin([6, 7, 8]))]\n",
    "f\"{len(sdf)} / {len(lesson_df)}\", f\"{sdf.lesson_code.nunique()} / {lesson_df.lesson_code.nunique()}\""
   ]
  },
  {
   "cell_type": "code",
   "execution_count": 68,
   "id": "dba0454e-b109-441e-ada2-3bc4637f175f",
   "metadata": {},
   "outputs": [
    {
     "data": {
      "text/plain": [
       "42"
      ]
     },
     "execution_count": 68,
     "metadata": {},
     "output_type": "execute_result"
    }
   ],
   "source": [
    "# merge in incorrect lessons\n",
    "sdf = sdf.merge(incorrect_lesson_df[[\"unique_index\", \"incorrect_answer\"]], on=\"unique_index\", how=\"left\")\n",
    "sdf.incorrect_answer.notna().sum()"
   ]
  },
  {
   "cell_type": "code",
   "execution_count": 22,
   "id": "ff528f8d-39ea-47a1-b139-2d637566cfbc",
   "metadata": {},
   "outputs": [
    {
     "data": {
      "text/plain": [
       "('33 / 2570', '3 / 225')"
      ]
     },
     "execution_count": 22,
     "metadata": {},
     "output_type": "execute_result"
    }
   ],
   "source": [
    "lesson_codes = set(sdf.lesson_code)\n",
    "n_lessons = 3\n",
    "subset_lesson_codes = set(np.random.choice(np.array(list(lesson_codes)), size=n_lessons, replace=False))\n",
    "sdf = sdf[sdf.lesson_code.isin(subset_lesson_codes)]\n",
    "f\"{len(sdf)} / {len(lesson_df)}\", f\"{sdf.lesson_code.nunique()} / {lesson_df.lesson_code.nunique()}\""
   ]
  },
  {
   "cell_type": "code",
   "execution_count": 62,
   "id": "089b660a-8111-40a4-b1e7-50ad1165ab7e",
   "metadata": {},
   "outputs": [
    {
     "name": "stdout",
     "output_type": "stream",
     "text": [
      "[{'content': 'You are going to act as a maths teacher for a 13 year old '\n",
      "             'student who is in grade 6.\\n'\n",
      "             'Your role is to introduce the student to a new topic using the '\n",
      "             'following lesson plan delimited by triple quotes: \"\"\"In today\\'s '\n",
      "             'lesson we are going to learn and practice long division of 3 '\n",
      "             'digit and 4 digit numbers by 2 digit numbers\\n'\n",
      "             '\\n'\n",
      "             '\\n'\n",
      "             'The long division method helps to divide bigger numbers.\\n'\n",
      "             '\\n'\n",
      "             'I hope I was able to help you understand.\\n'\n",
      "             'Would you like to try some questions?\\n'\n",
      "             '\\n'\n",
      "             'Fill in the blanks.\\n'\n",
      "             '\\n'\n",
      "             'Type Yes to proceed.\"\"\"\\n'\n",
      "             'You will teach the lesson, presenting it in sections and waiting '\n",
      "             'for the student to indicate they understand before proceeding. '\n",
      "             'If the student has questions, provide short, encouraging, and '\n",
      "             'educational clarifications.\\n'\n",
      "             'Your responses should be at the level of difficulty of a 12 year '\n",
      "             'old.',\n",
      "  'role': 'system'},\n",
      " {'content': \"In today's lesson we are going to learn and practice long \"\n",
      "             'division of 3 digit and 4 digit numbers by 2 digit numbers',\n",
      "  'role': 'assistant'},\n",
      " {'content': 'Yes, I understand.', 'role': 'user'},\n",
      " {'content': 'The long division method helps to divide bigger numbers.\\n'\n",
      "             '\\n'\n",
      "             'I hope I was able to help you understand.\\n'\n",
      "             'Would you like to try some questions?\\n'\n",
      "             '\\n'\n",
      "             'Fill in the blanks.\\n'\n",
      "             '\\n'\n",
      "             'Type Yes to proceed.',\n",
      "  'role': 'assistant'},\n",
      " {'content': 'Yes, I understand.', 'role': 'user'},\n",
      " {'content': '900 ÷ 10 = ______\\n', 'role': 'assistant'},\n",
      " {'content': \"I don't understand why the answer is 90. Please give me a hint.\",\n",
      "  'role': 'user'}]\n",
      "\n",
      "[{'content': 'You are going to act as a maths teacher for a 13 year old '\n",
      "             'student who is in grade 6.\\n'\n",
      "             'Your role is to introduce the student to a new topic using the '\n",
      "             'following lesson plan delimited by triple quotes: \"\"\"Can you '\n",
      "             'find the reciprocal of a fraction? Turn them on their heads!\\n'\n",
      "             '\\n'\n",
      "             '\\n'\n",
      "             'The reciprocal of a fraction is the same as the inverse of a '\n",
      "             'fraction. \\n'\n",
      "             'We just switch the places of the numerator and denominator\\n'\n",
      "             '\\n'\n",
      "             'Ques: Find the reciprocal: 3/4\\n'\n",
      "             'Ans: 4/3\\n'\n",
      "             '\\n'\n",
      "             'Would you like to try some questions yourself? 😄 \\n'\n",
      "             '\\n'\n",
      "             'Find the reciprocal.\\n'\n",
      "             '\\n'\n",
      "             'Write Yes to proceed.\"\"\"\\n'\n",
      "             'You will teach the lesson, presenting it in sections and waiting '\n",
      "             'for the student to indicate they understand before proceeding. '\n",
      "             'If the student has questions, provide short, encouraging, and '\n",
      "             'educational clarifications.\\n'\n",
      "             'Your responses should be at the level of difficulty of a 12 year '\n",
      "             'old.',\n",
      "  'role': 'system'},\n",
      " {'content': 'Can you find the reciprocal of a fraction? Turn them on their '\n",
      "             'heads!',\n",
      "  'role': 'assistant'},\n",
      " {'content': 'Yes, I understand.', 'role': 'user'},\n",
      " {'content': 'The reciprocal of a fraction is the same as the inverse of a '\n",
      "             'fraction. \\n'\n",
      "             'We just switch the places of the numerator and denominator\\n'\n",
      "             '\\n'\n",
      "             'Ques: Find the reciprocal: 3/4\\n'\n",
      "             'Ans: 4/3\\n'\n",
      "             '\\n'\n",
      "             'Would you like to try some questions yourself? 😄 \\n'\n",
      "             '\\n'\n",
      "             'Find the reciprocal.\\n'\n",
      "             '\\n'\n",
      "             'Write Yes to proceed.',\n",
      "  'role': 'assistant'},\n",
      " {'content': 'Yes, I understand.', 'role': 'user'},\n",
      " {'content': '4/5 = ____\\n', 'role': 'assistant'},\n",
      " {'content': \"I don't understand why the answer is 5/4. Please give me a hint.\",\n",
      "  'role': 'user'}]\n",
      "\n",
      "[{'content': 'You are going to act as a maths teacher for a 13 year old '\n",
      "             'student who is in grade 6.\\n'\n",
      "             'Your role is to introduce the student to a new topic using the '\n",
      "             'following lesson plan delimited by triple quotes: \"\"\"Today, we '\n",
      "             'are going to learn how to divide a decimal number with a '\n",
      "             'one-digit whole number.\\n'\n",
      "             '\\n'\n",
      "             '\\n'\n",
      "             'Division is the opposite of multiplication.\\n'\n",
      "             'The division of decimal number is similar to that of whole '\n",
      "             'numbers.\\n'\n",
      "             'Always remember to place the decimal point in the quotient when '\n",
      "             'bringing the decimal digit down.\\n'\n",
      "             '\\n'\n",
      "             'Would you like to try more questions?\\n'\n",
      "             '\\n'\n",
      "             'Type Yes to proceed\"\"\"\\n'\n",
      "             'You will teach the lesson, presenting it in sections and waiting '\n",
      "             'for the student to indicate they understand before proceeding. '\n",
      "             'If the student has questions, provide short, encouraging, and '\n",
      "             'educational clarifications.\\n'\n",
      "             'Your responses should be at the level of difficulty of a 12 year '\n",
      "             'old.',\n",
      "  'role': 'system'},\n",
      " {'content': 'Today, we are going to learn how to divide a decimal number with '\n",
      "             'a one-digit whole number.',\n",
      "  'role': 'assistant'},\n",
      " {'content': 'Yes, I understand.', 'role': 'user'},\n",
      " {'content': 'Division is the opposite of multiplication.\\n'\n",
      "             'The division of decimal number is similar to that of whole '\n",
      "             'numbers.\\n'\n",
      "             'Always remember to place the decimal point in the quotient when '\n",
      "             'bringing the decimal digit down.\\n'\n",
      "             '\\n'\n",
      "             'Would you like to try more questions?\\n'\n",
      "             '\\n'\n",
      "             'Type Yes to proceed',\n",
      "  'role': 'assistant'},\n",
      " {'content': 'Yes, I understand.', 'role': 'user'},\n",
      " {'content': '4.5 ÷ 9 = ____\\n', 'role': 'assistant'},\n",
      " {'content': \"I don't understand why the answer is 0.5. Please give me a hint.\",\n",
      "  'role': 'user'}]\n",
      "\n"
     ]
    },
    {
     "data": {
      "text/plain": [
       "3"
      ]
     },
     "execution_count": 62,
     "metadata": {},
     "output_type": "execute_result"
    }
   ],
   "source": [
    "message_lists = []\n",
    "\n",
    "for lesson_code, lesson in sdf.groupby(\"lesson_code\"):\n",
    "    lesson_plan = lesson.iloc[0].short_description.strip() + \"\\n\\n\\n\" + lesson.iloc[0].lesson.strip()\n",
    "    index = 1\n",
    "    row = lesson.iloc[index]\n",
    "    while row.is_explanation:\n",
    "        lesson_plan += \"\\n\\n\\n\" + row.lesson.strip()\n",
    "        index += 1\n",
    "        row = lesson.iloc[index]\n",
    "    messages = [\n",
    "        {\n",
    "            \"role\": \"system\",\n",
    "            \"content\": \"You are going to act as a maths teacher for a 13 year old student who is in grade 6.\\n\"\n",
    "            \"Your role is to introduce the student to a new topic using the following lesson plan delimited \"\n",
    "            'by triple quotes: \"\"\"{lesson_plan}\"\"\"\\n'\n",
    "            \"You will teach the lesson, presenting it in sections and waiting for the student \"\n",
    "            \"to indicate they understand before proceeding. If the student has questions, provide \"\n",
    "            \"short, encouraging, and educational clarifications.\\nYour responses should be at the \"\n",
    "            \"level of difficulty of a 12 year old.\".format(lesson_plan=lesson_plan),\n",
    "        }\n",
    "    ]\n",
    "    for lesson_component in lesson_plan.split(\"\\n\\n\\n\"):\n",
    "        messages.extend(\n",
    "            [\n",
    "                {\n",
    "                    \"role\": \"assistant\",\n",
    "                    \"content\": lesson_component,\n",
    "                },\n",
    "                {\n",
    "                    \"role\": \"user\",\n",
    "                    \"content\": \"Yes, I understand.\",\n",
    "                },\n",
    "            ]\n",
    "        )\n",
    "    question_text = row.question + \"\\n\"\n",
    "    messages.extend(\n",
    "        [\n",
    "            {\n",
    "                \"role\": \"assistant\",\n",
    "                \"content\": question_text,\n",
    "            },\n",
    "            {\n",
    "                \"role\": \"user\",\n",
    "                \"content\": f\"I don't understand why the answer is {row.answer}. Please give me a hint.\",\n",
    "            },\n",
    "        ]\n",
    "    )\n",
    "    message_lists.append(messages)\n",
    "\n",
    "    pprint(messages)\n",
    "    print()\n",
    "len(message_lists)"
   ]
  },
  {
   "cell_type": "code",
   "execution_count": 63,
   "id": "2c1ea6ec-4d17-42d1-8f24-befa6b303352",
   "metadata": {},
   "outputs": [
    {
     "data": {
      "text/plain": [
       "<Encoding 'cl100k_base'>"
      ]
     },
     "execution_count": 63,
     "metadata": {},
     "output_type": "execute_result"
    }
   ],
   "source": [
    "tokeniser = tiktoken.encoding_for_model(\"gpt-3.5-turbo-0613\")\n",
    "tokeniser"
   ]
  },
  {
   "cell_type": "code",
   "execution_count": 64,
   "id": "f6997357-82d4-49fe-b898-a03980f46e54",
   "metadata": {},
   "outputs": [
    {
     "name": "stdout",
     "output_type": "stream",
     "text": [
      "265\n",
      "298\n",
      "277\n"
     ]
    },
    {
     "data": {
      "text/plain": [
       "3"
      ]
     },
     "execution_count": 64,
     "metadata": {},
     "output_type": "execute_result"
    }
   ],
   "source": [
    "completions = []\n",
    "for messages in message_lists:\n",
    "    token_count_total = 0\n",
    "    for message in messages:\n",
    "        content = message[\"content\"]\n",
    "        token_count = len(tokeniser.encode(content))\n",
    "        token_count_total += token_count\n",
    "    print(token_count_total)\n",
    "    if token_count_total > 2000:  # max of 4K (or 16K with the extended-context model)\n",
    "        continue\n",
    "    completion = openai.ChatCompletion.create(model=\"gpt-3.5-turbo-0613\", messages=messages)\n",
    "    completions.append(completion)\n",
    "len(completions)"
   ]
  },
  {
   "cell_type": "code",
   "execution_count": 65,
   "id": "b198c445-eb50-4b1d-ba68-6ff369665cfe",
   "metadata": {},
   "outputs": [
    {
     "name": "stdout",
     "output_type": "stream",
     "text": [
      "Sure! In long division, we divide the number on the left (called the dividend) by the number on the right (called the divisor). In this case, the dividend is 900 and the divisor is 10.\n",
      "\n",
      "To solve this, we start with the leftmost digit of the dividend (9) and divide it by the divisor (10). Since 9 is smaller than 10, we can't divide it evenly. So, we move to the next digit, which is 0. \n",
      "\n",
      "Now we have 90, and we divide 90 by 10. Since 90 is divisible by 10, it gives us 9. So the answer is 90.\n",
      "\n",
      "Does that make sense? Let me know if you have any more questions!\n",
      "\n",
      "Sure! One way to think about finding the reciprocal is to imagine flipping the fraction upside down. So, if we have the fraction 4/5, flipping it upside down would give us the fraction 5/4. This swapping of the numerator and denominator is what finding the reciprocal is all about.\n",
      "\n",
      "Sure! When dividing a decimal number by a whole number, you can think of it as dividing the decimal number by the whole number in the same way you would divide whole numbers. In this case, dividing 4.5 by 9 is like dividing 45 by 9.\n",
      "\n",
      "Think about how many times 9 can go into 45.\n",
      "\n"
     ]
    }
   ],
   "source": [
    "for completion in completions:\n",
    "    print(completion[\"choices\"][0][\"message\"][\"content\"])\n",
    "    print()"
   ]
  },
  {
   "cell_type": "code",
   "execution_count": 68,
   "id": "f8e34747-67f8-46e1-9715-600405615936",
   "metadata": {},
   "outputs": [
    {
     "name": "stdout",
     "output_type": "stream",
     "text": [
      "267\n",
      "300\n",
      "279\n"
     ]
    },
    {
     "data": {
      "text/plain": [
       "3"
      ]
     },
     "execution_count": 68,
     "metadata": {},
     "output_type": "execute_result"
    }
   ],
   "source": [
    "message_lists = []\n",
    "\n",
    "for lesson_code, lesson in sdf.groupby(\"lesson_code\"):\n",
    "    lesson_plan = lesson.iloc[0].short_description.strip() + \"\\n\\n\\n\" + lesson.iloc[0].lesson.strip()\n",
    "    index = 1\n",
    "    row = lesson.iloc[index]\n",
    "    while row.is_explanation:\n",
    "        lesson_plan += \"\\n\\n\\n\" + row.lesson.strip()\n",
    "        index += 1\n",
    "        row = lesson.iloc[index]\n",
    "    messages = [\n",
    "        {\n",
    "            \"role\": \"system\",\n",
    "            \"content\": \"You are going to act as a maths teacher for a 13 year old student who is in grade 6.\\n\"\n",
    "            \"Your role is to introduce the student to a new topic using the following lesson plan delimited \"\n",
    "            'by triple quotes: \"\"\"{lesson_plan}\"\"\"\\n'\n",
    "            \"You will teach the lesson, presenting it in sections and waiting for the student \"\n",
    "            \"to indicate they understand before proceeding. If the student has questions, provide \"\n",
    "            \"short, encouraging, and educational clarifications.\\nYour responses should be at the \"\n",
    "            \"level of difficulty of a 12 year old.\".format(lesson_plan=lesson_plan),\n",
    "        }\n",
    "    ]\n",
    "    for lesson_component in lesson_plan.split(\"\\n\\n\\n\"):\n",
    "        messages.extend(\n",
    "            [\n",
    "                {\n",
    "                    \"role\": \"assistant\",\n",
    "                    \"content\": lesson_component,\n",
    "                },\n",
    "                {\n",
    "                    \"role\": \"user\",\n",
    "                    \"content\": \"Yes, I understand.\",\n",
    "                },\n",
    "            ]\n",
    "        )\n",
    "    question_text = row.question + \"\\n\"\n",
    "    messages.extend(\n",
    "        [\n",
    "            {\n",
    "                \"role\": \"assistant\",\n",
    "                \"content\": question_text,\n",
    "            },\n",
    "            {\n",
    "                \"role\": \"user\",\n",
    "                \"content\": \"I don't understand.\",\n",
    "            },\n",
    "            {\n",
    "                \"role\": \"system\",\n",
    "                \"content\": f\"Without revealing that the correct answer is {row.answer}, provide a hint.\",\n",
    "            },\n",
    "        ]\n",
    "    )\n",
    "    message_lists.append(messages)\n",
    "\n",
    "completions = []\n",
    "for messages in message_lists:\n",
    "    token_count_total = 0\n",
    "    for message in messages:\n",
    "        content = message[\"content\"]\n",
    "        token_count = len(tokeniser.encode(content))\n",
    "        token_count_total += token_count\n",
    "    print(token_count_total)\n",
    "    if token_count_total > 2000:  # max of 4K (or 16K with the extended-context model)\n",
    "        print(\"WARNING\")\n",
    "        continue\n",
    "    completion = openai.ChatCompletion.create(model=\"gpt-3.5-turbo-0613\", messages=messages)\n",
    "    completions.append(completion)\n",
    "len(completions)"
   ]
  },
  {
   "cell_type": "code",
   "execution_count": 69,
   "id": "ffbf0a48-ccab-4a13-a4ea-5012a2e5e46d",
   "metadata": {},
   "outputs": [
    {
     "name": "stdout",
     "output_type": "stream",
     "text": [
      "To divide 900 by 10, think about how many times 10 can fit into 900.\n",
      "\n",
      "Sure! To find the reciprocal of a fraction, you simply switch the numerator and denominator. So if you have the fraction 4/5, you just need to interchange the 4 and the 5. What do you get?\n",
      "\n",
      "Sure! Let's break it down step by step. When we divide 4.5 by 9, we are trying to find out how many times 9 can fit into 4.5. So, let's start by asking ourselves: Can 9 fit into 4?\n",
      "\n"
     ]
    }
   ],
   "source": [
    "for completion in completions:\n",
    "    print(completion[\"choices\"][0][\"message\"][\"content\"])\n",
    "    print()"
   ]
  },
  {
   "cell_type": "code",
   "execution_count": 71,
   "id": "64bec548-8ccc-46f5-8dd5-496cda096c35",
   "metadata": {},
   "outputs": [
    {
     "name": "stdout",
     "output_type": "stream",
     "text": [
      "312\n",
      "314\n",
      "332\n"
     ]
    },
    {
     "data": {
      "text/plain": [
       "3"
      ]
     },
     "execution_count": 71,
     "metadata": {},
     "output_type": "execute_result"
    }
   ],
   "source": [
    "message_lists = []\n",
    "\n",
    "for lesson_code, lesson in sdf.groupby(\"lesson_code\"):\n",
    "    lesson_plan = lesson.iloc[0].short_description.strip() + \"\\n\\n\\n\" + lesson.iloc[0].lesson.strip()\n",
    "    index = 1\n",
    "    row = lesson.iloc[index]\n",
    "    while row.is_explanation:\n",
    "        lesson_plan += \"\\n\\n\\n\" + row.lesson.strip()\n",
    "        index += 1\n",
    "        row = lesson.iloc[index]\n",
    "    messages = [\n",
    "        {\n",
    "            \"role\": \"system\",\n",
    "            \"content\": \"You are going to act as a maths teacher for a 13 year old student who is in grade 6.\\n\"\n",
    "            \"Your role is to introduce the student to a new topic using the following lesson plan delimited \"\n",
    "            'by triple quotes: \"\"\"{lesson_plan}\"\"\"\\n'\n",
    "            \"You will teach the lesson, presenting it in sections and waiting for the student \"\n",
    "            \"to indicate they understand before proceeding. If the student has questions, provide \"\n",
    "            \"short, encouraging, and educational clarifications.\\nYour responses should be at the \"\n",
    "            \"level of difficulty of a 12 year old.\".format(lesson_plan=lesson_plan),\n",
    "        }\n",
    "    ]\n",
    "    for lesson_component in lesson_plan.split(\"\\n\\n\\n\"):\n",
    "        messages.extend(\n",
    "            [\n",
    "                {\n",
    "                    \"role\": \"assistant\",\n",
    "                    \"content\": lesson_component,\n",
    "                },\n",
    "                {\n",
    "                    \"role\": \"user\",\n",
    "                    \"content\": \"Yes, I understand.\",\n",
    "                },\n",
    "            ]\n",
    "        )\n",
    "    question_text = row.question + \"\\n\"\n",
    "    messages.extend(\n",
    "        [\n",
    "            {\n",
    "                \"role\": \"assistant\",\n",
    "                \"content\": question_text,\n",
    "            },\n",
    "            {\n",
    "                \"role\": \"user\",\n",
    "                \"content\": \"I don't understand.\",\n",
    "            },\n",
    "            {\n",
    "                \"role\": \"system\",\n",
    "                \"content\": f\"Without revealing that the correct answer is {row.answer}, provide a hint based on the following explanation:\\n{row.hint}\",\n",
    "            },\n",
    "        ]\n",
    "    )\n",
    "    message_lists.append(messages)\n",
    "\n",
    "completions = []\n",
    "for messages in message_lists:\n",
    "    token_count_total = 0\n",
    "    for message in messages:\n",
    "        content = message[\"content\"]\n",
    "        token_count = len(tokeniser.encode(content))\n",
    "        token_count_total += token_count\n",
    "    print(token_count_total)\n",
    "    if token_count_total > 2000:  # max of 4K (or 16K with the extended-context model)\n",
    "        print(\"WARNING\")\n",
    "        continue\n",
    "    completion = openai.ChatCompletion.create(model=\"gpt-3.5-turbo-0613\", messages=messages)\n",
    "    completions.append(completion)\n",
    "len(completions)"
   ]
  },
  {
   "cell_type": "code",
   "execution_count": 72,
   "id": "5b0b641a-ecd7-44cc-9025-1238b6bf6711",
   "metadata": {},
   "outputs": [
    {
     "name": "stdout",
     "output_type": "stream",
     "text": [
      "To divide 900 by 10, you can start by dividing 90 by 10. Can you try that?\n",
      "\n",
      "To find the reciprocal of a fraction, simply switch the places of the numerator and denominator. For example, if you have the fraction 4/5, you can find its reciprocal by switching the 4 and the 5. Try switching the places of the numerator and denominator of the fraction 4/5 and see what you get.\n",
      "\n",
      "Sure! Let's break it down step by step. First, divide 4.5 by 9. Since 9 cannot divide 4, you can ignore the decimal point for now and divide 4 by 9. What do you get when you divide 4 by 9?\n",
      "\n"
     ]
    }
   ],
   "source": [
    "for completion in completions:\n",
    "    print(completion[\"choices\"][0][\"message\"][\"content\"])\n",
    "    print()"
   ]
  },
  {
   "cell_type": "code",
   "execution_count": null,
   "id": "e06b2936-2eab-4b9c-97a0-1103e96d1c1f",
   "metadata": {},
   "outputs": [],
   "source": []
  },
  {
   "cell_type": "code",
   "execution_count": null,
   "id": "946ea10a-191c-40cc-b04c-0ca9bcb1c882",
   "metadata": {},
   "outputs": [],
   "source": []
  },
  {
   "cell_type": "code",
   "execution_count": null,
   "id": "ed2d1ff9-cbc1-419c-9f8f-52bd5127f651",
   "metadata": {},
   "outputs": [],
   "source": []
  },
  {
   "cell_type": "code",
   "execution_count": null,
   "id": "366f5246-da95-467d-b09a-12e20ea6bb83",
   "metadata": {},
   "outputs": [],
   "source": []
  }
 ],
 "metadata": {
  "kernelspec": {
   "display_name": "Python 3 (ipykernel)",
   "language": "python",
   "name": "python3"
  },
  "language_info": {
   "codemirror_mode": {
    "name": "ipython",
    "version": 3
   },
   "file_extension": ".py",
   "mimetype": "text/x-python",
   "name": "python",
   "nbconvert_exporter": "python",
   "pygments_lexer": "ipython3",
   "version": "3.10.11"
  }
 },
 "nbformat": 4,
 "nbformat_minor": 5
}
