{
 "cells": [
  {
   "cell_type": "markdown",
   "id": "01ed92ab-bd20-4e43-9436-447301edab14",
   "metadata": {},
   "source": [
    "Hint Generation Tests\n",
    "===\n",
    "\n",
    "Goal: explain to the student why their answer is wrong.\n",
    "\n",
    "Axis 1:\n",
    " - With revealing the right answer\n",
    " - Without revealing the right answer\n",
    "\n",
    "Axis 2:\n",
    " - Using no lesson content? (Probably not, doesn't matter how good this is.)\n",
    " - Using lesson context only\n",
    " - Using larger Rori context\n",
    " - Using Rori + external math corpus context\n",
    "\n",
    "Axis 3:\n",
    " - Single prompt, no CoT\n",
    " - Single CoT prompt + refinement prompt\n",
    " - Multi-stage refinment or retrieval"
   ]
  },
  {
   "cell_type": "code",
   "execution_count": 34,
   "id": "75bad6ad-c299-4542-bae9-e1f528b2fcf6",
   "metadata": {},
   "outputs": [],
   "source": [
    "import json\n",
    "import os\n",
    "import time\n",
    "from pathlib import Path\n",
    "from pprint import pprint\n",
    "\n",
    "import dotenv\n",
    "import matplotlib.pyplot as plt\n",
    "import numpy as np\n",
    "import openai\n",
    "import pandas as pd\n",
    "import scipy\n",
    "import tiktoken\n",
    "from tqdm import tqdm"
   ]
  },
  {
   "cell_type": "code",
   "execution_count": 2,
   "id": "e7e6f1c5-1318-45e5-a7d5-9cf52ca4dde6",
   "metadata": {},
   "outputs": [
    {
     "data": {
      "text/plain": [
       "True"
      ]
     },
     "execution_count": 2,
     "metadata": {},
     "output_type": "execute_result"
    }
   ],
   "source": [
    "dotenv.load_dotenv(\"../.env\")"
   ]
  },
  {
   "cell_type": "code",
   "execution_count": 3,
   "id": "8c032d5d-70ac-4964-9fd5-15f5dfc79c34",
   "metadata": {},
   "outputs": [
    {
     "data": {
      "text/plain": [
       "'sk-'"
      ]
     },
     "execution_count": 3,
     "metadata": {},
     "output_type": "execute_result"
    }
   ],
   "source": [
    "os.environ[\"OPENAI_API_KEY\"][:3]"
   ]
  },
  {
   "cell_type": "code",
   "execution_count": 4,
   "id": "257d08da-b5c9-4c60-a1fb-3ca40657bbce",
   "metadata": {},
   "outputs": [],
   "source": [
    "openai.api_key = os.environ[\"OPENAI_API_KEY\"]"
   ]
  },
  {
   "cell_type": "code",
   "execution_count": 5,
   "id": "16509047-5873-4bd9-937c-ef33cc1e028b",
   "metadata": {},
   "outputs": [
    {
     "data": {
      "text/plain": [
       "(2570, 20)"
      ]
     },
     "execution_count": 5,
     "metadata": {},
     "output_type": "execute_result"
    }
   ],
   "source": [
    "data_dir = Path(\"../data\")\n",
    "assert data_dir.exists()\n",
    "lesson_df = pd.read_pickle(data_dir / \"derived\" / \"rori_lessons.pkl\")\n",
    "lesson_df.shape"
   ]
  },
  {
   "cell_type": "code",
   "execution_count": 6,
   "id": "ed629973-4486-4b60-83bf-99f700e000b4",
   "metadata": {},
   "outputs": [
    {
     "data": {
      "text/html": [
       "<div>\n",
       "<style scoped>\n",
       "    .dataframe tbody tr th:only-of-type {\n",
       "        vertical-align: middle;\n",
       "    }\n",
       "\n",
       "    .dataframe tbody tr th {\n",
       "        vertical-align: top;\n",
       "    }\n",
       "\n",
       "    .dataframe thead th {\n",
       "        text-align: right;\n",
       "    }\n",
       "</style>\n",
       "<table border=\"1\" class=\"dataframe\">\n",
       "  <thead>\n",
       "    <tr style=\"text-align: right;\">\n",
       "      <th></th>\n",
       "      <th>lesson_code</th>\n",
       "      <th>grade</th>\n",
       "      <th>domain</th>\n",
       "      <th>construct</th>\n",
       "      <th>subconstruct</th>\n",
       "      <th>skill</th>\n",
       "      <th>lesson_index</th>\n",
       "      <th>topic</th>\n",
       "      <th>short_description</th>\n",
       "      <th>lesson</th>\n",
       "      <th>question</th>\n",
       "      <th>answer</th>\n",
       "      <th>hint</th>\n",
       "      <th>has_image</th>\n",
       "      <th>section</th>\n",
       "      <th>question_index</th>\n",
       "      <th>is_explanation</th>\n",
       "      <th>needs_context</th>\n",
       "      <th>context_string</th>\n",
       "      <th>n_question_tokens</th>\n",
       "    </tr>\n",
       "  </thead>\n",
       "  <tbody>\n",
       "    <tr>\n",
       "      <th>1415</th>\n",
       "      <td>G3.N1.2.2.5</td>\n",
       "      <td>3</td>\n",
       "      <td>N</td>\n",
       "      <td>N1</td>\n",
       "      <td>N1.2</td>\n",
       "      <td>N1.2.2</td>\n",
       "      <td>5</td>\n",
       "      <td>Find place values (5 of 5)</td>\n",
       "      <td>Amazing! Let's convert 2 and 3 digit number fr...</td>\n",
       "      <td>None</td>\n",
       "      <td>500 + 50 + 3 = __53</td>\n",
       "      <td>5</td>\n",
       "      <td>The hundreds digit is missing.\\nWhich digit sh...</td>\n",
       "      <td>False</td>\n",
       "      <td>1</td>\n",
       "      <td>5</td>\n",
       "      <td>False</td>\n",
       "      <td>False</td>\n",
       "      <td></td>\n",
       "      <td>7.0</td>\n",
       "    </tr>\n",
       "    <tr>\n",
       "      <th>2088</th>\n",
       "      <td>G6.N1.2.2.6</td>\n",
       "      <td>6</td>\n",
       "      <td>N</td>\n",
       "      <td>N1</td>\n",
       "      <td>N1.2</td>\n",
       "      <td>N1.2.2</td>\n",
       "      <td>6</td>\n",
       "      <td>Find place values (6 of 7)</td>\n",
       "      <td>In today's lesson we are going to learn about ...</td>\n",
       "      <td>None</td>\n",
       "      <td>8 hundred thousands = _____ tens</td>\n",
       "      <td>80000</td>\n",
       "      <td>The hundred thousands place value is four plac...</td>\n",
       "      <td>False</td>\n",
       "      <td>1</td>\n",
       "      <td>6</td>\n",
       "      <td>False</td>\n",
       "      <td>False</td>\n",
       "      <td></td>\n",
       "      <td>6.0</td>\n",
       "    </tr>\n",
       "    <tr>\n",
       "      <th>2498</th>\n",
       "      <td>G7.N4.2.1.2</td>\n",
       "      <td>7</td>\n",
       "      <td>N</td>\n",
       "      <td>N4</td>\n",
       "      <td>N4.2</td>\n",
       "      <td>N4.2.1</td>\n",
       "      <td>2</td>\n",
       "      <td>Integer operations (2 of 5)</td>\n",
       "      <td>Are you ready to have some fun today?\\nWe goin...</td>\n",
       "      <td>None</td>\n",
       "      <td>64 - 99 = ___</td>\n",
       "      <td>-35</td>\n",
       "      <td>Subtract 64 from 99. \\nThe answer has the sign...</td>\n",
       "      <td>False</td>\n",
       "      <td>1</td>\n",
       "      <td>6</td>\n",
       "      <td>False</td>\n",
       "      <td>False</td>\n",
       "      <td></td>\n",
       "      <td>5.0</td>\n",
       "    </tr>\n",
       "  </tbody>\n",
       "</table>\n",
       "</div>"
      ],
      "text/plain": [
       "      lesson_code  grade domain construct subconstruct   skill  lesson_index  \\\n",
       "1415  G3.N1.2.2.5      3      N        N1         N1.2  N1.2.2             5   \n",
       "2088  G6.N1.2.2.6      6      N        N1         N1.2  N1.2.2             6   \n",
       "2498  G7.N4.2.1.2      7      N        N4         N4.2  N4.2.1             2   \n",
       "\n",
       "                            topic  \\\n",
       "1415   Find place values (5 of 5)   \n",
       "2088   Find place values (6 of 7)   \n",
       "2498  Integer operations (2 of 5)   \n",
       "\n",
       "                                      short_description lesson  \\\n",
       "1415  Amazing! Let's convert 2 and 3 digit number fr...   None   \n",
       "2088  In today's lesson we are going to learn about ...   None   \n",
       "2498  Are you ready to have some fun today?\\nWe goin...   None   \n",
       "\n",
       "                              question answer  \\\n",
       "1415               500 + 50 + 3 = __53      5   \n",
       "2088  8 hundred thousands = _____ tens  80000   \n",
       "2498                     64 - 99 = ___    -35   \n",
       "\n",
       "                                                   hint  has_image  section  \\\n",
       "1415  The hundreds digit is missing.\\nWhich digit sh...      False        1   \n",
       "2088  The hundred thousands place value is four plac...      False        1   \n",
       "2498  Subtract 64 from 99. \\nThe answer has the sign...      False        1   \n",
       "\n",
       "      question_index  is_explanation  needs_context context_string  \\\n",
       "1415               5           False          False                  \n",
       "2088               6           False          False                  \n",
       "2498               6           False          False                  \n",
       "\n",
       "      n_question_tokens  \n",
       "1415                7.0  \n",
       "2088                6.0  \n",
       "2498                5.0  "
      ]
     },
     "execution_count": 6,
     "metadata": {},
     "output_type": "execute_result"
    }
   ],
   "source": [
    "lesson_df.sample(n=3)"
   ]
  },
  {
   "cell_type": "code",
   "execution_count": 7,
   "id": "dbcd7f36-51d7-4712-9a18-75fd2622d42d",
   "metadata": {},
   "outputs": [
    {
     "data": {
      "text/html": [
       "<div>\n",
       "<style scoped>\n",
       "    .dataframe tbody tr th:only-of-type {\n",
       "        vertical-align: middle;\n",
       "    }\n",
       "\n",
       "    .dataframe tbody tr th {\n",
       "        vertical-align: top;\n",
       "    }\n",
       "\n",
       "    .dataframe thead th {\n",
       "        text-align: right;\n",
       "    }\n",
       "</style>\n",
       "<table border=\"1\" class=\"dataframe\">\n",
       "  <thead>\n",
       "    <tr style=\"text-align: right;\">\n",
       "      <th></th>\n",
       "      <th>question_index</th>\n",
       "      <th>is_explanation</th>\n",
       "      <th>section</th>\n",
       "      <th>lesson</th>\n",
       "      <th>question</th>\n",
       "      <th>answer</th>\n",
       "      <th>hint</th>\n",
       "    </tr>\n",
       "  </thead>\n",
       "  <tbody>\n",
       "    <tr>\n",
       "      <th>1341</th>\n",
       "      <td>8</td>\n",
       "      <td>False</td>\n",
       "      <td>1</td>\n",
       "      <td>None</td>\n",
       "      <td>44, 34, 24, ___</td>\n",
       "      <td>14</td>\n",
       "      <td>Subtract 10 from 24.</td>\n",
       "    </tr>\n",
       "    <tr>\n",
       "      <th>711</th>\n",
       "      <td>0</td>\n",
       "      <td>True</td>\n",
       "      <td>1</td>\n",
       "      <td>Write *Yes* to proceed.</td>\n",
       "      <td>None</td>\n",
       "      <td>None</td>\n",
       "      <td>None</td>\n",
       "    </tr>\n",
       "    <tr>\n",
       "      <th>1845</th>\n",
       "      <td>11</td>\n",
       "      <td>False</td>\n",
       "      <td>2</td>\n",
       "      <td>None</td>\n",
       "      <td>Sixty thousand four hundred and one using digi...</td>\n",
       "      <td>T</td>\n",
       "      <td>The number has a 0 in thousands place and a 0 ...</td>\n",
       "    </tr>\n",
       "  </tbody>\n",
       "</table>\n",
       "</div>"
      ],
      "text/plain": [
       "      question_index  is_explanation  section                   lesson  \\\n",
       "1341               8           False        1                     None   \n",
       "711                0            True        1  Write *Yes* to proceed.   \n",
       "1845              11           False        2                     None   \n",
       "\n",
       "                                               question answer  \\\n",
       "1341                                    44, 34, 24, ___     14   \n",
       "711                                                None   None   \n",
       "1845  Sixty thousand four hundred and one using digi...      T   \n",
       "\n",
       "                                                   hint  \n",
       "1341                               Subtract 10 from 24.  \n",
       "711                                                None  \n",
       "1845  The number has a 0 in thousands place and a 0 ...  "
      ]
     },
     "execution_count": 7,
     "metadata": {},
     "output_type": "execute_result"
    }
   ],
   "source": [
    "lesson_df[[\"question_index\", \"is_explanation\", \"section\", \"lesson\", \"question\", \"answer\", \"hint\"]].sample(n=3)"
   ]
  },
  {
   "cell_type": "code",
   "execution_count": 8,
   "id": "136288db-565e-4830-871d-6a5dbf26bcbc",
   "metadata": {},
   "outputs": [
    {
     "data": {
      "text/plain": [
       "225"
      ]
     },
     "execution_count": 8,
     "metadata": {},
     "output_type": "execute_result"
    }
   ],
   "source": [
    "lesson_codes_with_images = set()\n",
    "for lesson_code, lesson in lesson_df.groupby(\"lesson_code\"):\n",
    "    has_image_explanation = ((lesson.is_explanation) & (lesson.has_image)).any()\n",
    "    has_image_question = ((~lesson.is_explanation) & (lesson.has_image)).any()\n",
    "    has_image = has_image_explanation or has_image_question\n",
    "    lesson_codes_with_images.add(lesson_code)\n",
    "len(lesson_codes_with_images)"
   ]
  },
  {
   "cell_type": "code",
   "execution_count": 10,
   "id": "2fc99667-c8c3-46ae-a78c-28cf9a6246cc",
   "metadata": {},
   "outputs": [
    {
     "data": {
      "text/plain": [
       "('904 / 2570', '80 / 225')"
      ]
     },
     "execution_count": 10,
     "metadata": {},
     "output_type": "execute_result"
    }
   ],
   "source": [
    "sdf = lesson_df[(lesson_df.lesson_code.isin(lesson_codes_with_images)) & (lesson_df.grade.isin([6, 7, 8]))]\n",
    "f\"{len(sdf)} / {len(lesson_df)}\", f\"{sdf.lesson_code.nunique()} / {lesson_df.lesson_code.nunique()}\""
   ]
  },
  {
   "cell_type": "code",
   "execution_count": 22,
   "id": "ff528f8d-39ea-47a1-b139-2d637566cfbc",
   "metadata": {},
   "outputs": [
    {
     "data": {
      "text/plain": [
       "('33 / 2570', '3 / 225')"
      ]
     },
     "execution_count": 22,
     "metadata": {},
     "output_type": "execute_result"
    }
   ],
   "source": [
    "lesson_codes = set(sdf.lesson_code)\n",
    "n_lessons = 3\n",
    "subset_lesson_codes = set(np.random.choice(np.array(list(lesson_codes)), size=n_lessons, replace=False))\n",
    "sdf = sdf[sdf.lesson_code.isin(subset_lesson_codes)]\n",
    "f\"{len(sdf)} / {len(lesson_df)}\", f\"{sdf.lesson_code.nunique()} / {lesson_df.lesson_code.nunique()}\""
   ]
  },
  {
   "cell_type": "code",
   "execution_count": 53,
   "id": "089b660a-8111-40a4-b1e7-50ad1165ab7e",
   "metadata": {},
   "outputs": [
    {
     "name": "stdout",
     "output_type": "stream",
     "text": [
      "[{'content': 'You are going to act as a maths teacher for a 13 year old '\n",
      "             'student who is in grade 6.\\n'\n",
      "             'Your role is to introduce the student to a new topic using the '\n",
      "             'following lesson plan delimited by triple quotes: \"\"\"In today\\'s '\n",
      "             'lesson we are going to learn and practice long division of 3 '\n",
      "             'digit and 4 digit numbers by 2 digit numbers\\n'\n",
      "             '\\n'\n",
      "             '\\n'\n",
      "             'The long division method helps to divide bigger numbers.\\n'\n",
      "             '\\n'\n",
      "             'I hope I was able to help you understand.\\n'\n",
      "             'Would you like to try some questions?\\n'\n",
      "             '\\n'\n",
      "             'Fill in the blanks.\\n'\n",
      "             '\\n'\n",
      "             'Type Yes to proceed.\"\"\"\\n'\n",
      "             'You will teach the lesson, presenting it in sections and waiting '\n",
      "             'for the student to indicate they understand before proceeding. '\n",
      "             'If the student has questions, provide short, encouraging, and '\n",
      "             'educational clarifications.\\n'\n",
      "             'Your responses should be at the level of difficulty of a 12 year '\n",
      "             'old.',\n",
      "  'role': 'system'},\n",
      " {'content': \"In today's lesson we are going to learn and practice long \"\n",
      "             'division of 3 digit and 4 digit numbers by 2 digit numbers',\n",
      "  'role': 'assistant'},\n",
      " {'content': 'Yes, I understand.', 'role': 'user'},\n",
      " {'content': 'The long division method helps to divide bigger numbers.\\n'\n",
      "             '\\n'\n",
      "             'I hope I was able to help you understand.\\n'\n",
      "             'Would you like to try some questions?\\n'\n",
      "             '\\n'\n",
      "             'Fill in the blanks.\\n'\n",
      "             '\\n'\n",
      "             'Type Yes to proceed.',\n",
      "  'role': 'assistant'},\n",
      " {'content': 'Yes, I understand.', 'role': 'user'},\n",
      " {'content': '900 ÷ 10 = ______\\n', 'role': 'assistant'},\n",
      " {'content': \"I don't understand why the answer is 90. Can you give me a hint?\",\n",
      "  'role': 'user'}]\n",
      "\n",
      "[{'content': 'You are going to act as a maths teacher for a 13 year old '\n",
      "             'student who is in grade 6.\\n'\n",
      "             'Your role is to introduce the student to a new topic using the '\n",
      "             'following lesson plan delimited by triple quotes: \"\"\"Can you '\n",
      "             'find the reciprocal of a fraction? Turn them on their heads!\\n'\n",
      "             '\\n'\n",
      "             '\\n'\n",
      "             'The reciprocal of a fraction is the same as the inverse of a '\n",
      "             'fraction. \\n'\n",
      "             'We just switch the places of the numerator and denominator\\n'\n",
      "             '\\n'\n",
      "             'Ques: Find the reciprocal: 3/4\\n'\n",
      "             'Ans: 4/3\\n'\n",
      "             '\\n'\n",
      "             'Would you like to try some questions yourself? 😄 \\n'\n",
      "             '\\n'\n",
      "             'Find the reciprocal.\\n'\n",
      "             '\\n'\n",
      "             'Write Yes to proceed.\"\"\"\\n'\n",
      "             'You will teach the lesson, presenting it in sections and waiting '\n",
      "             'for the student to indicate they understand before proceeding. '\n",
      "             'If the student has questions, provide short, encouraging, and '\n",
      "             'educational clarifications.\\n'\n",
      "             'Your responses should be at the level of difficulty of a 12 year '\n",
      "             'old.',\n",
      "  'role': 'system'},\n",
      " {'content': 'Can you find the reciprocal of a fraction? Turn them on their '\n",
      "             'heads!',\n",
      "  'role': 'assistant'},\n",
      " {'content': 'Yes, I understand.', 'role': 'user'},\n",
      " {'content': 'The reciprocal of a fraction is the same as the inverse of a '\n",
      "             'fraction. \\n'\n",
      "             'We just switch the places of the numerator and denominator\\n'\n",
      "             '\\n'\n",
      "             'Ques: Find the reciprocal: 3/4\\n'\n",
      "             'Ans: 4/3\\n'\n",
      "             '\\n'\n",
      "             'Would you like to try some questions yourself? 😄 \\n'\n",
      "             '\\n'\n",
      "             'Find the reciprocal.\\n'\n",
      "             '\\n'\n",
      "             'Write Yes to proceed.',\n",
      "  'role': 'assistant'},\n",
      " {'content': 'Yes, I understand.', 'role': 'user'},\n",
      " {'content': '4/5 = ____\\n', 'role': 'assistant'},\n",
      " {'content': \"I don't understand why the answer is 5/4. Can you give me a \"\n",
      "             'hint?',\n",
      "  'role': 'user'}]\n",
      "\n",
      "[{'content': 'You are going to act as a maths teacher for a 13 year old '\n",
      "             'student who is in grade 6.\\n'\n",
      "             'Your role is to introduce the student to a new topic using the '\n",
      "             'following lesson plan delimited by triple quotes: \"\"\"Today, we '\n",
      "             'are going to learn how to divide a decimal number with a '\n",
      "             'one-digit whole number.\\n'\n",
      "             '\\n'\n",
      "             '\\n'\n",
      "             'Division is the opposite of multiplication.\\n'\n",
      "             'The division of decimal number is similar to that of whole '\n",
      "             'numbers.\\n'\n",
      "             'Always remember to place the decimal point in the quotient when '\n",
      "             'bringing the decimal digit down.\\n'\n",
      "             '\\n'\n",
      "             'Would you like to try more questions?\\n'\n",
      "             '\\n'\n",
      "             'Type Yes to proceed\"\"\"\\n'\n",
      "             'You will teach the lesson, presenting it in sections and waiting '\n",
      "             'for the student to indicate they understand before proceeding. '\n",
      "             'If the student has questions, provide short, encouraging, and '\n",
      "             'educational clarifications.\\n'\n",
      "             'Your responses should be at the level of difficulty of a 12 year '\n",
      "             'old.',\n",
      "  'role': 'system'},\n",
      " {'content': 'Today, we are going to learn how to divide a decimal number with '\n",
      "             'a one-digit whole number.',\n",
      "  'role': 'assistant'},\n",
      " {'content': 'Yes, I understand.', 'role': 'user'},\n",
      " {'content': 'Division is the opposite of multiplication.\\n'\n",
      "             'The division of decimal number is similar to that of whole '\n",
      "             'numbers.\\n'\n",
      "             'Always remember to place the decimal point in the quotient when '\n",
      "             'bringing the decimal digit down.\\n'\n",
      "             '\\n'\n",
      "             'Would you like to try more questions?\\n'\n",
      "             '\\n'\n",
      "             'Type Yes to proceed',\n",
      "  'role': 'assistant'},\n",
      " {'content': 'Yes, I understand.', 'role': 'user'},\n",
      " {'content': '4.5 ÷ 9 = ____\\n', 'role': 'assistant'},\n",
      " {'content': \"I don't understand why the answer is 0.5. Can you give me a \"\n",
      "             'hint?',\n",
      "  'role': 'user'}]\n",
      "\n"
     ]
    },
    {
     "data": {
      "text/plain": [
       "3"
      ]
     },
     "execution_count": 53,
     "metadata": {},
     "output_type": "execute_result"
    }
   ],
   "source": [
    "message_lists = []\n",
    "\n",
    "for lesson_code, lesson in sdf.groupby(\"lesson_code\"):\n",
    "    lesson_plan = lesson.iloc[0].short_description.strip() + \"\\n\\n\\n\" + lesson.iloc[0].lesson.strip()\n",
    "    index = 1\n",
    "    row = lesson.iloc[index]\n",
    "    while row.is_explanation:\n",
    "        lesson_plan += \"\\n\\n\\n\" + row.lesson.strip()\n",
    "        index += 1\n",
    "        row = lesson.iloc[index]\n",
    "    messages = [\n",
    "        {\n",
    "            \"role\": \"system\",\n",
    "            \"content\": \"You are going to act as a maths teacher for a 13 year old student who is in grade 6.\\n\"\n",
    "            \"Your role is to introduce the student to a new topic using the following lesson plan delimited \"\n",
    "            'by triple quotes: \"\"\"{lesson_plan}\"\"\"\\n'\n",
    "            \"You will teach the lesson, presenting it in sections and waiting for the student \"\n",
    "            \"to indicate they understand before proceeding. If the student has questions, provide \"\n",
    "            \"short, encouraging, and educational clarifications.\\nYour responses should be at the \"\n",
    "            \"level of difficulty of a 12 year old.\".format(lesson_plan=lesson_plan),\n",
    "        }\n",
    "    ]\n",
    "    for lesson_component in lesson_plan.split(\"\\n\\n\\n\"):\n",
    "        messages.extend(\n",
    "            [\n",
    "                {\n",
    "                    \"role\": \"assistant\",\n",
    "                    \"content\": lesson_component,\n",
    "                },\n",
    "                {\n",
    "                    \"role\": \"user\",\n",
    "                    \"content\": \"Yes, I understand.\",\n",
    "                },\n",
    "            ]\n",
    "        )\n",
    "    question_text = row.question + \"\\n\"\n",
    "    messages.extend(\n",
    "        [\n",
    "            {\n",
    "                \"role\": \"assistant\",\n",
    "                \"content\": question_text,\n",
    "            },\n",
    "            {\n",
    "                \"role\": \"user\",\n",
    "                \"content\": f\"I don't understand why the answer is {row.answer}. Can you give me a hint?\",\n",
    "            },\n",
    "        ]\n",
    "    )\n",
    "    message_lists.append(messages)\n",
    "\n",
    "    pprint(messages)\n",
    "    print()\n",
    "len(message_lists)"
   ]
  },
  {
   "cell_type": "code",
   "execution_count": 35,
   "id": "2c1ea6ec-4d17-42d1-8f24-befa6b303352",
   "metadata": {},
   "outputs": [
    {
     "data": {
      "text/plain": [
       "<Encoding 'cl100k_base'>"
      ]
     },
     "execution_count": 35,
     "metadata": {},
     "output_type": "execute_result"
    }
   ],
   "source": [
    "tokeniser = tiktoken.encoding_for_model(\"gpt-3.5-turbo-0613\")\n",
    "tokeniser"
   ]
  },
  {
   "cell_type": "code",
   "execution_count": 55,
   "id": "f6997357-82d4-49fe-b898-a03980f46e54",
   "metadata": {},
   "outputs": [
    {
     "name": "stdout",
     "output_type": "stream",
     "text": [
      "266\n",
      "299\n",
      "278\n"
     ]
    },
    {
     "data": {
      "text/plain": [
       "3"
      ]
     },
     "execution_count": 55,
     "metadata": {},
     "output_type": "execute_result"
    }
   ],
   "source": [
    "completions = []\n",
    "for messages in message_lists:\n",
    "    token_count_total = 0\n",
    "    for message in messages:\n",
    "        content = message[\"content\"]\n",
    "        token_count = len(tokeniser.encode(content))\n",
    "        token_count_total += token_count\n",
    "    print(token_count_total)\n",
    "    if token_count_total > 2000:  # max of 4K (or 16K with the extended-context model)\n",
    "        continue\n",
    "    completion = openai.ChatCompletion.create(model=\"gpt-3.5-turbo-0613\", messages=messages)\n",
    "    completions.append(completion)\n",
    "len(completions)"
   ]
  },
  {
   "cell_type": "code",
   "execution_count": 61,
   "id": "b198c445-eb50-4b1d-ba68-6ff369665cfe",
   "metadata": {},
   "outputs": [
    {
     "name": "stdout",
     "output_type": "stream",
     "text": [
      "Of course! In the long division method, we start by dividing the first digit of the dividend (in this case, the first digit of 900) by the divisor. In this case, the first digit is 9. When 9 is divided by 10, what do you get?\n",
      "\n",
      "Of course! To find the reciprocal of a fraction, you simply switch the numerator and denominator. \n",
      "So for the fraction 4/5, the reciprocal would be 5/4. \n",
      "\n",
      "Think of it as \"flipping\" the fraction over. The numerator becomes the denominator, and the denominator becomes the numerator. \n",
      "\n",
      "Give it a try and let me know if you have any more questions!\n",
      "\n",
      "Of course! When dividing 4.5 by 9, think about how many times 9 can go into 4.5. Start by dividing the whole numbers and then consider the decimal part. In this case, 9 can go into 4.5 exactly 0 whole times. Now, when we bring down the decimal point in the quotient, what do you think the answer would be?\n",
      "\n"
     ]
    }
   ],
   "source": [
    "for completion in completions:\n",
    "    print(completion[\"choices\"][0][\"message\"][\"content\"])\n",
    "    print()"
   ]
  },
  {
   "cell_type": "code",
   "execution_count": null,
   "id": "f8e34747-67f8-46e1-9715-600405615936",
   "metadata": {},
   "outputs": [],
   "source": []
  },
  {
   "cell_type": "code",
   "execution_count": null,
   "id": "ffbf0a48-ccab-4a13-a4ea-5012a2e5e46d",
   "metadata": {},
   "outputs": [],
   "source": []
  },
  {
   "cell_type": "code",
   "execution_count": null,
   "id": "64bec548-8ccc-46f5-8dd5-496cda096c35",
   "metadata": {},
   "outputs": [],
   "source": []
  }
 ],
 "metadata": {
  "kernelspec": {
   "display_name": "Python 3 (ipykernel)",
   "language": "python",
   "name": "python3"
  },
  "language_info": {
   "codemirror_mode": {
    "name": "ipython",
    "version": 3
   },
   "file_extension": ".py",
   "mimetype": "text/x-python",
   "name": "python",
   "nbconvert_exporter": "python",
   "pygments_lexer": "ipython3",
   "version": "3.10.11"
  }
 },
 "nbformat": 4,
 "nbformat_minor": 5
}
