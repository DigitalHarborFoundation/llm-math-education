{
 "cells": [
  {
   "cell_type": "markdown",
   "id": "01ed92ab-bd20-4e43-9436-447301edab14",
   "metadata": {},
   "source": [
    "Make Embeddings\n",
    "===\n",
    "\n",
    "Make embeddings from sources:\n",
    " - Rori micro-lessons\n",
    " - OpenStax textbook\n",
    " - RecipeNLG\n",
    "\n",
    "RecipeNLG data: https://paperswithcode.com/paper/recipenlg-a-cooking-recipes-dataset-for-semi\n",
    "\n",
    "(Note: RecipeNLG is licensed for non-commercial use only.)"
   ]
  },
  {
   "cell_type": "code",
   "execution_count": 26,
   "id": "75bad6ad-c299-4542-bae9-e1f528b2fcf6",
   "metadata": {},
   "outputs": [],
   "source": [
    "import json\n",
    "import os\n",
    "import time\n",
    "from pathlib import Path\n",
    "\n",
    "import dotenv\n",
    "import matplotlib\n",
    "import matplotlib.pyplot as plt\n",
    "import numpy as np\n",
    "import openai\n",
    "import pandas as pd\n",
    "import pyserini\n",
    "import scipy\n",
    "import sklearn.metrics\n",
    "import tiktoken\n",
    "from tqdm import tqdm\n",
    "\n",
    "from llm_math_education import retrieval"
   ]
  },
  {
   "cell_type": "code",
   "execution_count": 27,
   "id": "e7e6f1c5-1318-45e5-a7d5-9cf52ca4dde6",
   "metadata": {},
   "outputs": [
    {
     "data": {
      "text/plain": [
       "True"
      ]
     },
     "execution_count": 27,
     "metadata": {},
     "output_type": "execute_result"
    }
   ],
   "source": [
    "dotenv.load_dotenv(\"../.env\")"
   ]
  },
  {
   "cell_type": "code",
   "execution_count": 28,
   "id": "8c032d5d-70ac-4964-9fd5-15f5dfc79c34",
   "metadata": {},
   "outputs": [
    {
     "data": {
      "text/plain": [
       "'sk-'"
      ]
     },
     "execution_count": 28,
     "metadata": {},
     "output_type": "execute_result"
    }
   ],
   "source": [
    "os.environ[\"OPENAI_API_KEY\"][:3]"
   ]
  },
  {
   "cell_type": "code",
   "execution_count": 29,
   "id": "257d08da-b5c9-4c60-a1fb-3ca40657bbce",
   "metadata": {},
   "outputs": [],
   "source": [
    "openai.api_key = os.environ[\"OPENAI_API_KEY\"]"
   ]
  },
  {
   "cell_type": "code",
   "execution_count": 30,
   "id": "16509047-5873-4bd9-937c-ef33cc1e028b",
   "metadata": {},
   "outputs": [
    {
     "data": {
      "text/plain": [
       "(67, 18)"
      ]
     },
     "execution_count": 30,
     "metadata": {},
     "output_type": "execute_result"
    }
   ],
   "source": [
    "data_dir = Path(\"../data\")\n",
    "assert data_dir.exists()\n",
    "with open(data_dir / \"derived\" / \"rori_lessons.json\") as infile:\n",
    "    df = pd.read_json(infile)\n",
    "df.shape"
   ]
  },
  {
   "cell_type": "code",
   "execution_count": 31,
   "id": "39560ff4-1af1-4745-bcd5-338641e792c8",
   "metadata": {},
   "outputs": [],
   "source": [
    "embedding_dir = data_dir / \"app_data\"\n",
    "embedding_dir.mkdir(exist_ok=True)"
   ]
  },
  {
   "cell_type": "code",
   "execution_count": 8,
   "id": "23f7ead9-ad05-444e-86f0-d621708d9e1c",
   "metadata": {},
   "outputs": [],
   "source": [
    "ds = []\n",
    "ada_tokeniser = tiktoken.encoding_for_model(\"text-embedding-ada-002\")\n",
    "for row in df.itertuples():\n",
    "    lesson_code = row.lesson_code\n",
    "    db_string = row.short_description + \"\\n\\n\" + \"\\n\\n\".join(row.lesson_parts)\n",
    "    db_string_token_count = len(ada_tokeniser.encode(db_string))\n",
    "    ds.append(\n",
    "        {\n",
    "            \"lesson_code\": lesson_code,\n",
    "            \"grade\": row.grade,\n",
    "            \"db_string\": db_string,\n",
    "            \"db_string_token_count\": db_string_token_count,\n",
    "        }\n",
    "    )\n",
    "embed_df = pd.DataFrame(ds)"
   ]
  },
  {
   "cell_type": "code",
   "execution_count": 9,
   "id": "f45e06e8-2f6d-4202-9f77-eea00991fd39",
   "metadata": {},
   "outputs": [
    {
     "data": {
      "text/html": [
       "<div>\n",
       "<style scoped>\n",
       "    .dataframe tbody tr th:only-of-type {\n",
       "        vertical-align: middle;\n",
       "    }\n",
       "\n",
       "    .dataframe tbody tr th {\n",
       "        vertical-align: top;\n",
       "    }\n",
       "\n",
       "    .dataframe thead th {\n",
       "        text-align: right;\n",
       "    }\n",
       "</style>\n",
       "<table border=\"1\" class=\"dataframe\">\n",
       "  <thead>\n",
       "    <tr style=\"text-align: right;\">\n",
       "      <th></th>\n",
       "      <th>lesson_code</th>\n",
       "      <th>grade</th>\n",
       "      <th>db_string</th>\n",
       "      <th>db_string_token_count</th>\n",
       "    </tr>\n",
       "  </thead>\n",
       "  <tbody>\n",
       "    <tr>\n",
       "      <th>28</th>\n",
       "      <td>G6.N1.3.3.5</td>\n",
       "      <td>6</td>\n",
       "      <td>In today's lesson we are going to solve word p...</td>\n",
       "      <td>47</td>\n",
       "    </tr>\n",
       "    <tr>\n",
       "      <th>49</th>\n",
       "      <td>G6.N3.1.1.4</td>\n",
       "      <td>6</td>\n",
       "      <td>Even decimal numbers have place values . Let u...</td>\n",
       "      <td>54</td>\n",
       "    </tr>\n",
       "    <tr>\n",
       "      <th>27</th>\n",
       "      <td>G6.N1.3.3.4</td>\n",
       "      <td>6</td>\n",
       "      <td>Let us multiply a 3 and 4 digit number with re...</td>\n",
       "      <td>55</td>\n",
       "    </tr>\n",
       "    <tr>\n",
       "      <th>26</th>\n",
       "      <td>G6.N1.3.3.3</td>\n",
       "      <td>6</td>\n",
       "      <td>In today's lesson let us learn to multiply a 3...</td>\n",
       "      <td>65</td>\n",
       "    </tr>\n",
       "    <tr>\n",
       "      <th>31</th>\n",
       "      <td>G6.N1.3.3.13</td>\n",
       "      <td>6</td>\n",
       "      <td>In today's lesson we are going to try out word...</td>\n",
       "      <td>65</td>\n",
       "    </tr>\n",
       "    <tr>\n",
       "      <th>29</th>\n",
       "      <td>G6.N1.3.3.8</td>\n",
       "      <td>6</td>\n",
       "      <td>In today's lesson we are going to learn and pr...</td>\n",
       "      <td>66</td>\n",
       "    </tr>\n",
       "    <tr>\n",
       "      <th>57</th>\n",
       "      <td>G7.N3.3.2.2</td>\n",
       "      <td>7</td>\n",
       "      <td>Today, we are going to learn how to divide a d...</td>\n",
       "      <td>70</td>\n",
       "    </tr>\n",
       "    <tr>\n",
       "      <th>30</th>\n",
       "      <td>G6.N1.3.3.9</td>\n",
       "      <td>6</td>\n",
       "      <td>In today's lesson we are going to practice per...</td>\n",
       "      <td>71</td>\n",
       "    </tr>\n",
       "    <tr>\n",
       "      <th>46</th>\n",
       "      <td>G6.N2.2.3.10</td>\n",
       "      <td>6</td>\n",
       "      <td>Can you find the reciprocal of a fraction? Tur...</td>\n",
       "      <td>82</td>\n",
       "    </tr>\n",
       "    <tr>\n",
       "      <th>15</th>\n",
       "      <td>G6.N1.1.1.1</td>\n",
       "      <td>6</td>\n",
       "      <td>Today we will read and write numbers upto 1,00...</td>\n",
       "      <td>83</td>\n",
       "    </tr>\n",
       "  </tbody>\n",
       "</table>\n",
       "</div>"
      ],
      "text/plain": [
       "     lesson_code  grade                                          db_string  \\\n",
       "28   G6.N1.3.3.5      6  In today's lesson we are going to solve word p...   \n",
       "49   G6.N3.1.1.4      6  Even decimal numbers have place values . Let u...   \n",
       "27   G6.N1.3.3.4      6  Let us multiply a 3 and 4 digit number with re...   \n",
       "26   G6.N1.3.3.3      6  In today's lesson let us learn to multiply a 3...   \n",
       "31  G6.N1.3.3.13      6  In today's lesson we are going to try out word...   \n",
       "29   G6.N1.3.3.8      6  In today's lesson we are going to learn and pr...   \n",
       "57   G7.N3.3.2.2      7  Today, we are going to learn how to divide a d...   \n",
       "30   G6.N1.3.3.9      6  In today's lesson we are going to practice per...   \n",
       "46  G6.N2.2.3.10      6  Can you find the reciprocal of a fraction? Tur...   \n",
       "15   G6.N1.1.1.1      6  Today we will read and write numbers upto 1,00...   \n",
       "\n",
       "    db_string_token_count  \n",
       "28                     47  \n",
       "49                     54  \n",
       "27                     55  \n",
       "26                     65  \n",
       "31                     65  \n",
       "29                     66  \n",
       "57                     70  \n",
       "30                     71  \n",
       "46                     82  \n",
       "15                     83  "
      ]
     },
     "execution_count": 9,
     "metadata": {},
     "output_type": "execute_result"
    }
   ],
   "source": [
    "embed_df.sort_values(by=\"db_string_token_count\").head(10)"
   ]
  },
  {
   "cell_type": "code",
   "execution_count": 10,
   "id": "109d33a8-b804-49b4-beb2-53d2d5d1262a",
   "metadata": {},
   "outputs": [
    {
     "data": {
      "text/plain": [
       "<llm_math_education.retrieval.RetrievalDb at 0x29814bd30>"
      ]
     },
     "execution_count": 10,
     "metadata": {},
     "output_type": "execute_result"
    }
   ],
   "source": [
    "db = retrieval.RetrievalDb(embedding_dir, \"rori_microlesson\", \"db_string\", embed_df)\n",
    "db"
   ]
  },
  {
   "cell_type": "code",
   "execution_count": 11,
   "id": "a66ccc4d-f375-4663-94d4-0981b64eaf61",
   "metadata": {},
   "outputs": [],
   "source": [
    "db.create_embeddings()"
   ]
  },
  {
   "cell_type": "code",
   "execution_count": 12,
   "id": "8c658b3e-7a14-43b3-9a30-265f338dab9c",
   "metadata": {},
   "outputs": [],
   "source": [
    "db.save_df()"
   ]
  },
  {
   "cell_type": "code",
   "execution_count": null,
   "id": "7586d820-2ed8-47dc-a53f-d0f2255ddfa2",
   "metadata": {},
   "outputs": [],
   "source": []
  },
  {
   "cell_type": "markdown",
   "id": "e6f8a13c-6b59-4bb3-b3b3-f104a6b1e13f",
   "metadata": {},
   "source": [
    "### Create OpenStax embeddings"
   ]
  },
  {
   "cell_type": "code",
   "execution_count": 13,
   "id": "2b8248cd-2d5e-4d95-925c-5baea14f131c",
   "metadata": {},
   "outputs": [
    {
     "data": {
      "text/plain": [
       "(247, 6)"
      ]
     },
     "execution_count": 13,
     "metadata": {},
     "output_type": "execute_result"
    }
   ],
   "source": [
    "derived_openstax_dir = data_dir / \"derived\" / \"openstax\"\n",
    "openstax_subsection_df = pd.read_parquet(derived_openstax_dir / \"openstax_prealgebra_subsection_df.parquet\")\n",
    "openstax_subsection_df.shape"
   ]
  },
  {
   "cell_type": "code",
   "execution_count": 14,
   "id": "c73101d2-c342-49cc-8961-cbdc9413e7ae",
   "metadata": {},
   "outputs": [],
   "source": [
    "openstax_subsection_df[\"db_string\"] = [\n",
    "    title + \":\\n\" + content for title, content in zip(openstax_subsection_df.title, openstax_subsection_df.content)\n",
    "]"
   ]
  },
  {
   "cell_type": "code",
   "execution_count": 15,
   "id": "06be794f-b135-4745-9ae5-c534bddcb475",
   "metadata": {},
   "outputs": [
    {
     "data": {
      "text/html": [
       "<div>\n",
       "<style scoped>\n",
       "    .dataframe tbody tr th:only-of-type {\n",
       "        vertical-align: middle;\n",
       "    }\n",
       "\n",
       "    .dataframe tbody tr th {\n",
       "        vertical-align: top;\n",
       "    }\n",
       "\n",
       "    .dataframe thead th {\n",
       "        text-align: right;\n",
       "    }\n",
       "</style>\n",
       "<table border=\"1\" class=\"dataframe\">\n",
       "  <thead>\n",
       "    <tr style=\"text-align: right;\">\n",
       "      <th></th>\n",
       "      <th>title</th>\n",
       "      <th>content</th>\n",
       "      <th>index</th>\n",
       "      <th>n_tokens</th>\n",
       "      <th>chapter</th>\n",
       "      <th>section</th>\n",
       "      <th>db_string</th>\n",
       "    </tr>\n",
       "  </thead>\n",
       "  <tbody>\n",
       "    <tr>\n",
       "      <th>100</th>\n",
       "      <td>Add and Subtract Mixed Numbers with Different ...</td>\n",
       "      <td>To add or subtract mixed numbers with differen...</td>\n",
       "      <td>4</td>\n",
       "      <td>54</td>\n",
       "      <td>4</td>\n",
       "      <td>6</td>\n",
       "      <td>Add and Subtract Mixed Numbers with Different ...</td>\n",
       "    </tr>\n",
       "    <tr>\n",
       "      <th>141</th>\n",
       "      <td>Find Percent Increase and Percent Decrease</td>\n",
       "      <td>People in the media often talk about how much ...</td>\n",
       "      <td>2</td>\n",
       "      <td>128</td>\n",
       "      <td>6</td>\n",
       "      <td>2</td>\n",
       "      <td>Find Percent Increase and Percent Decrease:\\nP...</td>\n",
       "    </tr>\n",
       "    <tr>\n",
       "      <th>19</th>\n",
       "      <td>Translate Word Phrases to Math Notation</td>\n",
       "      <td>Earlier in this section, we translated math no...</td>\n",
       "      <td>3</td>\n",
       "      <td>50</td>\n",
       "      <td>1</td>\n",
       "      <td>4</td>\n",
       "      <td>Translate Word Phrases to Math Notation:\\nEarl...</td>\n",
       "    </tr>\n",
       "  </tbody>\n",
       "</table>\n",
       "</div>"
      ],
      "text/plain": [
       "                                                 title  \\\n",
       "100  Add and Subtract Mixed Numbers with Different ...   \n",
       "141         Find Percent Increase and Percent Decrease   \n",
       "19             Translate Word Phrases to Math Notation   \n",
       "\n",
       "                                               content  index  n_tokens  \\\n",
       "100  To add or subtract mixed numbers with differen...      4        54   \n",
       "141  People in the media often talk about how much ...      2       128   \n",
       "19   Earlier in this section, we translated math no...      3        50   \n",
       "\n",
       "     chapter  section                                          db_string  \n",
       "100        4        6  Add and Subtract Mixed Numbers with Different ...  \n",
       "141        6        2  Find Percent Increase and Percent Decrease:\\nP...  \n",
       "19         1        4  Translate Word Phrases to Math Notation:\\nEarl...  "
      ]
     },
     "execution_count": 15,
     "metadata": {},
     "output_type": "execute_result"
    }
   ],
   "source": [
    "openstax_subsection_df.sample(n=3)"
   ]
  },
  {
   "cell_type": "code",
   "execution_count": 16,
   "id": "4b792c29-00d9-4751-ba9c-1b72d0215c4d",
   "metadata": {},
   "outputs": [
    {
     "data": {
      "text/plain": [
       "(247, 4)"
      ]
     },
     "execution_count": 16,
     "metadata": {},
     "output_type": "execute_result"
    }
   ],
   "source": [
    "openstax_df = openstax_subsection_df[[\"chapter\", \"section\", \"index\", \"db_string\"]].copy()\n",
    "openstax_df.shape"
   ]
  },
  {
   "cell_type": "code",
   "execution_count": 17,
   "id": "322390b5-1e8b-4418-afee-80af8fc3582a",
   "metadata": {},
   "outputs": [],
   "source": [
    "db = retrieval.RetrievalDb(embedding_dir, \"openstax_subsection\", \"db_string\", openstax_df)"
   ]
  },
  {
   "cell_type": "code",
   "execution_count": 18,
   "id": "79d40edd-a18f-43b6-ad03-e75a12cf34b5",
   "metadata": {},
   "outputs": [],
   "source": [
    "db.create_embeddings()"
   ]
  },
  {
   "cell_type": "code",
   "execution_count": 19,
   "id": "4c041960-cba6-4190-8c43-d7d7431d7b59",
   "metadata": {},
   "outputs": [],
   "source": [
    "db.save_df()"
   ]
  },
  {
   "cell_type": "code",
   "execution_count": null,
   "id": "071fddb3-68f8-4c79-bfb8-8b8fc807ac7d",
   "metadata": {},
   "outputs": [],
   "source": []
  },
  {
   "cell_type": "code",
   "execution_count": 20,
   "id": "500a995f-d4a0-4fb1-aebe-8708ee13fa57",
   "metadata": {},
   "outputs": [
    {
     "name": "stdout",
     "output_type": "stream",
     "text": [
      "2.9M\t../data/app_data/openstax_subsection_embed.npy\n",
      "808K\t../data/app_data/rori_microlesson_embed.npy\n",
      "128K\t../data/app_data/openstax_subsection_df.parquet\n",
      " 32K\t../data/app_data/rori_microlesson_df.parquet\n"
     ]
    }
   ],
   "source": [
    "!du -h {embedding_dir}/* | sort -rh"
   ]
  },
  {
   "cell_type": "code",
   "execution_count": null,
   "id": "45a655ad-8e3a-43f5-9c2c-d116e4a22dcd",
   "metadata": {},
   "outputs": [],
   "source": []
  },
  {
   "cell_type": "markdown",
   "id": "e3294a12-239d-4de8-8631-3030ac2dfc58",
   "metadata": {},
   "source": [
    "### Verify loading"
   ]
  },
  {
   "cell_type": "code",
   "execution_count": 21,
   "id": "6c42645f-7e2f-46d5-87c7-1f49a51c0f53",
   "metadata": {},
   "outputs": [],
   "source": [
    "db = retrieval.RetrievalDb(embedding_dir, \"openstax_subsection\", \"db_string\")"
   ]
  },
  {
   "cell_type": "code",
   "execution_count": 22,
   "id": "5220e096-16fd-4412-8cbc-715da4140329",
   "metadata": {},
   "outputs": [
    {
     "data": {
      "text/plain": [
       "(247,)"
      ]
     },
     "execution_count": 22,
     "metadata": {},
     "output_type": "execute_result"
    }
   ],
   "source": [
    "distances = db.compute_string_distances(\"How to simplify fractions\")\n",
    "distances.shape"
   ]
  },
  {
   "cell_type": "code",
   "execution_count": 23,
   "id": "685b6f0c-7250-4397-94ed-564bce4de865",
   "metadata": {},
   "outputs": [],
   "source": [
    "k = 5\n",
    "sort_inds = np.argsort(distances)\n",
    "ranks = scipy.stats.rankdata(distances, method=\"max\")\n",
    "top_k_indices = sort_inds[:k]\n",
    "top_k_scores = distances[top_k_indices]\n",
    "assert top_k_indices.shape == top_k_scores.shape"
   ]
  },
  {
   "cell_type": "code",
   "execution_count": 24,
   "id": "7ffe270b-0b0c-482a-9efa-b98d769ecdf5",
   "metadata": {},
   "outputs": [
    {
     "data": {
      "text/plain": [
       "array([94, 78, 84, 93, 95])"
      ]
     },
     "execution_count": 24,
     "metadata": {},
     "output_type": "execute_result"
    }
   ],
   "source": [
    "top_k_indices"
   ]
  },
  {
   "cell_type": "code",
   "execution_count": 25,
   "id": "22e9ec2c-90e4-42e7-9140-35c25fb17011",
   "metadata": {},
   "outputs": [
    {
     "data": {
      "text/html": [
       "<div>\n",
       "<style scoped>\n",
       "    .dataframe tbody tr th:only-of-type {\n",
       "        vertical-align: middle;\n",
       "    }\n",
       "\n",
       "    .dataframe tbody tr th {\n",
       "        vertical-align: top;\n",
       "    }\n",
       "\n",
       "    .dataframe thead th {\n",
       "        text-align: right;\n",
       "    }\n",
       "</style>\n",
       "<table border=\"1\" class=\"dataframe\">\n",
       "  <thead>\n",
       "    <tr style=\"text-align: right;\">\n",
       "      <th></th>\n",
       "      <th>chapter</th>\n",
       "      <th>section</th>\n",
       "      <th>index</th>\n",
       "      <th>db_string</th>\n",
       "      <th>n_tokens</th>\n",
       "    </tr>\n",
       "  </thead>\n",
       "  <tbody>\n",
       "    <tr>\n",
       "      <th>94</th>\n",
       "      <td>4</td>\n",
       "      <td>5</td>\n",
       "      <td>4</td>\n",
       "      <td>Use the Order of Operations to Simplify Comple...</td>\n",
       "      <td>99</td>\n",
       "    </tr>\n",
       "    <tr>\n",
       "      <th>78</th>\n",
       "      <td>4</td>\n",
       "      <td>2</td>\n",
       "      <td>0</td>\n",
       "      <td>Simplify Fractions: In working with equivalent...</td>\n",
       "      <td>443</td>\n",
       "    </tr>\n",
       "    <tr>\n",
       "      <th>84</th>\n",
       "      <td>4</td>\n",
       "      <td>3</td>\n",
       "      <td>2</td>\n",
       "      <td>Simplify Complex Fractions: Our work with frac...</td>\n",
       "      <td>87</td>\n",
       "    </tr>\n",
       "    <tr>\n",
       "      <th>93</th>\n",
       "      <td>4</td>\n",
       "      <td>5</td>\n",
       "      <td>3</td>\n",
       "      <td>Identify and Use Fraction Operations: By now i...</td>\n",
       "      <td>56</td>\n",
       "    </tr>\n",
       "    <tr>\n",
       "      <th>95</th>\n",
       "      <td>4</td>\n",
       "      <td>5</td>\n",
       "      <td>5</td>\n",
       "      <td>Evaluate Variable Expressions with Fractions: ...</td>\n",
       "      <td>45</td>\n",
       "    </tr>\n",
       "  </tbody>\n",
       "</table>\n",
       "</div>"
      ],
      "text/plain": [
       "    chapter  section  index  \\\n",
       "94        4        5      4   \n",
       "78        4        2      0   \n",
       "84        4        3      2   \n",
       "93        4        5      3   \n",
       "95        4        5      5   \n",
       "\n",
       "                                            db_string  n_tokens  \n",
       "94  Use the Order of Operations to Simplify Comple...        99  \n",
       "78  Simplify Fractions: In working with equivalent...       443  \n",
       "84  Simplify Complex Fractions: Our work with frac...        87  \n",
       "93  Identify and Use Fraction Operations: By now i...        56  \n",
       "95  Evaluate Variable Expressions with Fractions: ...        45  "
      ]
     },
     "execution_count": 25,
     "metadata": {},
     "output_type": "execute_result"
    }
   ],
   "source": [
    "db.df.iloc[top_k_indices]"
   ]
  },
  {
   "cell_type": "code",
   "execution_count": null,
   "id": "45953814-f4d8-49e3-897b-c89953f9802a",
   "metadata": {},
   "outputs": [],
   "source": []
  },
  {
   "cell_type": "markdown",
   "id": "5935e61a-c8aa-4542-8858-00c322c565f7",
   "metadata": {},
   "source": [
    "### RecipeNLG embeddings\n",
    "\n",
    "Creating a database with 1000 random recipes."
   ]
  },
  {
   "cell_type": "code",
   "execution_count": 32,
   "id": "ab03b6fb-fa92-46fc-8f2a-b6bfda96b7ad",
   "metadata": {},
   "outputs": [],
   "source": [
    "recipe_embedding_dir = data_dir / \"derived\" / \"embeddings\""
   ]
  },
  {
   "cell_type": "code",
   "execution_count": 49,
   "id": "4910d866-8c73-4c4e-8763-a720731c09ee",
   "metadata": {},
   "outputs": [
    {
     "data": {
      "text/plain": [
       "(2231142, 6)"
      ]
     },
     "execution_count": 49,
     "metadata": {},
     "output_type": "execute_result"
    }
   ],
   "source": [
    "recipe_df = pd.read_csv(data_dir / \"raw\" / \"recipenlg\" / \"recipeNLG_full_dataset.csv\", index_col=0)\n",
    "recipe_df.shape"
   ]
  },
  {
   "cell_type": "code",
   "execution_count": 50,
   "id": "babb2ad6-e01c-4107-812d-8a8885a15bed",
   "metadata": {},
   "outputs": [
    {
     "data": {
      "text/html": [
       "<div>\n",
       "<style scoped>\n",
       "    .dataframe tbody tr th:only-of-type {\n",
       "        vertical-align: middle;\n",
       "    }\n",
       "\n",
       "    .dataframe tbody tr th {\n",
       "        vertical-align: top;\n",
       "    }\n",
       "\n",
       "    .dataframe thead th {\n",
       "        text-align: right;\n",
       "    }\n",
       "</style>\n",
       "<table border=\"1\" class=\"dataframe\">\n",
       "  <thead>\n",
       "    <tr style=\"text-align: right;\">\n",
       "      <th></th>\n",
       "      <th>title</th>\n",
       "      <th>ingredients</th>\n",
       "      <th>directions</th>\n",
       "      <th>link</th>\n",
       "      <th>source</th>\n",
       "      <th>NER</th>\n",
       "    </tr>\n",
       "  </thead>\n",
       "  <tbody>\n",
       "    <tr>\n",
       "      <th>1040602</th>\n",
       "      <td>California French Bread (Better Than Garlic Br...</td>\n",
       "      <td>[\"1 loaf French bread, 1 1/2 inch slices\", \"1 ...</td>\n",
       "      <td>[\"Preheat oven to 400.\", \"Mix mayo, parm , and...</td>\n",
       "      <td>www.food.com/recipe/california-french-bread-be...</td>\n",
       "      <td>Gathered</td>\n",
       "      <td>[\"bread\", \"parmesan cheese\", \"mayonnaise\", \"gr...</td>\n",
       "    </tr>\n",
       "    <tr>\n",
       "      <th>242998</th>\n",
       "      <td>Prune Cake</td>\n",
       "      <td>[\"3 eggs\", \"1 1/2 c. sugar\", \"1 c. cooking oil...</td>\n",
       "      <td>[\"Beat eggs; add sugar and oil.\", \"Mix dry ing...</td>\n",
       "      <td>www.cookbooks.com/Recipe-Details.aspx?id=163450</td>\n",
       "      <td>Gathered</td>\n",
       "      <td>[\"eggs\", \"sugar\", \"cooking oil\", \"flour\", \"sod...</td>\n",
       "    </tr>\n",
       "    <tr>\n",
       "      <th>465115</th>\n",
       "      <td>Chicken Casserole</td>\n",
       "      <td>[\"1 whole chicken, boiled and deboned (reserve...</td>\n",
       "      <td>[\"Mix all ingredients together (it will be sou...</td>\n",
       "      <td>www.cookbooks.com/Recipe-Details.aspx?id=53975</td>\n",
       "      <td>Gathered</td>\n",
       "      <td>[\"chicken\", \"cream of mushroom soup\", \"cream o...</td>\n",
       "    </tr>\n",
       "  </tbody>\n",
       "</table>\n",
       "</div>"
      ],
      "text/plain": [
       "                                                     title  \\\n",
       "1040602  California French Bread (Better Than Garlic Br...   \n",
       "242998                                          Prune Cake   \n",
       "465115                                   Chicken Casserole   \n",
       "\n",
       "                                               ingredients  \\\n",
       "1040602  [\"1 loaf French bread, 1 1/2 inch slices\", \"1 ...   \n",
       "242998   [\"3 eggs\", \"1 1/2 c. sugar\", \"1 c. cooking oil...   \n",
       "465115   [\"1 whole chicken, boiled and deboned (reserve...   \n",
       "\n",
       "                                                directions  \\\n",
       "1040602  [\"Preheat oven to 400.\", \"Mix mayo, parm , and...   \n",
       "242998   [\"Beat eggs; add sugar and oil.\", \"Mix dry ing...   \n",
       "465115   [\"Mix all ingredients together (it will be sou...   \n",
       "\n",
       "                                                      link    source  \\\n",
       "1040602  www.food.com/recipe/california-french-bread-be...  Gathered   \n",
       "242998     www.cookbooks.com/Recipe-Details.aspx?id=163450  Gathered   \n",
       "465115      www.cookbooks.com/Recipe-Details.aspx?id=53975  Gathered   \n",
       "\n",
       "                                                       NER  \n",
       "1040602  [\"bread\", \"parmesan cheese\", \"mayonnaise\", \"gr...  \n",
       "242998   [\"eggs\", \"sugar\", \"cooking oil\", \"flour\", \"sod...  \n",
       "465115   [\"chicken\", \"cream of mushroom soup\", \"cream o...  "
      ]
     },
     "execution_count": 50,
     "metadata": {},
     "output_type": "execute_result"
    }
   ],
   "source": [
    "recipe_df.sample(n=3)"
   ]
  },
  {
   "cell_type": "code",
   "execution_count": 51,
   "id": "bb2a3135-1eca-420a-b717-ae699bf2aa14",
   "metadata": {},
   "outputs": [
    {
     "data": {
      "text/plain": [
       "1643098"
      ]
     },
     "execution_count": 51,
     "metadata": {},
     "output_type": "execute_result"
    }
   ],
   "source": [
    "recipe_df = recipe_df[recipe_df.source == \"Gathered\"]\n",
    "len(recipe_df)"
   ]
  },
  {
   "cell_type": "code",
   "execution_count": 52,
   "id": "d6d3e289-f585-4b7c-8e1b-cc399bbd2e47",
   "metadata": {},
   "outputs": [
    {
     "data": {
      "text/plain": [
       "(1000, 6)"
      ]
     },
     "execution_count": 52,
     "metadata": {},
     "output_type": "execute_result"
    }
   ],
   "source": [
    "sdf = recipe_df.sample(n=1000).copy()\n",
    "sdf.shape"
   ]
  },
  {
   "cell_type": "code",
   "execution_count": 55,
   "id": "f3514313-4fac-4a99-8d1c-713f5b4ebb79",
   "metadata": {},
   "outputs": [
    {
     "data": {
      "text/html": [
       "<div>\n",
       "<style scoped>\n",
       "    .dataframe tbody tr th:only-of-type {\n",
       "        vertical-align: middle;\n",
       "    }\n",
       "\n",
       "    .dataframe tbody tr th {\n",
       "        vertical-align: top;\n",
       "    }\n",
       "\n",
       "    .dataframe thead th {\n",
       "        text-align: right;\n",
       "    }\n",
       "</style>\n",
       "<table border=\"1\" class=\"dataframe\">\n",
       "  <thead>\n",
       "    <tr style=\"text-align: right;\">\n",
       "      <th></th>\n",
       "      <th>title</th>\n",
       "      <th>ingredients</th>\n",
       "      <th>directions</th>\n",
       "      <th>link</th>\n",
       "      <th>source</th>\n",
       "      <th>NER</th>\n",
       "    </tr>\n",
       "  </thead>\n",
       "  <tbody>\n",
       "    <tr>\n",
       "      <th>1104245</th>\n",
       "      <td>Cucumber Scallion Salad</td>\n",
       "      <td>[\"1/2 English cucumber, chopped\", \"2 tablespoo...</td>\n",
       "      <td>[\"Combine cucumber, scallions, vinegar, lime j...</td>\n",
       "      <td>www.food.com/recipe/cucumber-scallion-salad-29...</td>\n",
       "      <td>Gathered</td>\n",
       "      <td>[\"cucumber\", \"scallions\", \"red wine vinegar\", ...</td>\n",
       "    </tr>\n",
       "    <tr>\n",
       "      <th>1517241</th>\n",
       "      <td>Homemade Cincinnati Chili</td>\n",
       "      <td>[\"3 pounds ground beef\", \"1-1/2 cups chopped o...</td>\n",
       "      <td>[\"In a Dutch oven, cook beef and onions over m...</td>\n",
       "      <td>www.tasteofhome.com/recipes/homemade-cincinnat...</td>\n",
       "      <td>Gathered</td>\n",
       "      <td>[\"ground beef\", \"onions\", \"garlic\", \"kidney be...</td>\n",
       "    </tr>\n",
       "  </tbody>\n",
       "</table>\n",
       "</div>"
      ],
      "text/plain": [
       "                             title  \\\n",
       "1104245    Cucumber Scallion Salad   \n",
       "1517241  Homemade Cincinnati Chili   \n",
       "\n",
       "                                               ingredients  \\\n",
       "1104245  [\"1/2 English cucumber, chopped\", \"2 tablespoo...   \n",
       "1517241  [\"3 pounds ground beef\", \"1-1/2 cups chopped o...   \n",
       "\n",
       "                                                directions  \\\n",
       "1104245  [\"Combine cucumber, scallions, vinegar, lime j...   \n",
       "1517241  [\"In a Dutch oven, cook beef and onions over m...   \n",
       "\n",
       "                                                      link    source  \\\n",
       "1104245  www.food.com/recipe/cucumber-scallion-salad-29...  Gathered   \n",
       "1517241  www.tasteofhome.com/recipes/homemade-cincinnat...  Gathered   \n",
       "\n",
       "                                                       NER  \n",
       "1104245  [\"cucumber\", \"scallions\", \"red wine vinegar\", ...  \n",
       "1517241  [\"ground beef\", \"onions\", \"garlic\", \"kidney be...  "
      ]
     },
     "execution_count": 55,
     "metadata": {},
     "output_type": "execute_result"
    }
   ],
   "source": [
    "sdf.sample(n=2)"
   ]
  },
  {
   "cell_type": "code",
   "execution_count": 59,
   "id": "e3995315-fa50-4fc5-9681-d928e0e9e642",
   "metadata": {},
   "outputs": [
    {
     "data": {
      "text/html": [
       "<div>\n",
       "<style scoped>\n",
       "    .dataframe tbody tr th:only-of-type {\n",
       "        vertical-align: middle;\n",
       "    }\n",
       "\n",
       "    .dataframe tbody tr th {\n",
       "        vertical-align: top;\n",
       "    }\n",
       "\n",
       "    .dataframe thead th {\n",
       "        text-align: right;\n",
       "    }\n",
       "</style>\n",
       "<table border=\"1\" class=\"dataframe\">\n",
       "  <thead>\n",
       "    <tr style=\"text-align: right;\">\n",
       "      <th></th>\n",
       "      <th>index</th>\n",
       "      <th>db_string</th>\n",
       "    </tr>\n",
       "  </thead>\n",
       "  <tbody>\n",
       "    <tr>\n",
       "      <th>0</th>\n",
       "      <td>1437400</td>\n",
       "      <td>Grilled Caesar Salad recipe:\\n - Make dressing...</td>\n",
       "    </tr>\n",
       "    <tr>\n",
       "      <th>1</th>\n",
       "      <td>712159</td>\n",
       "      <td>Wilted Spinach Salad recipe:\\n - Cook bacon un...</td>\n",
       "    </tr>\n",
       "    <tr>\n",
       "      <th>2</th>\n",
       "      <td>1065822</td>\n",
       "      <td>Citrus-Beef Stir-Fry With Carrots (Ww) recipe:...</td>\n",
       "    </tr>\n",
       "    <tr>\n",
       "      <th>3</th>\n",
       "      <td>52150</td>\n",
       "      <td>Ultimate Chocolate Chip Cookies recipe:\\n - Pr...</td>\n",
       "    </tr>\n",
       "    <tr>\n",
       "      <th>4</th>\n",
       "      <td>1548527</td>\n",
       "      <td>Raspberry White Chocolate Muffins recipe:\\n - ...</td>\n",
       "    </tr>\n",
       "    <tr>\n",
       "      <th>...</th>\n",
       "      <td>...</td>\n",
       "      <td>...</td>\n",
       "    </tr>\n",
       "    <tr>\n",
       "      <th>995</th>\n",
       "      <td>941393</td>\n",
       "      <td>Family Favorite Chili Mac recipe:\\n - Cook and...</td>\n",
       "    </tr>\n",
       "    <tr>\n",
       "      <th>996</th>\n",
       "      <td>168296</td>\n",
       "      <td>Sausage Apple Balls recipe:\\n - Combine all in...</td>\n",
       "    </tr>\n",
       "    <tr>\n",
       "      <th>997</th>\n",
       "      <td>716230</td>\n",
       "      <td>Chocolate Crunch Pretzels recipe:\\n - Crush ce...</td>\n",
       "    </tr>\n",
       "    <tr>\n",
       "      <th>998</th>\n",
       "      <td>320829</td>\n",
       "      <td>Zucchini Casserole recipe:\\n - Mix beaten eggs...</td>\n",
       "    </tr>\n",
       "    <tr>\n",
       "      <th>999</th>\n",
       "      <td>1437327</td>\n",
       "      <td>Tipsy Berries recipe:\\n - Stir together strawb...</td>\n",
       "    </tr>\n",
       "  </tbody>\n",
       "</table>\n",
       "<p>1000 rows × 2 columns</p>\n",
       "</div>"
      ],
      "text/plain": [
       "       index                                          db_string\n",
       "0    1437400  Grilled Caesar Salad recipe:\\n - Make dressing...\n",
       "1     712159  Wilted Spinach Salad recipe:\\n - Cook bacon un...\n",
       "2    1065822  Citrus-Beef Stir-Fry With Carrots (Ww) recipe:...\n",
       "3      52150  Ultimate Chocolate Chip Cookies recipe:\\n - Pr...\n",
       "4    1548527  Raspberry White Chocolate Muffins recipe:\\n - ...\n",
       "..       ...                                                ...\n",
       "995   941393  Family Favorite Chili Mac recipe:\\n - Cook and...\n",
       "996   168296  Sausage Apple Balls recipe:\\n - Combine all in...\n",
       "997   716230  Chocolate Crunch Pretzels recipe:\\n - Crush ce...\n",
       "998   320829  Zucchini Casserole recipe:\\n - Mix beaten eggs...\n",
       "999  1437327  Tipsy Berries recipe:\\n - Stir together strawb...\n",
       "\n",
       "[1000 rows x 2 columns]"
      ]
     },
     "execution_count": 59,
     "metadata": {},
     "output_type": "execute_result"
    }
   ],
   "source": [
    "db_strings = []\n",
    "for row in sdf.itertuples():\n",
    "    title = row.title\n",
    "    directions = eval(row.directions)\n",
    "    db_string = f\"{title} recipe:\\n - \" + \"\\n - \".join(directions)\n",
    "    db_strings.append(db_string)\n",
    "\n",
    "db_df = sdf.reset_index()[[\"index\"]].copy()\n",
    "db_df[\"db_string\"] = db_strings\n",
    "db_df"
   ]
  },
  {
   "cell_type": "code",
   "execution_count": 60,
   "id": "c746d090-fcd3-4ef6-bedb-c60058885841",
   "metadata": {},
   "outputs": [],
   "source": [
    "db = retrieval.RetrievalDb(recipe_embedding_dir, \"recipenlg\", \"db_string\", db_df)"
   ]
  },
  {
   "cell_type": "code",
   "execution_count": 61,
   "id": "a7c46f79-ac2b-466c-83d3-f88709c75ec8",
   "metadata": {},
   "outputs": [],
   "source": [
    "db.create_embeddings()"
   ]
  },
  {
   "cell_type": "code",
   "execution_count": 62,
   "id": "465afa25-17e8-4b2d-8a3f-a2de0c67637c",
   "metadata": {},
   "outputs": [],
   "source": [
    "db.save_df()"
   ]
  },
  {
   "cell_type": "code",
   "execution_count": 64,
   "id": "37cdac47-08f1-46e7-bad9-c373abddf8f6",
   "metadata": {},
   "outputs": [
    {
     "name": "stdout",
     "output_type": "stream",
     "text": [
      "276K\t../data/derived/embeddings/recipenlg_df.parquet\n",
      " 12M\t../data/derived/embeddings/recipenlg_embed.npy\n"
     ]
    }
   ],
   "source": [
    "!du -h {recipe_embedding_dir}/*recipenlg*"
   ]
  },
  {
   "cell_type": "code",
   "execution_count": null,
   "id": "8e8326cf-1cf4-4dd6-ba9c-5514d3b10098",
   "metadata": {},
   "outputs": [],
   "source": []
  }
 ],
 "metadata": {
  "kernelspec": {
   "display_name": "Python 3 (ipykernel)",
   "language": "python",
   "name": "python3"
  },
  "language_info": {
   "codemirror_mode": {
    "name": "ipython",
    "version": 3
   },
   "file_extension": ".py",
   "mimetype": "text/x-python",
   "name": "python",
   "nbconvert_exporter": "python",
   "pygments_lexer": "ipython3",
   "version": "3.10.11"
  }
 },
 "nbformat": 4,
 "nbformat_minor": 5
}
