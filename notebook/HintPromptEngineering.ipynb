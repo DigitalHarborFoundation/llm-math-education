{
 "cells": [
  {
   "cell_type": "markdown",
   "id": "7509fb56-efd6-4598-8e5e-e5f005e6d0e1",
   "metadata": {},
   "source": [
    "Hint Prompt Engineering\n",
    "==="
   ]
  },
  {
   "cell_type": "code",
   "execution_count": 4,
   "id": "40cd9a7f-6e14-4f19-b62e-c7dd2e690f61",
   "metadata": {},
   "outputs": [],
   "source": [
    "import json\n",
    "import os\n",
    "import re\n",
    "from collections import Counter\n",
    "from pathlib import Path\n",
    "\n",
    "import dotenv\n",
    "import matplotlib.pyplot as plt\n",
    "import numpy as np\n",
    "import openai\n",
    "import pandas as pd\n",
    "import tiktoken"
   ]
  },
  {
   "cell_type": "code",
   "execution_count": 2,
   "id": "99f3c378-e0e5-45e7-87e0-eab161bec572",
   "metadata": {},
   "outputs": [],
   "source": [
    "dotenv.load_dotenv(\"../.env\")\n",
    "openai.api_key = os.environ[\"OPENAI_API_KEY\"]"
   ]
  },
  {
   "cell_type": "code",
   "execution_count": null,
   "id": "78461f2b-7505-4a4a-894c-7f306cb02c0a",
   "metadata": {},
   "outputs": [],
   "source": []
  },
  {
   "cell_type": "markdown",
   "id": "32d35acc-f49f-4b7b-95ad-fe6c197420e0",
   "metadata": {},
   "source": [
    "### Data loading and merging"
   ]
  },
  {
   "cell_type": "code",
   "execution_count": 5,
   "id": "9352c0f3-dd73-4e93-8394-65d5dd125de7",
   "metadata": {},
   "outputs": [],
   "source": [
    "tokenizer = tiktoken.encoding_for_model(\"gpt-3.5-turbo\")"
   ]
  },
  {
   "cell_type": "code",
   "execution_count": 6,
   "id": "d0fc2287-c330-40e9-b8e9-d98a5f9b2223",
   "metadata": {},
   "outputs": [],
   "source": [
    "data_dir = Path(\"../data\")\n",
    "assert data_dir.exists()"
   ]
  },
  {
   "cell_type": "code",
   "execution_count": 7,
   "id": "242c8260-c7e5-46e2-bc34-7c3ea801e6ca",
   "metadata": {},
   "outputs": [
    {
     "name": "stdout",
     "output_type": "stream",
     "text": [
      "(153, 3)\n"
     ]
    },
    {
     "data": {
      "text/html": [
       "<div>\n",
       "<style scoped>\n",
       "    .dataframe tbody tr th:only-of-type {\n",
       "        vertical-align: middle;\n",
       "    }\n",
       "\n",
       "    .dataframe tbody tr th {\n",
       "        vertical-align: top;\n",
       "    }\n",
       "\n",
       "    .dataframe thead th {\n",
       "        text-align: right;\n",
       "    }\n",
       "</style>\n",
       "<table border=\"1\" class=\"dataframe\">\n",
       "  <thead>\n",
       "    <tr style=\"text-align: right;\">\n",
       "      <th></th>\n",
       "      <th>unique_index</th>\n",
       "      <th>answer</th>\n",
       "      <th>incorrect_answer</th>\n",
       "    </tr>\n",
       "  </thead>\n",
       "  <tbody>\n",
       "    <tr>\n",
       "      <th>76</th>\n",
       "      <td>1005</td>\n",
       "      <td>30</td>\n",
       "      <td>28</td>\n",
       "    </tr>\n",
       "    <tr>\n",
       "      <th>13</th>\n",
       "      <td>156</td>\n",
       "      <td>31</td>\n",
       "      <td>30</td>\n",
       "    </tr>\n",
       "    <tr>\n",
       "      <th>118</th>\n",
       "      <td>1815</td>\n",
       "      <td>9/4</td>\n",
       "      <td>4/9</td>\n",
       "    </tr>\n",
       "  </tbody>\n",
       "</table>\n",
       "</div>"
      ],
      "text/plain": [
       "     unique_index answer incorrect_answer\n",
       "76           1005     30               28\n",
       "13            156     31               30\n",
       "118          1815    9/4              4/9"
      ]
     },
     "execution_count": 7,
     "metadata": {},
     "output_type": "execute_result"
    }
   ],
   "source": [
    "incorrect_answer_csv_filepath = data_dir / \"derived\" / \"incorrect_answers.csv\"\n",
    "incorrect_lesson_df = pd.read_csv(incorrect_answer_csv_filepath)\n",
    "print(incorrect_lesson_df.shape)\n",
    "incorrect_lesson_df.sample(n=3)"
   ]
  },
  {
   "cell_type": "code",
   "execution_count": 8,
   "id": "d610f3d8-c2c3-4e99-b18b-a61e280f3b20",
   "metadata": {},
   "outputs": [
    {
     "data": {
      "text/plain": [
       "(2570, 21)"
      ]
     },
     "execution_count": 8,
     "metadata": {},
     "output_type": "execute_result"
    }
   ],
   "source": [
    "lesson_df = pd.read_pickle(data_dir / \"derived\" / \"rori_lessons.pkl\")\n",
    "lesson_df = lesson_df.reset_index().rename(columns={\"index\": \"unique_index\"})\n",
    "lesson_df.shape"
   ]
  },
  {
   "cell_type": "code",
   "execution_count": 9,
   "id": "6345325c-fec0-4b97-a07c-8a5ef6bc2524",
   "metadata": {},
   "outputs": [
    {
     "data": {
      "text/plain": [
       "(74, 225)"
      ]
     },
     "execution_count": 9,
     "metadata": {},
     "output_type": "execute_result"
    }
   ],
   "source": [
    "lesson_codes = set()\n",
    "lesson_codes_with_images = set()\n",
    "for lesson_code, lesson in lesson_df.groupby(\"lesson_code\"):\n",
    "    lesson_codes.add(lesson_code)\n",
    "    has_image_explanation = ((lesson.is_explanation) & (lesson.has_image)).any()\n",
    "    has_image_question = ((~lesson.is_explanation) & (lesson.has_image)).any()\n",
    "    has_image = has_image_explanation or has_image_question\n",
    "    if has_image:\n",
    "        lesson_codes_with_images.add(lesson_code)\n",
    "len(lesson_codes_with_images), len(lesson_codes)"
   ]
  },
  {
   "cell_type": "code",
   "execution_count": 10,
   "id": "20fb536e-f016-4c38-9b8e-93cf1333cda7",
   "metadata": {},
   "outputs": [
    {
     "data": {
      "text/plain": [
       "('589 / 2570', '52 / 225')"
      ]
     },
     "execution_count": 10,
     "metadata": {},
     "output_type": "execute_result"
    }
   ],
   "source": [
    "sdf = lesson_df[(~lesson_df.lesson_code.isin(lesson_codes_with_images)) & (lesson_df.grade.isin([6, 7, 8]))]\n",
    "f\"{len(sdf)} / {len(lesson_df)}\", f\"{sdf.lesson_code.nunique()} / {lesson_df.lesson_code.nunique()}\""
   ]
  },
  {
   "cell_type": "code",
   "execution_count": 11,
   "id": "9e16d6cf-30ed-4111-8112-e7571ae257e2",
   "metadata": {},
   "outputs": [
    {
     "data": {
      "text/plain": [
       "28"
      ]
     },
     "execution_count": 11,
     "metadata": {},
     "output_type": "execute_result"
    }
   ],
   "source": [
    "# merge in incorrect lessons\n",
    "sdf = sdf.merge(incorrect_lesson_df[[\"unique_index\", \"incorrect_answer\"]], on=\"unique_index\", how=\"left\")\n",
    "sdf.incorrect_answer.notna().sum()"
   ]
  },
  {
   "cell_type": "code",
   "execution_count": 12,
   "id": "9811bc95-ecae-4de0-bcdc-10cc26beb055",
   "metadata": {},
   "outputs": [
    {
     "data": {
      "text/plain": [
       "28"
      ]
     },
     "execution_count": 12,
     "metadata": {},
     "output_type": "execute_result"
    }
   ],
   "source": [
    "sdf = sdf[sdf.incorrect_answer.notna()]\n",
    "len(sdf)"
   ]
  },
  {
   "cell_type": "code",
   "execution_count": 13,
   "id": "773b2e38-93e0-4bd6-ac07-a0974fd6dcc7",
   "metadata": {},
   "outputs": [
    {
     "data": {
      "text/plain": [
       "lesson_code\n",
       "G8.N3.2.4.1    7\n",
       "G8.A2.1.1.1    6\n",
       "G6.S2.1.1.1    5\n",
       "G8.N4.2.3.1    4\n",
       "G7.N5.1.1.2    1\n",
       "G7.N5.1.1.1    1\n",
       "G6.N1.1.2.1    1\n",
       "G6.N2.1.2.3    1\n",
       "G7.N4.2.1.1    1\n",
       "G8.N3.2.4.2    1\n",
       "Name: count, dtype: int64"
      ]
     },
     "execution_count": 13,
     "metadata": {},
     "output_type": "execute_result"
    }
   ],
   "source": [
    "sdf.lesson_code.value_counts()"
   ]
  },
  {
   "cell_type": "code",
   "execution_count": 14,
   "id": "263704bd-023a-4b22-9e5d-09035791eccd",
   "metadata": {},
   "outputs": [
    {
     "data": {
      "text/html": [
       "<div>\n",
       "<style scoped>\n",
       "    .dataframe tbody tr th:only-of-type {\n",
       "        vertical-align: middle;\n",
       "    }\n",
       "\n",
       "    .dataframe tbody tr th {\n",
       "        vertical-align: top;\n",
       "    }\n",
       "\n",
       "    .dataframe thead th {\n",
       "        text-align: right;\n",
       "    }\n",
       "</style>\n",
       "<table border=\"1\" class=\"dataframe\">\n",
       "  <thead>\n",
       "    <tr style=\"text-align: right;\">\n",
       "      <th></th>\n",
       "      <th>unique_index</th>\n",
       "      <th>lesson_code</th>\n",
       "      <th>question</th>\n",
       "      <th>answer</th>\n",
       "      <th>incorrect_answer</th>\n",
       "    </tr>\n",
       "  </thead>\n",
       "  <tbody>\n",
       "    <tr>\n",
       "      <th>14</th>\n",
       "      <td>434</td>\n",
       "      <td>G8.A2.1.1.1</td>\n",
       "      <td>A car travels 120 miles in H hours. The expres...</td>\n",
       "      <td>A</td>\n",
       "      <td>B</td>\n",
       "    </tr>\n",
       "    <tr>\n",
       "      <th>15</th>\n",
       "      <td>435</td>\n",
       "      <td>G8.A2.1.1.1</td>\n",
       "      <td>In stable, there are z horses. 10 of them are ...</td>\n",
       "      <td>D</td>\n",
       "      <td>A</td>\n",
       "    </tr>\n",
       "    <tr>\n",
       "      <th>16</th>\n",
       "      <td>436</td>\n",
       "      <td>G8.A2.1.1.1</td>\n",
       "      <td>John scores 3 more points than James p scores....</td>\n",
       "      <td>B</td>\n",
       "      <td>A</td>\n",
       "    </tr>\n",
       "    <tr>\n",
       "      <th>17</th>\n",
       "      <td>437</td>\n",
       "      <td>G8.A2.1.1.1</td>\n",
       "      <td>If you multiply four by n and decreased by six...</td>\n",
       "      <td>A</td>\n",
       "      <td>B</td>\n",
       "    </tr>\n",
       "    <tr>\n",
       "      <th>18</th>\n",
       "      <td>438</td>\n",
       "      <td>G8.A2.1.1.1</td>\n",
       "      <td>The difference of thirteen and y, then add x. ...</td>\n",
       "      <td>C</td>\n",
       "      <td>D</td>\n",
       "    </tr>\n",
       "    <tr>\n",
       "      <th>21</th>\n",
       "      <td>441</td>\n",
       "      <td>G8.A2.1.1.1</td>\n",
       "      <td>There are x ballpens in a pack. \\nI buy 4 pack...</td>\n",
       "      <td>B</td>\n",
       "      <td>A</td>\n",
       "    </tr>\n",
       "    <tr>\n",
       "      <th>25</th>\n",
       "      <td>445</td>\n",
       "      <td>G8.N3.2.4.1</td>\n",
       "      <td>8/10 = _____%</td>\n",
       "      <td>80</td>\n",
       "      <td>0.8</td>\n",
       "    </tr>\n",
       "    <tr>\n",
       "      <th>26</th>\n",
       "      <td>446</td>\n",
       "      <td>G8.N3.2.4.1</td>\n",
       "      <td>2/5 = _____%</td>\n",
       "      <td>40</td>\n",
       "      <td>10</td>\n",
       "    </tr>\n",
       "    <tr>\n",
       "      <th>27</th>\n",
       "      <td>447</td>\n",
       "      <td>G8.N3.2.4.1</td>\n",
       "      <td>6/20 = _____%</td>\n",
       "      <td>30</td>\n",
       "      <td>60</td>\n",
       "    </tr>\n",
       "    <tr>\n",
       "      <th>28</th>\n",
       "      <td>448</td>\n",
       "      <td>G8.N3.2.4.1</td>\n",
       "      <td>34/100 = _____%</td>\n",
       "      <td>34</td>\n",
       "      <td>340</td>\n",
       "    </tr>\n",
       "    <tr>\n",
       "      <th>29</th>\n",
       "      <td>449</td>\n",
       "      <td>G8.N3.2.4.1</td>\n",
       "      <td>125/1000 = ____ %</td>\n",
       "      <td>12.5</td>\n",
       "      <td>125</td>\n",
       "    </tr>\n",
       "    <tr>\n",
       "      <th>31</th>\n",
       "      <td>451</td>\n",
       "      <td>G8.N3.2.4.1</td>\n",
       "      <td>60% = ____\\nWrite the answer in fraction form ...</td>\n",
       "      <td>3/5</td>\n",
       "      <td>6/10</td>\n",
       "    </tr>\n",
       "    <tr>\n",
       "      <th>33</th>\n",
       "      <td>453</td>\n",
       "      <td>G8.N3.2.4.1</td>\n",
       "      <td>7.5% = ____\\nWrite the answer in fraction form...</td>\n",
       "      <td>3/40</td>\n",
       "      <td>0.075</td>\n",
       "    </tr>\n",
       "    <tr>\n",
       "      <th>37</th>\n",
       "      <td>457</td>\n",
       "      <td>G7.N5.1.1.2</td>\n",
       "      <td>2 x 2 = ___</td>\n",
       "      <td>2^2</td>\n",
       "      <td>4</td>\n",
       "    </tr>\n",
       "    <tr>\n",
       "      <th>56</th>\n",
       "      <td>476</td>\n",
       "      <td>G7.N5.1.1.1</td>\n",
       "      <td>√225 = __</td>\n",
       "      <td>15</td>\n",
       "      <td>25</td>\n",
       "    </tr>\n",
       "    <tr>\n",
       "      <th>110</th>\n",
       "      <td>541</td>\n",
       "      <td>G6.S2.1.1.1</td>\n",
       "      <td>There are 5 candies in a jar, 2 are caramel, 2...</td>\n",
       "      <td>C</td>\n",
       "      <td>B</td>\n",
       "    </tr>\n",
       "    <tr>\n",
       "      <th>111</th>\n",
       "      <td>542</td>\n",
       "      <td>G6.S2.1.1.1</td>\n",
       "      <td>There are 5 candies in a jar, 2 are caramel, 2...</td>\n",
       "      <td>C</td>\n",
       "      <td>A</td>\n",
       "    </tr>\n",
       "    <tr>\n",
       "      <th>112</th>\n",
       "      <td>543</td>\n",
       "      <td>G6.S2.1.1.1</td>\n",
       "      <td>John throws a die. What's more likely, for him...</td>\n",
       "      <td>A</td>\n",
       "      <td>C</td>\n",
       "    </tr>\n",
       "    <tr>\n",
       "      <th>114</th>\n",
       "      <td>545</td>\n",
       "      <td>G6.S2.1.1.1</td>\n",
       "      <td>When throwing a dice, how likely is it to thro...</td>\n",
       "      <td>B</td>\n",
       "      <td>C</td>\n",
       "    </tr>\n",
       "    <tr>\n",
       "      <th>116</th>\n",
       "      <td>547</td>\n",
       "      <td>G6.S2.1.1.1</td>\n",
       "      <td>There are 22 balls, 4 blue, 5 red, 6 yellow an...</td>\n",
       "      <td>C</td>\n",
       "      <td>A</td>\n",
       "    </tr>\n",
       "    <tr>\n",
       "      <th>164</th>\n",
       "      <td>2002</td>\n",
       "      <td>G6.N1.1.2.1</td>\n",
       "      <td>Two hundred fifty three thousand three hundred...</td>\n",
       "      <td>=</td>\n",
       "      <td>2</td>\n",
       "    </tr>\n",
       "    <tr>\n",
       "      <th>301</th>\n",
       "      <td>2205</td>\n",
       "      <td>G6.N2.1.2.3</td>\n",
       "      <td>\\n6/10 = ___/100</td>\n",
       "      <td>60</td>\n",
       "      <td>fractions topic</td>\n",
       "    </tr>\n",
       "    <tr>\n",
       "      <th>513</th>\n",
       "      <td>2483</td>\n",
       "      <td>G7.N4.2.1.1</td>\n",
       "      <td>-166 + 37 = ___</td>\n",
       "      <td>-129</td>\n",
       "      <td>129</td>\n",
       "    </tr>\n",
       "    <tr>\n",
       "      <th>556</th>\n",
       "      <td>2537</td>\n",
       "      <td>G8.N3.2.4.2</td>\n",
       "      <td>110% = ____\\nA. 1 1/100\\nB. 11 10/100\\nC. 11 1...</td>\n",
       "      <td>A</td>\n",
       "      <td>B</td>\n",
       "    </tr>\n",
       "    <tr>\n",
       "      <th>568</th>\n",
       "      <td>2549</td>\n",
       "      <td>G8.N4.2.3.1</td>\n",
       "      <td>8 and 12</td>\n",
       "      <td>4</td>\n",
       "      <td>8</td>\n",
       "    </tr>\n",
       "    <tr>\n",
       "      <th>569</th>\n",
       "      <td>2550</td>\n",
       "      <td>G8.N4.2.3.1</td>\n",
       "      <td>20 and 32</td>\n",
       "      <td>4</td>\n",
       "      <td>2</td>\n",
       "    </tr>\n",
       "    <tr>\n",
       "      <th>570</th>\n",
       "      <td>2551</td>\n",
       "      <td>G8.N4.2.3.1</td>\n",
       "      <td>54 and 72</td>\n",
       "      <td>18</td>\n",
       "      <td>6</td>\n",
       "    </tr>\n",
       "    <tr>\n",
       "      <th>577</th>\n",
       "      <td>2558</td>\n",
       "      <td>G8.N4.2.3.1</td>\n",
       "      <td>60 and 80</td>\n",
       "      <td>20</td>\n",
       "      <td>10</td>\n",
       "    </tr>\n",
       "  </tbody>\n",
       "</table>\n",
       "</div>"
      ],
      "text/plain": [
       "     unique_index  lesson_code  \\\n",
       "14            434  G8.A2.1.1.1   \n",
       "15            435  G8.A2.1.1.1   \n",
       "16            436  G8.A2.1.1.1   \n",
       "17            437  G8.A2.1.1.1   \n",
       "18            438  G8.A2.1.1.1   \n",
       "21            441  G8.A2.1.1.1   \n",
       "25            445  G8.N3.2.4.1   \n",
       "26            446  G8.N3.2.4.1   \n",
       "27            447  G8.N3.2.4.1   \n",
       "28            448  G8.N3.2.4.1   \n",
       "29            449  G8.N3.2.4.1   \n",
       "31            451  G8.N3.2.4.1   \n",
       "33            453  G8.N3.2.4.1   \n",
       "37            457  G7.N5.1.1.2   \n",
       "56            476  G7.N5.1.1.1   \n",
       "110           541  G6.S2.1.1.1   \n",
       "111           542  G6.S2.1.1.1   \n",
       "112           543  G6.S2.1.1.1   \n",
       "114           545  G6.S2.1.1.1   \n",
       "116           547  G6.S2.1.1.1   \n",
       "164          2002  G6.N1.1.2.1   \n",
       "301          2205  G6.N2.1.2.3   \n",
       "513          2483  G7.N4.2.1.1   \n",
       "556          2537  G8.N3.2.4.2   \n",
       "568          2549  G8.N4.2.3.1   \n",
       "569          2550  G8.N4.2.3.1   \n",
       "570          2551  G8.N4.2.3.1   \n",
       "577          2558  G8.N4.2.3.1   \n",
       "\n",
       "                                              question answer incorrect_answer  \n",
       "14   A car travels 120 miles in H hours. The expres...      A                B  \n",
       "15   In stable, there are z horses. 10 of them are ...      D                A  \n",
       "16   John scores 3 more points than James p scores....      B                A  \n",
       "17   If you multiply four by n and decreased by six...      A                B  \n",
       "18   The difference of thirteen and y, then add x. ...      C                D  \n",
       "21   There are x ballpens in a pack. \\nI buy 4 pack...      B                A  \n",
       "25                                       8/10 = _____%     80              0.8  \n",
       "26                                        2/5 = _____%     40               10  \n",
       "27                                       6/20 = _____%     30               60  \n",
       "28                                     34/100 = _____%     34              340  \n",
       "29                                   125/1000 = ____ %   12.5              125  \n",
       "31   60% = ____\\nWrite the answer in fraction form ...    3/5             6/10  \n",
       "33   7.5% = ____\\nWrite the answer in fraction form...   3/40            0.075  \n",
       "37                                        2 x 2 = ___     2^2                4  \n",
       "56                                           √225 = __     15               25  \n",
       "110  There are 5 candies in a jar, 2 are caramel, 2...      C                B  \n",
       "111  There are 5 candies in a jar, 2 are caramel, 2...      C                A  \n",
       "112  John throws a die. What's more likely, for him...      A                C  \n",
       "114  When throwing a dice, how likely is it to thro...      B                C  \n",
       "116  There are 22 balls, 4 blue, 5 red, 6 yellow an...      C                A  \n",
       "164  Two hundred fifty three thousand three hundred...      =                2  \n",
       "301                                   \\n6/10 = ___/100     60  fractions topic  \n",
       "513                                    -166 + 37 = ___   -129              129  \n",
       "556  110% = ____\\nA. 1 1/100\\nB. 11 10/100\\nC. 11 1...      A                B  \n",
       "568                                           8 and 12      4                8  \n",
       "569                                          20 and 32      4                2  \n",
       "570                                          54 and 72     18                6  \n",
       "577                                          60 and 80     20               10  "
      ]
     },
     "execution_count": 14,
     "metadata": {},
     "output_type": "execute_result"
    }
   ],
   "source": [
    "sdf[[\"unique_index\", \"lesson_code\", \"question\", \"answer\", \"incorrect_answer\"]]"
   ]
  },
  {
   "cell_type": "code",
   "execution_count": 15,
   "id": "cf821003-8cc3-4304-b2b1-9e196f32fece",
   "metadata": {},
   "outputs": [
    {
     "data": {
      "text/plain": [
       "23"
      ]
     },
     "execution_count": 15,
     "metadata": {},
     "output_type": "execute_result"
    }
   ],
   "source": [
    "exclude_indices = [2205, 2549, 2550, 2551, 2558]\n",
    "sdf = sdf[~sdf.unique_index.isin(exclude_indices)]\n",
    "len(sdf)"
   ]
  },
  {
   "cell_type": "code",
   "execution_count": null,
   "id": "09076a29-68b9-498a-bac6-e8f976fac2ff",
   "metadata": {},
   "outputs": [],
   "source": []
  },
  {
   "cell_type": "markdown",
   "id": "2ec85319-1eb5-4f42-ba92-30637f368dbc",
   "metadata": {},
   "source": [
    "### Prompt Engineering"
   ]
  },
  {
   "cell_type": "code",
   "execution_count": 90,
   "id": "2eb9b916-071a-4a18-bc0f-f2a3b170dac9",
   "metadata": {},
   "outputs": [],
   "source": [
    "model = \"gpt-3.5-turbo-16k\"\n",
    "prompt = \"\"\"Generate a sequence of hints that will help a student stuck on the following math problem:\n",
    "{question}\n",
    "\"\"\"\n",
    "\n",
    "results = []\n",
    "for row in sdf.itertuples():\n",
    "    formatted_prompt = prompt.format(\n",
    "        mae_spreadsheet_string=mae_spreadsheet_string,\n",
    "        mae_count=mae_count,\n",
    "        question=row.question,\n",
    "        incorrect_answer=row.incorrect_answer,\n",
    "        answer=row.answer,\n",
    "    )\n",
    "    completion = openai.ChatCompletion.create(\n",
    "        model=model,\n",
    "        messages=[\n",
    "            {\n",
    "                \"role\": \"user\",\n",
    "                \"content\": formatted_prompt,\n",
    "            }\n",
    "        ],\n",
    "    )\n",
    "    result = completion[\"choices\"][0][\"message\"][\"content\"]\n",
    "    results.append(result)"
   ]
  },
  {
   "cell_type": "code",
   "execution_count": null,
   "id": "83b68c6b-43ac-4f71-a56e-b7831ceb84b0",
   "metadata": {},
   "outputs": [],
   "source": []
  },
  {
   "cell_type": "code",
   "execution_count": 91,
   "id": "f96b0834-431d-4bc0-90c0-bf6ff5f3bd93",
   "metadata": {},
   "outputs": [],
   "source": [
    "m_df = sdf.copy()\n",
    "m_df[\"gpt_result\"] = results"
   ]
  },
  {
   "cell_type": "code",
   "execution_count": 100,
   "id": "62030a5b-3294-464f-97ad-189beb59d3e8",
   "metadata": {},
   "outputs": [],
   "source": [
    "def get_maes(result):\n",
    "    return re.findall(\"MaE[0-9]+\", result)\n",
    "\n",
    "\n",
    "mae_lists = []\n",
    "for result in m_df.gpt_result:\n",
    "    mae_lists.append(get_maes(result))"
   ]
  },
  {
   "cell_type": "code",
   "execution_count": 102,
   "id": "3cb9a31d-2ad7-4c36-98bd-20f1cb857236",
   "metadata": {},
   "outputs": [],
   "source": [
    "m_df[\"n_maes\"] = [len(mae_list) for mae_list in mae_lists]"
   ]
  },
  {
   "cell_type": "code",
   "execution_count": 105,
   "id": "8b63e4ce-ddb1-404a-ad7c-ad7bb85c17ee",
   "metadata": {},
   "outputs": [
    {
     "data": {
      "text/html": [
       "<div>\n",
       "<style scoped>\n",
       "    .dataframe tbody tr th:only-of-type {\n",
       "        vertical-align: middle;\n",
       "    }\n",
       "\n",
       "    .dataframe tbody tr th {\n",
       "        vertical-align: top;\n",
       "    }\n",
       "\n",
       "    .dataframe thead th {\n",
       "        text-align: right;\n",
       "    }\n",
       "</style>\n",
       "<table border=\"1\" class=\"dataframe\">\n",
       "  <thead>\n",
       "    <tr style=\"text-align: right;\">\n",
       "      <th></th>\n",
       "      <th>question</th>\n",
       "      <th>answer</th>\n",
       "      <th>incorrect_answer</th>\n",
       "      <th>gpt_result</th>\n",
       "      <th>n_maes</th>\n",
       "    </tr>\n",
       "  </thead>\n",
       "  <tbody>\n",
       "    <tr>\n",
       "      <th>28</th>\n",
       "      <td>34/100 = _____%</td>\n",
       "      <td>34</td>\n",
       "      <td>340</td>\n",
       "      <td>One possible MaE in the incorrect answer is wh...</td>\n",
       "      <td>0</td>\n",
       "    </tr>\n",
       "    <tr>\n",
       "      <th>29</th>\n",
       "      <td>125/1000 = ____ %</td>\n",
       "      <td>12.5</td>\n",
       "      <td>125</td>\n",
       "      <td>There are no MaEs identified in the incorrect ...</td>\n",
       "      <td>0</td>\n",
       "    </tr>\n",
       "    <tr>\n",
       "      <th>37</th>\n",
       "      <td>2 x 2 = ___</td>\n",
       "      <td>2^2</td>\n",
       "      <td>4</td>\n",
       "      <td>Based on the given spreadsheet, there are no i...</td>\n",
       "      <td>0</td>\n",
       "    </tr>\n",
       "    <tr>\n",
       "      <th>56</th>\n",
       "      <td>√225 = __</td>\n",
       "      <td>15</td>\n",
       "      <td>25</td>\n",
       "      <td>There are no MaEs present in the incorrect ans...</td>\n",
       "      <td>0</td>\n",
       "    </tr>\n",
       "    <tr>\n",
       "      <th>164</th>\n",
       "      <td>Two hundred fifty three thousand three hundred...</td>\n",
       "      <td>=</td>\n",
       "      <td>2</td>\n",
       "      <td>There are no MaEs in the incorrect answer.</td>\n",
       "      <td>0</td>\n",
       "    </tr>\n",
       "  </tbody>\n",
       "</table>\n",
       "</div>"
      ],
      "text/plain": [
       "                                              question answer  \\\n",
       "28                                     34/100 = _____%     34   \n",
       "29                                   125/1000 = ____ %   12.5   \n",
       "37                                        2 x 2 = ___     2^2   \n",
       "56                                           √225 = __     15   \n",
       "164  Two hundred fifty three thousand three hundred...      =   \n",
       "\n",
       "    incorrect_answer                                         gpt_result  \\\n",
       "28               340  One possible MaE in the incorrect answer is wh...   \n",
       "29               125  There are no MaEs identified in the incorrect ...   \n",
       "37                 4  Based on the given spreadsheet, there are no i...   \n",
       "56                25  There are no MaEs present in the incorrect ans...   \n",
       "164                2         There are no MaEs in the incorrect answer.   \n",
       "\n",
       "     n_maes  \n",
       "28        0  \n",
       "29        0  \n",
       "37        0  \n",
       "56        0  \n",
       "164       0  "
      ]
     },
     "execution_count": 105,
     "metadata": {},
     "output_type": "execute_result"
    }
   ],
   "source": [
    "m_df[m_df.n_maes == 0][[\"question\", \"answer\", \"incorrect_answer\", \"gpt_result\", \"n_maes\"]]"
   ]
  },
  {
   "cell_type": "code",
   "execution_count": 112,
   "id": "235b4975-d7dc-4cef-baa4-1b48dfe8c997",
   "metadata": {},
   "outputs": [
    {
     "data": {
      "text/plain": [
       "[('MaE7', 5), ('MaE52', 4), ('MaE47', 3), ('MaE29', 3), ('MaE15', 2)]"
      ]
     },
     "execution_count": 112,
     "metadata": {},
     "output_type": "execute_result"
    }
   ],
   "source": [
    "c = Counter()\n",
    "for mae_list in mae_lists:\n",
    "    c.update(mae_list)\n",
    "c.most_common(5)"
   ]
  },
  {
   "cell_type": "code",
   "execution_count": 115,
   "id": "0017de4f-f29e-40dc-8de4-165218104076",
   "metadata": {},
   "outputs": [],
   "source": [
    "m_df[[\"lesson_code\", \"grade\", \"question\", \"answer\", \"incorrect_answer\", \"gpt_result\", \"n_maes\"]].to_csv(\n",
    "    data_dir / \"derived\" / \"misconception_identification_example.csv\"\n",
    ")"
   ]
  },
  {
   "cell_type": "code",
   "execution_count": null,
   "id": "09104411-2eba-4fac-bfa0-f70b62ff8d84",
   "metadata": {},
   "outputs": [],
   "source": []
  },
  {
   "cell_type": "code",
   "execution_count": null,
   "id": "7a59f6ef-31f5-4929-83b5-585fc9b24270",
   "metadata": {},
   "outputs": [],
   "source": []
  }
 ],
 "metadata": {
  "kernelspec": {
   "display_name": "Python 3 (ipykernel)",
   "language": "python",
   "name": "python3"
  },
  "language_info": {
   "codemirror_mode": {
    "name": "ipython",
    "version": 3
   },
   "file_extension": ".py",
   "mimetype": "text/x-python",
   "name": "python",
   "nbconvert_exporter": "python",
   "pygments_lexer": "ipython3",
   "version": "3.10.11"
  }
 },
 "nbformat": 4,
 "nbformat_minor": 5
}
