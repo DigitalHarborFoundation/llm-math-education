{
 "cells": [
  {
   "cell_type": "markdown",
   "id": "d4650b83-a468-46d1-ac41-eda0314541bf",
   "metadata": {},
   "source": [
    "Cosine Similarity timing\n",
    "===\n",
    "\n",
    "Timing a few different methods for computing cosine similarity of one vector against a large set of other vectors. This can be used for example in retrieval augmentation systems based on embeddings. The faster approach is to use an approximate algorithm; this approach is exact, at the cost of additional computation time.\n",
    "\n",
    "See https://github.com/openai/openai-python/blob/main/openai/embeddings_utils.py#L139"
   ]
  },
  {
   "cell_type": "code",
   "execution_count": 44,
   "id": "ba568b8e-c82c-4c3f-88d8-5d6f206b0a0d",
   "metadata": {},
   "outputs": [],
   "source": [
    "import time\n",
    "\n",
    "import matplotlib.pyplot as plt\n",
    "import numpy as np\n",
    "import pandas as pd\n",
    "import scipy\n",
    "from tqdm import tqdm"
   ]
  },
  {
   "cell_type": "code",
   "execution_count": 24,
   "id": "c91c6b63-5ee0-4bc7-9750-115a6f713d17",
   "metadata": {},
   "outputs": [
    {
     "data": {
      "text/plain": [
       "array([[0.        , 0.05719096]])"
      ]
     },
     "execution_count": 24,
     "metadata": {},
     "output_type": "execute_result"
    }
   ],
   "source": [
    "scipy.spatial.distance.cdist(\n",
    "    np.array([[1, 1, 1]]),\n",
    "    np.array([[1, 1, 1], [1, 1, 2]]),\n",
    "    metric=\"cosine\",\n",
    ")"
   ]
  },
  {
   "cell_type": "code",
   "execution_count": 23,
   "id": "deca81b9-2c95-4b5f-9e5e-c4329591d177",
   "metadata": {},
   "outputs": [
    {
     "data": {
      "text/plain": [
       "0.9428090415820632"
      ]
     },
     "execution_count": 23,
     "metadata": {},
     "output_type": "execute_result"
    }
   ],
   "source": [
    "# Note: cosine similarity is just 1 - cosine distance.\n",
    "1 - scipy.spatial.distance.cosine(np.array([1, 1, 1]), np.array([1, 1, 2]))"
   ]
  },
  {
   "cell_type": "code",
   "execution_count": 6,
   "id": "3df2ccd9-e31c-4925-a95d-99b5b4850cf6",
   "metadata": {},
   "outputs": [
    {
     "data": {
      "text/plain": [
       "(512,)"
      ]
     },
     "execution_count": 6,
     "metadata": {},
     "output_type": "execute_result"
    }
   ],
   "source": [
    "query = np.random.random(size=512)\n",
    "query.shape"
   ]
  },
  {
   "cell_type": "code",
   "execution_count": 7,
   "id": "ea8a0530-fa2f-4b7b-8dae-3880162cb542",
   "metadata": {},
   "outputs": [
    {
     "data": {
      "text/plain": [
       "(48, 512)"
      ]
     },
     "execution_count": 7,
     "metadata": {},
     "output_type": "execute_result"
    }
   ],
   "source": [
    "db = np.random.random(size=(48, 512))\n",
    "db.shape"
   ]
  },
  {
   "cell_type": "code",
   "execution_count": 11,
   "id": "c29328a5-c702-4d91-b39b-b10675c1a6a3",
   "metadata": {},
   "outputs": [
    {
     "data": {
      "text/plain": [
       "0.26056964768464796"
      ]
     },
     "execution_count": 11,
     "metadata": {},
     "output_type": "execute_result"
    }
   ],
   "source": [
    "scipy.spatial.distance.cosine(query, db[0, :])"
   ]
  },
  {
   "cell_type": "code",
   "execution_count": 17,
   "id": "3ebca454-bd69-4bdf-ac7f-3c74b0258864",
   "metadata": {},
   "outputs": [
    {
     "data": {
      "text/plain": [
       "array([[0.26056965, 0.25271161, 0.2367958 , 0.24536739, 0.24314732,\n",
       "        0.24599402, 0.23657472, 0.24084664, 0.23875645, 0.23218784,\n",
       "        0.24351143, 0.24897073, 0.24883449, 0.25433491, 0.23551029,\n",
       "        0.25644906, 0.24845474, 0.26725598, 0.25635885, 0.23760381,\n",
       "        0.24285746, 0.25217799, 0.24486448, 0.23510934, 0.27505571,\n",
       "        0.24729091, 0.23321341, 0.21602993, 0.25784542, 0.24507379,\n",
       "        0.24443943, 0.25102161, 0.24826339, 0.23725274, 0.25438084,\n",
       "        0.2354086 , 0.24683656, 0.24541899, 0.24124376, 0.26366446,\n",
       "        0.24585097, 0.23890764, 0.26593915, 0.23328155, 0.23562616,\n",
       "        0.24607202, 0.26223598, 0.24549929]])"
      ]
     },
     "execution_count": 17,
     "metadata": {},
     "output_type": "execute_result"
    }
   ],
   "source": [
    "scipy.spatial.distance.cdist(query.reshape((1, 512)), db, metric=\"cosine\")"
   ]
  },
  {
   "cell_type": "code",
   "execution_count": 43,
   "id": "16fc7b38-9979-4630-85e8-556ea49c34e9",
   "metadata": {},
   "outputs": [
    {
     "data": {
      "text/plain": [
       "{'embedding_size': 512,\n",
       " 'db_size': 1000,\n",
       " 'cdist_time': 0.0013499259948730469,\n",
       " 'cosine_loop_numpy_time': 0.01905202865600586,\n",
       " 'cosine_loop_comp_time': 0.011445045471191406}"
      ]
     },
     "execution_count": 43,
     "metadata": {},
     "output_type": "execute_result"
    }
   ],
   "source": [
    "def time_cossim(embedding_size=512, db_size=1000):\n",
    "    d = {\n",
    "        \"embedding_size\": embedding_size,\n",
    "        \"db_size\": db_size,\n",
    "    }\n",
    "    query = np.random.random(size=(1, embedding_size))\n",
    "    db = np.random.random(size=(db_size, embedding_size))\n",
    "\n",
    "    s = time.time()\n",
    "    scipy.spatial.distance.cdist(query, db, metric=\"cosine\")\n",
    "    d[\"cdist_time\"] = time.time() - s\n",
    "\n",
    "    s = time.time()\n",
    "    query_1d = query[0, :]\n",
    "    res = np.zeros(db_size)\n",
    "    for i in range(db_size):\n",
    "        res[i] = scipy.spatial.distance.cosine(query_1d, db[i, :])\n",
    "    d[\"cosine_loop_numpy_time\"] = time.time() - s\n",
    "\n",
    "    s = time.time()\n",
    "    res = [scipy.spatial.distance.cosine(query_1d, db[i, :]) for i in range(db_size)]\n",
    "    d[\"cosine_loop_comp_time\"] = time.time() - s\n",
    "    return d\n",
    "\n",
    "\n",
    "time_cossim()"
   ]
  },
  {
   "cell_type": "code",
   "execution_count": 91,
   "id": "cae5ee27-24db-402c-9641-4d81b5b0ffb7",
   "metadata": {},
   "outputs": [
    {
     "name": "stderr",
     "output_type": "stream",
     "text": [
      "100%|███████████████████████████████████████████████████████████████████████████████████████████████████████████████████████| 4/4 [09:12<00:00, 138.24s/it]\n"
     ]
    },
    {
     "data": {
      "text/plain": [
       "800"
      ]
     },
     "execution_count": 91,
     "metadata": {},
     "output_type": "execute_result"
    }
   ],
   "source": [
    "n_trials = 50\n",
    "ds = []\n",
    "for embedding_size in tqdm([512, 968, 1024, 1536]):\n",
    "    for db_size in [100, 1000, 10000, 100000]:\n",
    "        for i in range(n_trials):\n",
    "            d = time_cossim(embedding_size=embedding_size, db_size=db_size)\n",
    "            d[\"trial\"] = i\n",
    "            ds.append(d)\n",
    "len(ds)"
   ]
  },
  {
   "cell_type": "code",
   "execution_count": 92,
   "id": "e796f52c-f391-45c1-95dc-c2b74a91c5c5",
   "metadata": {},
   "outputs": [
    {
     "data": {
      "text/plain": [
       "(800, 6)"
      ]
     },
     "execution_count": 92,
     "metadata": {},
     "output_type": "execute_result"
    }
   ],
   "source": [
    "df = pd.DataFrame(ds)\n",
    "df.shape"
   ]
  },
  {
   "cell_type": "code",
   "execution_count": 93,
   "id": "46dd30b3-469e-4f68-bb71-0d54eb21ef2b",
   "metadata": {},
   "outputs": [
    {
     "data": {
      "text/plain": [
       "(16, 11)"
      ]
     },
     "execution_count": 93,
     "metadata": {},
     "output_type": "execute_result"
    }
   ],
   "source": [
    "agg_ds = []\n",
    "for index, group in df.groupby([\"embedding_size\", \"db_size\"]):\n",
    "    agged = group.agg([np.median, lambda d: d.quantile(0.9), lambda d: d.quantile(0.1)])\n",
    "    agged = agged.set_axis([\"median\", \"high\", \"low\"], axis=0)\n",
    "    d = {\n",
    "        \"embedding_size\": agged.embedding_size.iloc[0],\n",
    "        \"db_size\": agged.db_size.iloc[0],\n",
    "    }\n",
    "    for method in cossim_methods:\n",
    "        d[f\"{method}_median\"] = agged.loc[\"median\", method]\n",
    "        d[f\"{method}_low\"] = agged.loc[\"low\", method]\n",
    "        d[f\"{method}_high\"] = agged.loc[\"high\", method]\n",
    "    agg_ds.append(d)\n",
    "agg_df = pd.DataFrame(agg_ds)\n",
    "agg_df.shape"
   ]
  },
  {
   "cell_type": "code",
   "execution_count": 94,
   "id": "6874e10e-d304-4593-8e06-f64af32c6051",
   "metadata": {},
   "outputs": [
    {
     "data": {
      "text/html": [
       "<div>\n",
       "<style scoped>\n",
       "    .dataframe tbody tr th:only-of-type {\n",
       "        vertical-align: middle;\n",
       "    }\n",
       "\n",
       "    .dataframe tbody tr th {\n",
       "        vertical-align: top;\n",
       "    }\n",
       "\n",
       "    .dataframe thead th {\n",
       "        text-align: right;\n",
       "    }\n",
       "</style>\n",
       "<table border=\"1\" class=\"dataframe\">\n",
       "  <thead>\n",
       "    <tr style=\"text-align: right;\">\n",
       "      <th></th>\n",
       "      <th>embedding_size</th>\n",
       "      <th>db_size</th>\n",
       "      <th>cdist_time_median</th>\n",
       "      <th>cdist_time_low</th>\n",
       "      <th>cdist_time_high</th>\n",
       "      <th>cosine_loop_numpy_time_median</th>\n",
       "      <th>cosine_loop_numpy_time_low</th>\n",
       "      <th>cosine_loop_numpy_time_high</th>\n",
       "      <th>cosine_loop_comp_time_median</th>\n",
       "      <th>cosine_loop_comp_time_low</th>\n",
       "      <th>cosine_loop_comp_time_high</th>\n",
       "    </tr>\n",
       "  </thead>\n",
       "  <tbody>\n",
       "    <tr>\n",
       "      <th>0</th>\n",
       "      <td>512.0</td>\n",
       "      <td>100.0</td>\n",
       "      <td>0.000096</td>\n",
       "      <td>0.000080</td>\n",
       "      <td>0.000140</td>\n",
       "      <td>0.000993</td>\n",
       "      <td>0.000880</td>\n",
       "      <td>0.001300</td>\n",
       "      <td>0.000992</td>\n",
       "      <td>0.000877</td>\n",
       "      <td>0.001315</td>\n",
       "    </tr>\n",
       "    <tr>\n",
       "      <th>1</th>\n",
       "      <td>512.0</td>\n",
       "      <td>1000.0</td>\n",
       "      <td>0.000773</td>\n",
       "      <td>0.000755</td>\n",
       "      <td>0.000827</td>\n",
       "      <td>0.008699</td>\n",
       "      <td>0.008592</td>\n",
       "      <td>0.009315</td>\n",
       "      <td>0.008685</td>\n",
       "      <td>0.008583</td>\n",
       "      <td>0.009444</td>\n",
       "    </tr>\n",
       "    <tr>\n",
       "      <th>2</th>\n",
       "      <td>512.0</td>\n",
       "      <td>10000.0</td>\n",
       "      <td>0.007694</td>\n",
       "      <td>0.007602</td>\n",
       "      <td>0.008060</td>\n",
       "      <td>0.089121</td>\n",
       "      <td>0.086913</td>\n",
       "      <td>0.090791</td>\n",
       "      <td>0.088603</td>\n",
       "      <td>0.086627</td>\n",
       "      <td>0.091106</td>\n",
       "    </tr>\n",
       "    <tr>\n",
       "      <th>3</th>\n",
       "      <td>512.0</td>\n",
       "      <td>100000.0</td>\n",
       "      <td>0.085896</td>\n",
       "      <td>0.082920</td>\n",
       "      <td>0.091689</td>\n",
       "      <td>0.902907</td>\n",
       "      <td>0.893452</td>\n",
       "      <td>0.916733</td>\n",
       "      <td>0.898963</td>\n",
       "      <td>0.890630</td>\n",
       "      <td>0.909455</td>\n",
       "    </tr>\n",
       "    <tr>\n",
       "      <th>4</th>\n",
       "      <td>968.0</td>\n",
       "      <td>100.0</td>\n",
       "      <td>0.000162</td>\n",
       "      <td>0.000161</td>\n",
       "      <td>0.000173</td>\n",
       "      <td>0.000929</td>\n",
       "      <td>0.000913</td>\n",
       "      <td>0.000957</td>\n",
       "      <td>0.000927</td>\n",
       "      <td>0.000908</td>\n",
       "      <td>0.000953</td>\n",
       "    </tr>\n",
       "    <tr>\n",
       "      <th>5</th>\n",
       "      <td>968.0</td>\n",
       "      <td>1000.0</td>\n",
       "      <td>0.001619</td>\n",
       "      <td>0.001582</td>\n",
       "      <td>0.001754</td>\n",
       "      <td>0.009511</td>\n",
       "      <td>0.009266</td>\n",
       "      <td>0.009790</td>\n",
       "      <td>0.009530</td>\n",
       "      <td>0.009249</td>\n",
       "      <td>0.009845</td>\n",
       "    </tr>\n",
       "    <tr>\n",
       "      <th>6</th>\n",
       "      <td>968.0</td>\n",
       "      <td>10000.0</td>\n",
       "      <td>0.016190</td>\n",
       "      <td>0.015892</td>\n",
       "      <td>0.016634</td>\n",
       "      <td>0.095351</td>\n",
       "      <td>0.093832</td>\n",
       "      <td>0.096229</td>\n",
       "      <td>0.095240</td>\n",
       "      <td>0.094229</td>\n",
       "      <td>0.096633</td>\n",
       "    </tr>\n",
       "    <tr>\n",
       "      <th>7</th>\n",
       "      <td>968.0</td>\n",
       "      <td>100000.0</td>\n",
       "      <td>0.178575</td>\n",
       "      <td>0.170591</td>\n",
       "      <td>0.204396</td>\n",
       "      <td>0.949317</td>\n",
       "      <td>0.940351</td>\n",
       "      <td>0.963200</td>\n",
       "      <td>0.948642</td>\n",
       "      <td>0.937030</td>\n",
       "      <td>0.962121</td>\n",
       "    </tr>\n",
       "    <tr>\n",
       "      <th>8</th>\n",
       "      <td>1024.0</td>\n",
       "      <td>100.0</td>\n",
       "      <td>0.000175</td>\n",
       "      <td>0.000171</td>\n",
       "      <td>0.000197</td>\n",
       "      <td>0.000939</td>\n",
       "      <td>0.000922</td>\n",
       "      <td>0.001024</td>\n",
       "      <td>0.000940</td>\n",
       "      <td>0.000917</td>\n",
       "      <td>0.001013</td>\n",
       "    </tr>\n",
       "    <tr>\n",
       "      <th>9</th>\n",
       "      <td>1024.0</td>\n",
       "      <td>1000.0</td>\n",
       "      <td>0.001708</td>\n",
       "      <td>0.001684</td>\n",
       "      <td>0.001780</td>\n",
       "      <td>0.009359</td>\n",
       "      <td>0.009235</td>\n",
       "      <td>0.009895</td>\n",
       "      <td>0.009410</td>\n",
       "      <td>0.009249</td>\n",
       "      <td>0.010207</td>\n",
       "    </tr>\n",
       "    <tr>\n",
       "      <th>10</th>\n",
       "      <td>1024.0</td>\n",
       "      <td>10000.0</td>\n",
       "      <td>0.017124</td>\n",
       "      <td>0.016981</td>\n",
       "      <td>0.017751</td>\n",
       "      <td>0.096190</td>\n",
       "      <td>0.094769</td>\n",
       "      <td>0.098420</td>\n",
       "      <td>0.096884</td>\n",
       "      <td>0.094598</td>\n",
       "      <td>0.098595</td>\n",
       "    </tr>\n",
       "    <tr>\n",
       "      <th>11</th>\n",
       "      <td>1024.0</td>\n",
       "      <td>100000.0</td>\n",
       "      <td>0.186764</td>\n",
       "      <td>0.182544</td>\n",
       "      <td>0.204925</td>\n",
       "      <td>0.969171</td>\n",
       "      <td>0.959610</td>\n",
       "      <td>0.987889</td>\n",
       "      <td>0.962767</td>\n",
       "      <td>0.955102</td>\n",
       "      <td>0.984131</td>\n",
       "    </tr>\n",
       "    <tr>\n",
       "      <th>12</th>\n",
       "      <td>1536.0</td>\n",
       "      <td>100.0</td>\n",
       "      <td>0.000263</td>\n",
       "      <td>0.000261</td>\n",
       "      <td>0.000270</td>\n",
       "      <td>0.000987</td>\n",
       "      <td>0.000976</td>\n",
       "      <td>0.001018</td>\n",
       "      <td>0.000977</td>\n",
       "      <td>0.000968</td>\n",
       "      <td>0.001008</td>\n",
       "    </tr>\n",
       "    <tr>\n",
       "      <th>13</th>\n",
       "      <td>1536.0</td>\n",
       "      <td>1000.0</td>\n",
       "      <td>0.002610</td>\n",
       "      <td>0.002588</td>\n",
       "      <td>0.002732</td>\n",
       "      <td>0.009917</td>\n",
       "      <td>0.009793</td>\n",
       "      <td>0.010496</td>\n",
       "      <td>0.009910</td>\n",
       "      <td>0.009749</td>\n",
       "      <td>0.010944</td>\n",
       "    </tr>\n",
       "    <tr>\n",
       "      <th>14</th>\n",
       "      <td>1536.0</td>\n",
       "      <td>10000.0</td>\n",
       "      <td>0.026310</td>\n",
       "      <td>0.026059</td>\n",
       "      <td>0.027215</td>\n",
       "      <td>0.101099</td>\n",
       "      <td>0.099854</td>\n",
       "      <td>0.103800</td>\n",
       "      <td>0.101240</td>\n",
       "      <td>0.099614</td>\n",
       "      <td>0.103961</td>\n",
       "    </tr>\n",
       "    <tr>\n",
       "      <th>15</th>\n",
       "      <td>1536.0</td>\n",
       "      <td>100000.0</td>\n",
       "      <td>0.294039</td>\n",
       "      <td>0.277531</td>\n",
       "      <td>0.346399</td>\n",
       "      <td>1.027146</td>\n",
       "      <td>1.010957</td>\n",
       "      <td>1.054374</td>\n",
       "      <td>1.023777</td>\n",
       "      <td>1.007066</td>\n",
       "      <td>1.169910</td>\n",
       "    </tr>\n",
       "  </tbody>\n",
       "</table>\n",
       "</div>"
      ],
      "text/plain": [
       "    embedding_size   db_size  cdist_time_median  cdist_time_low  \\\n",
       "0            512.0     100.0           0.000096        0.000080   \n",
       "1            512.0    1000.0           0.000773        0.000755   \n",
       "2            512.0   10000.0           0.007694        0.007602   \n",
       "3            512.0  100000.0           0.085896        0.082920   \n",
       "4            968.0     100.0           0.000162        0.000161   \n",
       "5            968.0    1000.0           0.001619        0.001582   \n",
       "6            968.0   10000.0           0.016190        0.015892   \n",
       "7            968.0  100000.0           0.178575        0.170591   \n",
       "8           1024.0     100.0           0.000175        0.000171   \n",
       "9           1024.0    1000.0           0.001708        0.001684   \n",
       "10          1024.0   10000.0           0.017124        0.016981   \n",
       "11          1024.0  100000.0           0.186764        0.182544   \n",
       "12          1536.0     100.0           0.000263        0.000261   \n",
       "13          1536.0    1000.0           0.002610        0.002588   \n",
       "14          1536.0   10000.0           0.026310        0.026059   \n",
       "15          1536.0  100000.0           0.294039        0.277531   \n",
       "\n",
       "    cdist_time_high  cosine_loop_numpy_time_median  \\\n",
       "0          0.000140                       0.000993   \n",
       "1          0.000827                       0.008699   \n",
       "2          0.008060                       0.089121   \n",
       "3          0.091689                       0.902907   \n",
       "4          0.000173                       0.000929   \n",
       "5          0.001754                       0.009511   \n",
       "6          0.016634                       0.095351   \n",
       "7          0.204396                       0.949317   \n",
       "8          0.000197                       0.000939   \n",
       "9          0.001780                       0.009359   \n",
       "10         0.017751                       0.096190   \n",
       "11         0.204925                       0.969171   \n",
       "12         0.000270                       0.000987   \n",
       "13         0.002732                       0.009917   \n",
       "14         0.027215                       0.101099   \n",
       "15         0.346399                       1.027146   \n",
       "\n",
       "    cosine_loop_numpy_time_low  cosine_loop_numpy_time_high  \\\n",
       "0                     0.000880                     0.001300   \n",
       "1                     0.008592                     0.009315   \n",
       "2                     0.086913                     0.090791   \n",
       "3                     0.893452                     0.916733   \n",
       "4                     0.000913                     0.000957   \n",
       "5                     0.009266                     0.009790   \n",
       "6                     0.093832                     0.096229   \n",
       "7                     0.940351                     0.963200   \n",
       "8                     0.000922                     0.001024   \n",
       "9                     0.009235                     0.009895   \n",
       "10                    0.094769                     0.098420   \n",
       "11                    0.959610                     0.987889   \n",
       "12                    0.000976                     0.001018   \n",
       "13                    0.009793                     0.010496   \n",
       "14                    0.099854                     0.103800   \n",
       "15                    1.010957                     1.054374   \n",
       "\n",
       "    cosine_loop_comp_time_median  cosine_loop_comp_time_low  \\\n",
       "0                       0.000992                   0.000877   \n",
       "1                       0.008685                   0.008583   \n",
       "2                       0.088603                   0.086627   \n",
       "3                       0.898963                   0.890630   \n",
       "4                       0.000927                   0.000908   \n",
       "5                       0.009530                   0.009249   \n",
       "6                       0.095240                   0.094229   \n",
       "7                       0.948642                   0.937030   \n",
       "8                       0.000940                   0.000917   \n",
       "9                       0.009410                   0.009249   \n",
       "10                      0.096884                   0.094598   \n",
       "11                      0.962767                   0.955102   \n",
       "12                      0.000977                   0.000968   \n",
       "13                      0.009910                   0.009749   \n",
       "14                      0.101240                   0.099614   \n",
       "15                      1.023777                   1.007066   \n",
       "\n",
       "    cosine_loop_comp_time_high  \n",
       "0                     0.001315  \n",
       "1                     0.009444  \n",
       "2                     0.091106  \n",
       "3                     0.909455  \n",
       "4                     0.000953  \n",
       "5                     0.009845  \n",
       "6                     0.096633  \n",
       "7                     0.962121  \n",
       "8                     0.001013  \n",
       "9                     0.010207  \n",
       "10                    0.098595  \n",
       "11                    0.984131  \n",
       "12                    0.001008  \n",
       "13                    0.010944  \n",
       "14                    0.103961  \n",
       "15                    1.169910  "
      ]
     },
     "execution_count": 94,
     "metadata": {},
     "output_type": "execute_result"
    }
   ],
   "source": [
    "# compute time scales only modestly with embedding size\n",
    "# it's all about the size of the database\n",
    "# of the three methods, computing the cdist is clearly the fastest\n",
    "agg_df"
   ]
  },
  {
   "cell_type": "code",
   "execution_count": 95,
   "id": "f87baea6-b4ed-4071-9b69-c1127c6a3f6f",
   "metadata": {},
   "outputs": [
    {
     "data": {
      "text/html": [
       "<div>\n",
       "<style scoped>\n",
       "    .dataframe tbody tr th:only-of-type {\n",
       "        vertical-align: middle;\n",
       "    }\n",
       "\n",
       "    .dataframe tbody tr th {\n",
       "        vertical-align: top;\n",
       "    }\n",
       "\n",
       "    .dataframe thead th {\n",
       "        text-align: right;\n",
       "    }\n",
       "</style>\n",
       "<table border=\"1\" class=\"dataframe\">\n",
       "  <thead>\n",
       "    <tr style=\"text-align: right;\">\n",
       "      <th></th>\n",
       "      <th>embedding_size</th>\n",
       "      <th>db_size</th>\n",
       "      <th>cdist_time_median</th>\n",
       "      <th>cdist_time_low</th>\n",
       "      <th>cdist_time_high</th>\n",
       "      <th>cosine_loop_numpy_time_median</th>\n",
       "      <th>cosine_loop_numpy_time_low</th>\n",
       "      <th>cosine_loop_numpy_time_high</th>\n",
       "      <th>cosine_loop_comp_time_median</th>\n",
       "      <th>cosine_loop_comp_time_low</th>\n",
       "      <th>cosine_loop_comp_time_high</th>\n",
       "    </tr>\n",
       "  </thead>\n",
       "  <tbody>\n",
       "    <tr>\n",
       "      <th>12</th>\n",
       "      <td>1536.0</td>\n",
       "      <td>100.0</td>\n",
       "      <td>0.000263</td>\n",
       "      <td>0.000261</td>\n",
       "      <td>0.000270</td>\n",
       "      <td>0.000987</td>\n",
       "      <td>0.000976</td>\n",
       "      <td>0.001018</td>\n",
       "      <td>0.000977</td>\n",
       "      <td>0.000968</td>\n",
       "      <td>0.001008</td>\n",
       "    </tr>\n",
       "    <tr>\n",
       "      <th>13</th>\n",
       "      <td>1536.0</td>\n",
       "      <td>1000.0</td>\n",
       "      <td>0.002610</td>\n",
       "      <td>0.002588</td>\n",
       "      <td>0.002732</td>\n",
       "      <td>0.009917</td>\n",
       "      <td>0.009793</td>\n",
       "      <td>0.010496</td>\n",
       "      <td>0.009910</td>\n",
       "      <td>0.009749</td>\n",
       "      <td>0.010944</td>\n",
       "    </tr>\n",
       "    <tr>\n",
       "      <th>14</th>\n",
       "      <td>1536.0</td>\n",
       "      <td>10000.0</td>\n",
       "      <td>0.026310</td>\n",
       "      <td>0.026059</td>\n",
       "      <td>0.027215</td>\n",
       "      <td>0.101099</td>\n",
       "      <td>0.099854</td>\n",
       "      <td>0.103800</td>\n",
       "      <td>0.101240</td>\n",
       "      <td>0.099614</td>\n",
       "      <td>0.103961</td>\n",
       "    </tr>\n",
       "    <tr>\n",
       "      <th>15</th>\n",
       "      <td>1536.0</td>\n",
       "      <td>100000.0</td>\n",
       "      <td>0.294039</td>\n",
       "      <td>0.277531</td>\n",
       "      <td>0.346399</td>\n",
       "      <td>1.027146</td>\n",
       "      <td>1.010957</td>\n",
       "      <td>1.054374</td>\n",
       "      <td>1.023777</td>\n",
       "      <td>1.007066</td>\n",
       "      <td>1.169910</td>\n",
       "    </tr>\n",
       "  </tbody>\n",
       "</table>\n",
       "</div>"
      ],
      "text/plain": [
       "    embedding_size   db_size  cdist_time_median  cdist_time_low  \\\n",
       "12          1536.0     100.0           0.000263        0.000261   \n",
       "13          1536.0    1000.0           0.002610        0.002588   \n",
       "14          1536.0   10000.0           0.026310        0.026059   \n",
       "15          1536.0  100000.0           0.294039        0.277531   \n",
       "\n",
       "    cdist_time_high  cosine_loop_numpy_time_median  \\\n",
       "12         0.000270                       0.000987   \n",
       "13         0.002732                       0.009917   \n",
       "14         0.027215                       0.101099   \n",
       "15         0.346399                       1.027146   \n",
       "\n",
       "    cosine_loop_numpy_time_low  cosine_loop_numpy_time_high  \\\n",
       "12                    0.000976                     0.001018   \n",
       "13                    0.009793                     0.010496   \n",
       "14                    0.099854                     0.103800   \n",
       "15                    1.010957                     1.054374   \n",
       "\n",
       "    cosine_loop_comp_time_median  cosine_loop_comp_time_low  \\\n",
       "12                      0.000977                   0.000968   \n",
       "13                      0.009910                   0.009749   \n",
       "14                      0.101240                   0.099614   \n",
       "15                      1.023777                   1.007066   \n",
       "\n",
       "    cosine_loop_comp_time_high  \n",
       "12                    0.001008  \n",
       "13                    0.010944  \n",
       "14                    0.103961  \n",
       "15                    1.169910  "
      ]
     },
     "execution_count": 95,
     "metadata": {},
     "output_type": "execute_result"
    }
   ],
   "source": [
    "sdf = agg_df[agg_df.embedding_size == 1536]\n",
    "sdf"
   ]
  },
  {
   "cell_type": "code",
   "execution_count": 102,
   "id": "d2afe1a5-b55b-45fc-b0ef-c288d2b93b90",
   "metadata": {},
   "outputs": [
    {
     "data": {
      "image/png": "[encoded data removed]",
      "text/plain": [
       "<Figure size 600x400 with 1 Axes>"
      ]
     },
     "metadata": {},
     "output_type": "display_data"
    }
   ],
   "source": [
    "# note: confidence intervals are the 10-90th percentile of timings\n",
    "fig, ax = plt.subplots(1, 1, figsize=(6, 4))\n",
    "\n",
    "x = sdf.db_size\n",
    "xs = list(range(len(x)))\n",
    "ax.set_xticks(xs, labels=[f\"{v:,.0f}\" for v in x])\n",
    "\n",
    "for cossim_method, color in zip(cossim_methods, [\"blue\", \"green\", \"red\"]):\n",
    "    ax.scatter(xs, sdf[f\"{cossim_method}_median\"], color=color, marker=\".\", label=cossim_method)\n",
    "    ax.fill_between(xs, sdf[f\"{cossim_method}_low\"], sdf[f\"{cossim_method}_high\"], color=color, alpha=0.1)\n",
    "    if cossim_method == \"cdist_time\":\n",
    "        for i, value in enumerate(sdf[f\"{cossim_method}_median\"]):\n",
    "            ax.text(i, value, f\"{value:.4f}s\", ha=\"left\" if i != len(xs) - 1 else \"right\", va=\"bottom\")\n",
    "\n",
    "ax.legend()\n",
    "ax.set_title(\"Time to compute cosine similarities with various methods\")\n",
    "ax.set_ylabel(\"Median time (s)\")\n",
    "ax.set_xlabel(\"Number of embedded documents in database\")\n",
    "\n",
    "fig.tight_layout()\n",
    "plt.show()"
   ]
  },
  {
   "cell_type": "code",
   "execution_count": null,
   "id": "46b826ae-d28f-4ad7-802c-41ea40c36c2e",
   "metadata": {},
   "outputs": [],
   "source": []
  },
  {
   "cell_type": "code",
   "execution_count": null,
   "id": "a8d127f3-b33d-4093-865e-e9031f77f5ff",
   "metadata": {},
   "outputs": [],
   "source": []
  }
 ],
 "metadata": {
  "kernelspec": {
   "display_name": "Python 3 (ipykernel)",
   "language": "python",
   "name": "python3"
  },
  "language_info": {
   "codemirror_mode": {
    "name": "ipython",
    "version": 3
   },
   "file_extension": ".py",
   "mimetype": "text/x-python",
   "name": "python",
   "nbconvert_exporter": "python",
   "pygments_lexer": "ipython3",
   "version": "3.10.11"
  }
 },
 "nbformat": 4,
 "nbformat_minor": 5
}
