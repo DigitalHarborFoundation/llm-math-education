{
 "cells": [
  {
   "cell_type": "markdown",
   "id": "d5534b34-2de1-4fc9-957c-047b7b3f4b0e",
   "metadata": {},
   "source": [
    "OpenStax Data Extraction\n",
    "===\n",
    "\n",
    "Prealgebra: https://openstax.org/books/prealgebra-2e/pages/1-introduction\n",
    "\n",
    "Algebra 1: https://openstax.org/details/books/elementary-algebra-2e"
   ]
  },
  {
   "cell_type": "code",
   "execution_count": 4,
   "id": "d8c09680-d18e-4391-9c57-66e3c23e3510",
   "metadata": {},
   "outputs": [],
   "source": [
    "import bs4\n",
    "import requests"
   ]
  },
  {
   "cell_type": "code",
   "execution_count": 6,
   "id": "0d4e339f-9fea-46b3-a8a0-d56cb2fe1e27",
   "metadata": {},
   "outputs": [],
   "source": [
    "data = requests.get(\"https://openstax.org/books/prealgebra-2e/pages/1-introduction\")"
   ]
  },
  {
   "cell_type": "code",
   "execution_count": 14,
   "id": "1d689c15-3be6-460b-9e2b-cf302f7f8ec1",
   "metadata": {},
   "outputs": [
    {
     "data": {
      "text/plain": [
       "'<!doctype html><html lang=\"en\" prefix=\"og: http://'"
      ]
     },
     "execution_count": 14,
     "metadata": {},
     "output_type": "execute_result"
    }
   ],
   "source": [
    "html_doc = data.content.decode()\n",
    "html_doc[:50]"
   ]
  },
  {
   "cell_type": "code",
   "execution_count": 15,
   "id": "b029b06e-be66-4649-b7b7-2a446f5e66f0",
   "metadata": {},
   "outputs": [],
   "source": [
    "soup = bs4.BeautifulSoup(html_doc, \"html.parser\")"
   ]
  },
  {
   "cell_type": "code",
   "execution_count": 19,
   "id": "5be0da0e-028e-423a-b36c-1e91d0dba312",
   "metadata": {},
   "outputs": [],
   "source": [
    "with open(\"doc.html\", \"w\") as outfile:\n",
    "    outfile.write(soup.prettify())"
   ]
  },
  {
   "cell_type": "code",
   "execution_count": 21,
   "id": "c9969275-0e97-4c14-a6e7-a09877268aa3",
   "metadata": {},
   "outputs": [
    {
     "data": {
      "text/plain": [
       "[]"
      ]
     },
     "execution_count": 21,
     "metadata": {},
     "output_type": "execute_result"
    }
   ],
   "source": [
    "soup.find_all(\"summary\")[0].find_all(\"a\")"
   ]
  },
  {
   "cell_type": "code",
   "execution_count": 26,
   "id": "2f84d8a0-1154-4140-b5fe-09b7e84e8903",
   "metadata": {},
   "outputs": [
    {
     "data": {
      "text/plain": [
       "172"
      ]
     },
     "execution_count": 26,
     "metadata": {},
     "output_type": "execute_result"
    }
   ],
   "source": [
    "toc = soup.find_all(attrs={\"class\": \"os-text\"})\n",
    "len(toc)"
   ]
  },
  {
   "cell_type": "code",
   "execution_count": 43,
   "id": "6b270634-332e-4fd8-b7c7-ea3a15a59072",
   "metadata": {},
   "outputs": [
    {
     "data": {
      "text/plain": [
       "[<span class=\"os-text\" data-type=\"\" itemprop=\"\">Preface</span>,\n",
       " <span class=\"os-text\" data-type=\"\" itemprop=\"\">Whole Numbers</span>,\n",
       " <span class=\"os-text\" data-type=\"\" itemprop=\"\">Introduction</span>,\n",
       " <span class=\"os-text\" data-type=\"\" itemprop=\"\">Introduction to Whole Numbers</span>,\n",
       " <span class=\"os-text\" data-type=\"\" itemprop=\"\">Add Whole Numbers</span>,\n",
       " <span class=\"os-text\" data-type=\"\" itemprop=\"\">Subtract Whole Numbers</span>,\n",
       " <span class=\"os-text\" data-type=\"\" itemprop=\"\">Multiply Whole Numbers</span>,\n",
       " <span class=\"os-text\" data-type=\"\" itemprop=\"\">Divide Whole Numbers</span>,\n",
       " <span class=\"os-text\">Chapter Review</span>,\n",
       " <span class=\"os-text\">Key Terms</span>,\n",
       " <span class=\"os-text\">Key Concepts</span>,\n",
       " <span class=\"os-text\">Exercises</span>,\n",
       " <span class=\"os-text\">Review Exercises</span>,\n",
       " <span class=\"os-text\">Practice Test</span>,\n",
       " <span class=\"os-text\" data-type=\"\" itemprop=\"\">The Language of Algebra</span>,\n",
       " <span class=\"os-text\" data-type=\"\" itemprop=\"\">Introduction to the Language of Algebra</span>,\n",
       " <span class=\"os-text\" data-type=\"\" itemprop=\"\">Use the Language of Algebra</span>,\n",
       " <span class=\"os-text\" data-type=\"\" itemprop=\"\">Evaluate, Simplify, and Translate Expressions</span>,\n",
       " <span class=\"os-text\" data-type=\"\" itemprop=\"\">Solving Equations Using the Subtraction and Addition Properties of Equality</span>,\n",
       " <span class=\"os-text\" data-type=\"\" itemprop=\"\">Find Multiples and Factors</span>,\n",
       " <span class=\"os-text\" data-type=\"\" itemprop=\"\">Prime Factorization and the Least Common Multiple</span>,\n",
       " <span class=\"os-text\">Chapter Review</span>,\n",
       " <span class=\"os-text\">Key Terms</span>,\n",
       " <span class=\"os-text\">Key Concepts</span>,\n",
       " <span class=\"os-text\">Exercises</span>,\n",
       " <span class=\"os-text\">Review Exercises</span>,\n",
       " <span class=\"os-text\">Practice Test</span>,\n",
       " <span class=\"os-text\" data-type=\"\" itemprop=\"\">Integers</span>,\n",
       " <span class=\"os-text\" data-type=\"\" itemprop=\"\">Introduction to Integers</span>,\n",
       " <span class=\"os-text\" data-type=\"\" itemprop=\"\">Introduction to Integers</span>,\n",
       " <span class=\"os-text\" data-type=\"\" itemprop=\"\">Add Integers</span>,\n",
       " <span class=\"os-text\" data-type=\"\" itemprop=\"\">Subtract Integers</span>,\n",
       " <span class=\"os-text\" data-type=\"\" itemprop=\"\">Multiply and Divide Integers</span>,\n",
       " <span class=\"os-text\" data-type=\"\" itemprop=\"\">Solve Equations Using Integers; The Division Property of Equality</span>,\n",
       " <span class=\"os-text\">Chapter Review</span>,\n",
       " <span class=\"os-text\">Key Terms</span>,\n",
       " <span class=\"os-text\">Key Concepts</span>,\n",
       " <span class=\"os-text\">Exercises</span>,\n",
       " <span class=\"os-text\">Review Exercises</span>,\n",
       " <span class=\"os-text\">Practice Test</span>,\n",
       " <span class=\"os-text\" data-type=\"\" itemprop=\"\">Fractions</span>,\n",
       " <span class=\"os-text\" data-type=\"\" itemprop=\"\">Introduction to Fractions</span>,\n",
       " <span class=\"os-text\" data-type=\"\" itemprop=\"\">Visualize Fractions</span>,\n",
       " <span class=\"os-text\" data-type=\"\" itemprop=\"\">Multiply and Divide Fractions</span>,\n",
       " <span class=\"os-text\" data-type=\"\" itemprop=\"\">Multiply and Divide Mixed Numbers and Complex Fractions</span>,\n",
       " <span class=\"os-text\" data-type=\"\" itemprop=\"\">Add and Subtract Fractions with Common Denominators</span>,\n",
       " <span class=\"os-text\" data-type=\"\" itemprop=\"\">Add and Subtract Fractions with Different Denominators</span>,\n",
       " <span class=\"os-text\" data-type=\"\" itemprop=\"\">Add and Subtract Mixed Numbers</span>,\n",
       " <span class=\"os-text\" data-type=\"\" itemprop=\"\">Solve Equations with Fractions</span>,\n",
       " <span class=\"os-text\">Chapter Review</span>,\n",
       " <span class=\"os-text\">Key Terms</span>,\n",
       " <span class=\"os-text\">Key Concepts</span>,\n",
       " <span class=\"os-text\">Exercises</span>,\n",
       " <span class=\"os-text\">Review Exercises</span>,\n",
       " <span class=\"os-text\">Practice Test</span>,\n",
       " <span class=\"os-text\" data-type=\"\" itemprop=\"\">Decimals</span>,\n",
       " <span class=\"os-text\" data-type=\"\" itemprop=\"\">Introduction to Decimals</span>,\n",
       " <span class=\"os-text\" data-type=\"\" itemprop=\"\">Decimals</span>,\n",
       " <span class=\"os-text\" data-type=\"\" itemprop=\"\">Decimal Operations</span>,\n",
       " <span class=\"os-text\" data-type=\"\" itemprop=\"\">Decimals and Fractions</span>,\n",
       " <span class=\"os-text\" data-type=\"\" itemprop=\"\">Solve Equations with Decimals</span>,\n",
       " <span class=\"os-text\" data-type=\"\" itemprop=\"\">Averages and Probability</span>,\n",
       " <span class=\"os-text\" data-type=\"\" itemprop=\"\">Ratios and Rate</span>,\n",
       " <span class=\"os-text\" data-type=\"\" itemprop=\"\">Simplify and Use Square Roots</span>,\n",
       " <span class=\"os-text\">Chapter Review</span>,\n",
       " <span class=\"os-text\">Key Terms</span>,\n",
       " <span class=\"os-text\">Key Concepts</span>,\n",
       " <span class=\"os-text\">Exercises</span>,\n",
       " <span class=\"os-text\">Review Exercises</span>,\n",
       " <span class=\"os-text\">Practice Test</span>,\n",
       " <span class=\"os-text\" data-type=\"\" itemprop=\"\">Percents</span>,\n",
       " <span class=\"os-text\" data-type=\"\" itemprop=\"\">Introduction to Percents</span>,\n",
       " <span class=\"os-text\" data-type=\"\" itemprop=\"\">Understand Percent</span>,\n",
       " <span class=\"os-text\" data-type=\"\" itemprop=\"\">Solve General Applications of Percent</span>,\n",
       " <span class=\"os-text\" data-type=\"\" itemprop=\"\">Solve Sales Tax, Commission, and Discount Applications</span>,\n",
       " <span class=\"os-text\" data-type=\"\" itemprop=\"\">Solve Simple Interest Applications</span>,\n",
       " <span class=\"os-text\" data-type=\"\" itemprop=\"\">Solve Proportions and their Applications</span>,\n",
       " <span class=\"os-text\">Chapter Review</span>,\n",
       " <span class=\"os-text\">Key Terms</span>,\n",
       " <span class=\"os-text\">Key Concepts</span>,\n",
       " <span class=\"os-text\">Exercises</span>,\n",
       " <span class=\"os-text\">Review Exercises</span>,\n",
       " <span class=\"os-text\">Practice Test</span>,\n",
       " <span class=\"os-text\" data-type=\"\" itemprop=\"\">The Properties of Real Numbers</span>,\n",
       " <span class=\"os-text\" data-type=\"\" itemprop=\"\">Introduction to the Properties of Real Numbers</span>,\n",
       " <span class=\"os-text\" data-type=\"\" itemprop=\"\">Rational and Irrational Numbers</span>,\n",
       " <span class=\"os-text\" data-type=\"\" itemprop=\"\">Commutative and Associative Properties</span>,\n",
       " <span class=\"os-text\" data-type=\"\" itemprop=\"\">Distributive Property</span>,\n",
       " <span class=\"os-text\" data-type=\"\" itemprop=\"\">Properties of Identity, Inverses, and Zero</span>,\n",
       " <span class=\"os-text\" data-type=\"\" itemprop=\"\">Systems of Measurement</span>,\n",
       " <span class=\"os-text\">Chapter Review</span>,\n",
       " <span class=\"os-text\">Key Terms</span>,\n",
       " <span class=\"os-text\">Key Concepts</span>,\n",
       " <span class=\"os-text\">Exercises</span>,\n",
       " <span class=\"os-text\">Review Exercises</span>,\n",
       " <span class=\"os-text\">Practice Test</span>,\n",
       " <span class=\"os-text\" data-type=\"\" itemprop=\"\">Solving Linear Equations</span>,\n",
       " <span class=\"os-text\" data-type=\"\" itemprop=\"\">Introduction to Solving Linear Equations</span>,\n",
       " <span class=\"os-text\" data-type=\"\" itemprop=\"\">Solve Equations Using the Subtraction and Addition Properties of Equality</span>,\n",
       " <span class=\"os-text\" data-type=\"\" itemprop=\"\">Solve Equations Using the Division and Multiplication Properties of Equality</span>,\n",
       " <span class=\"os-text\" data-type=\"\" itemprop=\"\">Solve Equations with Variables and Constants on Both Sides</span>,\n",
       " <span class=\"os-text\" data-type=\"\" itemprop=\"\">Solve Equations with Fraction or Decimal Coefficients</span>,\n",
       " <span class=\"os-text\">Chapter Review</span>,\n",
       " <span class=\"os-text\">Key Terms</span>,\n",
       " <span class=\"os-text\">Key Concepts</span>,\n",
       " <span class=\"os-text\">Exercises</span>,\n",
       " <span class=\"os-text\">Review Exercises</span>,\n",
       " <span class=\"os-text\">Practice Test</span>,\n",
       " <span class=\"os-text\" data-type=\"\" itemprop=\"\">Math Models and Geometry</span>,\n",
       " <span class=\"os-text\" data-type=\"\" itemprop=\"\">Introduction</span>,\n",
       " <span class=\"os-text\" data-type=\"\" itemprop=\"\">Use a Problem Solving Strategy</span>,\n",
       " <span class=\"os-text\" data-type=\"\" itemprop=\"\">Solve Money Applications</span>,\n",
       " <span class=\"os-text\" data-type=\"\" itemprop=\"\">Use Properties of Angles, Triangles, and the Pythagorean Theorem</span>,\n",
       " <span class=\"os-text\" data-type=\"\" itemprop=\"\">Use Properties of Rectangles, Triangles, and Trapezoids</span>,\n",
       " <span class=\"os-text\" data-type=\"\" itemprop=\"\">Solve Geometry Applications: Circles and Irregular Figures</span>,\n",
       " <span class=\"os-text\" data-type=\"\" itemprop=\"\">Solve Geometry Applications: Volume and Surface Area</span>,\n",
       " <span class=\"os-text\" data-type=\"\" itemprop=\"\">Solve a Formula for a Specific Variable</span>,\n",
       " <span class=\"os-text\">Chapter Review</span>,\n",
       " <span class=\"os-text\">Key Terms</span>,\n",
       " <span class=\"os-text\">Key Concepts</span>,\n",
       " <span class=\"os-text\">Exercises</span>,\n",
       " <span class=\"os-text\">Review Exercises</span>,\n",
       " <span class=\"os-text\">Practice Test</span>,\n",
       " <span class=\"os-text\" data-type=\"\" itemprop=\"\">Polynomials</span>,\n",
       " <span class=\"os-text\" data-type=\"\" itemprop=\"\">Introduction to Polynomials</span>,\n",
       " <span class=\"os-text\" data-type=\"\" itemprop=\"\">Add and Subtract Polynomials</span>,\n",
       " <span class=\"os-text\" data-type=\"\" itemprop=\"\">Use Multiplication Properties of Exponents</span>,\n",
       " <span class=\"os-text\" data-type=\"\" itemprop=\"\">Multiply Polynomials</span>,\n",
       " <span class=\"os-text\" data-type=\"\" itemprop=\"\">Divide Monomials</span>,\n",
       " <span class=\"os-text\" data-type=\"\" itemprop=\"\">Integer Exponents and Scientific Notation</span>,\n",
       " <span class=\"os-text\" data-type=\"\" itemprop=\"\">Introduction to Factoring Polynomials</span>,\n",
       " <span class=\"os-text\">Chapter Review</span>,\n",
       " <span class=\"os-text\">Key Terms</span>,\n",
       " <span class=\"os-text\">Key Concepts</span>,\n",
       " <span class=\"os-text\">Exercises</span>,\n",
       " <span class=\"os-text\">Review Exercises</span>,\n",
       " <span class=\"os-text\">Practice Test</span>,\n",
       " <span class=\"os-text\" data-type=\"\" itemprop=\"\">Graphs</span>,\n",
       " <span class=\"os-text\" data-type=\"\" itemprop=\"\">Graphs</span>,\n",
       " <span class=\"os-text\" data-type=\"\" itemprop=\"\">Use the Rectangular Coordinate System</span>,\n",
       " <span class=\"os-text\" data-type=\"\" itemprop=\"\">Graphing Linear Equations</span>,\n",
       " <span class=\"os-text\" data-type=\"\" itemprop=\"\">Graphing with Intercepts</span>,\n",
       " <span class=\"os-text\" data-type=\"\" itemprop=\"\">Understand Slope of a Line</span>,\n",
       " <span class=\"os-text\">Chapter Review</span>,\n",
       " <span class=\"os-text\">Key Terms</span>,\n",
       " <span class=\"os-text\">Key Concepts</span>,\n",
       " <span class=\"os-text\">Exercises</span>,\n",
       " <span class=\"os-text\">Review Exercises</span>,\n",
       " <span class=\"os-text\">Practice Test</span>,\n",
       " <span class=\"os-text\" data-type=\"\" itemprop=\"\">Cumulative Review</span>,\n",
       " <span class=\"os-text\" data-type=\"\" itemprop=\"\">Powers and Roots Tables</span>,\n",
       " <span class=\"os-text\" data-type=\"\" itemprop=\"\">Geometric Formulas</span>,\n",
       " <span class=\"os-text\">Answer Key</span>,\n",
       " <span class=\"os-text\">Chapter 1</span>,\n",
       " <span class=\"os-text\">Chapter 2</span>,\n",
       " <span class=\"os-text\">Chapter 3</span>,\n",
       " <span class=\"os-text\">Chapter 4</span>,\n",
       " <span class=\"os-text\">Chapter 5</span>,\n",
       " <span class=\"os-text\">Chapter 6</span>,\n",
       " <span class=\"os-text\">Chapter 7</span>,\n",
       " <span class=\"os-text\">Chapter 8</span>,\n",
       " <span class=\"os-text\">Chapter 9</span>,\n",
       " <span class=\"os-text\">Chapter 10</span>,\n",
       " <span class=\"os-text\">Chapter 11</span>,\n",
       " <span class=\"os-text\">Index</span>]"
      ]
     },
     "execution_count": 43,
     "metadata": {},
     "output_type": "execute_result"
    }
   ],
   "source": [
    "toc[3].parent.parent.parent.parent.parent.parent.find_all(attrs={\"class\": \"os-text\"})"
   ]
  },
  {
   "cell_type": "code",
   "execution_count": null,
   "id": "afeff473-839f-4681-8ca1-8494386b700c",
   "metadata": {},
   "outputs": [],
   "source": []
  }
 ],
 "metadata": {
  "kernelspec": {
   "display_name": "Python 3 (ipykernel)",
   "language": "python",
   "name": "python3"
  },
  "language_info": {
   "codemirror_mode": {
    "name": "ipython",
    "version": 3
   },
   "file_extension": ".py",
   "mimetype": "text/x-python",
   "name": "python",
   "nbconvert_exporter": "python",
   "pygments_lexer": "ipython3",
   "version": "3.10.11"
  }
 },
 "nbformat": 4,
 "nbformat_minor": 5
}
