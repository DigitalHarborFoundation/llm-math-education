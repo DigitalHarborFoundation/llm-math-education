{
 "cells": [
  {
   "cell_type": "markdown",
   "id": "01ed92ab-bd20-4e43-9436-447301edab14",
   "metadata": {},
   "source": [
    "Evaluate Retrieval Impact\n",
    "===\n",
    "\n",
    "Questions:\n",
    " - Does retrieval matter much?\n",
    " - Does it matter if the retrieval is relevant to the user's query?\n",
    "\n"
   ]
  },
  {
   "cell_type": "code",
   "execution_count": 1,
   "id": "75bad6ad-c299-4542-bae9-e1f528b2fcf6",
   "metadata": {},
   "outputs": [],
   "source": [
    "import json\n",
    "import os\n",
    "import pickle\n",
    "import random\n",
    "import time\n",
    "from pathlib import Path\n",
    "from pprint import pprint\n",
    "\n",
    "import dotenv\n",
    "import matplotlib\n",
    "import matplotlib.pyplot as plt\n",
    "import numpy as np\n",
    "import openai\n",
    "import pandas as pd\n",
    "import scipy\n",
    "import sklearn.metrics\n",
    "import tiktoken\n",
    "from tqdm import tqdm\n",
    "\n",
    "from llm_math_education import prompt_utils, retrieval, retrieval_strategies\n",
    "from llm_math_education.prompts import mathqa as mathqa_prompts"
   ]
  },
  {
   "cell_type": "code",
   "execution_count": 2,
   "id": "e7e6f1c5-1318-45e5-a7d5-9cf52ca4dde6",
   "metadata": {},
   "outputs": [
    {
     "data": {
      "text/plain": [
       "True"
      ]
     },
     "execution_count": 2,
     "metadata": {},
     "output_type": "execute_result"
    }
   ],
   "source": [
    "dotenv.load_dotenv(\"../.env\")"
   ]
  },
  {
   "cell_type": "code",
   "execution_count": 3,
   "id": "8c032d5d-70ac-4964-9fd5-15f5dfc79c34",
   "metadata": {},
   "outputs": [
    {
     "data": {
      "text/plain": [
       "'sk-'"
      ]
     },
     "execution_count": 3,
     "metadata": {},
     "output_type": "execute_result"
    }
   ],
   "source": [
    "os.environ[\"OPENAI_API_KEY\"][:3]"
   ]
  },
  {
   "cell_type": "code",
   "execution_count": 4,
   "id": "257d08da-b5c9-4c60-a1fb-3ca40657bbce",
   "metadata": {},
   "outputs": [],
   "source": [
    "openai.api_key = os.environ[\"OPENAI_API_KEY\"]"
   ]
  },
  {
   "cell_type": "code",
   "execution_count": 5,
   "id": "16509047-5873-4bd9-937c-ef33cc1e028b",
   "metadata": {},
   "outputs": [
    {
     "data": {
      "text/plain": [
       "(67, 18)"
      ]
     },
     "execution_count": 5,
     "metadata": {},
     "output_type": "execute_result"
    }
   ],
   "source": [
    "data_dir = Path(\"../data\")\n",
    "assert data_dir.exists()\n",
    "with open(data_dir / \"derived\" / \"rori_lessons.json\") as infile:\n",
    "    df = pd.read_json(infile)\n",
    "df.shape"
   ]
  },
  {
   "cell_type": "code",
   "execution_count": null,
   "id": "39560ff4-1af1-4745-bcd5-338641e792c8",
   "metadata": {},
   "outputs": [],
   "source": []
  },
  {
   "cell_type": "markdown",
   "id": "d7e2b31e-3c4d-49d5-b490-bf562c464393",
   "metadata": {},
   "source": [
    "### Load query data"
   ]
  },
  {
   "cell_type": "code",
   "execution_count": 6,
   "id": "0dbca40c-3206-43fd-86fd-73bff4189cf3",
   "metadata": {},
   "outputs": [
    {
     "data": {
      "text/plain": [
       "51"
      ]
     },
     "execution_count": 6,
     "metadata": {},
     "output_type": "execute_result"
    }
   ],
   "source": [
    "mn_general_student_queries_filepath = data_dir / \"app_data\" / \"mn_general_student_queries.csv\"\n",
    "query_df = pd.read_csv(mn_general_student_queries_filepath)\n",
    "student_queries = [\n",
    "    row.post_content.strip().replace(\"[Continued:]\", \"\\n\")\n",
    "    for row in query_df.sample(frac=1, random_state=87896).itertuples()\n",
    "    if row.is_respondable_query == \"general\"\n",
    "]\n",
    "len(student_queries)"
   ]
  },
  {
   "cell_type": "code",
   "execution_count": 7,
   "id": "a8c18266-c903-4572-8777-c9937717b201",
   "metadata": {},
   "outputs": [
    {
     "data": {
      "text/plain": [
       "'Can I get the steps for factoring quadratics'"
      ]
     },
     "execution_count": 7,
     "metadata": {},
     "output_type": "execute_result"
    }
   ],
   "source": [
    "student_queries[0]"
   ]
  },
  {
   "cell_type": "code",
   "execution_count": 18,
   "id": "ef24ff50-6ecb-423c-8095-888fcf87f42f",
   "metadata": {},
   "outputs": [
    {
     "data": {
      "text/plain": [
       "['Can I get the steps for factoring quadratics',\n",
       " 'I need a standard way of recognizing polynomials and their degrees, please help me figure\\nit out.',\n",
       " 'how do i solve square root functions',\n",
       " 'Can someone explain like interior and exterior angles? thanks',\n",
       " 'How do you find the radius?',\n",
       " 'What is vertex form and how do you solve for it?',\n",
       " 'How do I multiply fractions???????',\n",
       " 'Can someone help me with what an irrational number is vs a rational number',\n",
       " 'How do you find the parent function of a graph?',\n",
       " 'how do you know if a graph is an absolute value graph?',\n",
       " 'I always forget the difference between commutative and associative. Does anybody know a way to make me remember?',\n",
       " 'What is a function notation?',\n",
       " 'I know that sin A=opposite/hypotenuse, cos A=adjacent/hypotenuse, and tan A=opposite/adjacent. Is there any other ratios like those?',\n",
       " \"what are regression and median-fit lines?\\n\\n I really don't get them.(it) (that)\",\n",
       " 'after you distribute a negative does it disappear or do you keep it there?',\n",
       " 'How do I add line segments again??',\n",
       " 'if all the x values in a function are differnt its a function right?',\n",
       " 'How do you translate a shape',\n",
       " 'what is the difference between recursive formula and explicit form.',\n",
       " \"I'm still a little lost on how you find midpoints on graphs. I'm currently on Topic 4 of Section 1, and I'm watching the video, but I'm still a little confuse on how they find it. Here is the question. If anyone knows the steps to finding the midpoint on a graph, thank you!\",\n",
       " \"Just checking, If I have a problem like x to the 4th in parentheses and there's a exponent out of the parentheses lets say 2 would you multiply the exponent in it by the one out making it x to the 8th power?\",\n",
       " 'where can I find completing the square?',\n",
       " \"I don't understand how to find x if there are two x's\",\n",
       " 'Why does the sine of an angle equal the sine of its supplement?',\n",
       " 'what is the difference between communtative property of addition and addition property of equality',\n",
       " 'how do you oslve with negative exponents (for example 4^-9)\\n\\n *solve',\n",
       " 'Can function Notation be negative?',\n",
       " 'How does standard deivation work?',\n",
       " 'wait... so if im using pemdas how does that work with fractions ?',\n",
       " \"Can someone give me a factoring  example I don't get it and I re watched the videos and I still don't get it.\",\n",
       " 'how do you a graph function rule?!',\n",
       " 'what is monomial',\n",
       " 'What is the difference between commutative and associative property?',\n",
       " 'How do you multiply fractions?!?!?',\n",
       " 'How do you find the zeros of a function by graphing?',\n",
       " 'How do you know if a number is a constant?',\n",
       " 'how  far can a polynomial go',\n",
       " \"I know that this has been a consistent question but I have a test on line of best fit. I've been given multiple different answers on the algebra wall and some make sense while others don't. My teacher never gave me an equation so I don't think I'm supposed to be using one, so what is the best way to find the accurate line of best fit.\",\n",
       " 'I dont get how to get the length of the sides without knowing the perimeter.',\n",
       " 'Is supplementary angles are always adjacent',\n",
       " 'how do i find the slope of a line in slope intercept form.',\n",
       " 'What is a leading coefficient?',\n",
       " 'What is the domain and range? How do I find it?',\n",
       " 'Give me some examples of an equation that is not a linear function!',\n",
       " 'could i recieve help with turning a trinomial into grouping',\n",
       " 'Hey guys! What is the quotient rule??',\n",
       " 'How do you find the domain and range that are reasonable for a certain function?',\n",
       " 'Is a rational and irrational number always irrational?',\n",
       " 'what is the quadratic formula?',\n",
       " 'i need help on how to  graph quadratic funtions',\n",
       " 'How do i graph an inequality with a less than or equal to sign?']"
      ]
     },
     "execution_count": 18,
     "metadata": {},
     "output_type": "execute_result"
    }
   ],
   "source": [
    "student_queries"
   ]
  },
  {
   "cell_type": "markdown",
   "id": "e3294a12-239d-4de8-8631-3030ac2dfc58",
   "metadata": {},
   "source": [
    "### Load dbs"
   ]
  },
  {
   "cell_type": "code",
   "execution_count": 8,
   "id": "5f0f600c-9521-4f6a-b318-6385fc658696",
   "metadata": {},
   "outputs": [],
   "source": [
    "app_embedding_dir = data_dir / \"app_data\"\n",
    "recipe_embedding_dir = data_dir / \"derived\" / \"embeddings\""
   ]
  },
  {
   "cell_type": "code",
   "execution_count": 9,
   "id": "6c42645f-7e2f-46d5-87c7-1f49a51c0f53",
   "metadata": {},
   "outputs": [],
   "source": [
    "rori_db = retrieval.RetrievalDb(app_embedding_dir, \"rori_microlesson\", \"db_string\")\n",
    "openstax_db = retrieval.RetrievalDb(app_embedding_dir, \"openstax_subsection\", \"db_string\")\n",
    "recipe_db = retrieval.RetrievalDb(recipe_embedding_dir, \"recipenlg\", \"db_string\")"
   ]
  },
  {
   "cell_type": "code",
   "execution_count": 10,
   "id": "5220e096-16fd-4412-8cbc-715da4140329",
   "metadata": {},
   "outputs": [],
   "source": [
    "rori_microlesson_db_info = retrieval.DbInfo(\n",
    "    rori_db,\n",
    "    max_tokens=1000,\n",
    "    # prefix=\"Here is some lesson content that might be relevant:\\n\",\n",
    "    prefix=\"Connect the student's question to this lesson content:\\n\",\n",
    ")\n",
    "openstax_subsection_db_info = retrieval.DbInfo(\n",
    "    openstax_db,\n",
    "    max_tokens=600,\n",
    "    # prefix=\"Here are some excerpts from a math textbook. If they are relevant to the question, feel free to use language or examples from these excerpts:\\n\",\n",
    "    prefix=\"Use language from these math textbook excerpts in your response:\\n\",\n",
    ")\n",
    "recipenlg_db_info = retrieval.DbInfo(\n",
    "    recipe_db,\n",
    "    max_tokens=2000,\n",
    "    # prefix=\"Here are some step-by-step descriptions. If they are relevant to the question, feel free to use language or examples from these excerpts:\\n\",\n",
    "    prefix=\"Use language from these step-by-step descriptions in your response:\\n\",\n",
    ")\n",
    "math_strategy = retrieval_strategies.MappedEmbeddingRetrievalStrategy(\n",
    "    {\n",
    "        \"rori_microlesson_texts\": rori_microlesson_db_info,\n",
    "        \"openstax_subsection_texts\": openstax_subsection_db_info,\n",
    "    },\n",
    ")\n",
    "nomath_strategy = retrieval_strategies.MappedEmbeddingRetrievalStrategy(\n",
    "    {\n",
    "        \"rori_microlesson_texts\": recipenlg_db_info,\n",
    "    },\n",
    ")\n",
    "noretrieval_strategy = retrieval_strategies.NoRetrievalStrategy()"
   ]
  },
  {
   "cell_type": "code",
   "execution_count": null,
   "id": "3582c605-37e6-455d-8b5d-b7fb3e1b1116",
   "metadata": {},
   "outputs": [],
   "source": []
  },
  {
   "cell_type": "markdown",
   "id": "a2086896-4598-442e-b2ad-6662112fbd63",
   "metadata": {},
   "source": [
    "#### Exploration of conditioning on retrieval"
   ]
  },
  {
   "cell_type": "code",
   "execution_count": 11,
   "id": "9b1ed9c8-eb40-49a9-9914-a09636d6441e",
   "metadata": {},
   "outputs": [],
   "source": [
    "recipenlg_db_info = retrieval.DbInfo(\n",
    "    recipe_db,\n",
    "    max_tokens=2000,\n",
    "    max_texts=1,\n",
    "    prefix=\"Model your response off the following recipe:\\n\",\n",
    ")\n",
    "nomath_strategy = retrieval_strategies.MappedEmbeddingRetrievalStrategy(\n",
    "    {\n",
    "        \"recipe_texts\": recipenlg_db_info,\n",
    "    },\n",
    ")"
   ]
  },
  {
   "cell_type": "code",
   "execution_count": 14,
   "id": "9a272209-a81c-41f7-b2cd-c2c36f823f6b",
   "metadata": {},
   "outputs": [
    {
     "name": "stderr",
     "output_type": "stream",
     "text": [
      "Generating responses:   0%|                                                                                                 | 0/51 [00:05<?, ?it/s]"
     ]
    },
    {
     "name": "stdout",
     "output_type": "stream",
     "text": [
      "Of course! Factoring quadratics involves breaking down a quadratic expression into its factors. Here are the steps:\n",
      "\n",
      "1. Make sure the quadratic expression is in the form of ax^2 + bx + c.\n",
      "2. Look for any common factors among the three terms. If there is a common factor, factor it out.\n",
      "3. Find two numbers whose product is equal to the product of the coefficient of x^2 (a) and the constant term (c), and whose sum is equal to the coefficient of x (b).\n",
      "4. Rewrite the quadratic expression with these two numbers as the coefficients of x.\n",
      "5. Group the terms and factor out any common factors.\n",
      "6. Write the factored form of the quadratic expression.\n",
      "\n",
      "Remember, practice makes perfect! If you have any further questions or need more examples, feel free to ask.\n"
     ]
    },
    {
     "name": "stderr",
     "output_type": "stream",
     "text": [
      "\n"
     ]
    }
   ],
   "source": [
    "intro_prompt_messages = [\n",
    "    {\n",
    "        \"role\": \"system\",\n",
    "        \"content\": \"\"\"You are going to act as a mathematics tutor for a 13 year old student who is in grade 8 or 9.\n",
    "This student lives in Ghana or Nigeria.\n",
    "You will be encouraging and factual.\n",
    "\n",
    "{recipe_texts}\n",
    "\n",
    "Prefer simple, short responses.\n",
    "If the student says something inappropriate or off topic you will say you can only focus on mathematics and ask them if they have any math-related follow-up questions.\n",
    "\"\"\",\n",
    "    },\n",
    "]\n",
    "for user_query in tqdm(student_queries, desc=\"Generating responses\"):\n",
    "    prompt_manager = prompt_utils.PromptManager()\n",
    "    prompt_manager.set_intro_messages(intro_prompt_messages)\n",
    "    prompt_manager.set_retrieval_strategy(nomath_strategy)\n",
    "    messages = prompt_manager.build_query(user_query)\n",
    "    completion = openai.ChatCompletion.create(\n",
    "        model=\"gpt-3.5-turbo-0613\",\n",
    "        messages=messages,\n",
    "        request_timeout=20,\n",
    "    )\n",
    "    assistant_message = completion[\"choices\"][0][\"message\"][\"content\"]\n",
    "    break\n",
    "print(assistant_message)"
   ]
  },
  {
   "cell_type": "code",
   "execution_count": 15,
   "id": "a756a3a5-a7d3-4e48-b147-ba33d454cea5",
   "metadata": {},
   "outputs": [
    {
     "name": "stdout",
     "output_type": "stream",
     "text": [
      "[{'role': 'system', 'content': 'You are going to act as a mathematics tutor for a 13 year old student who is in grade 8 or 9.\\nThis student lives in Ghana or Nigeria.\\nYou will be encouraging and factual.\\n\\nModel your response off the following recipe:\\nBlonde Brownies recipe:  - Grease a 13 x 9 x 2-inch baking pan.  - Combine flour, baking powder and salt.  - Melt butter; remove from heat.  - Stir in sugar. Add eggs and vanilla.  - Stir until blended.  - Stir dry ingredients and walnuts into sugar mixture.  - Spread in pan.  - Bake in a 350° oven for 20 to 25 minutes.  - Cut into bars while warm.  - Makes 48 bars.\\n\\nPrefer simple, short responses.\\nIf the student says something inappropriate or off topic you will say you can only focus on mathematics and ask them if they have any math-related follow-up questions.\\n'}, {'role': 'user', 'content': 'Can I get the steps for factoring quadratics'}]\n"
     ]
    }
   ],
   "source": [
    "print(messages)"
   ]
  },
  {
   "cell_type": "code",
   "execution_count": 11,
   "id": "63f202db-f6a4-4f92-9995-23e16f2b73a1",
   "metadata": {},
   "outputs": [],
   "source": [
    "rori_microlesson_db_info = retrieval.DbInfo(\n",
    "    rori_db,\n",
    "    max_tokens=1000,\n",
    "    max_texts=3,\n",
    "    # prefix=\"Here is some lesson content that might be relevant:\\n\",\n",
    "    prefix=\"If relevant, refer to the explanation and example in these three lessons:\\n\",\n",
    ")\n",
    "openstax_subsection_db_info = retrieval.DbInfo(\n",
    "    openstax_db,\n",
    "    max_tokens=1000,\n",
    "    max_texts=3,\n",
    "    # prefix=\"Here are some excerpts from a math textbook. If they are relevant to the question, feel free to use language or examples from these excerpts:\\n\",\n",
    "    prefix=\"Use language from these math textbook excerpts in your response:\\n\",\n",
    ")\n",
    "math_strategy = retrieval_strategies.MappedEmbeddingRetrievalStrategy(\n",
    "    {\n",
    "        \"rori_microlesson_texts\": rori_microlesson_db_info,\n",
    "        \"openstax_subsection_texts\": \"\",  # openstax_subsection_db_info,\n",
    "    },\n",
    ")"
   ]
  },
  {
   "cell_type": "code",
   "execution_count": 17,
   "id": "a79fae03-e5ac-45f9-8402-f936fe971164",
   "metadata": {},
   "outputs": [
    {
     "name": "stderr",
     "output_type": "stream",
     "text": [
      "Generating responses:   0%|                                                                                                 | 0/51 [00:02<?, ?it/s]"
     ]
    },
    {
     "name": "stdout",
     "output_type": "stream",
     "text": [
      "2\n",
      "You are going to act as a mathematics tutor for a 13 year old student who is in grade 8 or 9.\n",
      "This student lives in Ghana or Nigeria.\n",
      "You will be encouraging and factual.\n",
      "\n",
      "\n",
      "\n",
      "Prefer simple, short responses.\n",
      "If the student says something inappropriate or off topic you will say you can only focus on mathematics and ask them if they have any math-related follow-up questions.\n",
      "\n",
      "\n",
      "Can I get the steps for factoring quadratics\n",
      "\n",
      "If relevant, refer to the explanation and example in these three lessons:\n",
      "It is good to have you here! Let's learn how to find the square root of numbers.  Squareroot of a number is a number when multiplied by itself gives the original number. Square root is denoted by √. Note that square roots exist only for positive numbers.  Example: Find the square root of the given number Ques:  √196 Ans: 14 Hint: 14 multiplied by 14 gives the number 196.   It's time for you to pratice. Shall we get started?  Write yes to proceed.\n",
      "In today's lesson, we are going to learn to identify the factors of a given number.  A factor of a number is the number that divides it completely without leaving any remainder.  Example: To find the factors of 10,  write down all the multiplication sentences which gives 10 as the answer.   5x2 =10 1x10=10  Here the numbers 1,2,5 and 10 are the factors of the number 10. Also note that 1 and the number itself are factors of the number.  Ques: Which number is a factor of 6? A. 3 B. 5 C. 7 D. 9  Ans: A  Hint: We know that 2x3=6, hence 2 and 3 are factors of 6. Hence the answer is 3.  Shall we try some questions?😄    Type Yes to continue to solve some questions.  Yay! you are doing a great job. Let's solve some more questions. Write the missing factor.   Ques: 6x ____=54 Ans: 9  Write the missing factor.  Type Yes to continue to solve some questions.\n",
      "Today let us learn how to multiply 2 integers with and without grouping.  Multiplication of integers is almost same as the multiplication of whole numbers.  The only important things to know before you start multiplying is the signs. 1. Negative sign × Positive sign = Negative sign  2. Negative sign × Negative sign = Positive sign 3. Positive sign × Positive sign = Positive sign  Remember to place the correct sign in the answer.  Would you like to try some questions?  Multiply the numbers. Choose from the option A or B.  Type Yes to proceed.\n",
      "\n",
      "\n",
      "RESPONSE\n",
      "Sure! Here are the steps to factor a quadratic:\n",
      "\n",
      "1. Identify the coefficients of the quadratic equation. The standard form of a quadratic equation is ax^2 + bx + c, where a, b, and c are coefficients.\n",
      "\n",
      "2. Look for common factors among the coefficients. If there is a common factor, you can factor it out.\n",
      "\n",
      "3. Use factoring methods like the \"ac method\" or factoring by grouping to factor the remaining quadratic expression.\n",
      "\n",
      "4. Write the factored form of the quadratic equation. It should be in the form (x + p)(x + q), where p and q are the factors.\n",
      "\n",
      "Remember to practice with examples to reinforce your understanding! Let me know if you have any follow-up questions or need further explanation.\n"
     ]
    },
    {
     "name": "stderr",
     "output_type": "stream",
     "text": [
      "\n"
     ]
    }
   ],
   "source": [
    "for user_query in tqdm(student_queries, desc=\"Generating responses\"):\n",
    "    intro_prompt_messages = [\n",
    "        {\n",
    "            \"role\": \"system\",\n",
    "            \"content\": \"\"\"You are going to act as a mathematics tutor for a 13 year old student who is in grade 8 or 9.\n",
    "This student lives in Ghana or Nigeria.\n",
    "You will be encouraging and factual.\n",
    "\n",
    "{openstax_subsection_texts}\n",
    "\n",
    "Prefer simple, short responses.\n",
    "If the student says something inappropriate or off topic you will say you can only focus on mathematics and ask them if they have any math-related follow-up questions.\n",
    "\"\"\",\n",
    "        },\n",
    "        {\n",
    "            \"role\": \"user\",\n",
    "            \"content\": user_query\n",
    "            + \"\"\"\n",
    "\n",
    "{rori_microlesson_texts}\n",
    "\"\"\",\n",
    "        },\n",
    "    ]\n",
    "\n",
    "    prompt_manager = prompt_utils.PromptManager()\n",
    "    prompt_manager.set_intro_messages(intro_prompt_messages)\n",
    "    prompt_manager.set_retrieval_strategy(math_strategy)\n",
    "    messages = prompt_manager.build_query(None, query_for_retrieval_context=user_query)\n",
    "    completion = openai.ChatCompletion.create(\n",
    "        model=\"gpt-3.5-turbo-0613\",\n",
    "        messages=messages,\n",
    "        request_timeout=20,\n",
    "    )\n",
    "    assistant_message = completion[\"choices\"][0][\"message\"][\"content\"]\n",
    "    break\n",
    "print(len(messages))\n",
    "for message in messages:\n",
    "    print(message[\"content\"] + \"\\n\")\n",
    "print(\"RESPONSE\")\n",
    "print(assistant_message)"
   ]
  },
  {
   "cell_type": "code",
   "execution_count": 14,
   "id": "64c40859-1d04-4ec3-bb1d-1632585c2666",
   "metadata": {},
   "outputs": [
    {
     "name": "stdout",
     "output_type": "stream",
     "text": [
      "[{'openstax_subsection_texts': ''},\n",
      " {'rori_microlesson_texts': 'If relevant, refer to the explanation and example '\n",
      "                            'in these three lessons:\\n'\n",
      "                            \"It is good to have you here! Let's learn how to \"\n",
      "                            'find the square root of numbers.  Squareroot of a '\n",
      "                            'number is a number when multiplied by itself '\n",
      "                            'gives the original number. Square root is denoted '\n",
      "                            'by √. Note that square roots exist only for '\n",
      "                            'positive numbers.  Example: Find the square root '\n",
      "                            'of the given number Ques:  √196 Ans: 14 Hint: 14 '\n",
      "                            \"multiplied by 14 gives the number 196.   It's \"\n",
      "                            'time for you to pratice. Shall we get started?  '\n",
      "                            'Write yes to proceed.\\n'\n",
      "                            \"In today's lesson, we are going to learn to \"\n",
      "                            'identify the factors of a given number.  A factor '\n",
      "                            'of a number is the number that divides it '\n",
      "                            'completely without leaving any remainder.  '\n",
      "                            'Example: To find the factors of 10,  write down '\n",
      "                            'all the multiplication sentences which gives 10 '\n",
      "                            'as the answer.   5x2 =10 1x10=10  Here the '\n",
      "                            'numbers 1,2,5 and 10 are the factors of the '\n",
      "                            'number 10. Also note that 1 and the number itself '\n",
      "                            'are factors of the number.  Ques: Which number is '\n",
      "                            'a factor of 6? A. 3 B. 5 C. 7 D. 9  Ans: A  Hint: '\n",
      "                            'We know that 2x3=6, hence 2 and 3 are factors of '\n",
      "                            '6. Hence the answer is 3.  Shall we try some '\n",
      "                            'questions?😄    Type Yes to continue to solve some '\n",
      "                            \"questions.  Yay! you are doing a great job. Let's \"\n",
      "                            'solve some more questions. Write the missing '\n",
      "                            'factor.   Ques: 6x ____=54 Ans: 9  Write the '\n",
      "                            'missing factor.  Type Yes to continue to solve '\n",
      "                            'some questions.\\n'\n",
      "                            'Today let us learn how to multiply 2 integers '\n",
      "                            'with and without grouping.  Multiplication of '\n",
      "                            'integers is almost same as the multiplication of '\n",
      "                            'whole numbers.  The only important things to know '\n",
      "                            'before you start multiplying is the signs. 1. '\n",
      "                            'Negative sign × Positive sign = Negative sign  2. '\n",
      "                            'Negative sign × Negative sign = Positive sign 3. '\n",
      "                            'Positive sign × Positive sign = Positive sign  '\n",
      "                            'Remember to place the correct sign in the '\n",
      "                            'answer.  Would you like to try some questions?  '\n",
      "                            'Multiply the numbers. Choose from the option A or '\n",
      "                            'B.  Type Yes to proceed.'},\n",
      " {}]\n"
     ]
    }
   ],
   "source": [
    "pprint(prompt_manager.recent_slot_fill_dict)"
   ]
  },
  {
   "cell_type": "code",
   "execution_count": null,
   "id": "45953814-f4d8-49e3-897b-c89953f9802a",
   "metadata": {},
   "outputs": [],
   "source": []
  },
  {
   "cell_type": "markdown",
   "id": "fc31b2c5-a6f7-4b89-a320-dfa1ed235a0f",
   "metadata": {},
   "source": [
    "### Generate responses"
   ]
  },
  {
   "cell_type": "code",
   "execution_count": 11,
   "id": "deba988e-8e5f-4a75-be2d-a66db4d09fd0",
   "metadata": {},
   "outputs": [],
   "source": [
    "ds = []"
   ]
  },
  {
   "cell_type": "code",
   "execution_count": 12,
   "id": "c0c34523-6e59-4478-83b3-76e02402cd02",
   "metadata": {},
   "outputs": [
    {
     "data": {
      "text/plain": [
       "0"
      ]
     },
     "execution_count": 12,
     "metadata": {},
     "output_type": "execute_result"
    }
   ],
   "source": [
    "eval_dir = data_dir / \"derived\" / \"eval\"\n",
    "eval_dir.mkdir(exist_ok=True)\n",
    "response_filepath = eval_dir / \"generations_20230809.pkl\"\n",
    "if response_filepath.exists():\n",
    "    ds = pickle.load(infile)\n",
    "len(ds)"
   ]
  },
  {
   "cell_type": "code",
   "execution_count": 14,
   "id": "c25b8c7d-70fe-42af-9c05-8314723b957b",
   "metadata": {},
   "outputs": [
    {
     "name": "stderr",
     "output_type": "stream",
     "text": [
      "Generating responses: 100%|████████████████████████████████████████████████████████████████████████████████████████| 51/51 [03:49<00:00,  4.50s/it]\n"
     ]
    }
   ],
   "source": [
    "# intro_prompts_key = \"general_math_qa_intro\"\n",
    "intro_prompts_key = \"retrieval_reliant_math_qa_intro\"\n",
    "for user_query in tqdm(student_queries, desc=\"Generating responses\"):\n",
    "    for retrieval_strategy_name, retrieval_strategy in [\n",
    "        (\"math\", math_strategy),\n",
    "        (\"recipe\", nomath_strategy),\n",
    "        (\"none\", noretrieval_strategy),\n",
    "    ]:\n",
    "        already_generated = False\n",
    "        for d in ds:\n",
    "            if (\n",
    "                d[\"user_query\"] == user_query\n",
    "                and d[\"retrieval_strategy\"] == retrieval_strategy_name\n",
    "                and d[\"intro_prompts_key\"] == intro_prompts_key\n",
    "            ):\n",
    "                already_generated = True\n",
    "        if already_generated:\n",
    "            continue\n",
    "        intro_prompt_messages = mathqa_prompts.intro_prompts[intro_prompts_key][\"messages\"]\n",
    "        prompt_manager = prompt_utils.PromptManager()\n",
    "        prompt_manager.set_intro_messages(intro_prompt_messages)\n",
    "        prompt_manager.set_retrieval_strategy(retrieval_strategy)\n",
    "        messages = prompt_manager.build_query(user_query)\n",
    "        completion = openai.ChatCompletion.create(\n",
    "            model=\"gpt-3.5-turbo-0613\",\n",
    "            messages=messages,\n",
    "            request_timeout=5,\n",
    "        )\n",
    "        assistant_message = completion[\"choices\"][0][\"message\"][\"content\"]\n",
    "        ds.append(\n",
    "            {\n",
    "                \"user_query\": user_query,\n",
    "                \"retrieval_strategy\": retrieval_strategy_name,\n",
    "                \"intro_prompts_key\": intro_prompts_key,\n",
    "                \"response\": assistant_message,\n",
    "                \"messages\": messages,\n",
    "            }\n",
    "        )\n",
    "        time.sleep(0.4)  # being a bit polite on repeated api calls"
   ]
  },
  {
   "cell_type": "code",
   "execution_count": 15,
   "id": "dd983347-9b2d-470c-ba52-c4f3f77ad8b4",
   "metadata": {},
   "outputs": [
    {
     "data": {
      "text/plain": [
       "153"
      ]
     },
     "execution_count": 15,
     "metadata": {},
     "output_type": "execute_result"
    }
   ],
   "source": [
    "len(ds)"
   ]
  },
  {
   "cell_type": "code",
   "execution_count": 16,
   "id": "d0fa599e-e64d-44d2-9941-bf0441e4b822",
   "metadata": {},
   "outputs": [],
   "source": [
    "with open(response_filepath, \"wb\") as outfile:\n",
    "    pickle.dump(ds, outfile)"
   ]
  },
  {
   "cell_type": "code",
   "execution_count": 17,
   "id": "ee0b5020-7a87-450c-b43b-bd30349ad22a",
   "metadata": {},
   "outputs": [],
   "source": [
    "# load generated responses\n",
    "with open(response_filepath, \"rb\") as infile:\n",
    "    pickle.load(infile)"
   ]
  },
  {
   "cell_type": "code",
   "execution_count": 21,
   "id": "2bdfe987-a563-47ab-b5cc-2c971ead8be2",
   "metadata": {},
   "outputs": [
    {
     "data": {
      "text/plain": [
       "(153, 4)"
      ]
     },
     "execution_count": 21,
     "metadata": {},
     "output_type": "execute_result"
    }
   ],
   "source": [
    "df = (\n",
    "    pd.DataFrame(ds, columns=[\"user_query\", \"retrieval_strategy\", \"response\"])\n",
    "    .reset_index()\n",
    "    .rename(columns={\"index\": \"response_id\"})\n",
    ")\n",
    "df.shape"
   ]
  },
  {
   "cell_type": "code",
   "execution_count": 22,
   "id": "5f690c2f-2e8c-48d4-a5d5-c6305221dc4f",
   "metadata": {},
   "outputs": [
    {
     "data": {
      "text/html": [
       "<div>\n",
       "<style scoped>\n",
       "    .dataframe tbody tr th:only-of-type {\n",
       "        vertical-align: middle;\n",
       "    }\n",
       "\n",
       "    .dataframe tbody tr th {\n",
       "        vertical-align: top;\n",
       "    }\n",
       "\n",
       "    .dataframe thead th {\n",
       "        text-align: right;\n",
       "    }\n",
       "</style>\n",
       "<table border=\"1\" class=\"dataframe\">\n",
       "  <thead>\n",
       "    <tr style=\"text-align: right;\">\n",
       "      <th></th>\n",
       "      <th>response_id</th>\n",
       "      <th>user_query</th>\n",
       "      <th>retrieval_strategy</th>\n",
       "      <th>response</th>\n",
       "    </tr>\n",
       "  </thead>\n",
       "  <tbody>\n",
       "    <tr>\n",
       "      <th>148</th>\n",
       "      <td>148</td>\n",
       "      <td>i need help on how to  graph quadratic funtions</td>\n",
       "      <td>recipe</td>\n",
       "      <td>Of course! I'm here to help you with graphing ...</td>\n",
       "    </tr>\n",
       "    <tr>\n",
       "      <th>99</th>\n",
       "      <td>99</td>\n",
       "      <td>How do you multiply fractions?!?!?</td>\n",
       "      <td>math</td>\n",
       "      <td>Great question! To multiply fractions, you mul...</td>\n",
       "    </tr>\n",
       "    <tr>\n",
       "      <th>13</th>\n",
       "      <td>13</td>\n",
       "      <td>How do you find the radius?</td>\n",
       "      <td>recipe</td>\n",
       "      <td>To find the radius of a circle, you can use th...</td>\n",
       "    </tr>\n",
       "  </tbody>\n",
       "</table>\n",
       "</div>"
      ],
      "text/plain": [
       "     response_id                                       user_query  \\\n",
       "148          148  i need help on how to  graph quadratic funtions   \n",
       "99            99               How do you multiply fractions?!?!?   \n",
       "13            13                      How do you find the radius?   \n",
       "\n",
       "    retrieval_strategy                                           response  \n",
       "148             recipe  Of course! I'm here to help you with graphing ...  \n",
       "99                math  Great question! To multiply fractions, you mul...  \n",
       "13              recipe  To find the radius of a circle, you can use th...  "
      ]
     },
     "execution_count": 22,
     "metadata": {},
     "output_type": "execute_result"
    }
   ],
   "source": [
    "df.sample(n=3)"
   ]
  },
  {
   "cell_type": "code",
   "execution_count": 23,
   "id": "a3b3eb20-b1c9-4587-9504-7eac5253f285",
   "metadata": {},
   "outputs": [
    {
     "data": {
      "text/plain": [
       "retrieval_strategy\n",
       "math      51\n",
       "recipe    51\n",
       "none      51\n",
       "Name: count, dtype: int64"
      ]
     },
     "execution_count": 23,
     "metadata": {},
     "output_type": "execute_result"
    }
   ],
   "source": [
    "df.retrieval_strategy.value_counts()"
   ]
  },
  {
   "cell_type": "markdown",
   "id": "e015d6c2-2619-4e13-89d9-2f98e218e6d8",
   "metadata": {},
   "source": [
    "### Construct surveys\n",
    "\n",
    "Generate two surveys.\n",
    "\n",
    " - Randomize query order.\n",
    " - Create two questions, comparing recipe vs none and math vs none.\n",
    " - Assign every other question to survey 1 or survey 2, alternatingly."
   ]
  },
  {
   "cell_type": "code",
   "execution_count": 30,
   "id": "52ff90b8-c610-4e44-93ae-7955ae1b3396",
   "metadata": {},
   "outputs": [
    {
     "data": {
      "text/plain": [
       "102"
      ]
     },
     "execution_count": 30,
     "metadata": {},
     "output_type": "execute_result"
    }
   ],
   "source": [
    "def get_question_with_random_order(group: pd.DataFrame, option_set: list):\n",
    "    question = {}\n",
    "    for i, option in enumerate(random.sample(option_set, k=len(option_set))):\n",
    "        question[f\"response{i+1}\"] = group[group.retrieval_strategy == option].iloc[0].response\n",
    "        question[f\"response{i+1}_retrieval_strategy\"] = option\n",
    "    return question\n",
    "\n",
    "\n",
    "def update_curr_survey(curr_survey, n_surveys):\n",
    "    next_survey = (curr_survey + 1) % n_surveys\n",
    "    return next_survey\n",
    "\n",
    "\n",
    "survey = []\n",
    "n_surveys = 2\n",
    "curr_survey = 0\n",
    "for user_query in df.user_query.drop_duplicates().sample(frac=1, random_state=19881):\n",
    "    group = df[df.user_query == user_query]\n",
    "    q1 = get_question_with_random_order(group, [\"recipe\", \"none\"])\n",
    "    q2 = get_question_with_random_order(group, [\"math\", \"none\"])\n",
    "    q1 = {\"survey\": curr_survey, \"user_query\": user_query, **q1}\n",
    "    curr_survey = update_curr_survey(curr_survey, n_surveys)\n",
    "    q2 = {\"survey\": curr_survey, \"user_query\": user_query, **q2}\n",
    "    curr_survey = update_curr_survey(curr_survey, n_surveys)\n",
    "    survey.append(q1)\n",
    "    survey.append(q2)\n",
    "len(survey)"
   ]
  },
  {
   "cell_type": "code",
   "execution_count": 32,
   "id": "fa816c07-e5e0-4833-bedc-78265f0e4395",
   "metadata": {},
   "outputs": [],
   "source": [
    "eval_dir = data_dir / \"derived\" / \"eval\"\n",
    "eval_dir.mkdir(exist_ok=True)"
   ]
  },
  {
   "cell_type": "code",
   "execution_count": 33,
   "id": "810748ab-da2a-4d3d-864a-c2aab8ed2a42",
   "metadata": {},
   "outputs": [],
   "source": [
    "pd.DataFrame(survey).to_csv(eval_dir / \"survey_20230809.csv\", index=False)"
   ]
  },
  {
   "cell_type": "code",
   "execution_count": null,
   "id": "9c5604e6-a616-4fb9-8265-29bf7c6180e8",
   "metadata": {},
   "outputs": [],
   "source": []
  },
  {
   "cell_type": "code",
   "execution_count": null,
   "id": "0978cc64-59c5-4c96-b4d8-4a01701efe1c",
   "metadata": {},
   "outputs": [],
   "source": []
  }
 ],
 "metadata": {
  "kernelspec": {
   "display_name": "Python 3 (ipykernel)",
   "language": "python",
   "name": "python3"
  },
  "language_info": {
   "codemirror_mode": {
    "name": "ipython",
    "version": 3
   },
   "file_extension": ".py",
   "mimetype": "text/x-python",
   "name": "python",
   "nbconvert_exporter": "python",
   "pygments_lexer": "ipython3",
   "version": "3.10.11"
  }
 },
 "nbformat": 4,
 "nbformat_minor": 5
}
