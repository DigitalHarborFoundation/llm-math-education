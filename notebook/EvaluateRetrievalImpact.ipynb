{
 "cells": [
  {
   "cell_type": "markdown",
   "id": "01ed92ab-bd20-4e43-9436-447301edab14",
   "metadata": {},
   "source": [
    "Evaluate Retrieval Impact\n",
    "===\n",
    "\n",
    "Questions:\n",
    " - Does retrieval matter much?\n",
    " - Does it matter if the retrieval is relevant to the user's query?\n",
    "\n"
   ]
  },
  {
   "cell_type": "code",
   "execution_count": 65,
   "id": "75bad6ad-c299-4542-bae9-e1f528b2fcf6",
   "metadata": {},
   "outputs": [],
   "source": [
    "import json\n",
    "import os\n",
    "import pickle\n",
    "import random\n",
    "import time\n",
    "from pathlib import Path\n",
    "\n",
    "import dotenv\n",
    "import matplotlib\n",
    "import matplotlib.pyplot as plt\n",
    "import numpy as np\n",
    "import openai\n",
    "import pandas as pd\n",
    "import scipy\n",
    "import sklearn.metrics\n",
    "import tiktoken\n",
    "from tqdm import tqdm\n",
    "\n",
    "from llm_math_education import prompt_utils, retrieval, retrieval_strategies\n",
    "from llm_math_education.prompts import mathqa as mathqa_prompts"
   ]
  },
  {
   "cell_type": "code",
   "execution_count": 2,
   "id": "e7e6f1c5-1318-45e5-a7d5-9cf52ca4dde6",
   "metadata": {},
   "outputs": [
    {
     "data": {
      "text/plain": [
       "True"
      ]
     },
     "execution_count": 2,
     "metadata": {},
     "output_type": "execute_result"
    }
   ],
   "source": [
    "dotenv.load_dotenv(\"../.env\")"
   ]
  },
  {
   "cell_type": "code",
   "execution_count": 3,
   "id": "8c032d5d-70ac-4964-9fd5-15f5dfc79c34",
   "metadata": {},
   "outputs": [
    {
     "data": {
      "text/plain": [
       "'sk-'"
      ]
     },
     "execution_count": 3,
     "metadata": {},
     "output_type": "execute_result"
    }
   ],
   "source": [
    "os.environ[\"OPENAI_API_KEY\"][:3]"
   ]
  },
  {
   "cell_type": "code",
   "execution_count": 4,
   "id": "257d08da-b5c9-4c60-a1fb-3ca40657bbce",
   "metadata": {},
   "outputs": [],
   "source": [
    "openai.api_key = os.environ[\"OPENAI_API_KEY\"]"
   ]
  },
  {
   "cell_type": "code",
   "execution_count": 5,
   "id": "16509047-5873-4bd9-937c-ef33cc1e028b",
   "metadata": {},
   "outputs": [
    {
     "data": {
      "text/plain": [
       "(67, 18)"
      ]
     },
     "execution_count": 5,
     "metadata": {},
     "output_type": "execute_result"
    }
   ],
   "source": [
    "data_dir = Path(\"../data\")\n",
    "assert data_dir.exists()\n",
    "with open(data_dir / \"derived\" / \"rori_lessons.json\") as infile:\n",
    "    df = pd.read_json(infile)\n",
    "df.shape"
   ]
  },
  {
   "cell_type": "code",
   "execution_count": 7,
   "id": "39560ff4-1af1-4745-bcd5-338641e792c8",
   "metadata": {},
   "outputs": [],
   "source": []
  },
  {
   "cell_type": "markdown",
   "id": "d7e2b31e-3c4d-49d5-b490-bf562c464393",
   "metadata": {},
   "source": [
    "### Load query data"
   ]
  },
  {
   "cell_type": "code",
   "execution_count": 13,
   "id": "0dbca40c-3206-43fd-86fd-73bff4189cf3",
   "metadata": {},
   "outputs": [
    {
     "data": {
      "text/plain": [
       "51"
      ]
     },
     "execution_count": 13,
     "metadata": {},
     "output_type": "execute_result"
    }
   ],
   "source": [
    "mn_general_student_queries_filepath = data_dir / \"app_data\" / \"mn_general_student_queries.csv\"\n",
    "query_df = pd.read_csv(mn_general_student_queries_filepath)\n",
    "student_queries = [\n",
    "    row.post_content.strip().replace(\"[Continued:]\", \"\\n\")\n",
    "    for row in query_df.sample(frac=1, random_state=87896).itertuples()\n",
    "    if row.is_respondable_query == \"general\"\n",
    "]\n",
    "len(student_queries)"
   ]
  },
  {
   "cell_type": "code",
   "execution_count": 14,
   "id": "a8c18266-c903-4572-8777-c9937717b201",
   "metadata": {},
   "outputs": [
    {
     "data": {
      "text/plain": [
       "'Can I get the steps for factoring quadratics'"
      ]
     },
     "execution_count": 14,
     "metadata": {},
     "output_type": "execute_result"
    }
   ],
   "source": [
    "student_queries[0]"
   ]
  },
  {
   "cell_type": "markdown",
   "id": "e3294a12-239d-4de8-8631-3030ac2dfc58",
   "metadata": {},
   "source": [
    "### Load dbs"
   ]
  },
  {
   "cell_type": "code",
   "execution_count": null,
   "id": "5f0f600c-9521-4f6a-b318-6385fc658696",
   "metadata": {},
   "outputs": [],
   "source": [
    "app_embedding_dir = data_dir / \"app_data\"\n",
    "recipe_embedding_dir = data_dir / \"derived\" / \"embeddings\""
   ]
  },
  {
   "cell_type": "code",
   "execution_count": 8,
   "id": "6c42645f-7e2f-46d5-87c7-1f49a51c0f53",
   "metadata": {},
   "outputs": [],
   "source": [
    "rori_db = retrieval.RetrievalDb(app_embedding_dir, \"rori_microlesson\", \"db_string\")\n",
    "openstax_db = retrieval.RetrievalDb(app_embedding_dir, \"openstax_subsection\", \"db_string\")\n",
    "recipe_db = retrieval.RetrievalDb(recipe_embedding_dir, \"recipenlg\", \"db_string\")"
   ]
  },
  {
   "cell_type": "code",
   "execution_count": 23,
   "id": "5220e096-16fd-4412-8cbc-715da4140329",
   "metadata": {},
   "outputs": [],
   "source": [
    "rori_microlesson_db_info = {\n",
    "    \"db\": rori_db,\n",
    "    \"max_tokens\": 1000,\n",
    "    \"prefix\": \"Here is some lesson content that might be relevant:\\n\",\n",
    "}\n",
    "openstax_subsection_db_info = {\n",
    "    \"db\": openstax_db,\n",
    "    \"max_tokens\": 1000,\n",
    "    \"prefix\": \"Here are some excerpts from a math textbook. If they are relevant to the question, feel free to use language or examples from these excerpts:\\n\",\n",
    "}\n",
    "recipenlg_db_info = {\n",
    "    \"db\": recipe_db,\n",
    "    \"max_tokens\": 2000,\n",
    "    \"prefix\": \"Here are some step-by-step descriptions. If they are relevant to the question, feel free to use language or examples from these excerpts:\\n\",\n",
    "}\n",
    "math_strategy = retrieval_strategies.MappedEmbeddingRetrievalStrategy(\n",
    "    {\n",
    "        \"rori_microlesson_texts\": rori_microlesson_db_info,\n",
    "        \"openstax_subsection_texts\": openstax_subsection_db_info,\n",
    "    },\n",
    ")\n",
    "nomath_strategy = retrieval_strategies.MappedEmbeddingRetrievalStrategy(\n",
    "    {\n",
    "        \"rori_microlesson_texts\": recipenlg_db_info,\n",
    "    },\n",
    ")\n",
    "noretrieval_strategy = retrieval_strategies.NoRetrievalStrategy()"
   ]
  },
  {
   "cell_type": "code",
   "execution_count": null,
   "id": "45953814-f4d8-49e3-897b-c89953f9802a",
   "metadata": {},
   "outputs": [],
   "source": []
  },
  {
   "cell_type": "markdown",
   "id": "fc31b2c5-a6f7-4b89-a320-dfa1ed235a0f",
   "metadata": {},
   "source": [
    "### Generate responses"
   ]
  },
  {
   "cell_type": "code",
   "execution_count": null,
   "id": "deba988e-8e5f-4a75-be2d-a66db4d09fd0",
   "metadata": {},
   "outputs": [],
   "source": [
    "ds = []"
   ]
  },
  {
   "cell_type": "code",
   "execution_count": 37,
   "id": "c25b8c7d-70fe-42af-9c05-8314723b957b",
   "metadata": {},
   "outputs": [
    {
     "name": "stderr",
     "output_type": "stream",
     "text": [
      "Generating responses: 100%|████████████████████████████████████████████████████████████████████████████████████████| 51/51 [01:23<00:00,  1.64s/it]\n"
     ]
    }
   ],
   "source": [
    "for user_query in tqdm(student_queries, desc=\"Generating responses\"):\n",
    "    for retrieval_strategy_name, retrieval_strategy in [\n",
    "        (\"math\", math_strategy),\n",
    "        (\"recipe\", nomath_strategy),\n",
    "        (\"none\", noretrieval_strategy),\n",
    "    ]:\n",
    "        already_generated = False\n",
    "        for d in ds:\n",
    "            if d[\"user_query\"] == user_query and d[\"retrieval_strategy\"] == retrieval_strategy_name:\n",
    "                already_generated = True\n",
    "        if already_generated:\n",
    "            continue\n",
    "        intro_prompt_messages = mathqa_prompts.intro_prompts[\"general_math_qa_intro\"][\"messages\"]\n",
    "        prompt_manager = prompt_utils.PromptManager()\n",
    "        prompt_manager.set_intro_messages(intro_prompt_messages)\n",
    "        prompt_manager.set_retrieval_strategy(retrieval_strategy)\n",
    "        messages = prompt_manager.build_query(user_query)\n",
    "        completion = openai.ChatCompletion.create(\n",
    "            model=\"gpt-3.5-turbo-0613\",\n",
    "            messages=messages,\n",
    "        )\n",
    "        assistant_message = completion[\"choices\"][0][\"message\"][\"content\"]\n",
    "        ds.append(\n",
    "            {\n",
    "                \"user_query\": user_query,\n",
    "                \"retrieval_strategy\": retrieval_strategy_name,\n",
    "                \"response\": assistant_message,\n",
    "                \"messages\": messages,\n",
    "            }\n",
    "        )\n",
    "        time.sleep(0.1)  # being a bit polite on repeated api calls"
   ]
  },
  {
   "cell_type": "code",
   "execution_count": 38,
   "id": "dd983347-9b2d-470c-ba52-c4f3f77ad8b4",
   "metadata": {},
   "outputs": [
    {
     "data": {
      "text/plain": [
       "153"
      ]
     },
     "execution_count": 38,
     "metadata": {},
     "output_type": "execute_result"
    }
   ],
   "source": [
    "len(ds)"
   ]
  },
  {
   "cell_type": "code",
   "execution_count": 42,
   "id": "30057645-71a9-4891-bc23-5964aeee5f9c",
   "metadata": {},
   "outputs": [],
   "source": [
    "eval_dir = data_dir / \"derived\" / \"eval\"\n",
    "eval_dir.mkdir(exist_ok=True)"
   ]
  },
  {
   "cell_type": "code",
   "execution_count": 44,
   "id": "d0fa599e-e64d-44d2-9941-bf0441e4b822",
   "metadata": {},
   "outputs": [],
   "source": [
    "with open(eval_dir / \"generations_20230807.pkl\", \"wb\") as outfile:\n",
    "    pickle.dump(ds, outfile)"
   ]
  },
  {
   "cell_type": "code",
   "execution_count": 52,
   "id": "ee0b5020-7a87-450c-b43b-bd30349ad22a",
   "metadata": {},
   "outputs": [],
   "source": [
    "# load generated responses\n",
    "with open(eval_dir / \"generations_20230807.pkl\", \"rb\") as infile:\n",
    "    pickle.load(infile)"
   ]
  },
  {
   "cell_type": "code",
   "execution_count": 48,
   "id": "2bdfe987-a563-47ab-b5cc-2c971ead8be2",
   "metadata": {},
   "outputs": [
    {
     "data": {
      "text/plain": [
       "(153, 4)"
      ]
     },
     "execution_count": 48,
     "metadata": {},
     "output_type": "execute_result"
    }
   ],
   "source": [
    "df = (\n",
    "    pd.DataFrame(ds, columns=[\"user_query\", \"retrieval_strategy\", \"response\"])\n",
    "    .reset_index()\n",
    "    .rename(columns={\"index\": \"response_id\"})\n",
    ")\n",
    "df.shape"
   ]
  },
  {
   "cell_type": "code",
   "execution_count": 50,
   "id": "5f690c2f-2e8c-48d4-a5d5-c6305221dc4f",
   "metadata": {},
   "outputs": [
    {
     "data": {
      "text/html": [
       "<div>\n",
       "<style scoped>\n",
       "    .dataframe tbody tr th:only-of-type {\n",
       "        vertical-align: middle;\n",
       "    }\n",
       "\n",
       "    .dataframe tbody tr th {\n",
       "        vertical-align: top;\n",
       "    }\n",
       "\n",
       "    .dataframe thead th {\n",
       "        text-align: right;\n",
       "    }\n",
       "</style>\n",
       "<table border=\"1\" class=\"dataframe\">\n",
       "  <thead>\n",
       "    <tr style=\"text-align: right;\">\n",
       "      <th></th>\n",
       "      <th>response_id</th>\n",
       "      <th>user_query</th>\n",
       "      <th>retrieval_strategy</th>\n",
       "      <th>response</th>\n",
       "    </tr>\n",
       "  </thead>\n",
       "  <tbody>\n",
       "    <tr>\n",
       "      <th>5</th>\n",
       "      <td>5</td>\n",
       "      <td>I need a standard way of recognizing polynomia...</td>\n",
       "      <td>none</td>\n",
       "      <td>Of course! I can help you with that. A polynom...</td>\n",
       "    </tr>\n",
       "    <tr>\n",
       "      <th>49</th>\n",
       "      <td>49</td>\n",
       "      <td>if all the x values in a function are differnt...</td>\n",
       "      <td>recipe</td>\n",
       "      <td>Yes, you are correct! In a function, every inp...</td>\n",
       "    </tr>\n",
       "    <tr>\n",
       "      <th>139</th>\n",
       "      <td>139</td>\n",
       "      <td>How do you find the domain and range that are ...</td>\n",
       "      <td>recipe</td>\n",
       "      <td>To find the domain and range of a function, yo...</td>\n",
       "    </tr>\n",
       "  </tbody>\n",
       "</table>\n",
       "</div>"
      ],
      "text/plain": [
       "     response_id                                         user_query  \\\n",
       "5              5  I need a standard way of recognizing polynomia...   \n",
       "49            49  if all the x values in a function are differnt...   \n",
       "139          139  How do you find the domain and range that are ...   \n",
       "\n",
       "    retrieval_strategy                                           response  \n",
       "5                 none  Of course! I can help you with that. A polynom...  \n",
       "49              recipe  Yes, you are correct! In a function, every inp...  \n",
       "139             recipe  To find the domain and range of a function, yo...  "
      ]
     },
     "execution_count": 50,
     "metadata": {},
     "output_type": "execute_result"
    }
   ],
   "source": [
    "df.sample(n=3)"
   ]
  },
  {
   "cell_type": "code",
   "execution_count": 51,
   "id": "a3b3eb20-b1c9-4587-9504-7eac5253f285",
   "metadata": {},
   "outputs": [
    {
     "data": {
      "text/plain": [
       "retrieval_strategy\n",
       "math      51\n",
       "recipe    51\n",
       "none      51\n",
       "Name: count, dtype: int64"
      ]
     },
     "execution_count": 51,
     "metadata": {},
     "output_type": "execute_result"
    }
   ],
   "source": [
    "df.retrieval_strategy.value_counts()"
   ]
  },
  {
   "cell_type": "markdown",
   "id": "e015d6c2-2619-4e13-89d9-2f98e218e6d8",
   "metadata": {},
   "source": [
    "### Construct surveys\n",
    "\n",
    "Generate two surveys.\n",
    "\n",
    " - Randomize query order.\n",
    " - Create two questions, comparing recipe vs none and math vs none.\n",
    " - Assign every other question to survey 1 or survey 2, alternatingly."
   ]
  },
  {
   "cell_type": "code",
   "execution_count": 81,
   "id": "52ff90b8-c610-4e44-93ae-7955ae1b3396",
   "metadata": {},
   "outputs": [],
   "source": [
    "def get_question_with_random_order(group: pd.DataFrame, option_set: list):\n",
    "    question = {}\n",
    "    for i, option in enumerate(random.sample(option_set, k=len(option_set))):\n",
    "        question[f\"response{i+1}\"] = group[group.retrieval_strategy == option].iloc[0].response\n",
    "        question[f\"response{i+1}_retrieval_strategy\"] = option\n",
    "    return question\n",
    "\n",
    "\n",
    "survey1 = []\n",
    "survey2 = []\n",
    "for user_query in df.user_query.drop_duplicates().sample(frac=1, random_state=19881):\n",
    "    group = df[df.user_query == user_query]\n",
    "    q1 = get_question_with_random_order(group, [\"recipe\", \"none\"])\n",
    "    q2 = get_question_with_random_order(group, [\"math\", \"none\"])\n",
    "    q1 = {\"user_query\": user_query, **q1}\n",
    "    q2 = {\"user_query\": user_query, **q2}\n",
    "    survey1.append(q1)\n",
    "    survey2.append(q2)\n",
    "    survey1, survey2 = survey2, survey1"
   ]
  },
  {
   "cell_type": "code",
   "execution_count": 82,
   "id": "fa816c07-e5e0-4833-bedc-78265f0e4395",
   "metadata": {},
   "outputs": [],
   "source": [
    "eval_dir = data_dir / \"derived\" / \"eval\"\n",
    "eval_dir.mkdir(exist_ok=True)"
   ]
  },
  {
   "cell_type": "code",
   "execution_count": 83,
   "id": "810748ab-da2a-4d3d-864a-c2aab8ed2a42",
   "metadata": {},
   "outputs": [],
   "source": [
    "pd.DataFrame(survey1).to_csv(eval_dir / \"survey1_20230807.csv\", index=False)\n",
    "pd.DataFrame(survey2).to_csv(eval_dir / \"survey2_20230807.csv\", index=False)"
   ]
  },
  {
   "cell_type": "code",
   "execution_count": null,
   "id": "9c5604e6-a616-4fb9-8265-29bf7c6180e8",
   "metadata": {},
   "outputs": [],
   "source": []
  },
  {
   "cell_type": "code",
   "execution_count": null,
   "id": "0978cc64-59c5-4c96-b4d8-4a01701efe1c",
   "metadata": {},
   "outputs": [],
   "source": []
  }
 ],
 "metadata": {
  "kernelspec": {
   "display_name": "Python 3 (ipykernel)",
   "language": "python",
   "name": "python3"
  },
  "language_info": {
   "codemirror_mode": {
    "name": "ipython",
    "version": 3
   },
   "file_extension": ".py",
   "mimetype": "text/x-python",
   "name": "python",
   "nbconvert_exporter": "python",
   "pygments_lexer": "ipython3",
   "version": "3.10.11"
  }
 },
 "nbformat": 4,
 "nbformat_minor": 5
}
