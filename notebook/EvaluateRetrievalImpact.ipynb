{
 "cells": [
  {
   "cell_type": "markdown",
   "id": "01ed92ab-bd20-4e43-9436-447301edab14",
   "metadata": {},
   "source": [
    "Evaluate Retrieval Impact\n",
    "===\n",
    "\n",
    "Questions:\n",
    " - Does retrieval matter much?\n",
    " - Does it matter if the retrieval is relevant to the user's query?\n",
    "\n"
   ]
  },
  {
   "cell_type": "code",
   "execution_count": 117,
   "id": "75bad6ad-c299-4542-bae9-e1f528b2fcf6",
   "metadata": {},
   "outputs": [],
   "source": [
    "import json\n",
    "import os\n",
    "import pickle\n",
    "import random\n",
    "import re\n",
    "import string as string_utils\n",
    "import time\n",
    "from collections import Counter\n",
    "from pathlib import Path\n",
    "from pprint import pprint\n",
    "\n",
    "import dotenv\n",
    "import matplotlib\n",
    "import matplotlib.pyplot as plt\n",
    "import numpy as np\n",
    "import openai\n",
    "import pandas as pd\n",
    "import scipy\n",
    "import sklearn.metrics\n",
    "import tiktoken\n",
    "from tqdm import tqdm\n",
    "\n",
    "from llm_math_education import prompt_utils, retrieval, retrieval_strategies\n",
    "from llm_math_education.prompts import mathqa as mathqa_prompts"
   ]
  },
  {
   "cell_type": "code",
   "execution_count": 2,
   "id": "e7e6f1c5-1318-45e5-a7d5-9cf52ca4dde6",
   "metadata": {},
   "outputs": [
    {
     "data": {
      "text/plain": [
       "True"
      ]
     },
     "execution_count": 2,
     "metadata": {},
     "output_type": "execute_result"
    }
   ],
   "source": [
    "dotenv.load_dotenv(\"../.env\")"
   ]
  },
  {
   "cell_type": "code",
   "execution_count": 3,
   "id": "8c032d5d-70ac-4964-9fd5-15f5dfc79c34",
   "metadata": {},
   "outputs": [
    {
     "data": {
      "text/plain": [
       "'sk-'"
      ]
     },
     "execution_count": 3,
     "metadata": {},
     "output_type": "execute_result"
    }
   ],
   "source": [
    "os.environ[\"OPENAI_API_KEY\"][:3]"
   ]
  },
  {
   "cell_type": "code",
   "execution_count": 4,
   "id": "257d08da-b5c9-4c60-a1fb-3ca40657bbce",
   "metadata": {},
   "outputs": [],
   "source": [
    "openai.api_key = os.environ[\"OPENAI_API_KEY\"]"
   ]
  },
  {
   "cell_type": "code",
   "execution_count": 5,
   "id": "16509047-5873-4bd9-937c-ef33cc1e028b",
   "metadata": {},
   "outputs": [
    {
     "data": {
      "text/plain": [
       "(67, 18)"
      ]
     },
     "execution_count": 5,
     "metadata": {},
     "output_type": "execute_result"
    }
   ],
   "source": [
    "data_dir = Path(\"../data\")\n",
    "assert data_dir.exists()\n",
    "with open(data_dir / \"derived\" / \"rori_lessons.json\") as infile:\n",
    "    df = pd.read_json(infile)\n",
    "df.shape"
   ]
  },
  {
   "cell_type": "code",
   "execution_count": null,
   "id": "39560ff4-1af1-4745-bcd5-338641e792c8",
   "metadata": {},
   "outputs": [],
   "source": []
  },
  {
   "cell_type": "markdown",
   "id": "d7e2b31e-3c4d-49d5-b490-bf562c464393",
   "metadata": {},
   "source": [
    "### Load query data"
   ]
  },
  {
   "cell_type": "code",
   "execution_count": 6,
   "id": "0dbca40c-3206-43fd-86fd-73bff4189cf3",
   "metadata": {},
   "outputs": [
    {
     "data": {
      "text/plain": [
       "51"
      ]
     },
     "execution_count": 6,
     "metadata": {},
     "output_type": "execute_result"
    }
   ],
   "source": [
    "mn_general_student_queries_filepath = data_dir / \"app_data\" / \"mn_general_student_queries.csv\"\n",
    "query_df = pd.read_csv(mn_general_student_queries_filepath)\n",
    "student_queries = [\n",
    "    row.post_content.strip().replace(\"[Continued:]\", \"\\n\")\n",
    "    for row in query_df.sample(frac=1, random_state=87896).itertuples()\n",
    "    if row.is_respondable_query == \"general\"\n",
    "]\n",
    "len(student_queries)"
   ]
  },
  {
   "cell_type": "code",
   "execution_count": 7,
   "id": "a8c18266-c903-4572-8777-c9937717b201",
   "metadata": {},
   "outputs": [
    {
     "data": {
      "text/plain": [
       "'Can I get the steps for factoring quadratics'"
      ]
     },
     "execution_count": 7,
     "metadata": {},
     "output_type": "execute_result"
    }
   ],
   "source": [
    "student_queries[0]"
   ]
  },
  {
   "cell_type": "code",
   "execution_count": 8,
   "id": "ef24ff50-6ecb-423c-8095-888fcf87f42f",
   "metadata": {},
   "outputs": [
    {
     "data": {
      "text/plain": [
       "['Can I get the steps for factoring quadratics',\n",
       " 'I need a standard way of recognizing polynomials and their degrees, please help me figure\\nit out.',\n",
       " 'how do i solve square root functions',\n",
       " 'Can someone explain like interior and exterior angles? thanks',\n",
       " 'How do you find the radius?',\n",
       " 'What is vertex form and how do you solve for it?',\n",
       " 'How do I multiply fractions???????',\n",
       " 'Can someone help me with what an irrational number is vs a rational number',\n",
       " 'How do you find the parent function of a graph?',\n",
       " 'how do you know if a graph is an absolute value graph?',\n",
       " 'I always forget the difference between commutative and associative. Does anybody know a way to make me remember?',\n",
       " 'What is a function notation?',\n",
       " 'I know that sin A=opposite/hypotenuse, cos A=adjacent/hypotenuse, and tan A=opposite/adjacent. Is there any other ratios like those?',\n",
       " \"what are regression and median-fit lines?\\n\\n I really don't get them.(it) (that)\",\n",
       " 'after you distribute a negative does it disappear or do you keep it there?',\n",
       " 'How do I add line segments again??',\n",
       " 'if all the x values in a function are differnt its a function right?',\n",
       " 'How do you translate a shape',\n",
       " 'what is the difference between recursive formula and explicit form.',\n",
       " \"I'm still a little lost on how you find midpoints on graphs. I'm currently on Topic 4 of Section 1, and I'm watching the video, but I'm still a little confuse on how they find it. Here is the question. If anyone knows the steps to finding the midpoint on a graph, thank you!\",\n",
       " \"Just checking, If I have a problem like x to the 4th in parentheses and there's a exponent out of the parentheses lets say 2 would you multiply the exponent in it by the one out making it x to the 8th power?\",\n",
       " 'where can I find completing the square?',\n",
       " \"I don't understand how to find x if there are two x's\",\n",
       " 'Why does the sine of an angle equal the sine of its supplement?',\n",
       " 'what is the difference between communtative property of addition and addition property of equality',\n",
       " 'how do you oslve with negative exponents (for example 4^-9)\\n\\n *solve',\n",
       " 'Can function Notation be negative?',\n",
       " 'How does standard deivation work?',\n",
       " 'wait... so if im using pemdas how does that work with fractions ?',\n",
       " \"Can someone give me a factoring  example I don't get it and I re watched the videos and I still don't get it.\",\n",
       " 'how do you a graph function rule?!',\n",
       " 'what is monomial',\n",
       " 'What is the difference between commutative and associative property?',\n",
       " 'How do you multiply fractions?!?!?',\n",
       " 'How do you find the zeros of a function by graphing?',\n",
       " 'How do you know if a number is a constant?',\n",
       " 'how  far can a polynomial go',\n",
       " \"I know that this has been a consistent question but I have a test on line of best fit. I've been given multiple different answers on the algebra wall and some make sense while others don't. My teacher never gave me an equation so I don't think I'm supposed to be using one, so what is the best way to find the accurate line of best fit.\",\n",
       " 'I dont get how to get the length of the sides without knowing the perimeter.',\n",
       " 'Is supplementary angles are always adjacent',\n",
       " 'how do i find the slope of a line in slope intercept form.',\n",
       " 'What is a leading coefficient?',\n",
       " 'What is the domain and range? How do I find it?',\n",
       " 'Give me some examples of an equation that is not a linear function!',\n",
       " 'could i recieve help with turning a trinomial into grouping',\n",
       " 'Hey guys! What is the quotient rule??',\n",
       " 'How do you find the domain and range that are reasonable for a certain function?',\n",
       " 'Is a rational and irrational number always irrational?',\n",
       " 'what is the quadratic formula?',\n",
       " 'i need help on how to  graph quadratic funtions',\n",
       " 'How do i graph an inequality with a less than or equal to sign?']"
      ]
     },
     "execution_count": 8,
     "metadata": {},
     "output_type": "execute_result"
    }
   ],
   "source": [
    "student_queries"
   ]
  },
  {
   "cell_type": "markdown",
   "id": "e3294a12-239d-4de8-8631-3030ac2dfc58",
   "metadata": {},
   "source": [
    "### Load dbs"
   ]
  },
  {
   "cell_type": "code",
   "execution_count": 9,
   "id": "5f0f600c-9521-4f6a-b318-6385fc658696",
   "metadata": {},
   "outputs": [],
   "source": [
    "app_embedding_dir = data_dir / \"app_data\"\n",
    "recipe_embedding_dir = data_dir / \"derived\" / \"embeddings\""
   ]
  },
  {
   "cell_type": "code",
   "execution_count": 10,
   "id": "6c42645f-7e2f-46d5-87c7-1f49a51c0f53",
   "metadata": {},
   "outputs": [],
   "source": [
    "rori_db = retrieval.RetrievalDb(app_embedding_dir, \"rori_microlesson\", \"db_string\")\n",
    "openstax_db = retrieval.RetrievalDb(app_embedding_dir, \"openstax_subsection\", \"db_string\")\n",
    "recipe_db = retrieval.RetrievalDb(recipe_embedding_dir, \"recipenlg\", \"db_string\")"
   ]
  },
  {
   "cell_type": "code",
   "execution_count": 11,
   "id": "5220e096-16fd-4412-8cbc-715da4140329",
   "metadata": {},
   "outputs": [],
   "source": [
    "rori_microlesson_db_info = retrieval.DbInfo(\n",
    "    rori_db,\n",
    "    max_tokens=1000,\n",
    "    # prefix=\"Here is some lesson content that might be relevant:\\n\",\n",
    "    prefix=\"Connect the student's question to this lesson content:\\n\",\n",
    ")\n",
    "openstax_subsection_db_info = retrieval.DbInfo(\n",
    "    openstax_db,\n",
    "    max_tokens=600,\n",
    "    # prefix=\"Here are some excerpts from a math textbook. If they are relevant to the question, feel free to use language or examples from these excerpts:\\n\",\n",
    "    prefix=\"Use language from these math textbook excerpts in your response:\\n\",\n",
    ")\n",
    "recipenlg_db_info = retrieval.DbInfo(\n",
    "    recipe_db,\n",
    "    max_tokens=2000,\n",
    "    # prefix=\"Here are some step-by-step descriptions. If they are relevant to the question, feel free to use language or examples from these excerpts:\\n\",\n",
    "    prefix=\"Use language from these step-by-step descriptions in your response:\\n\",\n",
    ")\n",
    "math_strategy = retrieval_strategies.MappedEmbeddingRetrievalStrategy(\n",
    "    {\n",
    "        \"rori_microlesson_texts\": rori_microlesson_db_info,\n",
    "        \"openstax_subsection_texts\": openstax_subsection_db_info,\n",
    "    },\n",
    ")\n",
    "nomath_strategy = retrieval_strategies.MappedEmbeddingRetrievalStrategy(\n",
    "    {\n",
    "        \"rori_microlesson_texts\": recipenlg_db_info,\n",
    "    },\n",
    ")\n",
    "noretrieval_strategy = retrieval_strategies.NoRetrievalStrategy()"
   ]
  },
  {
   "cell_type": "code",
   "execution_count": null,
   "id": "3582c605-37e6-455d-8b5d-b7fb3e1b1116",
   "metadata": {},
   "outputs": [],
   "source": []
  },
  {
   "cell_type": "markdown",
   "id": "a2086896-4598-442e-b2ad-6662112fbd63",
   "metadata": {},
   "source": [
    "#### Exploration of conditioning on retrieval"
   ]
  },
  {
   "cell_type": "code",
   "execution_count": 12,
   "id": "9b1ed9c8-eb40-49a9-9914-a09636d6441e",
   "metadata": {},
   "outputs": [],
   "source": [
    "recipenlg_db_info = retrieval.DbInfo(\n",
    "    recipe_db,\n",
    "    max_tokens=2000,\n",
    "    max_texts=1,\n",
    "    prefix=\"Model your response off the following recipe:\\n\",\n",
    ")\n",
    "nomath_strategy = retrieval_strategies.MappedEmbeddingRetrievalStrategy(\n",
    "    {\n",
    "        \"recipe_texts\": recipenlg_db_info,\n",
    "    },\n",
    ")"
   ]
  },
  {
   "cell_type": "code",
   "execution_count": 13,
   "id": "9a272209-a81c-41f7-b2cd-c2c36f823f6b",
   "metadata": {},
   "outputs": [
    {
     "name": "stderr",
     "output_type": "stream",
     "text": [
      "Generating responses:   0%|                                                                                                     | 0/51 [00:08<?, ?it/s]"
     ]
    },
    {
     "name": "stdout",
     "output_type": "stream",
     "text": [
      "Of course! Factoring quadratics involves breaking down a quadratic equation into its factors. Here are the steps:\n",
      "\n",
      "1. Start with a quadratic equation in the form of ax^2 + bx + c = 0.\n",
      "2. Look for common factors in the three terms, such as a number that divides evenly into all of them.\n",
      "3. If there are common factors, factor them out from each term.\n",
      "4. Rewrite the equation with the factored terms.\n",
      "5. Look for two binomials that multiply together to give you the factored expression.\n",
      "6. Write the two binomials and set them equal to zero.\n",
      "7. Solve each binomial equation separately.\n",
      "8. The solutions you find will be the factors of the quadratic equation.\n",
      "\n",
      "I hope these steps help you with factoring quadratics! Do you have any other math-related questions?\n"
     ]
    },
    {
     "name": "stderr",
     "output_type": "stream",
     "text": [
      "\n"
     ]
    }
   ],
   "source": [
    "intro_prompt_messages = [\n",
    "    {\n",
    "        \"role\": \"system\",\n",
    "        \"content\": \"\"\"You are going to act as a mathematics tutor for a 13 year old student who is in grade 8 or 9.\n",
    "This student lives in Ghana or Nigeria.\n",
    "You will be encouraging and factual.\n",
    "\n",
    "{recipe_texts}\n",
    "\n",
    "Prefer simple, short responses.\n",
    "If the student says something inappropriate or off topic you will say you can only focus on mathematics and ask them if they have any math-related follow-up questions.\n",
    "\"\"\",\n",
    "    },\n",
    "]\n",
    "for user_query in tqdm(student_queries, desc=\"Generating responses\"):\n",
    "    prompt_manager = prompt_utils.PromptManager()\n",
    "    prompt_manager.set_intro_messages(intro_prompt_messages)\n",
    "    prompt_manager.set_retrieval_strategy(nomath_strategy)\n",
    "    messages = prompt_manager.build_query(user_query)\n",
    "    completion = openai.ChatCompletion.create(\n",
    "        model=\"gpt-3.5-turbo-0613\",\n",
    "        messages=messages,\n",
    "        request_timeout=20,\n",
    "    )\n",
    "    assistant_message = completion[\"choices\"][0][\"message\"][\"content\"]\n",
    "    break\n",
    "print(assistant_message)"
   ]
  },
  {
   "cell_type": "code",
   "execution_count": 14,
   "id": "3f6611e2-c1e2-4798-9460-d98f9e6f3899",
   "metadata": {},
   "outputs": [
    {
     "name": "stderr",
     "output_type": "stream",
     "text": [
      "Generating responses:  50%|███████████████████████████████████████████████                                               | 1/2 [00:12<00:12, 12.35s/it]"
     ]
    },
    {
     "name": "stdout",
     "output_type": "stream",
     "text": [
      "2\n",
      "system\n",
      "You are going to act as a mathematics tutor for a 13 year old student who is in grade 8 or 9.\n",
      "This student lives in Ghana or Nigeria.\n",
      "You will be encouraging and factual.\n",
      "Prefer simple, short responses.\n",
      "If the student says something inappropriate or off topic you will say you can only focus on mathematics and ask them if they have any math-related follow-up questions.\n",
      "\n",
      "user\n",
      "Answer the following question: Can I get the steps for factoring quadratics\n",
      "\n",
      "Use the following recipe as an analogy in your response, creating a corresponding mathematical operation for each step in the recipe:\n",
      "Blonde Brownies recipe:  - Grease a 13 x 9 x 2-inch baking pan.  - Combine flour, baking powder and salt.  - Melt butter; remove from heat.  - Stir in sugar. Add eggs and vanilla.  - Stir until blended.  - Stir dry ingredients and walnuts into sugar mixture.  - Spread in pan.  - Bake in a 350° oven for 20 to 25 minutes.  - Cut into bars while warm.  - Makes 48 bars.\n",
      "\n",
      "RESPONSE\n",
      "Yes, I can help you with factoring quadratics! Here are the steps to factor a quadratic equation:\n",
      "\n",
      "1. Grease a 13 x 9 x 2-inch baking pan: \n",
      "In math, this step corresponds to identifying the quadratic equation you want to factorize.\n",
      "\n",
      "2. Combine flour, baking powder, and salt:\n",
      "In math, this step corresponds to simplifying the quadratic equation if necessary.\n",
      "\n",
      "3. Melt butter; remove from heat:\n",
      "In math, this step corresponds to finding the factors of the quadratic equation.\n",
      "\n",
      "4. Stir in sugar. Add eggs and vanilla:\n",
      "In math, this step corresponds to identifying the constants and coefficients in the quadratic equation.\n",
      "\n",
      "5. Stir until blended:\n",
      "In math, this step means rearranging the quadratic equation in standard form, which is usually ax^2 + bx + c = 0.\n",
      "\n",
      "6. Stir dry ingredients and walnuts into sugar mixture:\n",
      "In math, this step corresponds to factoring out any common factors from the quadratic equation.\n",
      "\n",
      "7. Spread in pan:\n",
      "In math, this step means expressing the factored form of the quadratic equation.\n",
      "\n",
      "8. Bake in a 350° oven for 20 to 25 minutes:\n",
      "In math, this step corresponds to solving for the values of x that make the quadratic equation equal to zero.\n",
      "\n",
      "9. Cut into bars while warm:\n",
      "In math, this step means identifying the solutions or roots of the quadratic equation.\n",
      "\n",
      "10. Makes 48 bars:\n",
      "In math, this step indicates how many solutions or roots the quadratic equation has.\n",
      "\n",
      "I hope this analogy helps you understand the steps for factoring quadratics! If you have any questions or need further assistance, feel free to ask.\n",
      "\n",
      "\n",
      "\n",
      "\n"
     ]
    },
    {
     "name": "stderr",
     "output_type": "stream",
     "text": [
      "Generating responses: 100%|██████████████████████████████████████████████████████████████████████████████████████████████| 2/2 [00:23<00:00, 11.72s/it]"
     ]
    },
    {
     "name": "stdout",
     "output_type": "stream",
     "text": [
      "2\n",
      "system\n",
      "You are going to act as a mathematics tutor for a 13 year old student who is in grade 8 or 9.\n",
      "This student lives in Ghana or Nigeria.\n",
      "You will be encouraging and factual.\n",
      "Prefer simple, short responses.\n",
      "If the student says something inappropriate or off topic you will say you can only focus on mathematics and ask them if they have any math-related follow-up questions.\n",
      "\n",
      "user\n",
      "Answer the following question: I always forget the difference between commutative and associative. Does anybody know a way to make me remember?\n",
      "\n",
      "Use the following recipe as an analogy in your response, creating a corresponding mathematical operation for each step in the recipe:\n",
      "Pancakes recipe:  - Mix well.  - Pour on hot griddle until brown.\n",
      "\n",
      "RESPONSE\n",
      "Sure, I can help you remember the difference between commutative and associative using a pancake recipe as an analogy.\n",
      "\n",
      "In the pancake recipe, \"mixing well\" is similar to the commutative property in mathematics. This property states that the order of the numbers or variables does not matter when we add or multiply them. Just like how you can mix the ingredients in any order and still end up with a delicious pancake batter.\n",
      "\n",
      "On the other hand, the step \"pouring on a hot griddle until brown\" represents the associative property. This property applies to addition and multiplication and means that the grouping of numbers or variables does not change the end result. Similarly, when you pour the pancake batter onto the griddle, it doesn't matter if you pour it all at once or in parts, as long as it cooks until brown.\n",
      "\n",
      "So, to remember the difference:\n",
      "- Commutative property is like mixing the ingredients in any order.\n",
      "- Associative property is like pouring the batter onto the griddle in different ways, but still ending up with brown pancakes.\n",
      "\n",
      "If you have any follow-up questions or need more help with math, feel free to ask!\n",
      "\n",
      "\n",
      "\n",
      "\n"
     ]
    },
    {
     "name": "stderr",
     "output_type": "stream",
     "text": [
      "\n"
     ]
    }
   ],
   "source": [
    "recipenlg_db_info = retrieval.DbInfo(\n",
    "    recipe_db,\n",
    "    max_tokens=2000,\n",
    "    max_texts=1,\n",
    "    prefix=\"\",\n",
    ")\n",
    "nomath_strategy = retrieval_strategies.MappedEmbeddingRetrievalStrategy(\n",
    "    {\n",
    "        \"recipe_texts\": recipenlg_db_info,\n",
    "    },\n",
    ")\n",
    "intro_prompt_messages = [\n",
    "    {\n",
    "        \"role\": \"system\",\n",
    "        \"content\": \"\"\"You are going to act as a mathematics tutor for a 13 year old student who is in grade 8 or 9.\n",
    "This student lives in Ghana or Nigeria.\n",
    "You will be encouraging and factual.\n",
    "Prefer simple, short responses.\n",
    "If the student says something inappropriate or off topic you will say you can only focus on mathematics and ask them if they have any math-related follow-up questions.\"\"\",\n",
    "    },\n",
    "    {\n",
    "        \"role\": \"user\",\n",
    "        \"content\": \"\"\"Answer the following question: {user_query}\n",
    "\n",
    "Use the following recipe as an analogy in your response, creating a corresponding mathematical operation for each step in the recipe:\n",
    "{recipe_texts}\"\"\",\n",
    "    },\n",
    "]\n",
    "for user_query in tqdm(random.sample(student_queries, k=2), desc=\"Generating responses\"):\n",
    "    prompt_manager = prompt_utils.PromptManager()\n",
    "    prompt_manager.set_intro_messages(intro_prompt_messages)\n",
    "    prompt_manager.set_retrieval_strategy(nomath_strategy)\n",
    "    messages = prompt_manager.build_query(user_query)\n",
    "    completion = openai.ChatCompletion.create(\n",
    "        model=\"gpt-3.5-turbo-0613\",\n",
    "        messages=messages,\n",
    "        request_timeout=20,\n",
    "    )\n",
    "    assistant_message = completion[\"choices\"][0][\"message\"][\"content\"]\n",
    "    print(len(messages))\n",
    "    for message in messages:\n",
    "        print(message[\"role\"])\n",
    "        print(message[\"content\"] + \"\\n\")\n",
    "    print(\"RESPONSE\")\n",
    "    print(assistant_message)\n",
    "    print(\"\\n\\n\\n\")"
   ]
  },
  {
   "cell_type": "code",
   "execution_count": 18,
   "id": "a756a3a5-a7d3-4e48-b147-ba33d454cea5",
   "metadata": {},
   "outputs": [
    {
     "name": "stderr",
     "output_type": "stream",
     "text": [
      "Generating responses:  50%|█████████████████████████████████████████████                                             | 1/2 [00:06<00:06,  6.86s/it]"
     ]
    },
    {
     "name": "stdout",
     "output_type": "stream",
     "text": [
      "2\n",
      "system\n",
      "You are going to act as a mathematics tutor for a 13 year old student who is in grade 8 or 9.\n",
      "This student lives in Ghana or Nigeria.\n",
      "You will be encouraging and factual.\n",
      "Prefer simple, short responses.\n",
      "If the student says something inappropriate or off topic you will say you can only focus on mathematics and ask them if they have any math-related follow-up questions.\n",
      "\n",
      "user\n",
      "Answer the following question: How do i graph an inequality with a less than or equal to sign?\n",
      "\n",
      "Reference content from this textbook section in your response:\n",
      "\n",
      "\n",
      "RESPONSE\n",
      "To graph an inequality with a \"less than or equal to\" sign (≤), you can follow these steps:\n",
      "\n",
      "1. Start by treating the inequality as if it were an equation. Let's assume you have an inequality like x ≤ 3.\n",
      "\n",
      "2. Draw a number line and mark the point where the value is 3.\n",
      "\n",
      "3. Since the inequality includes \"less than or equal to,\" we need to indicate that the value can also be equal to 3. In this case, you can represent it with a closed circle (●) at the point 3 on the number line.\n",
      "\n",
      "4. To show the range of values less than or equal to 3, draw an arrow extending to the left side of the number line. This indicates that any value to the left of the closed circle is a valid solution.\n",
      "\n",
      "That's it! You have successfully graphed the inequality x ≤ 3. Remember to indicate whether the circle is closed (≤ or ≥) or open (< or >) depending on the inequality symbol. If there's anything else you would like me to explain, please let me know.\n",
      "\n",
      "\n",
      "\n",
      "\n"
     ]
    },
    {
     "name": "stderr",
     "output_type": "stream",
     "text": [
      "Generating responses: 100%|██████████████████████████████████████████████████████████████████████████████████████████| 2/2 [00:16<00:00,  8.33s/it]"
     ]
    },
    {
     "name": "stdout",
     "output_type": "stream",
     "text": [
      "2\n",
      "system\n",
      "You are going to act as a mathematics tutor for a 13 year old student who is in grade 8 or 9.\n",
      "This student lives in Ghana or Nigeria.\n",
      "You will be encouraging and factual.\n",
      "Prefer simple, short responses.\n",
      "If the student says something inappropriate or off topic you will say you can only focus on mathematics and ask them if they have any math-related follow-up questions.\n",
      "\n",
      "user\n",
      "Answer the following question: wait... so if im using pemdas how does that work with fractions ?\n",
      "\n",
      "Reference content from this textbook section in your response:\n",
      "\n",
      "\n",
      "RESPONSE\n",
      "When it comes to using PEMDAS (also known as BODMAS) with fractions, it's a little different but still follows the same order. Let me break it down for you:\n",
      "\n",
      "P - Parentheses: If you have any parentheses in the expression, start solving within them first. For example, if you have (1/2 + 3/4) * 2, you would solve within the parentheses first to get 5/4. \n",
      "\n",
      "E - Exponents: If there are any exponents, simplify them next. For example, if you have (1/2)^2, you would square the numerator and the denominator separately to get 1/4.\n",
      "\n",
      "MD - Multiplication and Division: After parentheses and exponents, perform multiplication and division from left to right. For example, in the expression 1/2 + 3/4 * 2, you would multiply 3/4 and 2 before adding 1/2. This would give you 3/4 * 2 = 3/2, and then you add 1/2 to get 5/2.\n",
      "\n",
      "AS - Addition and Subtraction: Lastly, perform addition and subtraction from left to right. For example, in the expression 1/2 + 3/4 - 1/4, you would add 1/2 and 3/4 to get 5/4, and then subtract 1/4 to get 4/4 or simply 1.\n",
      "\n",
      "Remember to work step by step and simplify fractions whenever possible. If you have any specific math-related questions or need further explanation, feel free to let me know!\n",
      "\n",
      "\n",
      "\n",
      "\n"
     ]
    },
    {
     "name": "stderr",
     "output_type": "stream",
     "text": [
      "\n"
     ]
    }
   ],
   "source": [
    "rori_microlesson_db_info = retrieval.DbInfo(\n",
    "    rori_db,\n",
    "    max_tokens=1000,\n",
    "    max_texts=3,\n",
    "    # prefix=\"Here is some lesson content that might be relevant:\\n\",\n",
    "    prefix=\"If relevant, refer to the explanation and example in these three lessons:\\n\",\n",
    ")\n",
    "openstax_subsection_db_info = retrieval.DbInfo(\n",
    "    openstax_db,\n",
    "    max_tokens=3000,\n",
    "    max_texts=1,\n",
    "    prefix=\"\",\n",
    "    use_parent_text=True,\n",
    "    parent_group_cols=[\"chapter\", \"section\"],\n",
    "    parent_sort_cols=[\"index\"],\n",
    ")\n",
    "math_strategy = retrieval_strategies.MappedEmbeddingRetrievalStrategy(\n",
    "    {\n",
    "        \"rori_microlesson_texts\": rori_microlesson_db_info,\n",
    "        \"openstax_subsection_texts\": openstax_subsection_db_info,\n",
    "    },\n",
    ")\n",
    "intro_prompt_messages = [\n",
    "    {\n",
    "        \"role\": \"system\",\n",
    "        \"content\": \"\"\"You are going to act as a mathematics tutor for a 13 year old student who is in grade 8 or 9.\n",
    "This student lives in Ghana or Nigeria.\n",
    "You will be encouraging and factual.\n",
    "Prefer simple, short responses.\n",
    "If the student says something inappropriate or off topic you will say you can only focus on mathematics and ask them if they have any math-related follow-up questions.\"\"\",\n",
    "    },\n",
    "    {\n",
    "        \"role\": \"user\",\n",
    "        \"content\": \"\"\"Answer the following question: {user_query}\n",
    "\n",
    "Reference content from this textbook section in your response:\n",
    "{recipe_texts}\"\"\",\n",
    "    },\n",
    "]\n",
    "for user_query in tqdm(random.sample(student_queries, k=2), desc=\"Generating responses\"):\n",
    "    prompt_manager = prompt_utils.PromptManager()\n",
    "    prompt_manager.set_intro_messages(intro_prompt_messages)\n",
    "    prompt_manager.set_retrieval_strategy(math_strategy)\n",
    "    messages = prompt_manager.build_query(user_query)\n",
    "    completion = openai.ChatCompletion.create(\n",
    "        model=\"gpt-3.5-turbo-0613\",\n",
    "        messages=messages,\n",
    "        request_timeout=20,\n",
    "    )\n",
    "    assistant_message = completion[\"choices\"][0][\"message\"][\"content\"]\n",
    "    print(len(messages))\n",
    "    for message in messages:\n",
    "        print(message[\"role\"])\n",
    "        print(message[\"content\"] + \"\\n\")\n",
    "    print(\"RESPONSE\")\n",
    "    print(assistant_message)\n",
    "    print(\"\\n\\n\\n\")"
   ]
  },
  {
   "cell_type": "code",
   "execution_count": 11,
   "id": "63f202db-f6a4-4f92-9995-23e16f2b73a1",
   "metadata": {},
   "outputs": [],
   "source": [
    "rori_microlesson_db_info = retrieval.DbInfo(\n",
    "    rori_db,\n",
    "    max_tokens=1000,\n",
    "    max_texts=3,\n",
    "    # prefix=\"Here is some lesson content that might be relevant:\\n\",\n",
    "    prefix=\"If relevant, refer to the explanation and example in these three lessons:\\n\",\n",
    ")\n",
    "openstax_subsection_db_info = retrieval.DbInfo(\n",
    "    openstax_db,\n",
    "    max_tokens=1000,\n",
    "    max_texts=3,\n",
    "    # prefix=\"Here are some excerpts from a math textbook. If they are relevant to the question, feel free to use language or examples from these excerpts:\\n\",\n",
    "    prefix=\"Use language from these math textbook excerpts in your response:\\n\",\n",
    ")\n",
    "math_strategy = retrieval_strategies.MappedEmbeddingRetrievalStrategy(\n",
    "    {\n",
    "        \"rori_microlesson_texts\": rori_microlesson_db_info,\n",
    "        \"openstax_subsection_texts\": \"\",  # openstax_subsection_db_info,\n",
    "    },\n",
    ")"
   ]
  },
  {
   "cell_type": "code",
   "execution_count": 17,
   "id": "a79fae03-e5ac-45f9-8402-f936fe971164",
   "metadata": {},
   "outputs": [
    {
     "name": "stderr",
     "output_type": "stream",
     "text": [
      "Generating responses:   0%|                                                                                                 | 0/51 [00:02<?, ?it/s]"
     ]
    },
    {
     "name": "stdout",
     "output_type": "stream",
     "text": [
      "2\n",
      "You are going to act as a mathematics tutor for a 13 year old student who is in grade 8 or 9.\n",
      "This student lives in Ghana or Nigeria.\n",
      "You will be encouraging and factual.\n",
      "\n",
      "\n",
      "\n",
      "Prefer simple, short responses.\n",
      "If the student says something inappropriate or off topic you will say you can only focus on mathematics and ask them if they have any math-related follow-up questions.\n",
      "\n",
      "\n",
      "Can I get the steps for factoring quadratics\n",
      "\n",
      "If relevant, refer to the explanation and example in these three lessons:\n",
      "It is good to have you here! Let's learn how to find the square root of numbers.  Squareroot of a number is a number when multiplied by itself gives the original number. Square root is denoted by √. Note that square roots exist only for positive numbers.  Example: Find the square root of the given number Ques:  √196 Ans: 14 Hint: 14 multiplied by 14 gives the number 196.   It's time for you to pratice. Shall we get started?  Write yes to proceed.\n",
      "In today's lesson, we are going to learn to identify the factors of a given number.  A factor of a number is the number that divides it completely without leaving any remainder.  Example: To find the factors of 10,  write down all the multiplication sentences which gives 10 as the answer.   5x2 =10 1x10=10  Here the numbers 1,2,5 and 10 are the factors of the number 10. Also note that 1 and the number itself are factors of the number.  Ques: Which number is a factor of 6? A. 3 B. 5 C. 7 D. 9  Ans: A  Hint: We know that 2x3=6, hence 2 and 3 are factors of 6. Hence the answer is 3.  Shall we try some questions?😄    Type Yes to continue to solve some questions.  Yay! you are doing a great job. Let's solve some more questions. Write the missing factor.   Ques: 6x ____=54 Ans: 9  Write the missing factor.  Type Yes to continue to solve some questions.\n",
      "Today let us learn how to multiply 2 integers with and without grouping.  Multiplication of integers is almost same as the multiplication of whole numbers.  The only important things to know before you start multiplying is the signs. 1. Negative sign × Positive sign = Negative sign  2. Negative sign × Negative sign = Positive sign 3. Positive sign × Positive sign = Positive sign  Remember to place the correct sign in the answer.  Would you like to try some questions?  Multiply the numbers. Choose from the option A or B.  Type Yes to proceed.\n",
      "\n",
      "\n",
      "RESPONSE\n",
      "Sure! Here are the steps to factor a quadratic:\n",
      "\n",
      "1. Identify the coefficients of the quadratic equation. The standard form of a quadratic equation is ax^2 + bx + c, where a, b, and c are coefficients.\n",
      "\n",
      "2. Look for common factors among the coefficients. If there is a common factor, you can factor it out.\n",
      "\n",
      "3. Use factoring methods like the \"ac method\" or factoring by grouping to factor the remaining quadratic expression.\n",
      "\n",
      "4. Write the factored form of the quadratic equation. It should be in the form (x + p)(x + q), where p and q are the factors.\n",
      "\n",
      "Remember to practice with examples to reinforce your understanding! Let me know if you have any follow-up questions or need further explanation.\n"
     ]
    },
    {
     "name": "stderr",
     "output_type": "stream",
     "text": [
      "\n"
     ]
    }
   ],
   "source": [
    "for user_query in tqdm(student_queries, desc=\"Generating responses\"):\n",
    "    intro_prompt_messages = [\n",
    "        {\n",
    "            \"role\": \"system\",\n",
    "            \"content\": \"\"\"You are going to act as a mathematics tutor for a 13 year old student who is in grade 8 or 9.\n",
    "This student lives in Ghana or Nigeria.\n",
    "You will be encouraging and factual.\n",
    "\n",
    "{openstax_subsection_texts}\n",
    "\n",
    "Prefer simple, short responses.\n",
    "If the student says something inappropriate or off topic you will say you can only focus on mathematics and ask them if they have any math-related follow-up questions.\n",
    "\"\"\",\n",
    "        },\n",
    "        {\n",
    "            \"role\": \"user\",\n",
    "            \"content\": user_query\n",
    "            + \"\"\"\n",
    "\n",
    "{rori_microlesson_texts}\n",
    "\"\"\",\n",
    "        },\n",
    "    ]\n",
    "\n",
    "    prompt_manager = prompt_utils.PromptManager()\n",
    "    prompt_manager.set_intro_messages(intro_prompt_messages)\n",
    "    prompt_manager.set_retrieval_strategy(math_strategy)\n",
    "    messages = prompt_manager.build_query(None, query_for_retrieval_context=user_query)\n",
    "    completion = openai.ChatCompletion.create(\n",
    "        model=\"gpt-3.5-turbo-0613\",\n",
    "        messages=messages,\n",
    "        request_timeout=20,\n",
    "    )\n",
    "    assistant_message = completion[\"choices\"][0][\"message\"][\"content\"]\n",
    "    break\n",
    "print(len(messages))\n",
    "for message in messages:\n",
    "    print(message[\"content\"] + \"\\n\")\n",
    "print(\"RESPONSE\")\n",
    "print(assistant_message)"
   ]
  },
  {
   "cell_type": "code",
   "execution_count": 14,
   "id": "64c40859-1d04-4ec3-bb1d-1632585c2666",
   "metadata": {},
   "outputs": [
    {
     "name": "stdout",
     "output_type": "stream",
     "text": [
      "[{'openstax_subsection_texts': ''},\n",
      " {'rori_microlesson_texts': 'If relevant, refer to the explanation and example '\n",
      "                            'in these three lessons:\\n'\n",
      "                            \"It is good to have you here! Let's learn how to \"\n",
      "                            'find the square root of numbers.  Squareroot of a '\n",
      "                            'number is a number when multiplied by itself '\n",
      "                            'gives the original number. Square root is denoted '\n",
      "                            'by √. Note that square roots exist only for '\n",
      "                            'positive numbers.  Example: Find the square root '\n",
      "                            'of the given number Ques:  √196 Ans: 14 Hint: 14 '\n",
      "                            \"multiplied by 14 gives the number 196.   It's \"\n",
      "                            'time for you to pratice. Shall we get started?  '\n",
      "                            'Write yes to proceed.\\n'\n",
      "                            \"In today's lesson, we are going to learn to \"\n",
      "                            'identify the factors of a given number.  A factor '\n",
      "                            'of a number is the number that divides it '\n",
      "                            'completely without leaving any remainder.  '\n",
      "                            'Example: To find the factors of 10,  write down '\n",
      "                            'all the multiplication sentences which gives 10 '\n",
      "                            'as the answer.   5x2 =10 1x10=10  Here the '\n",
      "                            'numbers 1,2,5 and 10 are the factors of the '\n",
      "                            'number 10. Also note that 1 and the number itself '\n",
      "                            'are factors of the number.  Ques: Which number is '\n",
      "                            'a factor of 6? A. 3 B. 5 C. 7 D. 9  Ans: A  Hint: '\n",
      "                            'We know that 2x3=6, hence 2 and 3 are factors of '\n",
      "                            '6. Hence the answer is 3.  Shall we try some '\n",
      "                            'questions?😄    Type Yes to continue to solve some '\n",
      "                            \"questions.  Yay! you are doing a great job. Let's \"\n",
      "                            'solve some more questions. Write the missing '\n",
      "                            'factor.   Ques: 6x ____=54 Ans: 9  Write the '\n",
      "                            'missing factor.  Type Yes to continue to solve '\n",
      "                            'some questions.\\n'\n",
      "                            'Today let us learn how to multiply 2 integers '\n",
      "                            'with and without grouping.  Multiplication of '\n",
      "                            'integers is almost same as the multiplication of '\n",
      "                            'whole numbers.  The only important things to know '\n",
      "                            'before you start multiplying is the signs. 1. '\n",
      "                            'Negative sign × Positive sign = Negative sign  2. '\n",
      "                            'Negative sign × Negative sign = Positive sign 3. '\n",
      "                            'Positive sign × Positive sign = Positive sign  '\n",
      "                            'Remember to place the correct sign in the '\n",
      "                            'answer.  Would you like to try some questions?  '\n",
      "                            'Multiply the numbers. Choose from the option A or '\n",
      "                            'B.  Type Yes to proceed.'},\n",
      " {}]\n"
     ]
    }
   ],
   "source": [
    "pprint(prompt_manager.recent_slot_fill_dict)"
   ]
  },
  {
   "cell_type": "code",
   "execution_count": null,
   "id": "45953814-f4d8-49e3-897b-c89953f9802a",
   "metadata": {},
   "outputs": [],
   "source": []
  },
  {
   "cell_type": "markdown",
   "id": "e9ef2b48-d006-4415-b661-7ea5727eda65",
   "metadata": {},
   "source": [
    "#### logit_bias for high-faithfulness retrieval"
   ]
  },
  {
   "cell_type": "code",
   "execution_count": 15,
   "id": "216bcb1f-2c04-4031-b214-733cee899d70",
   "metadata": {},
   "outputs": [
    {
     "name": "stderr",
     "output_type": "stream",
     "text": [
      "Generating responses:  50%|███████████████████████████████████████████████                                               | 1/2 [00:07<00:07,  7.66s/it]"
     ]
    },
    {
     "name": "stdout",
     "output_type": "stream",
     "text": [
      "2\n",
      "system\n",
      "You are going to act as a mathematics tutor for a 13 year old student who is in grade 8 or 9.\n",
      "This student lives in Ghana or Nigeria.\n",
      "You will be encouraging and factual.\n",
      "Prefer simple, short responses.\n",
      "If the student says something inappropriate or off topic you will say you can only focus on mathematics and ask them if they have any math-related follow-up questions.\n",
      "\n",
      "user\n",
      "Answer the following question: How do you find the radius?\n",
      "\n",
      "Reference content from this textbook section in your response:\n",
      "Convert Fractions to Decimals: In Decimals, we learned to convert decimals to fractions. Now we will do the reverse—convert fractions to decimals. Remember that the fraction bar indicates division. So 45 can be written 4÷5 or 54. This means that we can convert a fraction to a decimal by treating it as a division problem.Repeating Decimals: So far, in all the examples converting fractions to decimals the division resulted in a remainder of zero. This is not always the case. Let’s see what happens when we convert the fraction 43 to a decimal. First, notice that 43 is an improper fraction. Its value is greater than 1. The equivalent decimal will also be greater than 1.  We divide 4 by 3.  No matter how many more zeros we write, there will always be a remainder of 1, and the threes in the quotient will go on forever. The number 1.333… is called a repeating decimal. Remember that the “…” means that the pattern repeats.  How do you know how many ‘repeats’ to write? Instead of writing 1.333… we use a shorthand notation by placing a line over the digits that repeat. The repeating decimal 1.333… is written 1.3–. The line above the 3 tells you that the 3 repeats endlessly. So 1.333…=1.3– For other decimals, two or more digits might repeat. Table 5.5 shows some more examples of repeating decimals.  It is useful to convert between fractions and decimals when we need to add or subtract numbers in different forms. To add a fraction and a decimal, for example, we would need to either convert the fraction to a decimal or the decimal to a fraction.\n",
      "Order Decimals and Fractions: In Decimals, we compared two decimals and determined which was larger. To compare a decimal to a fraction, we will first convert the fraction to a decimal and then compare the decimals.  When ordering negative numbers, remember that larger numbers are to the right on the number line and any positive number is greater than any negative number.\n",
      "Simplify Expressions Using the Order of Operations: The order of operations introduced in Use the Language of Algebra also applies to decimals. Do you remember what the phrase “Please excuse my dear Aunt Sally” stands for?\n",
      "Find the Circumference and Area of Circles: The properties of circles have been studied for over 2,000 years. All circles have exactly the same shape, but their sizes are affected by the length of the radius, a line segment from the center to any point on the circle. A line segment that passes through a circle’s center connecting two points on the circle is called a diameter. The diameter is twice as long as the radius. See Figure 5.6. The size of a circle can be measured in two ways. The distance around a circle is called its circumference.  Archimedes discovered that for circles of all different sizes, dividing the circumference by the diameter always gives the same number. The value of this number is pi, symbolized by Greek letter π (pronounced pie). However, the exact value of π cannot be calculated since the decimal never ends or repeats (we will learn more about numbers like this in The Properties of Real Numbers.) If we want the exact circumference or area of a circle, we leave the symbol π in the answer. We can get an approximate answer by substituting 3.14 as the value of π. We use the symbol ≈ to show that the result is approximate, not exact.  Since the diameter is twice the radius, another way to find the circumference is to use the formula C=πd.  Suppose we want to find the exact area of a circle of radius 10 inches. To calculate the area, we would evaluate the formula for the area when r=10 inches and leave the answer in terms of π.  We write π after the 100. So the exact value of the area is A=100π square inches.  To approximate the area, we would substitute π≈3.14.  Remember to use square units, such as square inches, when you calculate the area.Approximate π with a Fraction: Convert the fraction 227 to a decimal. If you use your calculator, the decimal number will fill up the display and show 3.14285714. But if we round that number to two decimal places, we get 3.14, the decimal approximation of π. When we have a circle with radius given as a fraction, we can substitute 227 for π instead of 3.14. And, since 227 is also an approximation of π, we will use the ≈ symbol to show we have an approximate value.\n",
      "\n",
      "RESPONSE\n",
      "To find the radius of a circle, you need to know either the diameter or the circumference of the circle. \n",
      "\n",
      "If you know the diameter, which is the length of a line segment passing through the center of the circle and connecting two points on the circle, you can find the radius by dividing the diameter by 2. \n",
      "\n",
      "If you know the circumference, which is the distance around the circle, you can find the radius by using the formula: radius = circumference / (2 * pi). The value of pi, denoted by the Greek letter π, is approximately 3.14.\n",
      "\n",
      "Remember, the radius is a line segment from the center of the circle to any point on the circle.\n",
      "\n",
      "\n",
      "\n",
      "\n"
     ]
    },
    {
     "name": "stderr",
     "output_type": "stream",
     "text": [
      "Generating responses: 100%|██████████████████████████████████████████████████████████████████████████████████████████████| 2/2 [00:12<00:00,  6.14s/it]"
     ]
    },
    {
     "name": "stdout",
     "output_type": "stream",
     "text": [
      "2\n",
      "system\n",
      "You are going to act as a mathematics tutor for a 13 year old student who is in grade 8 or 9.\n",
      "This student lives in Ghana or Nigeria.\n",
      "You will be encouraging and factual.\n",
      "Prefer simple, short responses.\n",
      "If the student says something inappropriate or off topic you will say you can only focus on mathematics and ask them if they have any math-related follow-up questions.\n",
      "\n",
      "user\n",
      "Answer the following question: what is the difference between communtative property of addition and addition property of equality\n",
      "\n",
      "Reference content from this textbook section in your response:\n",
      "Use the Commutative and Associative Properties: Think about adding two numbers, such as 5 and 3.  The results are the same. 5+3=3+5  Notice, the order in which we add does not matter. The same is true when multiplying 5 and 3.  Again, the results are the same! 5·3=3·5. The order in which we multiply does not matter.  These examples illustrate the commutative properties of addition and multiplication.  The commutative properties have to do with order. If you change the order of the numbers when adding or multiplying, the result is the same.  What about subtraction? Does order matter when we subtract numbers? Does 7−3 give the same result as 3−7?  Since changing the order of the subtraction did not give the same result, we can say that subtraction is not commutative.  Let’s see what happens when we divide two numbers. Is division commutative?  Since changing the order of the division did not give the same result, division is not commutative.  Addition and multiplication are commutative. Subtraction and division are not commutative. Suppose you were asked to simplify this expression.  How would you do it and what would your answer be?  Some people would think 7+8is15 and then 15+2is17. Others might start with 8+2makes10 and then 7+10makes17.  Both ways give the same result, as shown in Figure 7.3. (Remember that parentheses are grouping symbols that indicate which operations should be done first.)  When adding three numbers, changing the grouping of the numbers does not change the result. This is known as the Associative Property of Addition. The same principle holds true for multiplication as well. Suppose we want to find the value of the following expression:  Changing the grouping of the numbers gives the same result, as shown in Figure 7.4.  When multiplying three numbers, changing the grouping of the numbers does not change the result. This is known as the Associative Property of Multiplication. If we multiply three numbers, changing the grouping does not affect the product. You probably know this, but the terminology may be new to you. These examples illustrate the Associative Properties.  Besides using the associative properties to make calculations easier, we will often use it to simplify expressions with variables.\n",
      "Evaluate Expressions using the Commutative and Associative Properties: The commutative and associative properties can make it easier to evaluate some algebraic expressions. Since order does not matter when adding or multiplying three or more terms, we can rearrange and re-group terms to make our work easier, as the next several examples illustrate.  Let’s do one more, this time with multiplication.\n",
      "Simplify Expressions Using the Commutative and Associative Properties: When we have to simplify algebraic expressions, we can often make the work easier by applying the Commutative or Associative Property first instead of automatically following the order of operations. Notice that in Example 7.8 part ⓑ was easier to simplify than part ⓐ because the opposites were next to each other and their sum is 0. Likewise, part ⓑ in Example 7.9 was easier, with the reciprocals grouped together, because their product is 1. In the next few examples, we’ll use our number sense to look for ways to apply these properties to make our work easier.  Now we will see how recognizing reciprocals is helpful. Before multiplying left to right, look for reciprocals—their product is 1.  In expressions where we need to add or subtract three or more fractions, combine those with a common denominator first.  When adding and subtracting three or more terms involving decimals, look for terms that combine to give whole numbers.  No matter what you are doing, it is always a good idea to think ahead. When simplifying an expression, think about what your steps will be. The next example will show you how using the Associative Property of Multiplication can make your work easier if you plan ahead.  When simplifying expressions that contain variables, we can use the commutative and associative properties to re-order or regroup terms, as shown in the next pair of examples.  In The Language of Algebra, we learned to combine like terms by rearranging an expression so the like terms were together. We simplified the expression 3x+7+4x+5 by rewriting it as 3x+4x+7+5 and then simplified it to 7x+12. We were using the Commutative Property of Addition.\n",
      "\n",
      "RESPONSE\n",
      "The commutative property of addition states that the order in which we add two or more numbers does not affect the sum. This means that if we change the order of the numbers, the result will remain the same. For example, 5 + 3 is the same as 3 + 5.\n",
      "\n",
      "On the other hand, the addition property of equality is a concept used in algebra. It states that if you add the same number to both sides of an equation, the equation will still be true. This property helps us solve equations and find the value of unknown variables.\n",
      "\n",
      "To summarize, the commutative property of addition deals with the order of adding numbers, while the addition property of equality deals with manipulating equations to find solutions.\n",
      "\n",
      "\n",
      "\n",
      "\n"
     ]
    },
    {
     "name": "stderr",
     "output_type": "stream",
     "text": [
      "\n"
     ]
    }
   ],
   "source": [
    "rori_microlesson_db_info = retrieval.DbInfo(\n",
    "    rori_db,\n",
    "    max_tokens=1000,\n",
    "    max_texts=3,\n",
    "    # prefix=\"Here is some lesson content that might be relevant:\\n\",\n",
    "    prefix=\"If relevant, refer to the explanation and example in these three lessons:\\n\",\n",
    ")\n",
    "openstax_subsection_db_info = retrieval.DbInfo(\n",
    "    openstax_db,\n",
    "    max_tokens=3000,\n",
    "    max_texts=1,\n",
    "    prefix=\"\",\n",
    "    use_parent_text=True,\n",
    "    parent_group_cols=[\"chapter\", \"section\"],\n",
    "    parent_sort_cols=[\"index\"],\n",
    ")\n",
    "math_strategy = retrieval_strategies.MappedEmbeddingRetrievalStrategy(\n",
    "    {\n",
    "        \"rori_microlesson_texts\": rori_microlesson_db_info,\n",
    "        \"openstax_subsection_texts\": openstax_subsection_db_info,\n",
    "    },\n",
    ")\n",
    "intro_prompt_messages = [\n",
    "    {\n",
    "        \"role\": \"system\",\n",
    "        \"content\": \"\"\"You are going to act as a mathematics tutor for a 13 year old student who is in grade 8 or 9.\n",
    "This student lives in Ghana or Nigeria.\n",
    "You will be encouraging and factual.\n",
    "Prefer simple, short responses.\n",
    "If the student says something inappropriate or off topic you will say you can only focus on mathematics and ask them if they have any math-related follow-up questions.\"\"\",\n",
    "    },\n",
    "    {\n",
    "        \"role\": \"user\",\n",
    "        \"content\": \"\"\"Answer the following question: {user_query}\n",
    "\n",
    "Reference content from this textbook section in your response:\n",
    "{openstax_subsection_texts}\"\"\",\n",
    "    },\n",
    "]\n",
    "for user_query in tqdm(random.sample(student_queries, k=2), desc=\"Generating responses\"):\n",
    "    prompt_manager = prompt_utils.PromptManager()\n",
    "    prompt_manager.set_intro_messages(intro_prompt_messages)\n",
    "    prompt_manager.set_retrieval_strategy(math_strategy)\n",
    "    messages = prompt_manager.build_query(user_query)\n",
    "    completion = openai.ChatCompletion.create(\n",
    "        model=\"gpt-3.5-turbo-0613\",\n",
    "        messages=messages,\n",
    "        request_timeout=20,\n",
    "    )\n",
    "    assistant_message = completion[\"choices\"][0][\"message\"][\"content\"]\n",
    "    print(len(messages))\n",
    "    for message in messages:\n",
    "        print(message[\"role\"])\n",
    "        print(message[\"content\"] + \"\\n\")\n",
    "    print(\"RESPONSE\")\n",
    "    print(assistant_message)\n",
    "    print(\"\\n\\n\\n\")"
   ]
  },
  {
   "cell_type": "code",
   "execution_count": 31,
   "id": "02027f3d-5596-4717-b66b-b9355b8dc420",
   "metadata": {},
   "outputs": [
    {
     "data": {
      "text/html": [
       "<div>\n",
       "<style scoped>\n",
       "    .dataframe tbody tr th:only-of-type {\n",
       "        vertical-align: middle;\n",
       "    }\n",
       "\n",
       "    .dataframe tbody tr th {\n",
       "        vertical-align: top;\n",
       "    }\n",
       "\n",
       "    .dataframe thead th {\n",
       "        text-align: right;\n",
       "    }\n",
       "</style>\n",
       "<table border=\"1\" class=\"dataframe\">\n",
       "  <thead>\n",
       "    <tr style=\"text-align: right;\">\n",
       "      <th></th>\n",
       "      <th>word</th>\n",
       "      <th>pct_wiki</th>\n",
       "      <th>rank_wiki</th>\n",
       "      <th>pct_gutenberg</th>\n",
       "      <th>rank_gutenberg</th>\n",
       "      <th>pct_s2</th>\n",
       "      <th>rank_s2</th>\n",
       "    </tr>\n",
       "  </thead>\n",
       "  <tbody>\n",
       "    <tr>\n",
       "      <th>0</th>\n",
       "      <td>the</td>\n",
       "      <td>0.062537</td>\n",
       "      <td>1.0</td>\n",
       "      <td>0.060334</td>\n",
       "      <td>1.0</td>\n",
       "      <td>0.059086</td>\n",
       "      <td>1.0</td>\n",
       "    </tr>\n",
       "    <tr>\n",
       "      <th>1</th>\n",
       "      <td>of</td>\n",
       "      <td>0.034112</td>\n",
       "      <td>2.0</td>\n",
       "      <td>0.035786</td>\n",
       "      <td>2.0</td>\n",
       "      <td>0.038057</td>\n",
       "      <td>2.0</td>\n",
       "    </tr>\n",
       "    <tr>\n",
       "      <th>2</th>\n",
       "      <td>and</td>\n",
       "      <td>0.029596</td>\n",
       "      <td>3.0</td>\n",
       "      <td>0.030370</td>\n",
       "      <td>3.0</td>\n",
       "      <td>0.029543</td>\n",
       "      <td>3.0</td>\n",
       "    </tr>\n",
       "    <tr>\n",
       "      <th>3</th>\n",
       "      <td>in</td>\n",
       "      <td>0.025598</td>\n",
       "      <td>4.0</td>\n",
       "      <td>0.017187</td>\n",
       "      <td>6.0</td>\n",
       "      <td>0.021399</td>\n",
       "      <td>4.0</td>\n",
       "    </tr>\n",
       "    <tr>\n",
       "      <th>4</th>\n",
       "      <td>to</td>\n",
       "      <td>0.020756</td>\n",
       "      <td>5.0</td>\n",
       "      <td>0.025746</td>\n",
       "      <td>4.0</td>\n",
       "      <td>0.019590</td>\n",
       "      <td>5.0</td>\n",
       "    </tr>\n",
       "  </tbody>\n",
       "</table>\n",
       "</div>"
      ],
      "text/plain": [
       "  word  pct_wiki  rank_wiki  pct_gutenberg  rank_gutenberg    pct_s2  rank_s2\n",
       "0  the  0.062537        1.0       0.060334             1.0  0.059086      1.0\n",
       "1   of  0.034112        2.0       0.035786             2.0  0.038057      2.0\n",
       "2  and  0.029596        3.0       0.030370             3.0  0.029543      3.0\n",
       "3   in  0.025598        4.0       0.017187             6.0  0.021399      4.0\n",
       "4   to  0.020756        5.0       0.025746             4.0  0.019590      5.0"
      ]
     },
     "execution_count": 31,
     "metadata": {},
     "output_type": "execute_result"
    }
   ],
   "source": [
    "stopword_df = pd.read_csv(data_dir / \"derived\" / \"dolma_most_frequent_words.csv\")\n",
    "stopword_df.head(5)"
   ]
  },
  {
   "cell_type": "code",
   "execution_count": 58,
   "id": "d09d5bde-190a-45b7-a188-66dc0e06004e",
   "metadata": {},
   "outputs": [
    {
     "data": {
      "text/plain": [
       "1518"
      ]
     },
     "execution_count": 58,
     "metadata": {},
     "output_type": "execute_result"
    }
   ],
   "source": [
    "n = 10000\n",
    "sdf = stopword_df[(stopword_df.rank_wiki <= n) & (stopword_df.rank_gutenberg <= n) & (stopword_df.rank_s2 <= n)]\n",
    "n = 1000\n",
    "sdf = sdf[(sdf.rank_wiki <= n) | (sdf.rank_gutenberg <= n) | (sdf.rank_s2 <= n)].copy()\n",
    "len(sdf)"
   ]
  },
  {
   "cell_type": "code",
   "execution_count": 59,
   "id": "7f4854a1-1ef2-49a6-b34d-58a5a4e09e60",
   "metadata": {},
   "outputs": [
    {
     "data": {
      "text/plain": [
       "1269"
      ]
     },
     "execution_count": 59,
     "metadata": {},
     "output_type": "execute_result"
    }
   ],
   "source": [
    "tokenizer = tiktoken.encoding_for_model(\"gpt-3.5-turbo\")\n",
    "sdf[\"token_counts\"] = [len(tokenizer.encode(row.word)) for row in sdf.itertuples()]\n",
    "# sdf[sdf.token_counts > 1]\n",
    "(sdf.token_counts == 1).sum()"
   ]
  },
  {
   "cell_type": "code",
   "execution_count": 60,
   "id": "a5236b0f-1551-4ed8-9d1d-7f28c4416297",
   "metadata": {},
   "outputs": [
    {
     "data": {
      "text/plain": [
       "([791], [1820])"
      ]
     },
     "execution_count": 60,
     "metadata": {},
     "output_type": "execute_result"
    }
   ],
   "source": [
    "# a reminder: tokens are case-sensitive!\n",
    "tokenizer.encode(\"The\"), tokenizer.encode(\"the\")"
   ]
  },
  {
   "cell_type": "code",
   "execution_count": 61,
   "id": "26cc3b0f-d95a-4438-a9ba-a18d2577251e",
   "metadata": {},
   "outputs": [
    {
     "data": {
      "text/plain": [
       "1269"
      ]
     },
     "execution_count": 61,
     "metadata": {},
     "output_type": "execute_result"
    }
   ],
   "source": [
    "sdf = sdf[sdf.token_counts == 1].copy()\n",
    "len(sdf)"
   ]
  },
  {
   "cell_type": "code",
   "execution_count": 62,
   "id": "e6be082d-0e69-4083-8b98-c2396d19e142",
   "metadata": {},
   "outputs": [
    {
     "data": {
      "text/plain": [
       "'the, of, and, to, a, in, that, was, I, his, is, it, with, as, for, had, be, The, not, on, by, at, which, have, from, but, this, were, all, or, they, are, their, one, an, so, been, we, them, who, would, no, will, when, there, out, more, It, up, if, into, has, its, some, could, what, time, very, than, do, other, upon, about, any, only, now, then, A, In, made, like, two, may, did, can, should, these, before, over, such, see, must, first, much, after, good, most, where, those, way, well, day, being, through, long, many, This, life, They, make, same, even, without, every, There, found, under, how, last, people, while, still, also, take, years, If, work, against, three, another, right, left, part, When, get, between, each, few, give, As, called, new, For, because, To, side, both, find, At, seen, days, having, water, among, better, however, small, end, almost, until, taken, given, On, large, light, others, set, best, present, whose, less, does, power, used, rather, death, since, next, 1, order, full, year, use, case, above, fact, known, often, thus, By, along, high, form, four, during, body, children, All, means, One, within, times, 2, point, With, least, open, already, general, number, either, second, women, state, around, different, possible, short, family, help, After, line, These, human, five, following, able, received, close, early, strong, From, public, show, 3, common, position, interest, need, force, age, free, history, added, C, natural, 4, although, change, low, An, important, especially, play, period, action, 5, according, months, II, below, system, single, food, 6, future, result, B, J, cases, field, language, due, 10, study, original, lower, While, 8, usually, similar, 7, per, class, example'"
      ]
     },
     "execution_count": 62,
     "metadata": {},
     "output_type": "execute_result"
    }
   ],
   "source": [
    "\", \".join(\n",
    "    sdf[(sdf.rank_gutenberg <= 1000) & (sdf.rank_s2 <= 1000) & (sdf.rank_wiki <= 1000)]\n",
    "    .sort_values(by=\"rank_gutenberg\")\n",
    "    .word\n",
    ")"
   ]
  },
  {
   "cell_type": "code",
   "execution_count": 63,
   "id": "c95bd798-35e3-4462-85ca-67d78282fcda",
   "metadata": {},
   "outputs": [
    {
     "data": {
      "text/plain": [
       "'the, of, and, to, a, in, that, was, I, his, is, he, it, with, as, for, had, be, The, not, on, by, at, you, which, her, have, from, but, this, were, him, all, or, they, are, she, their, one, an, my, so, me, been, we, them, who, said, would, He, no, will, when, there, out, more, It, up, if, into, has, its, And, some, But, could, what, time, very, than, do, man, other, our, upon, about, any, only, your, little, now, then, A, In, made, like, two, may, did, great, can, should, these, before, over, such, us, see, must, first, much, after, down, know, men, good, most, where, She, old, those, own, way, never, came, well, day, being, through, long, come, many, This, life, They, go, back, make, same, might, too, shall, You, even, without, here, say, again, every, There, found, We, under, how, am, think, went, last, place, people, away, while, still, also, thought, take, hand, just, years, eyes, If, work, though, off, against, three, another, right, yet, left, What, part, young, When, get, once, Then, ever, between, each, few, head, nothing, face, His, No, house, give, God, As, took, put, things, always, world, far, called, night, new, For, dont, That, because, To, side, whole, both, find, mind, At, name, de, love, seen, days, tell, having, thing, done, going, country, heart, water, got, home, course, look, among, better, however, small, end, soon, let, almost, moment, until, hands, something, taken, given, quite, On, large, light, words, others, father, room, set, best, woman, present, whose, So, less, does, power, turned, want, used, white, rather, cannot, death, since, next, nor, 1, word, near, order, full, felt, matter, year, use, mother, half, Now, My, case, above, fact, voice, known, kind, often, true, round, thus, says, By, sent, along, Im, high, form, passed, four, during, body, children, John, All, means, anything, How, One, English, within, times, p, 2, keep, point, With, least, fire, open, held, air, already, perhaps, money, general, New, alone, Of, number, war, nature, either, land, second, England, friends, rest, city, Why, sure, ground, St, women, state, leave, lay, read, around, hope, different, possible, French, child, whether, reason, question, short, family, letter, call, making, lost, dead, hour, help, After, why, line, coming, These, human, five, kept, following, able, really, received, return, business, Its, close, care, black, early, strong, subject, looking, later, From, earth, mean, hard, public, sea, fell, truth, character, person, feel, story, necessary, fine, returned, dark, show, 3, arms, wish, account, law, common, turn, cause, position, live, ready, sometimes, river, London, idea, met, ten, interest, sense, spirit, need, bring, book, Her, force, age, hours, free, answer, party, sort, view, cut, Not, M, appeared, hold, Here, road, continued, six, O, else, ask, deep, cant, art, history, table, i, taking, purpose, cold, added, front, past, clear, boys, American, bed, placed, probably, late, Do, knowledge, real, States, everything, forward, blood, eye, sun, effect, France, C, talk, Dr, red, natural, living, 4, sound, stand, big, although, except, run, length, meet, See, change, comes, act, forth, service, led, written, bad, Some, low, An, fall, entered, pass, attention, distance, none, Let, doing, greater, important, opened, parts, remember, gold, General, ago, especially, hair, trees, play, Is, period, British, fair, wanted, company, makes, action, 5, government, persons, minutes, ones, according, foot, object, wind, months, pay, paper, wild, girls, strength, York, school, heavy, W, II, ran, c, ship, below, master, bear, mine, May, places, window, arm, standing, office, S, system, single, food, appearance, save, condition, mouth, former, German, appear, letters, Thus, United, blue, filled, 6, green, third, books, note, deal, Yet, future, sleep, lines, result, rich, try, instead, presence, stone, broken, formed, follow, started, today, die, works, tree, send, direction, figure, top, covered, raised, B, thinking, State, carry, J, moved, simple, wall, cases, easy, Our, field, Where, getting, usual, H, visit, born, E, language, street, experience, danger, week, outside, stay, piece, married, command, stopped, expression, paid, perfect, value, plain, Indian, wrong, bright, remain, seeing, built, America, court, fresh, respect, allowed, wide, secret, Their, walk, success, due, charge, 10, write, proper, modern, Great, walls, seven, expected, worth, forms, wood, houses, race, shown, scene, changed, study, floor, picture, original, lower, music, While, attempt, et, tone, waiting, summer, flowers, 8, bit, hot, eight, usually, reach, o, Such, spring, authority, middle, similar, religious, existence, names, north, complete, 7, Government, South, special, political, Even, per, winter, surface, spot, fast, personal, property, unless, interesting, class, private, Europe, step, plan, members, attack, example, building, news, etc, likely'"
      ]
     },
     "execution_count": 63,
     "metadata": {},
     "output_type": "execute_result"
    }
   ],
   "source": [
    "\", \".join(sdf[sdf.rank_gutenberg <= 1000].sort_values(by=\"rank_gutenberg\").word)"
   ]
  },
  {
   "cell_type": "code",
   "execution_count": 64,
   "id": "d4fe2cb6-cde0-4789-8010-bc164f41390a",
   "metadata": {},
   "outputs": [],
   "source": [
    "# sdf[\"token\"] = [tokenizer.encode(row.word)[0] for row in sdf.itertuples()]"
   ]
  },
  {
   "cell_type": "code",
   "execution_count": 103,
   "id": "ec63dc0f-5179-4051-89dd-30d34c6316d9",
   "metadata": {},
   "outputs": [
    {
     "data": {
      "text/plain": [
       "11110"
      ]
     },
     "execution_count": 103,
     "metadata": {},
     "output_type": "execute_result"
    }
   ],
   "source": [
    "stopword_tokens = set()\n",
    "stopwords = (\n",
    "    list(sdf.word)\n",
    "    + list(sdf.word.map(str.lower))\n",
    "    + list(sdf.word.map(str.upper))\n",
    "    + list(sdf.word.map(str.capitalize))\n",
    "    + list(string_utils.whitespace)\n",
    "    + list(string_utils.punctuation)\n",
    ")\n",
    "for word in stopwords:\n",
    "    for char in string_utils.whitespace + string_utils.punctuation:\n",
    "        for string in [word, char + word, word + char]:\n",
    "            tokens = tokenizer.encode(string)\n",
    "            if len(tokens) == 1:\n",
    "                stopword_tokens.add(tokens[0])\n",
    "len(stopword_tokens)"
   ]
  },
  {
   "cell_type": "code",
   "execution_count": 140,
   "id": "713d8816-2821-4b94-b504-fa886d83fc8c",
   "metadata": {},
   "outputs": [],
   "source": [
    "d = {\"stopword_words\": list(sdf.word), \"stopword_tokens\": list(stopword_tokens)}\n",
    "with open(data_dir / \"derived\" / \"dolma_stopwords.json\", \"w\") as outfile:\n",
    "    json.dump(d, outfile)\n",
    "with open(Path(\"..\") / \"src\" / \"llm_math_education\" / \"resources\" / \"dolma_stopwords.json\", \"w\") as outfile:\n",
    "    json.dump(d, outfile)"
   ]
  },
  {
   "cell_type": "code",
   "execution_count": 67,
   "id": "93770247-9b15-44ac-8e72-23549b4c7e2f",
   "metadata": {},
   "outputs": [
    {
     "name": "stderr",
     "output_type": "stream",
     "text": [
      "Generating responses:   0%|                                                                                                      | 0/2 [00:09<?, ?it/s]"
     ]
    },
    {
     "name": "stdout",
     "output_type": "stream",
     "text": [
      "2\n",
      "system\n",
      "You are going to act as a mathematics tutor for a 13 year old student who is in grade 8 or 9.\n",
      "This student lives in Ghana or Nigeria.\n",
      "You will be encouraging and factual.\n",
      "Prefer simple, short responses.\n",
      "If the student says something inappropriate or off topic you will say you can only focus on mathematics and ask them if they have any math-related follow-up questions.\n",
      "\n",
      "user\n",
      "Answer the following question: wait... so if im using pemdas how does that work with fractions ?\n",
      "\n",
      "Reference content from this textbook section in your response:\n",
      "Find the Least Common Denominator: In the previous section, we explained how to add and subtract fractions with a common denominator. But how can we add and subtract fractions with unlike denominators?  Let’s think about coins again. Can you add one quarter and one dime? You could say there are two coins, but that’s not very useful. To find the total value of one quarter plus one dime, you change them to the same kind of unit—cents. One quarter equals 25 cents and one dime equals 10 cents, so the sum is 35 cents. See Figure 4.7.  Similarly, when we add fractions with different denominators we have to convert them to equivalent fractions with a common denominator. With the coins, when we convert to cents, the denominator is 100. Since there are 100 cents in one dollar, 25 cents is 25100 and 10 cents is 10100. So we add 25100+10100 to get 35100, which is 35 cents.  You have practiced adding and subtracting fractions with common denominators. Now let’s see what you need to do with fractions that have different denominators.  First, we will use fraction tiles to model finding the common denominator of 12 and 13.  We’ll start with one 12 tile and 13 tile. We want to find a common fraction tile that we can use to match both 12 and 13 exactly.  If we try the 14 pieces, 2 of them exactly match the 12 piece, but they do not exactly match the 13 piece.  If we try the 15 pieces, they do not exactly cover the 12 piece or the 13 piece.  If we try the 16 pieces, we see that exactly 3 of them cover the 12 piece, and exactly 2 of them cover the 13 piece.  If we were to try the 112 pieces, they would also work.  Even smaller tiles, such as 124 and 148, would also exactly cover the 12 piece and the 13 piece.  The denominator of the largest piece that covers both fractions is the least common denominator (LCD) of the two fractions. So, the least common denominator of 12 and 13 is 6. Notice that all of the tiles that cover 12 and 13 have something in common: Their denominators are common multiples of 2 and 3, the denominators of 12 and 13. The least common multiple (LCM) of the denominators is 6, and so we say that 6 is the least common denominator (LCD) of the fractions 12 and 13. To find the LCD of two fractions, we will find the LCM of their denominators. We follow the procedure we used earlier to find the LCM of two numbers. We only use the denominators of the fractions, not the numerators, when finding the LCD.  To find the LCD of two fractions, find the LCM of their denominators. Notice how the steps shown below are similar to the steps we took to find the LCM.\n",
      "Convert Fractions to Equivalent Fractions with the LCD: Earlier, we used fraction tiles to see that the LCD of 14 when 16 is 12. We saw that three 112 pieces exactly covered 14 and two 112 pieces exactly covered 16, so   We say that 14 and 312 are equivalent fractions and also that 16 and 212 are equivalent fractions.  We can use the Equivalent Fractions Property to algebraically change a fraction to an equivalent one. Remember, two fractions are equivalent if they have the same value. The Equivalent Fractions Property is repeated below for reference.  To add or subtract fractions with different denominators, we will first have to convert each fraction to an equivalent fraction with the LCD. Let’s see how to change 14 and 16 to equivalent fractions with denominator 12 without using models.\n",
      "Add and Subtract Fractions with Different Denominators: Once we have converted two fractions to equivalent forms with common denominators, we can add or subtract them by adding or subtracting the numerators.  When we use the Equivalent Fractions Property, there is a quick way to find the number you need to multiply by to get the LCD. Write the factors of the denominators and the LCD just as you did to find the LCD. The “missing” factors of each denominator are the numbers you need.  The LCD, 36, has 2 factors of 2 and 2 factors of 3.  Twelve has two factors of 2, but only one of 3—so it is ‘missing‘ one 3. We multiplied the numerator and denominator of 712 by 3 to get an equivalent fraction with denominator 36.  Eighteen is missing one factor of 2—so you multiply the numerator and denominator 518 by 2 to get an equivalent fraction with denominator 36. We will apply this method as we subtract the fractions in the next example.  In the next example, one of the fractions has a variable in its numerator. We follow the same steps as when both numerators are numbers.\n",
      "Identify and Use Fraction Operations: By now in this chapter, you have practiced multiplying, dividing, adding, and subtracting fractions. The following table summarizes these four fraction operations. Remember: You need a common denominator to add or subtract fractions, but not to multiply or divide fractions\n",
      "Use the Order of Operations to Simplify Complex Fractions: In Multiply and Divide Mixed Numbers and Complex Fractions, we saw that a complex fraction is a fraction in which the numerator or denominator contains a fraction. We simplified complex fractions by rewriting them as division problems. For example,  Now we will look at complex fractions in which the numerator or denominator can be simplified. To follow the order of operations, we simplify the numerator and denominator separately first. Then we divide the numerator by the denominator.\n",
      "Evaluate Variable Expressions with Fractions: We have evaluated expressions before, but now we can also evaluate expressions with fractions. Remember, to evaluate an expression, we substitute the value of the variable into the expression and then simplify.\n",
      "\n",
      "RESPONSE\n",
      "When using PEMDAS (the order of operations) with fractions, you follow the same rules as you would with whole numbers. Here is a step-by-step guide:\n",
      "\n",
      "1. Parentheses: If there are parentheses involved, simplify the expression within the parentheses first.\n",
      "2. Exponents: Next, simplify any exponents or powers in the expression.\n",
      "3. Multiplication and Division: Perform any multiplication or division from left to right.\n",
      "4. Addition and Subtraction: Finally, perform any addition or subtraction from left to right.\n",
      "\n",
      "When working with fractions, it's important to find a common denominator before performing addition or subtraction. The least common denominator (LCD) is the smallest number that both denominators can divide evenly into. To find the LCD, you can use the procedure explained in the textbook section I mentioned earlier. Then, you can convert the fractions to equivalent fractions with the LCD as their denominator.\n",
      "\n",
      "I hope this helps! Is there anything else I can assist you with in math?\n",
      "\n",
      "\n",
      "\n",
      "\n"
     ]
    },
    {
     "name": "stderr",
     "output_type": "stream",
     "text": [
      "\n"
     ]
    }
   ],
   "source": [
    "rori_microlesson_db_info = retrieval.DbInfo(\n",
    "    rori_db,\n",
    "    max_tokens=1000,\n",
    "    max_texts=3,\n",
    "    # prefix=\"Here is some lesson content that might be relevant:\\n\",\n",
    "    prefix=\"If relevant, refer to the explanation and example in these three lessons:\\n\",\n",
    ")\n",
    "openstax_subsection_db_info = retrieval.DbInfo(\n",
    "    openstax_db,\n",
    "    max_tokens=3000,\n",
    "    max_texts=1,\n",
    "    prefix=\"\",\n",
    "    use_parent_text=True,\n",
    "    parent_group_cols=[\"chapter\", \"section\"],\n",
    "    parent_sort_cols=[\"index\"],\n",
    ")\n",
    "math_strategy = retrieval_strategies.MappedEmbeddingRetrievalStrategy(\n",
    "    {\n",
    "        \"rori_microlesson_texts\": rori_microlesson_db_info,\n",
    "        \"openstax_subsection_texts\": openstax_subsection_db_info,\n",
    "    },\n",
    ")\n",
    "intro_prompt_messages = [\n",
    "    {\n",
    "        \"role\": \"system\",\n",
    "        \"content\": \"\"\"You are going to act as a mathematics tutor for a 13 year old student who is in grade 8 or 9.\n",
    "This student lives in Ghana or Nigeria.\n",
    "You will be encouraging and factual.\n",
    "Prefer simple, short responses.\n",
    "If the student says something inappropriate or off topic you will say you can only focus on mathematics and ask them if they have any math-related follow-up questions.\"\"\",\n",
    "    },\n",
    "    {\n",
    "        \"role\": \"user\",\n",
    "        \"content\": \"\"\"Answer the following question: {user_query}\n",
    "\n",
    "Reference content from this textbook section in your response:\n",
    "{openstax_subsection_texts}\"\"\",\n",
    "    },\n",
    "]\n",
    "for user_query in tqdm(random.sample(student_queries, k=2), desc=\"Generating responses\"):\n",
    "    prompt_manager = prompt_utils.PromptManager()\n",
    "    prompt_manager.set_intro_messages(intro_prompt_messages)\n",
    "    prompt_manager.set_retrieval_strategy(math_strategy)\n",
    "    messages = prompt_manager.build_query(user_query)\n",
    "    completion = openai.ChatCompletion.create(\n",
    "        model=\"gpt-3.5-turbo-0613\",\n",
    "        messages=messages,\n",
    "        request_timeout=20,\n",
    "    )\n",
    "    assistant_message = completion[\"choices\"][0][\"message\"][\"content\"]\n",
    "    print(len(messages))\n",
    "    for message in messages:\n",
    "        print(message[\"role\"])\n",
    "        print(message[\"content\"] + \"\\n\")\n",
    "    print(\"RESPONSE\")\n",
    "    print(assistant_message)\n",
    "    print(\"\\n\\n\\n\")\n",
    "    break"
   ]
  },
  {
   "cell_type": "code",
   "execution_count": 70,
   "id": "a16fc127-18f5-4aa7-91db-bc0166242315",
   "metadata": {},
   "outputs": [
    {
     "name": "stdout",
     "output_type": "stream",
     "text": [
      "Find the Least Common Denominator: In the previous section, we explained how to add and subtract fractions with a common denominator. But how can we add and subtract fractions with unlike denominators?  Let’s think about coins again. Can you add one quarter and one dime? You could say there are two coins, but that’s not very useful. To find the total value of one quarter plus one dime, you change them to the same kind of unit—cents. One quarter equals 25 cents and one dime equals 10 cents, so the sum is 35 cents. See Figure 4.7.  Similarly, when we add fractions with different denominators we have to convert them to equivalent fractions with a common denominator. With the coins, when we convert to cents, the denominator is 100. Since there are 100 cents in one dollar, 25 cents is 25100 and 10 cents is 10100. So we add 25100+10100 to get 35100, which is 35 cents.  You have practiced adding and subtracting fractions with common denominators. Now let’s see what you need to do with fractions that have different denominators.  First, we will use fraction tiles to model finding the common denominator of 12 and 13.  We’ll start with one 12 tile and 13 tile. We want to find a common fraction tile that we can use to match both 12 and 13 exactly.  If we try the 14 pieces, 2 of them exactly match the 12 piece, but they do not exactly match the 13 piece.  If we try the 15 pieces, they do not exactly cover the 12 piece or the 13 piece.  If we try the 16 pieces, we see that exactly 3 of them cover the 12 piece, and exactly 2 of them cover the 13 piece.  If we were to try the 112 pieces, they would also work.  Even smaller tiles, such as 124 and 148, would also exactly cover the 12 piece and the 13 piece.  The denominator of the largest piece that covers both fractions is the least common denominator (LCD) of the two fractions. So, the least common denominator of 12 and 13 is 6. Notice that all of the tiles that cover 12 and 13 have something in common: Their denominators are common multiples of 2 and 3, the denominators of 12 and 13. The least common multiple (LCM) of the denominators is 6, and so we say that 6 is the least common denominator (LCD) of the fractions 12 and 13. To find the LCD of two fractions, we will find the LCM of their denominators. We follow the procedure we used earlier to find the LCM of two numbers. We only use the denominators of the fractions, not the numerators, when finding the LCD.  To find the LCD of two fractions, find the LCM of their denominators. Notice how the steps shown below are similar to the steps we took to find the LCM.\n",
      "Convert Fractions to Equivalent Fractions with the LCD: Earlier, we used fraction tiles to see that the LCD of 14 when 16 is 12. We saw that three 112 pieces exactly covered 14 and two 112 pieces exactly covered 16, so   We say that 14 and 312 are equivalent fractions and also that 16 and 212 are equivalent fractions.  We can use the Equivalent Fractions Property to algebraically change a fraction to an equivalent one. Remember, two fractions are equivalent if they have the same value. The Equivalent Fractions Property is repeated below for reference.  To add or subtract fractions with different denominators, we will first have to convert each fraction to an equivalent fraction with the LCD. Let’s see how to change 14 and 16 to equivalent fractions with denominator 12 without using models.\n",
      "Add and Subtract Fractions with Different Denominators: Once we have converted two fractions to equivalent forms with common denominators, we can add or subtract them by adding or subtracting the numerators.  When we use the Equivalent Fractions Property, there is a quick way to find the number you need to multiply by to get the LCD. Write the factors of the denominators and the LCD just as you did to find the LCD. The “missing” factors of each denominator are the numbers you need.  The LCD, 36, has 2 factors of 2 and 2 factors of 3.  Twelve has two factors of 2, but only one of 3—so it is ‘missing‘ one 3. We multiplied the numerator and denominator of 712 by 3 to get an equivalent fraction with denominator 36.  Eighteen is missing one factor of 2—so you multiply the numerator and denominator 518 by 2 to get an equivalent fraction with denominator 36. We will apply this method as we subtract the fractions in the next example.  In the next example, one of the fractions has a variable in its numerator. We follow the same steps as when both numerators are numbers.\n",
      "Identify and Use Fraction Operations: By now in this chapter, you have practiced multiplying, dividing, adding, and subtracting fractions. The following table summarizes these four fraction operations. Remember: You need a common denominator to add or subtract fractions, but not to multiply or divide fractions\n",
      "Use the Order of Operations to Simplify Complex Fractions: In Multiply and Divide Mixed Numbers and Complex Fractions, we saw that a complex fraction is a fraction in which the numerator or denominator contains a fraction. We simplified complex fractions by rewriting them as division problems. For example,  Now we will look at complex fractions in which the numerator or denominator can be simplified. To follow the order of operations, we simplify the numerator and denominator separately first. Then we divide the numerator by the denominator.\n",
      "Evaluate Variable Expressions with Fractions: We have evaluated expressions before, but now we can also evaluate expressions with fractions. Remember, to evaluate an expression, we substitute the value of the variable into the expression and then simplify.\n"
     ]
    }
   ],
   "source": [
    "openstax_text = prompt_manager.recent_slot_fill_dict[1][\"openstax_subsection_texts\"]\n",
    "print(openstax_text)"
   ]
  },
  {
   "cell_type": "code",
   "execution_count": 118,
   "id": "a847a576-349c-4d0f-a158-360df974fd26",
   "metadata": {},
   "outputs": [],
   "source": [
    "# Category \"Mn\" are the \"Nonspacing marks\"\n",
    "# import unicodedata\n",
    "#''.join(c for c in unicodedata.normalize('NFKD', openstax_text) if unicodedata.category(c) != 'Mn')"
   ]
  },
  {
   "cell_type": "code",
   "execution_count": 122,
   "id": "6ca231be-5998-4716-b1df-748a2a8a5aec",
   "metadata": {},
   "outputs": [
    {
     "name": "stdout",
     "output_type": "stream",
     "text": [
      "1266\n",
      "303\n"
     ]
    }
   ],
   "source": [
    "tokens = tokenizer.encode(openstax_text)\n",
    "print(len(tokens))\n",
    "tokens = [\n",
    "    token\n",
    "    for token in tokens\n",
    "    if token not in stopword_tokens\n",
    "    and re.fullmatch(\n",
    "        \"[ A-Za-z]+\",\n",
    "        tokenizer.decode(\n",
    "            [\n",
    "                token,\n",
    "            ]\n",
    "        ),\n",
    "    )\n",
    "]\n",
    "print(len(tokens))"
   ]
  },
  {
   "cell_type": "code",
   "execution_count": 123,
   "id": "840a96c6-2586-4998-833f-504d1f404e53",
   "metadata": {},
   "outputs": [
    {
     "data": {
      "text/plain": [
       "' Den, ominator,  explained,  add,  subtract,  fractions,  denominator,  add,  subtract,  fractions,  unlike,  denomin, ators,  coins,  add,  quarter,  dime,  coins,  useful,  quarter,  plus,  dime, cents,  quarter,  equals,  cents,  dime,  equals,  cents,  sum,  cents,  Similarly,  add,  fractions,  denomin, ators,  convert,  equivalent,  fractions,  denominator,  coins,  convert,  cents,  denominator,  cents,  dollar,  cents,  cents,  add,  cents,  practiced,  adding,  subtract, ing,  fractions,  denomin, ators,  fractions,  denomin, ators,  fraction,  tiles,  finding,  denominator,  tile,  tile,  fraction,  tile,  exactly,  pieces,  exactly,  exactly,  pieces,  exactly,  cover,  pieces,  exactly,  cover,  exactly,  cover,  pieces,  smaller,  tiles,  exactly,  cover,  denominator,  largest,  covers,  fractions,  denominator, LCD,  fractions,  denominator,  Notice,  tiles,  cover,  denomin, ators,  multiples,  denomin, ators,  multiple, LC,  denomin, ators,  denominator, LCD,  fractions,  LCD,  fractions, CM,  denomin, ators,  earlier, CM,  denomin, ators,  fractions,  numer, ators,  finding,  LCD,  LCD,  fractions, CM,  denomin, ators,  Notice,  steps,  steps, CM, Convert,  Fra, ctions,  Equivalent,  Fra, ctions,  LCD,  Earlier,  fraction,  tiles,  LCD,  saw,  pieces,  exactly,  pieces,  exactly,  equivalent,  fractions,  equivalent,  fractions,  Equivalent,  Fra, ctions,  algebra, ically,  fraction,  equivalent,  fractions,  equivalent,  Equivalent,  Fra, ctions,  repeated,  add,  subtract,  fractions,  denomin, ators,  convert,  fraction,  equivalent,  fraction,  LCD,  equivalent,  fractions,  denominator, Add,  Subtract,  Fra, ctions,  Den, omin, ators,  converted,  fractions,  equivalent,  denomin, ators,  add,  subtract,  adding,  subtract, ing,  numer, ators,  Equivalent,  Fra, ctions,  quick,  multiply,  LCD,  factors,  denomin, ators,  LCD,  LCD, missing,  factors,  denominator,  LCD,  factors,  factors,  Twelve,  factors, missing,  multiplied,  numerator,  denominator,  equivalent,  fraction,  denominator, een,  missing,  multiply,  numerator,  denominator,  equivalent,  fraction,  denominator,  apply,  subtract,  fractions,  fractions,  variable,  numerator,  steps,  numer, ators, Ident, ify,  Fraction,  chapter,  practiced,  multiplying,  dividing,  adding,  subtract, ing,  fractions,  summarizes,  fraction,  denominator,  add,  subtract,  fractions,  multiply,  divide,  fractions,  Simpl, ify,  Fra, ctions,  Multiply,  Divide,  Mixed,  Fra, ctions,  saw,  fraction,  fraction,  numerator,  denominator,  fraction,  simplified,  fractions,  rewriting,  fractions,  numerator,  denominator,  simplified,  simplify,  numerator,  denominator,  separately,  divide,  numerator,  denominator, Evaluate,  Variable,  Express, ions,  Fra, ctions,  evaluated,  expressions,  evaluate,  expressions,  fractions,  evaluate,  substitute,  variable,  simplify'"
      ]
     },
     "execution_count": 123,
     "metadata": {},
     "output_type": "execute_result"
    }
   ],
   "source": [
    "\", \".join(\n",
    "    [\n",
    "        tokenizer.decode(\n",
    "            [\n",
    "                token,\n",
    "            ]\n",
    "        )\n",
    "        for token in tokens\n",
    "    ]\n",
    ")"
   ]
  },
  {
   "cell_type": "code",
   "execution_count": 124,
   "id": "71608fec-242d-4885-96d3-9cfde445e141",
   "metadata": {},
   "outputs": [
    {
     "name": "stdout",
     "output_type": "stream",
     "text": [
      "65995  fractions 26\n",
      "48012  denominator 19\n",
      "3046 ators 17\n",
      "62265  denomin 13\n",
      "19983  fraction 12\n",
      "13890  equivalent 10\n",
      "22745  LCD 10\n",
      "33356  subtract 9\n",
      "7041  exactly 9\n",
      "23534  Fra 9\n",
      "5247 ctions 9\n",
      "923  add 8\n",
      "31291  cents 8\n",
      "64633  numerator 7\n",
      "9863  pieces 6\n",
      "3504  cover 5\n",
      "9547  factors 5\n",
      "21130  tiles 4\n",
      "10190 CM 4\n",
      "92328  Equivalent 4\n"
     ]
    }
   ],
   "source": [
    "for token, count in Counter(tokens).most_common(20):\n",
    "    print(f\"{token} {tokenizer.decode([token,])} {count}\")"
   ]
  },
  {
   "cell_type": "code",
   "execution_count": 134,
   "id": "c78f1bab-3749-4dd4-9d71-61b14a115511",
   "metadata": {},
   "outputs": [
    {
     "data": {
      "text/plain": [
       "{65995: 5.0,\n",
       " 48012: 3.923076923076923,\n",
       " 3046: 3.6153846153846154,\n",
       " 62265: 3.0,\n",
       " 19983: 2.8461538461538463,\n",
       " 13890: 2.5384615384615383,\n",
       " 22745: 2.5384615384615383,\n",
       " 33356: 2.3846153846153846,\n",
       " 7041: 2.3846153846153846,\n",
       " 23534: 2.3846153846153846,\n",
       " 5247: 2.3846153846153846,\n",
       " 923: 2.230769230769231,\n",
       " 31291: 2.230769230769231,\n",
       " 64633: 2.0769230769230766,\n",
       " 9863: 1.9230769230769231,\n",
       " 3504: 1.7692307692307692,\n",
       " 9547: 1.7692307692307692,\n",
       " 21130: 1.6153846153846154,\n",
       " 10190: 1.6153846153846154,\n",
       " 92328: 1.6153846153846154,\n",
       " 19289: 1.4615384615384617,\n",
       " 8502: 1.4615384615384617,\n",
       " 74953: 1.4615384615384617,\n",
       " 5625: 1.4615384615384617,\n",
       " 7999: 1.4615384615384617,\n",
       " 287: 1.4615384615384617,\n",
       " 10228: 1.4615384615384617,\n",
       " 8015: 1.4615384615384617,\n",
       " 7504: 1.4615384615384617,\n",
       " 31370: 1.4615384615384617,\n",
       " 9973: 1.3076923076923077,\n",
       " 17239: 1.3076923076923077,\n",
       " 44664: 1.3076923076923077,\n",
       " 9455: 1.3076923076923077,\n",
       " 65103: 1.3076923076923077,\n",
       " 25773: 1.3076923076923077,\n",
       " 5602: 1.3076923076923077,\n",
       " 31716: 1.3076923076923077,\n",
       " 3977: 1.3076923076923077,\n",
       " 1463: 1.3076923076923077,\n",
       " 22497: 1.3076923076923077,\n",
       " 44899: 1.3076923076923077,\n",
       " 40821: 1.3076923076923077,\n",
       " 24282: 1.3076923076923077,\n",
       " 15806: 1.3076923076923077}"
      ]
     },
     "execution_count": 134,
     "metadata": {},
     "output_type": "execute_result"
    }
   ],
   "source": [
    "def get_logit_bias(\n",
    "    tokens: list[int],\n",
    "    min_count: int = 2,\n",
    "    n_tokens: int | None = None,\n",
    "    max_tokens: int = 50,\n",
    "    min_bias: float = 1.0,\n",
    "    max_bias: float = 5.0,\n",
    "):\n",
    "    logit_bias = {}\n",
    "    c = Counter(tokens).most_common(max_tokens)\n",
    "    max_count = c[0][1]\n",
    "    if max_count >= min_count:\n",
    "        for token, count in c:\n",
    "            if count < min_count:\n",
    "                continue\n",
    "            bias = min_bias + (max_bias - min_bias) * (count / max_count)\n",
    "            logit_bias[token] = bias\n",
    "            if n_tokens is not None and len(logit_bias) >= n_tokens:\n",
    "                break\n",
    "    return logit_bias\n",
    "\n",
    "\n",
    "get_logit_bias(tokens)"
   ]
  },
  {
   "cell_type": "code",
   "execution_count": 135,
   "id": "570cd053-5f53-46dc-af5e-ae1f2ac758f4",
   "metadata": {},
   "outputs": [
    {
     "name": "stdout",
     "output_type": "stream",
     "text": [
      "When using PEMDAS with fractions, you follow the same order of operations. However, you may need to convert fractions to equivalent fractions with a common denominator before performing any operations. The common denominator helps ensure that the fractions have the same denominator, making it easier to add, subtract, multiply, or divide them.\n",
      "\n",
      "To find the least common denominator (LCD), which is the denominator that fractions need to have in common, you can use the least common multiple (LCM) of their denominators. The LCM is the smallest multiple that two numbers have in common. Once you find the LCD, you convert the fractions to equivalent fractions with the LCD as the denominator.\n",
      "\n",
      "For example, let's say you have the fractions 1/2 and 1/3. The denominators are different, so we find the LCD. The LCM of 2 and 3 is 6. We convert 1/2 to an equivalent fraction with denominator 6 by multiplying both the numerator and denominator by 3: (1/2) x (3/3) = 3/6. Similarly, we convert 1/3 to an equivalent fraction with denominator 6 by multiplying both the numerator and denominator by 2: (1/3) x (2/2) = 2/6.\n",
      "\n",
      "Now that both fractions have the same denominator, we can add or subtract them by adding or subtracting the numerators. For example, (3/6) + (2/6) = 5/6.\n",
      "\n",
      "Remember, when working with fractions, it's important to simplify the resulting fractions if possible.\n"
     ]
    }
   ],
   "source": [
    "completion = openai.ChatCompletion.create(\n",
    "    model=\"gpt-3.5-turbo-0613\",\n",
    "    messages=messages,\n",
    "    request_timeout=20,\n",
    "    logit_bias=logit_bias,\n",
    ")\n",
    "assistant_message = completion[\"choices\"][0][\"message\"][\"content\"]\n",
    "print(assistant_message)"
   ]
  },
  {
   "cell_type": "code",
   "execution_count": null,
   "id": "9b0bf02f-625f-4278-80e5-95a49533396c",
   "metadata": {},
   "outputs": [],
   "source": []
  },
  {
   "cell_type": "code",
   "execution_count": null,
   "id": "65273818-8bcf-4817-9e37-b4bd29bc0f9e",
   "metadata": {},
   "outputs": [],
   "source": []
  },
  {
   "cell_type": "markdown",
   "id": "fc31b2c5-a6f7-4b89-a320-dfa1ed235a0f",
   "metadata": {},
   "source": [
    "### Generate responses"
   ]
  },
  {
   "cell_type": "code",
   "execution_count": 11,
   "id": "deba988e-8e5f-4a75-be2d-a66db4d09fd0",
   "metadata": {},
   "outputs": [],
   "source": [
    "ds = []"
   ]
  },
  {
   "cell_type": "code",
   "execution_count": 12,
   "id": "c0c34523-6e59-4478-83b3-76e02402cd02",
   "metadata": {},
   "outputs": [
    {
     "data": {
      "text/plain": [
       "0"
      ]
     },
     "execution_count": 12,
     "metadata": {},
     "output_type": "execute_result"
    }
   ],
   "source": [
    "eval_dir = data_dir / \"derived\" / \"eval\"\n",
    "eval_dir.mkdir(exist_ok=True)\n",
    "response_filepath = eval_dir / \"generations_20230809.pkl\"\n",
    "if response_filepath.exists():\n",
    "    ds = pickle.load(infile)\n",
    "len(ds)"
   ]
  },
  {
   "cell_type": "code",
   "execution_count": 14,
   "id": "c25b8c7d-70fe-42af-9c05-8314723b957b",
   "metadata": {},
   "outputs": [
    {
     "name": "stderr",
     "output_type": "stream",
     "text": [
      "Generating responses: 100%|████████████████████████████████████████████████████████████████████████████████████████| 51/51 [03:49<00:00,  4.50s/it]\n"
     ]
    }
   ],
   "source": [
    "# intro_prompts_key = \"general_math_qa_intro\"\n",
    "intro_prompts_key = \"retrieval_reliant_math_qa_intro\"\n",
    "for user_query in tqdm(student_queries, desc=\"Generating responses\"):\n",
    "    for retrieval_strategy_name, retrieval_strategy in [\n",
    "        (\"math\", math_strategy),\n",
    "        (\"recipe\", nomath_strategy),\n",
    "        (\"none\", noretrieval_strategy),\n",
    "    ]:\n",
    "        already_generated = False\n",
    "        for d in ds:\n",
    "            if (\n",
    "                d[\"user_query\"] == user_query\n",
    "                and d[\"retrieval_strategy\"] == retrieval_strategy_name\n",
    "                and d[\"intro_prompts_key\"] == intro_prompts_key\n",
    "            ):\n",
    "                already_generated = True\n",
    "        if already_generated:\n",
    "            continue\n",
    "        intro_prompt_messages = mathqa_prompts.intro_prompts[intro_prompts_key][\"messages\"]\n",
    "        prompt_manager = prompt_utils.PromptManager()\n",
    "        prompt_manager.set_intro_messages(intro_prompt_messages)\n",
    "        prompt_manager.set_retrieval_strategy(retrieval_strategy)\n",
    "        messages = prompt_manager.build_query(user_query)\n",
    "        completion = openai.ChatCompletion.create(\n",
    "            model=\"gpt-3.5-turbo-0613\",\n",
    "            messages=messages,\n",
    "            request_timeout=5,\n",
    "        )\n",
    "        assistant_message = completion[\"choices\"][0][\"message\"][\"content\"]\n",
    "        ds.append(\n",
    "            {\n",
    "                \"user_query\": user_query,\n",
    "                \"retrieval_strategy\": retrieval_strategy_name,\n",
    "                \"intro_prompts_key\": intro_prompts_key,\n",
    "                \"response\": assistant_message,\n",
    "                \"messages\": messages,\n",
    "            }\n",
    "        )\n",
    "        time.sleep(0.4)  # being a bit polite on repeated api calls"
   ]
  },
  {
   "cell_type": "code",
   "execution_count": 15,
   "id": "dd983347-9b2d-470c-ba52-c4f3f77ad8b4",
   "metadata": {},
   "outputs": [
    {
     "data": {
      "text/plain": [
       "153"
      ]
     },
     "execution_count": 15,
     "metadata": {},
     "output_type": "execute_result"
    }
   ],
   "source": [
    "len(ds)"
   ]
  },
  {
   "cell_type": "code",
   "execution_count": 16,
   "id": "d0fa599e-e64d-44d2-9941-bf0441e4b822",
   "metadata": {},
   "outputs": [],
   "source": [
    "with open(response_filepath, \"wb\") as outfile:\n",
    "    pickle.dump(ds, outfile)"
   ]
  },
  {
   "cell_type": "code",
   "execution_count": 17,
   "id": "ee0b5020-7a87-450c-b43b-bd30349ad22a",
   "metadata": {},
   "outputs": [],
   "source": [
    "# load generated responses\n",
    "with open(response_filepath, \"rb\") as infile:\n",
    "    pickle.load(infile)"
   ]
  },
  {
   "cell_type": "code",
   "execution_count": 21,
   "id": "2bdfe987-a563-47ab-b5cc-2c971ead8be2",
   "metadata": {},
   "outputs": [
    {
     "data": {
      "text/plain": [
       "(153, 4)"
      ]
     },
     "execution_count": 21,
     "metadata": {},
     "output_type": "execute_result"
    }
   ],
   "source": [
    "df = (\n",
    "    pd.DataFrame(ds, columns=[\"user_query\", \"retrieval_strategy\", \"response\"])\n",
    "    .reset_index()\n",
    "    .rename(columns={\"index\": \"response_id\"})\n",
    ")\n",
    "df.shape"
   ]
  },
  {
   "cell_type": "code",
   "execution_count": 22,
   "id": "5f690c2f-2e8c-48d4-a5d5-c6305221dc4f",
   "metadata": {},
   "outputs": [
    {
     "data": {
      "text/html": [
       "<div>\n",
       "<style scoped>\n",
       "    .dataframe tbody tr th:only-of-type {\n",
       "        vertical-align: middle;\n",
       "    }\n",
       "\n",
       "    .dataframe tbody tr th {\n",
       "        vertical-align: top;\n",
       "    }\n",
       "\n",
       "    .dataframe thead th {\n",
       "        text-align: right;\n",
       "    }\n",
       "</style>\n",
       "<table border=\"1\" class=\"dataframe\">\n",
       "  <thead>\n",
       "    <tr style=\"text-align: right;\">\n",
       "      <th></th>\n",
       "      <th>response_id</th>\n",
       "      <th>user_query</th>\n",
       "      <th>retrieval_strategy</th>\n",
       "      <th>response</th>\n",
       "    </tr>\n",
       "  </thead>\n",
       "  <tbody>\n",
       "    <tr>\n",
       "      <th>148</th>\n",
       "      <td>148</td>\n",
       "      <td>i need help on how to  graph quadratic funtions</td>\n",
       "      <td>recipe</td>\n",
       "      <td>Of course! I'm here to help you with graphing ...</td>\n",
       "    </tr>\n",
       "    <tr>\n",
       "      <th>99</th>\n",
       "      <td>99</td>\n",
       "      <td>How do you multiply fractions?!?!?</td>\n",
       "      <td>math</td>\n",
       "      <td>Great question! To multiply fractions, you mul...</td>\n",
       "    </tr>\n",
       "    <tr>\n",
       "      <th>13</th>\n",
       "      <td>13</td>\n",
       "      <td>How do you find the radius?</td>\n",
       "      <td>recipe</td>\n",
       "      <td>To find the radius of a circle, you can use th...</td>\n",
       "    </tr>\n",
       "  </tbody>\n",
       "</table>\n",
       "</div>"
      ],
      "text/plain": [
       "     response_id                                       user_query  \\\n",
       "148          148  i need help on how to  graph quadratic funtions   \n",
       "99            99               How do you multiply fractions?!?!?   \n",
       "13            13                      How do you find the radius?   \n",
       "\n",
       "    retrieval_strategy                                           response  \n",
       "148             recipe  Of course! I'm here to help you with graphing ...  \n",
       "99                math  Great question! To multiply fractions, you mul...  \n",
       "13              recipe  To find the radius of a circle, you can use th...  "
      ]
     },
     "execution_count": 22,
     "metadata": {},
     "output_type": "execute_result"
    }
   ],
   "source": [
    "df.sample(n=3)"
   ]
  },
  {
   "cell_type": "code",
   "execution_count": 23,
   "id": "a3b3eb20-b1c9-4587-9504-7eac5253f285",
   "metadata": {},
   "outputs": [
    {
     "data": {
      "text/plain": [
       "retrieval_strategy\n",
       "math      51\n",
       "recipe    51\n",
       "none      51\n",
       "Name: count, dtype: int64"
      ]
     },
     "execution_count": 23,
     "metadata": {},
     "output_type": "execute_result"
    }
   ],
   "source": [
    "df.retrieval_strategy.value_counts()"
   ]
  },
  {
   "cell_type": "markdown",
   "id": "e015d6c2-2619-4e13-89d9-2f98e218e6d8",
   "metadata": {},
   "source": [
    "### Construct surveys\n",
    "\n",
    "Generate two surveys.\n",
    "\n",
    " - Randomize query order.\n",
    " - Create two questions, comparing recipe vs none and math vs none.\n",
    " - Assign every other question to survey 1 or survey 2, alternatingly."
   ]
  },
  {
   "cell_type": "code",
   "execution_count": 30,
   "id": "52ff90b8-c610-4e44-93ae-7955ae1b3396",
   "metadata": {},
   "outputs": [
    {
     "data": {
      "text/plain": [
       "102"
      ]
     },
     "execution_count": 30,
     "metadata": {},
     "output_type": "execute_result"
    }
   ],
   "source": [
    "def get_question_with_random_order(group: pd.DataFrame, option_set: list):\n",
    "    question = {}\n",
    "    for i, option in enumerate(random.sample(option_set, k=len(option_set))):\n",
    "        question[f\"response{i+1}\"] = group[group.retrieval_strategy == option].iloc[0].response\n",
    "        question[f\"response{i+1}_retrieval_strategy\"] = option\n",
    "    return question\n",
    "\n",
    "\n",
    "def update_curr_survey(curr_survey, n_surveys):\n",
    "    next_survey = (curr_survey + 1) % n_surveys\n",
    "    return next_survey\n",
    "\n",
    "\n",
    "survey = []\n",
    "n_surveys = 2\n",
    "curr_survey = 0\n",
    "for user_query in df.user_query.drop_duplicates().sample(frac=1, random_state=19881):\n",
    "    group = df[df.user_query == user_query]\n",
    "    q1 = get_question_with_random_order(group, [\"recipe\", \"none\"])\n",
    "    q2 = get_question_with_random_order(group, [\"math\", \"none\"])\n",
    "    q1 = {\"survey\": curr_survey, \"user_query\": user_query, **q1}\n",
    "    curr_survey = update_curr_survey(curr_survey, n_surveys)\n",
    "    q2 = {\"survey\": curr_survey, \"user_query\": user_query, **q2}\n",
    "    curr_survey = update_curr_survey(curr_survey, n_surveys)\n",
    "    survey.append(q1)\n",
    "    survey.append(q2)\n",
    "len(survey)"
   ]
  },
  {
   "cell_type": "code",
   "execution_count": 32,
   "id": "fa816c07-e5e0-4833-bedc-78265f0e4395",
   "metadata": {},
   "outputs": [],
   "source": [
    "eval_dir = data_dir / \"derived\" / \"eval\"\n",
    "eval_dir.mkdir(exist_ok=True)"
   ]
  },
  {
   "cell_type": "code",
   "execution_count": 33,
   "id": "810748ab-da2a-4d3d-864a-c2aab8ed2a42",
   "metadata": {},
   "outputs": [],
   "source": [
    "pd.DataFrame(survey).to_csv(eval_dir / \"survey_20230809.csv\", index=False)"
   ]
  },
  {
   "cell_type": "code",
   "execution_count": null,
   "id": "9c5604e6-a616-4fb9-8265-29bf7c6180e8",
   "metadata": {},
   "outputs": [],
   "source": []
  },
  {
   "cell_type": "code",
   "execution_count": null,
   "id": "0978cc64-59c5-4c96-b4d8-4a01701efe1c",
   "metadata": {},
   "outputs": [],
   "source": []
  }
 ],
 "metadata": {
  "kernelspec": {
   "display_name": "Python 3 (ipykernel)",
   "language": "python",
   "name": "python3"
  },
  "language_info": {
   "codemirror_mode": {
    "name": "ipython",
    "version": 3
   },
   "file_extension": ".py",
   "mimetype": "text/x-python",
   "name": "python",
   "nbconvert_exporter": "python",
   "pygments_lexer": "ipython3",
   "version": "3.10.11"
  }
 },
 "nbformat": 4,
 "nbformat_minor": 5
}
