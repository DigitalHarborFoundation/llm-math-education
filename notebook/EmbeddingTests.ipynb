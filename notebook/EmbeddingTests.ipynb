{
 "cells": [
  {
   "cell_type": "markdown",
   "id": "01ed92ab-bd20-4e43-9436-447301edab14",
   "metadata": {},
   "source": [
    "Embedding Tests\n",
    "==="
   ]
  },
  {
   "cell_type": "code",
   "execution_count": 148,
   "id": "75bad6ad-c299-4542-bae9-e1f528b2fcf6",
   "metadata": {},
   "outputs": [],
   "source": [
    "import os\n",
    "import time\n",
    "from pathlib import Path\n",
    "\n",
    "import dotenv\n",
    "import matplotlib.pyplot as plt\n",
    "import numpy as np\n",
    "import openai\n",
    "import pandas as pd\n",
    "import scipy\n",
    "import tiktoken\n",
    "from tqdm import tqdm"
   ]
  },
  {
   "cell_type": "code",
   "execution_count": 4,
   "id": "e7e6f1c5-1318-45e5-a7d5-9cf52ca4dde6",
   "metadata": {},
   "outputs": [
    {
     "data": {
      "text/plain": [
       "True"
      ]
     },
     "execution_count": 4,
     "metadata": {},
     "output_type": "execute_result"
    }
   ],
   "source": [
    "dotenv.load_dotenv(\"../.env\")"
   ]
  },
  {
   "cell_type": "code",
   "execution_count": 7,
   "id": "8c032d5d-70ac-4964-9fd5-15f5dfc79c34",
   "metadata": {},
   "outputs": [
    {
     "data": {
      "text/plain": [
       "'sk-'"
      ]
     },
     "execution_count": 7,
     "metadata": {},
     "output_type": "execute_result"
    }
   ],
   "source": [
    "os.environ[\"OPENAI_API_KEY\"][:3]"
   ]
  },
  {
   "cell_type": "code",
   "execution_count": 72,
   "id": "257d08da-b5c9-4c60-a1fb-3ca40657bbce",
   "metadata": {},
   "outputs": [],
   "source": [
    "openai.api_key = os.environ[\"OPENAI_API_KEY\"]"
   ]
  },
  {
   "cell_type": "code",
   "execution_count": 10,
   "id": "16509047-5873-4bd9-937c-ef33cc1e028b",
   "metadata": {},
   "outputs": [
    {
     "data": {
      "text/plain": [
       "(67, 18)"
      ]
     },
     "execution_count": 10,
     "metadata": {},
     "output_type": "execute_result"
    }
   ],
   "source": [
    "data_dir = Path(\"../data\")\n",
    "assert data_dir.exists()\n",
    "with open(data_dir / \"derived\" / \"rori_lessons.json\") as infile:\n",
    "    df = pd.read_json(infile)\n",
    "df.shape"
   ]
  },
  {
   "cell_type": "code",
   "execution_count": 96,
   "id": "39560ff4-1af1-4745-bcd5-338641e792c8",
   "metadata": {},
   "outputs": [],
   "source": [
    "embedding_dir = data_dir / \"derived\" / \"embeddings\"\n",
    "embedding_dir.mkdir(exist_ok=True)"
   ]
  },
  {
   "cell_type": "code",
   "execution_count": 13,
   "id": "0179fc7d-7a1a-4d7f-b94f-1418472a495a",
   "metadata": {},
   "outputs": [
    {
     "data": {
      "text/plain": [
       "(['Linear expressions are variables that are combined using the signs of addition, subtraction, multiplication and division. \\nThey can be added or subtracted by combining the like terms. \\n\\nLike terms are terms which contain the same variable raised to the same power.\\nUnlike terms are terms that have the same variable and are not raised to the same power.\\n\\nWhen adding polynomials, simply drop the parenthesis and combine like terms. \\nWhen subtracting polynomials, distribute the minus sign first, then combine like terms.\\n\\nLet us check out an example!\\n\\nWrite *Yes* to continue.',\n",
       "  'Example:\\n\\nQues: Simplify the expression below:\\n(3x + 4y) - (2x + 5y)\\nA. x - y\\nB. 5x - y\\nC. 2x- y\\nD. x - y\\n\\nHint: \\nDistribute the negative sign to 2x + 5y.\\n3x + 4y - 2x - 5y\\n= (3x - 2x) + (4y - 5y)\\n= x - y\\n\\nAns: A\\n\\nWould you like to try some questions?\\n\\nWrite *Yes* to continue.'],\n",
       " 'Let us learn how to add and subtract linear expressions with 2 or more variables.')"
      ]
     },
     "execution_count": 13,
     "metadata": {},
     "output_type": "execute_result"
    }
   ],
   "source": [
    "df.iloc[0].lesson_parts, df.iloc[0].short_description"
   ]
  },
  {
   "cell_type": "code",
   "execution_count": 45,
   "id": "23f7ead9-ad05-444e-86f0-d621708d9e1c",
   "metadata": {},
   "outputs": [],
   "source": [
    "ds = []\n",
    "ada_tokeniser = tiktoken.encoding_for_model(\"text-embedding-ada-002\")\n",
    "for row in df.itertuples():\n",
    "    lesson_code = row.lesson_code\n",
    "    db_string = row.short_description + \"\\n\\n\" + \"\\n\\n\".join(row.lesson_parts)\n",
    "    db_string_token_count = len(ada_tokeniser.encode(db_string))\n",
    "    ds.append(\n",
    "        {\n",
    "            \"lesson_code\": lesson_code,\n",
    "            \"grade\": row.grade,\n",
    "            \"db_string\": db_string,\n",
    "            \"db_string_token_count\": db_string_token_count,\n",
    "        }\n",
    "    )\n",
    "embed_df = pd.DataFrame(ds)"
   ]
  },
  {
   "cell_type": "code",
   "execution_count": 46,
   "id": "545863f3-2755-4666-887f-7726d6cf6bb3",
   "metadata": {},
   "outputs": [
    {
     "data": {
      "image/png": "[encoded data removed]",
      "text/plain": [
       "<Figure size 400x400 with 1 Axes>"
      ]
     },
     "metadata": {},
     "output_type": "display_data"
    }
   ],
   "source": [
    "fig, ax = plt.subplots(1, 1, figsize=(4, 4))\n",
    "\n",
    "ax.hist(embed_df.db_string_token_count, bins=30)\n",
    "ax.set_title(\"Distribution of micro-lesson token counts\")\n",
    "ax.set_xlabel(\"Micro-lesson token count\")\n",
    "ax.set_ylabel(\"Number of micro-lessons\")\n",
    "\n",
    "fig.tight_layout()\n",
    "plt.show()"
   ]
  },
  {
   "cell_type": "code",
   "execution_count": 42,
   "id": "f45e06e8-2f6d-4202-9f77-eea00991fd39",
   "metadata": {},
   "outputs": [
    {
     "data": {
      "text/html": [
       "<div>\n",
       "<style scoped>\n",
       "    .dataframe tbody tr th:only-of-type {\n",
       "        vertical-align: middle;\n",
       "    }\n",
       "\n",
       "    .dataframe tbody tr th {\n",
       "        vertical-align: top;\n",
       "    }\n",
       "\n",
       "    .dataframe thead th {\n",
       "        text-align: right;\n",
       "    }\n",
       "</style>\n",
       "<table border=\"1\" class=\"dataframe\">\n",
       "  <thead>\n",
       "    <tr style=\"text-align: right;\">\n",
       "      <th></th>\n",
       "      <th>lesson_code</th>\n",
       "      <th>db_string</th>\n",
       "      <th>db_string_token_count</th>\n",
       "    </tr>\n",
       "  </thead>\n",
       "  <tbody>\n",
       "    <tr>\n",
       "      <th>28</th>\n",
       "      <td>G6.N1.3.3.5</td>\n",
       "      <td>In today's lesson we are going to solve word p...</td>\n",
       "      <td>47</td>\n",
       "    </tr>\n",
       "    <tr>\n",
       "      <th>49</th>\n",
       "      <td>G6.N3.1.1.4</td>\n",
       "      <td>Even decimal numbers have place values . Let u...</td>\n",
       "      <td>54</td>\n",
       "    </tr>\n",
       "    <tr>\n",
       "      <th>27</th>\n",
       "      <td>G6.N1.3.3.4</td>\n",
       "      <td>Let us multiply a 3 and 4 digit number with re...</td>\n",
       "      <td>55</td>\n",
       "    </tr>\n",
       "    <tr>\n",
       "      <th>26</th>\n",
       "      <td>G6.N1.3.3.3</td>\n",
       "      <td>In today's lesson let us learn to multiply a 3...</td>\n",
       "      <td>65</td>\n",
       "    </tr>\n",
       "    <tr>\n",
       "      <th>31</th>\n",
       "      <td>G6.N1.3.3.13</td>\n",
       "      <td>In today's lesson we are going to try out word...</td>\n",
       "      <td>65</td>\n",
       "    </tr>\n",
       "    <tr>\n",
       "      <th>29</th>\n",
       "      <td>G6.N1.3.3.8</td>\n",
       "      <td>In today's lesson we are going to learn and pr...</td>\n",
       "      <td>66</td>\n",
       "    </tr>\n",
       "    <tr>\n",
       "      <th>57</th>\n",
       "      <td>G7.N3.3.2.2</td>\n",
       "      <td>Today, we are going to learn how to divide a d...</td>\n",
       "      <td>70</td>\n",
       "    </tr>\n",
       "    <tr>\n",
       "      <th>30</th>\n",
       "      <td>G6.N1.3.3.9</td>\n",
       "      <td>In today's lesson we are going to practice per...</td>\n",
       "      <td>71</td>\n",
       "    </tr>\n",
       "    <tr>\n",
       "      <th>46</th>\n",
       "      <td>G6.N2.2.3.10</td>\n",
       "      <td>Can you find the reciprocal of a fraction? Tur...</td>\n",
       "      <td>82</td>\n",
       "    </tr>\n",
       "    <tr>\n",
       "      <th>15</th>\n",
       "      <td>G6.N1.1.1.1</td>\n",
       "      <td>Today we will read and write numbers upto 1,00...</td>\n",
       "      <td>83</td>\n",
       "    </tr>\n",
       "  </tbody>\n",
       "</table>\n",
       "</div>"
      ],
      "text/plain": [
       "     lesson_code                                          db_string  \\\n",
       "28   G6.N1.3.3.5  In today's lesson we are going to solve word p...   \n",
       "49   G6.N3.1.1.4  Even decimal numbers have place values . Let u...   \n",
       "27   G6.N1.3.3.4  Let us multiply a 3 and 4 digit number with re...   \n",
       "26   G6.N1.3.3.3  In today's lesson let us learn to multiply a 3...   \n",
       "31  G6.N1.3.3.13  In today's lesson we are going to try out word...   \n",
       "29   G6.N1.3.3.8  In today's lesson we are going to learn and pr...   \n",
       "57   G7.N3.3.2.2  Today, we are going to learn how to divide a d...   \n",
       "30   G6.N1.3.3.9  In today's lesson we are going to practice per...   \n",
       "46  G6.N2.2.3.10  Can you find the reciprocal of a fraction? Tur...   \n",
       "15   G6.N1.1.1.1  Today we will read and write numbers upto 1,00...   \n",
       "\n",
       "    db_string_token_count  \n",
       "28                     47  \n",
       "49                     54  \n",
       "27                     55  \n",
       "26                     65  \n",
       "31                     65  \n",
       "29                     66  \n",
       "57                     70  \n",
       "30                     71  \n",
       "46                     82  \n",
       "15                     83  "
      ]
     },
     "execution_count": 42,
     "metadata": {},
     "output_type": "execute_result"
    }
   ],
   "source": [
    "embed_df.sort_values(by=\"db_string_token_count\").head(10)"
   ]
  },
  {
   "cell_type": "code",
   "execution_count": 50,
   "id": "e0d219b6-8b6a-45e1-81bc-f36fb16d7b26",
   "metadata": {},
   "outputs": [],
   "source": [
    "# let's investigate the relationship between grade and token count\n",
    "grades = []\n",
    "data = []\n",
    "for grade, group in embed_df.groupby(\"grade\"):\n",
    "    list = group.db_string_token_count.tolist()\n",
    "    grades.append(grade)\n",
    "    data.append(list)"
   ]
  },
  {
   "cell_type": "code",
   "execution_count": 69,
   "id": "7b5ffd00-c5d3-41db-8fe4-20eed05db250",
   "metadata": {},
   "outputs": [
    {
     "data": {
      "image/png": "[encoded data removed]",
      "text/plain": [
       "<Figure size 400x400 with 1 Axes>"
      ]
     },
     "metadata": {},
     "output_type": "display_data"
    }
   ],
   "source": [
    "fig, ax = plt.subplots(1, 1, figsize=(4, 4))\n",
    "\n",
    "ax.violinplot(data, showmedians=True)\n",
    "for x, values in zip([1, 2, 3], data):\n",
    "    ax.scatter(\n",
    "        [\n",
    "            x,\n",
    "        ]\n",
    "        * len(values),\n",
    "        values,\n",
    "        color=\"black\",\n",
    "        marker=\".\",\n",
    "        zorder=20,\n",
    "        alpha=0.6,\n",
    "    )\n",
    "ax.set_title(\"Token count by grade\")\n",
    "ax.set_xlabel(\"Grade\")\n",
    "ax.set_ylabel(\"Token count\")\n",
    "ax.set_xticks([1, 2, 3], labels=grades)\n",
    "\n",
    "fig.tight_layout()\n",
    "plt.show()"
   ]
  },
  {
   "cell_type": "code",
   "execution_count": 75,
   "id": "c93970cd-7e43-43c2-8312-d072d8ec64ed",
   "metadata": {},
   "outputs": [],
   "source": [
    "embedding_model = \"text-embedding-ada-002\"\n",
    "\n",
    "# remove new-lines to improve performance, according to OpenAI\n",
    "texts = [row.db_string.replace(\"\\n\", \" \") for row in embed_df.itertuples()]\n",
    "\n",
    "result = openai.Embedding.create(input=texts, engine=embedding_model)"
   ]
  },
  {
   "cell_type": "code",
   "execution_count": 78,
   "id": "d4a179b2-b26b-4f22-9389-9efeb623f8fe",
   "metadata": {},
   "outputs": [
    {
     "data": {
      "text/plain": [
       "<OpenAIObject at 0x28c290a40> JSON: {\n",
       "  \"prompt_tokens\": 13323,\n",
       "  \"total_tokens\": 13323\n",
       "}"
      ]
     },
     "execution_count": 78,
     "metadata": {},
     "output_type": "execute_result"
    }
   ],
   "source": [
    "result.usage"
   ]
  },
  {
   "cell_type": "code",
   "execution_count": 85,
   "id": "fcaa7608-84cc-476e-bee9-b2552e037fef",
   "metadata": {},
   "outputs": [
    {
     "data": {
      "text/plain": [
       "67"
      ]
     },
     "execution_count": 85,
     "metadata": {},
     "output_type": "execute_result"
    }
   ],
   "source": [
    "embeddings = [np.array(d[\"embedding\"]) for d in result.data]\n",
    "assert all([e.shape == (1536,) for e in embeddings])\n",
    "len(embeddings)"
   ]
  },
  {
   "cell_type": "code",
   "execution_count": 98,
   "id": "c6c3eace-7d91-4e3a-a1bd-2ccf4c42c20b",
   "metadata": {},
   "outputs": [
    {
     "data": {
      "text/plain": [
       "(67, 1536)"
      ]
     },
     "execution_count": 98,
     "metadata": {},
     "output_type": "execute_result"
    }
   ],
   "source": [
    "db = np.concatenate([e.reshape(1, -1) for e in embeddings], axis=0)\n",
    "db.shape"
   ]
  },
  {
   "cell_type": "code",
   "execution_count": 100,
   "id": "ccf4bd5a-f2b0-4b94-af7c-c5dcf0c245b3",
   "metadata": {},
   "outputs": [],
   "source": [
    "embed_df.to_parquet(embedding_dir / \"rori_embed_df.parquet\")\n",
    "np.save(embedding_dir / \"rori_embed_db.npy\", db)"
   ]
  },
  {
   "cell_type": "code",
   "execution_count": null,
   "id": "7ee54ef4-5b3e-498d-ba2f-d3a5fffd3912",
   "metadata": {},
   "outputs": [],
   "source": []
  },
  {
   "cell_type": "markdown",
   "id": "6379aaac-7225-4e01-9c4d-dc3665541f4b",
   "metadata": {},
   "source": [
    "### Embed questions to use as queries"
   ]
  },
  {
   "cell_type": "code",
   "execution_count": 104,
   "id": "44839f58-a29d-4194-9323-7da872bd2712",
   "metadata": {},
   "outputs": [
    {
     "data": {
      "text/plain": [
       "(664, 6)"
      ]
     },
     "execution_count": 104,
     "metadata": {},
     "output_type": "execute_result"
    }
   ],
   "source": [
    "ds = []\n",
    "for row in df.itertuples():\n",
    "    for question in row.questions:\n",
    "        text = question[\"question\"] + \"\\n\\n\" + question[\"hint\"]\n",
    "        ds.append(\n",
    "            {\n",
    "                \"target_lesson_code\": row.lesson_code,\n",
    "                \"target_domain\": row.domain,\n",
    "                \"target_grade\": row.grade,\n",
    "                \"target_construct\": row.construct,\n",
    "                \"target_subconstruct\": row.subconstruct,\n",
    "                \"query\": text,\n",
    "            }\n",
    "        )\n",
    "query_df = pd.DataFrame(ds)\n",
    "query_df.shape"
   ]
  },
  {
   "cell_type": "code",
   "execution_count": 106,
   "id": "58458bd5-7127-4955-887c-b942bb409e2a",
   "metadata": {},
   "outputs": [],
   "source": [
    "embedding_model = \"text-embedding-ada-002\"\n",
    "texts = [row.query.replace(\"\\n\", \" \") for row in query_df.itertuples()]\n",
    "result = openai.Embedding.create(input=texts, engine=embedding_model)"
   ]
  },
  {
   "cell_type": "code",
   "execution_count": 107,
   "id": "fd61fa4c-dbab-4edf-85e9-e8c2470097be",
   "metadata": {},
   "outputs": [
    {
     "data": {
      "text/plain": [
       "(664, 1536)"
      ]
     },
     "execution_count": 107,
     "metadata": {},
     "output_type": "execute_result"
    }
   ],
   "source": [
    "embeddings = [np.array(d[\"embedding\"]) for d in result.data]\n",
    "query_db = np.concatenate([e.reshape(1, -1) for e in embeddings], axis=0)\n",
    "query_db.shape"
   ]
  },
  {
   "cell_type": "code",
   "execution_count": 108,
   "id": "1ab4b27d-6a8c-46d8-b57a-01664ec327fa",
   "metadata": {},
   "outputs": [],
   "source": [
    "query_df.to_parquet(embedding_dir / \"rori_query_df.parquet\")\n",
    "np.save(embedding_dir / \"rori_query_db.npy\", query_db)"
   ]
  },
  {
   "cell_type": "code",
   "execution_count": null,
   "id": "6a78f7b2-b3fd-4de6-961c-890c8a6a3af8",
   "metadata": {},
   "outputs": [],
   "source": []
  },
  {
   "cell_type": "code",
   "execution_count": null,
   "id": "141dc1ea-7fd6-44e4-8ce4-4f5770b05ace",
   "metadata": {},
   "outputs": [],
   "source": []
  },
  {
   "cell_type": "markdown",
   "id": "3476d378-d72f-4c2a-9a33-7c437a616fd7",
   "metadata": {},
   "source": [
    "### Code for eval"
   ]
  },
  {
   "cell_type": "code",
   "execution_count": 143,
   "id": "fa7ca359-63e6-47d7-862d-7d7f1715954b",
   "metadata": {},
   "outputs": [
    {
     "data": {
      "text/plain": [
       "((9, 'N', 'N5', 'N5.1', 'N5.1.3', 1), (9, 'N', 'N0', 'N0.0', 'N0.0.0', 1))"
      ]
     },
     "execution_count": 143,
     "metadata": {},
     "output_type": "execute_result"
    }
   ],
   "source": [
    "def get_gpd_codes(lesson_code):\n",
    "    \"\"\"\n",
    "    Structure is: G<grade>.<domain><construct>.<subconstruct>.<skill>.<index>\n",
    "\n",
    "    e.g. G9.N5.1.3.1 has:\n",
    "        grade 9\n",
    "        domain N\n",
    "        construct N5\n",
    "        subconstruct N5.1\n",
    "        skill N5.1.3\n",
    "        index 1\n",
    "    \"\"\"\n",
    "    tokens = lesson_code.split(\".\")\n",
    "    grade = int(tokens[0][1])\n",
    "    index = int(tokens[-1])\n",
    "\n",
    "    skill = \".\".join(tokens[1:-1])\n",
    "\n",
    "    domain = tokens[1][0]\n",
    "    construct = tokens[1]\n",
    "    subconstruct = tokens[1] + \".\" + tokens[2]\n",
    "    return grade, domain, construct, subconstruct, skill, index\n",
    "\n",
    "\n",
    "get_gpd_codes(\"G9.N5.1.3.1\"), get_gpd_codes(\"G9.N0.0.0.1\")"
   ]
  },
  {
   "cell_type": "code",
   "execution_count": null,
   "id": "70faee06-9f3d-4bbf-a544-d36b2f3cfc9f",
   "metadata": {},
   "outputs": [],
   "source": []
  },
  {
   "cell_type": "markdown",
   "id": "42d8f036-b574-4745-92ab-e355c982395d",
   "metadata": {},
   "source": [
    "### Load and query the embedding DB"
   ]
  },
  {
   "cell_type": "code",
   "execution_count": 114,
   "id": "4d6e0bfe-25af-4818-8e96-57f70fa41532",
   "metadata": {},
   "outputs": [
    {
     "data": {
      "text/plain": [
       "((67, 4), (67, 1536))"
      ]
     },
     "execution_count": 114,
     "metadata": {},
     "output_type": "execute_result"
    }
   ],
   "source": [
    "embed_df = pd.read_parquet(embedding_dir / \"rori_embed_df.parquet\")\n",
    "db = np.load(embedding_dir / \"rori_embed_db.npy\")\n",
    "embed_df.shape, db.shape"
   ]
  },
  {
   "cell_type": "code",
   "execution_count": 115,
   "id": "c0d0b8e3-2cf6-4708-8ff2-9f55bd4efdeb",
   "metadata": {},
   "outputs": [
    {
     "data": {
      "text/plain": [
       "((664, 6), (664, 1536))"
      ]
     },
     "execution_count": 115,
     "metadata": {},
     "output_type": "execute_result"
    }
   ],
   "source": [
    "query_df = pd.read_parquet(embedding_dir / \"rori_query_df.parquet\")\n",
    "query_db = np.load(embedding_dir / \"rori_query_db.npy\")\n",
    "query_df.shape, query_db.shape"
   ]
  },
  {
   "cell_type": "code",
   "execution_count": 125,
   "id": "6c7a6c43-9b68-4a71-a8e6-cfd7c972de40",
   "metadata": {},
   "outputs": [],
   "source": [
    "def query_embedding_db(query_embedding, db, db_df):\n",
    "    return False\n",
    "\n",
    "\n",
    "query_embedding = query_db[0, :].reshape(1, -1)\n",
    "\n",
    "distances = scipy.spatial.distance.cdist(query_embedding, db, metric=\"cosine\")[0]"
   ]
  },
  {
   "cell_type": "code",
   "execution_count": 126,
   "id": "632675c8-ac2e-4e48-b34e-0cd0aa98c061",
   "metadata": {},
   "outputs": [
    {
     "data": {
      "text/plain": [
       "array([ 1,  4, 61, 35, 51, 34, 32, 28, 57, 66, 63, 30, 65, 50, 67, 53, 62,\n",
       "       64, 54, 49, 26, 21, 36, 17, 42, 44, 24, 16, 25, 33, 40, 31,  3, 29,\n",
       "       19, 43, 12, 59, 15, 23, 46,  7, 11,  6,  8, 27, 38, 18, 10, 56, 58,\n",
       "       48, 45, 60, 13, 20, 55, 41, 37,  9,  5, 14, 22,  2, 52, 39, 47])"
      ]
     },
     "execution_count": 126,
     "metadata": {},
     "output_type": "execute_result"
    }
   ],
   "source": [
    "scipy.stats.rankdata(distances, method=\"max\")"
   ]
  },
  {
   "cell_type": "code",
   "execution_count": 130,
   "id": "9bf37989-e48f-4afe-8a9c-5116a04bab42",
   "metadata": {},
   "outputs": [
    {
     "data": {
      "text/plain": [
       "array([ 0, 63, 32,  1, 60, 43, 41, 44, 59, 48, 42, 36, 54, 61, 38, 27, 23,\n",
       "       47, 34, 55, 21, 62, 39, 26, 28, 20, 45,  7, 33, 11, 31,  6, 29,  5,\n",
       "        3, 22, 58, 46, 65, 30, 57, 24, 35, 25, 52, 40, 66, 51, 19, 13,  4,\n",
       "       64, 15, 18, 56, 49,  8, 50, 37, 53,  2, 16, 10, 17, 12,  9, 14])"
      ]
     },
     "execution_count": 130,
     "metadata": {},
     "output_type": "execute_result"
    }
   ],
   "source": [
    "sort_inds = np.argsort(distances)\n",
    "sort_inds"
   ]
  },
  {
   "cell_type": "code",
   "execution_count": 135,
   "id": "468497c3-115d-4d24-92db-afd00fffdd19",
   "metadata": {},
   "outputs": [
    {
     "data": {
      "text/plain": [
       "array([0.15034087, 0.17756433, 0.18582566])"
      ]
     },
     "execution_count": 135,
     "metadata": {},
     "output_type": "execute_result"
    }
   ],
   "source": [
    "smallest_distances = distances[sort_inds[:3]]\n",
    "smallest_distances"
   ]
  },
  {
   "cell_type": "code",
   "execution_count": 136,
   "id": "cdbac2a3-9055-4cec-828f-ab8ed04b3fea",
   "metadata": {},
   "outputs": [
    {
     "data": {
      "text/plain": [
       "0     G8.A2.1.2.1\n",
       "63    G7.N4.2.2.1\n",
       "32    G6.N1.3.7.1\n",
       "Name: lesson_code, dtype: object"
      ]
     },
     "execution_count": 136,
     "metadata": {},
     "output_type": "execute_result"
    }
   ],
   "source": [
    "embed_df.lesson_code.iloc[sort_inds[:3]]"
   ]
  },
  {
   "cell_type": "code",
   "execution_count": 141,
   "id": "9ac83b9b-e5bb-4b50-99bf-4ae304c0b2ea",
   "metadata": {},
   "outputs": [
    {
     "data": {
      "text/plain": [
       "0"
      ]
     },
     "execution_count": 141,
     "metadata": {},
     "output_type": "execute_result"
    }
   ],
   "source": [
    "lesson_code_index_map = {v: k for k, v in embed_df.lesson_code.to_dict().items()}\n",
    "target_index = lesson_code_index_map[query_df.iloc[0].target_lesson_code]\n",
    "target_index"
   ]
  },
  {
   "cell_type": "code",
   "execution_count": 166,
   "id": "4ac93388-d700-471f-9049-d9e93756ea6e",
   "metadata": {},
   "outputs": [
    {
     "name": "stderr",
     "output_type": "stream",
     "text": [
      "100%|██████████████████████████████████████████████████████████████████████████████████████████████████████████████████| 664/664 [00:00<00:00, 3799.24it/s]\n"
     ]
    },
    {
     "data": {
      "text/plain": [
       "(664, 5)"
      ]
     },
     "execution_count": 166,
     "metadata": {},
     "output_type": "execute_result"
    }
   ],
   "source": [
    "assert len(query_db) == len(query_df)\n",
    "rs = []\n",
    "for query_ind in tqdm(range(len(query_df))):\n",
    "    query_embedding = query_db[query_ind, :].reshape(1, -1)\n",
    "    query_row = query_df.iloc[query_ind]\n",
    "    target_lesson_code = query_row.target_lesson_code\n",
    "    target_index = lesson_code_index_map[target_lesson_code]\n",
    "\n",
    "    distances = scipy.spatial.distance.cdist(query_embedding, db, metric=\"cosine\")[0]\n",
    "    sort_inds = np.argsort(distances)\n",
    "    ranks = scipy.stats.rankdata(distances, method=\"max\")\n",
    "\n",
    "    target_rank = ranks[target_index]\n",
    "    r = {\n",
    "        \"query_ind\": query_ind,\n",
    "        \"target_lesson_code\": target_lesson_code,\n",
    "        \"target_index\": target_index,\n",
    "        \"target_rank\": target_rank,\n",
    "    }\n",
    "    rs.append(r)\n",
    "eval_df = pd.DataFrame(rs)\n",
    "eval_df[\"reciprocal_rank\"] = 1 / eval_df.target_rank\n",
    "eval_df.shape"
   ]
  },
  {
   "cell_type": "code",
   "execution_count": 167,
   "id": "2f09b701-02c5-45b5-9bb1-0962ba18aab2",
   "metadata": {},
   "outputs": [
    {
     "data": {
      "text/plain": [
       "0.6632352554320463"
      ]
     },
     "execution_count": 167,
     "metadata": {},
     "output_type": "execute_result"
    }
   ],
   "source": [
    "eval_df.reciprocal_rank.mean()"
   ]
  },
  {
   "cell_type": "code",
   "execution_count": 168,
   "id": "673f469a-c71c-4b1f-bc5a-644200ec65c9",
   "metadata": {},
   "outputs": [
    {
     "data": {
      "text/html": [
       "<div>\n",
       "<style scoped>\n",
       "    .dataframe tbody tr th:only-of-type {\n",
       "        vertical-align: middle;\n",
       "    }\n",
       "\n",
       "    .dataframe tbody tr th {\n",
       "        vertical-align: top;\n",
       "    }\n",
       "\n",
       "    .dataframe thead th {\n",
       "        text-align: right;\n",
       "    }\n",
       "</style>\n",
       "<table border=\"1\" class=\"dataframe\">\n",
       "  <thead>\n",
       "    <tr style=\"text-align: right;\">\n",
       "      <th></th>\n",
       "      <th>query_ind</th>\n",
       "      <th>target_index</th>\n",
       "      <th>target_rank</th>\n",
       "      <th>reciprocal_rank</th>\n",
       "    </tr>\n",
       "    <tr>\n",
       "      <th>target_lesson_code</th>\n",
       "      <th></th>\n",
       "      <th></th>\n",
       "      <th></th>\n",
       "      <th></th>\n",
       "    </tr>\n",
       "  </thead>\n",
       "  <tbody>\n",
       "    <tr>\n",
       "      <th>G6.A1.1.2.1</th>\n",
       "      <td>84.5</td>\n",
       "      <td>8.0</td>\n",
       "      <td>3.5</td>\n",
       "      <td>0.370833</td>\n",
       "    </tr>\n",
       "    <tr>\n",
       "      <th>G6.A1.1.3.1</th>\n",
       "      <td>74.5</td>\n",
       "      <td>7.0</td>\n",
       "      <td>5.8</td>\n",
       "      <td>0.625776</td>\n",
       "    </tr>\n",
       "    <tr>\n",
       "      <th>G6.A1.1.4.1</th>\n",
       "      <td>64.5</td>\n",
       "      <td>6.0</td>\n",
       "      <td>8.7</td>\n",
       "      <td>0.387288</td>\n",
       "    </tr>\n",
       "    <tr>\n",
       "      <th>G6.A3.1.1.1</th>\n",
       "      <td>54.5</td>\n",
       "      <td>5.0</td>\n",
       "      <td>1.6</td>\n",
       "      <td>0.766667</td>\n",
       "    </tr>\n",
       "    <tr>\n",
       "      <th>G6.G1.1.3.1</th>\n",
       "      <td>114.5</td>\n",
       "      <td>11.0</td>\n",
       "      <td>1.0</td>\n",
       "      <td>1.000000</td>\n",
       "    </tr>\n",
       "    <tr>\n",
       "      <th>...</th>\n",
       "      <td>...</td>\n",
       "      <td>...</td>\n",
       "      <td>...</td>\n",
       "      <td>...</td>\n",
       "    </tr>\n",
       "    <tr>\n",
       "      <th>G8.A2.1.2.1</th>\n",
       "      <td>4.5</td>\n",
       "      <td>0.0</td>\n",
       "      <td>2.0</td>\n",
       "      <td>0.650000</td>\n",
       "    </tr>\n",
       "    <tr>\n",
       "      <th>G8.N3.2.4.1</th>\n",
       "      <td>24.5</td>\n",
       "      <td>2.0</td>\n",
       "      <td>2.4</td>\n",
       "      <td>0.466667</td>\n",
       "    </tr>\n",
       "    <tr>\n",
       "      <th>G8.N3.2.4.2</th>\n",
       "      <td>638.5</td>\n",
       "      <td>64.0</td>\n",
       "      <td>1.9</td>\n",
       "      <td>0.797619</td>\n",
       "    </tr>\n",
       "    <tr>\n",
       "      <th>G8.N4.2.3.1</th>\n",
       "      <td>648.5</td>\n",
       "      <td>65.0</td>\n",
       "      <td>1.3</td>\n",
       "      <td>0.850000</td>\n",
       "    </tr>\n",
       "    <tr>\n",
       "      <th>G8.N4.2.3.2</th>\n",
       "      <td>658.5</td>\n",
       "      <td>66.0</td>\n",
       "      <td>1.2</td>\n",
       "      <td>0.900000</td>\n",
       "    </tr>\n",
       "  </tbody>\n",
       "</table>\n",
       "<p>67 rows × 4 columns</p>\n",
       "</div>"
      ],
      "text/plain": [
       "                    query_ind  target_index  target_rank  reciprocal_rank\n",
       "target_lesson_code                                                       \n",
       "G6.A1.1.2.1              84.5           8.0          3.5         0.370833\n",
       "G6.A1.1.3.1              74.5           7.0          5.8         0.625776\n",
       "G6.A1.1.4.1              64.5           6.0          8.7         0.387288\n",
       "G6.A3.1.1.1              54.5           5.0          1.6         0.766667\n",
       "G6.G1.1.3.1             114.5          11.0          1.0         1.000000\n",
       "...                       ...           ...          ...              ...\n",
       "G8.A2.1.2.1               4.5           0.0          2.0         0.650000\n",
       "G8.N3.2.4.1              24.5           2.0          2.4         0.466667\n",
       "G8.N3.2.4.2             638.5          64.0          1.9         0.797619\n",
       "G8.N4.2.3.1             648.5          65.0          1.3         0.850000\n",
       "G8.N4.2.3.2             658.5          66.0          1.2         0.900000\n",
       "\n",
       "[67 rows x 4 columns]"
      ]
     },
     "execution_count": 168,
     "metadata": {},
     "output_type": "execute_result"
    }
   ],
   "source": [
    "eval_df.groupby(\"target_lesson_code\").mean()"
   ]
  },
  {
   "cell_type": "code",
   "execution_count": 183,
   "id": "1973d2f3-fb37-43c1-8849-9c9b0ffa10a0",
   "metadata": {},
   "outputs": [
    {
     "data": {
      "image/png": "[encoded data removed]",
      "text/plain": [
       "<Figure size 400x300 with 1 Axes>"
      ]
     },
     "metadata": {},
     "output_type": "display_data"
    }
   ],
   "source": [
    "xs = []\n",
    "ys = []\n",
    "for n in range(1, 21):\n",
    "    hr = (eval_df.target_rank <= n).sum() / len(eval_df)\n",
    "    xs.append(n)\n",
    "    ys.append(hr)\n",
    "\n",
    "fig, ax = plt.subplots(1, 1, figsize=(4, 3))\n",
    "\n",
    "ax.plot(xs, ys, label=\"HR@$n$\")\n",
    "\n",
    "random_ys = [x / len(embed_df) for x in xs]\n",
    "ax.plot(xs, random_ys, label=\"Random HR\")\n",
    "\n",
    "for n in [1, 3, 5, 10, 15, 20]:\n",
    "    ax.scatter(n, ys[n - 1], color=\"black\", zorder=10, marker=\".\")\n",
    "    ax.text(n, ys[n - 1] - 0.02, f\"{ys[n-1]:.1%}\", va=\"top\", ha=\"left\")\n",
    "\n",
    "ax.set_title(\"Hit rate at varying thresholds\")\n",
    "ax.set_xlabel(\"Hit rate threshold ($n$)\")\n",
    "ax.set_ylabel(\"Micro-lesson included in top $n$\")\n",
    "\n",
    "ax.legend()\n",
    "\n",
    "fig.tight_layout()\n",
    "plt.show()"
   ]
  },
  {
   "cell_type": "code",
   "execution_count": null,
   "id": "63424434-df93-4c97-b393-a5ad89a86e79",
   "metadata": {},
   "outputs": [],
   "source": []
  },
  {
   "cell_type": "code",
   "execution_count": null,
   "id": "30e2d78f-104d-4759-90fe-63a34f3475f1",
   "metadata": {},
   "outputs": [],
   "source": []
  },
  {
   "cell_type": "code",
   "execution_count": null,
   "id": "d83aa492-8e17-4c2f-9a92-20c59f355afc",
   "metadata": {},
   "outputs": [],
   "source": []
  },
  {
   "cell_type": "code",
   "execution_count": null,
   "id": "6f9aaf4f-b09b-456f-bf02-6015bdd2c6cd",
   "metadata": {},
   "outputs": [],
   "source": []
  }
 ],
 "metadata": {
  "kernelspec": {
   "display_name": "Python 3 (ipykernel)",
   "language": "python",
   "name": "python3"
  },
  "language_info": {
   "codemirror_mode": {
    "name": "ipython",
    "version": 3
   },
   "file_extension": ".py",
   "mimetype": "text/x-python",
   "name": "python",
   "nbconvert_exporter": "python",
   "pygments_lexer": "ipython3",
   "version": "3.10.11"
  }
 },
 "nbformat": 4,
 "nbformat_minor": 5
}
