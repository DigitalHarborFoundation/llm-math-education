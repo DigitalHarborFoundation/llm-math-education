{
 "cells": [
  {
   "cell_type": "markdown",
   "id": "01ed92ab-bd20-4e43-9436-447301edab14",
   "metadata": {},
   "source": [
    "SQLALchemy 2 Scratchpad\n",
    "===\n",
    "\n",
    "Getting comfortable with SQLAlchemy 2.\n",
    "\n",
    "https://docs.sqlalchemy.org/en/20/tutorial/index.html"
   ]
  },
  {
   "cell_type": "code",
   "execution_count": 1,
   "id": "75bad6ad-c299-4542-bae9-e1f528b2fcf6",
   "metadata": {},
   "outputs": [],
   "source": [
    "import json\n",
    "import os\n",
    "import pickle\n",
    "import random\n",
    "import time\n",
    "from datetime import datetime\n",
    "from pathlib import Path\n",
    "from pprint import pprint\n",
    "\n",
    "import dotenv\n",
    "import matplotlib\n",
    "import matplotlib.pyplot as plt\n",
    "import numpy as np\n",
    "import pandas as pd\n",
    "import sqlalchemy\n",
    "import supabase\n",
    "from sqlalchemy import select\n",
    "from sqlalchemy.ext.compiler import compiles\n",
    "from sqlalchemy.orm import DeclarativeBase, Mapped, mapped_column\n",
    "from sqlalchemy.sql import expression\n",
    "from sqlalchemy.types import DateTime\n",
    "from tqdm import tqdm"
   ]
  },
  {
   "cell_type": "code",
   "execution_count": 2,
   "id": "e7e6f1c5-1318-45e5-a7d5-9cf52ca4dde6",
   "metadata": {},
   "outputs": [
    {
     "data": {
      "text/plain": [
       "True"
      ]
     },
     "execution_count": 2,
     "metadata": {},
     "output_type": "execute_result"
    }
   ],
   "source": [
    "dotenv.load_dotenv(\"../.env\")"
   ]
  },
  {
   "cell_type": "code",
   "execution_count": 3,
   "id": "bcd11a73-ce20-496c-84f8-fd1404a30838",
   "metadata": {},
   "outputs": [],
   "source": [
    "# API test\n",
    "url: str = os.environ.get(\"SUPABASE_URL\")\n",
    "key: str = os.environ.get(\"SUPABASE_API_KEY\")\n",
    "sb_client: supabase.Client = supabase.create_client(url, key)"
   ]
  },
  {
   "cell_type": "code",
   "execution_count": 4,
   "id": "1c3dc723-47eb-41c3-8d4f-5e0bc56735a5",
   "metadata": {},
   "outputs": [
    {
     "name": "stderr",
     "output_type": "stream",
     "text": [
      "2023-08-16 16:20:50,942:INFO - HTTP Request: GET https://bwerovdykjuxvfoozrge.supabase.co/rest/v1/message?select=%2A&limit=10 \"HTTP/1.1 200 OK\"\n"
     ]
    },
    {
     "data": {
      "text/plain": [
       "('count', None)"
      ]
     },
     "execution_count": 4,
     "metadata": {},
     "output_type": "execute_result"
    }
   ],
   "source": [
    "data, count = sb_client.table(\"message\").select(\"*\").limit(10).execute()\n",
    "count"
   ]
  },
  {
   "cell_type": "code",
   "execution_count": null,
   "id": "2f2bc640-ed61-4713-8a00-d35744cf8462",
   "metadata": {},
   "outputs": [],
   "source": [
    "data[1][0]"
   ]
  },
  {
   "cell_type": "code",
   "execution_count": 4,
   "id": "8c032d5d-70ac-4964-9fd5-15f5dfc79c34",
   "metadata": {},
   "outputs": [
    {
     "data": {
      "text/plain": [
       "'postgresql://postgres:'"
      ]
     },
     "execution_count": 4,
     "metadata": {},
     "output_type": "execute_result"
    }
   ],
   "source": [
    "SUPABASE_CONNECTION_URL = os.environ[\"SUPABASE_CONNECTION_URL\"]\n",
    "SUPABASE_CONNECTION_URL[:22]"
   ]
  },
  {
   "cell_type": "code",
   "execution_count": 7,
   "id": "b8d6d9d8",
   "metadata": {},
   "outputs": [
    {
     "data": {
      "text/plain": [
       "'postgresql://postgres:'"
      ]
     },
     "execution_count": 7,
     "metadata": {},
     "output_type": "execute_result"
    }
   ],
   "source": [
    "LEVON003_SUPABASE_CONNECTION_URL = os.environ[\"LEVON003_SUPABASE_CONNECTION_URL\"]\n",
    "LEVON003_SUPABASE_CONNECTION_URL[:22]"
   ]
  },
  {
   "cell_type": "code",
   "execution_count": null,
   "id": "dd9ea6d7-9ae9-4e8a-983d-42b43d65cb89",
   "metadata": {},
   "outputs": [],
   "source": []
  },
  {
   "cell_type": "code",
   "execution_count": 5,
   "id": "9c5604e6-a616-4fb9-8265-29bf7c6180e8",
   "metadata": {},
   "outputs": [
    {
     "name": "stdout",
     "output_type": "stream",
     "text": [
      "2023-08-16 16:57:28,652 INFO sqlalchemy.engine.Engine select pg_catalog.version()\n"
     ]
    },
    {
     "name": "stderr",
     "output_type": "stream",
     "text": [
      "2023-08-16 16:57:28,652:INFO - select pg_catalog.version()\n"
     ]
    },
    {
     "name": "stdout",
     "output_type": "stream",
     "text": [
      "2023-08-16 16:57:28,654 INFO sqlalchemy.engine.Engine [raw sql] {}\n"
     ]
    },
    {
     "name": "stderr",
     "output_type": "stream",
     "text": [
      "2023-08-16 16:57:28,654:INFO - [raw sql] {}\n"
     ]
    },
    {
     "name": "stdout",
     "output_type": "stream",
     "text": [
      "2023-08-16 16:57:28,807 INFO sqlalchemy.engine.Engine select current_schema()\n"
     ]
    },
    {
     "name": "stderr",
     "output_type": "stream",
     "text": [
      "2023-08-16 16:57:28,807:INFO - select current_schema()\n"
     ]
    },
    {
     "name": "stdout",
     "output_type": "stream",
     "text": [
      "2023-08-16 16:57:28,809 INFO sqlalchemy.engine.Engine [raw sql] {}\n"
     ]
    },
    {
     "name": "stderr",
     "output_type": "stream",
     "text": [
      "2023-08-16 16:57:28,809:INFO - [raw sql] {}\n"
     ]
    },
    {
     "name": "stdout",
     "output_type": "stream",
     "text": [
      "2023-08-16 16:57:28,960 INFO sqlalchemy.engine.Engine show standard_conforming_strings\n"
     ]
    },
    {
     "name": "stderr",
     "output_type": "stream",
     "text": [
      "2023-08-16 16:57:28,960:INFO - show standard_conforming_strings\n"
     ]
    },
    {
     "name": "stdout",
     "output_type": "stream",
     "text": [
      "2023-08-16 16:57:28,961 INFO sqlalchemy.engine.Engine [raw sql] {}\n"
     ]
    },
    {
     "name": "stderr",
     "output_type": "stream",
     "text": [
      "2023-08-16 16:57:28,961:INFO - [raw sql] {}\n"
     ]
    },
    {
     "name": "stdout",
     "output_type": "stream",
     "text": [
      "2023-08-16 16:57:29,111 INFO sqlalchemy.engine.Engine BEGIN (implicit)\n"
     ]
    },
    {
     "name": "stderr",
     "output_type": "stream",
     "text": [
      "2023-08-16 16:57:29,111:INFO - BEGIN (implicit)\n"
     ]
    },
    {
     "name": "stdout",
     "output_type": "stream",
     "text": [
      "2023-08-16 16:57:29,113 INFO sqlalchemy.engine.Engine COMMIT\n"
     ]
    },
    {
     "name": "stderr",
     "output_type": "stream",
     "text": [
      "2023-08-16 16:57:29,113:INFO - COMMIT\n"
     ]
    }
   ],
   "source": [
    "url = SUPABASE_CONNECTION_URL\n",
    "engine = sqlalchemy.create_engine(url, echo=True)\n",
    "with engine.begin() as conn:\n",
    "    pass"
   ]
  },
  {
   "cell_type": "code",
   "execution_count": 9,
   "id": "d60cc21e-5d97-471a-adb1-5b6f3cef06fa",
   "metadata": {},
   "outputs": [
    {
     "name": "stdout",
     "output_type": "stream",
     "text": [
      "2023-08-16 16:04:23,105 INFO sqlalchemy.engine.Engine BEGIN (implicit)\n"
     ]
    },
    {
     "name": "stderr",
     "output_type": "stream",
     "text": [
      "2023-08-16 16:04:23,105:INFO - BEGIN (implicit)\n"
     ]
    },
    {
     "name": "stdout",
     "output_type": "stream",
     "text": [
      "2023-08-16 16:04:23,108 INFO sqlalchemy.engine.Engine select * from math_question_answer limit 10\n"
     ]
    },
    {
     "name": "stderr",
     "output_type": "stream",
     "text": [
      "2023-08-16 16:04:23,108:INFO - select * from math_question_answer limit 10\n"
     ]
    },
    {
     "name": "stdout",
     "output_type": "stream",
     "text": [
      "2023-08-16 16:04:23,109 INFO sqlalchemy.engine.Engine [generated in 0.00106s] {}\n"
     ]
    },
    {
     "name": "stderr",
     "output_type": "stream",
     "text": [
      "2023-08-16 16:04:23,109:INFO - [generated in 0.00106s] {}\n"
     ]
    },
    {
     "name": "stdout",
     "output_type": "stream",
     "text": [
      "2023-08-16 16:04:23,262 INFO sqlalchemy.engine.Engine COMMIT\n"
     ]
    },
    {
     "name": "stderr",
     "output_type": "stream",
     "text": [
      "2023-08-16 16:04:23,262:INFO - COMMIT\n"
     ]
    },
    {
     "data": {
      "text/plain": [
       "10"
      ]
     },
     "execution_count": 9,
     "metadata": {},
     "output_type": "execute_result"
    }
   ],
   "source": [
    "table_name = \"math_question_answer\"\n",
    "with engine.begin() as conn:\n",
    "    result = conn.execute(sqlalchemy.text(f\"select * from {table_name} limit 10\"))\n",
    "    results = result.all()\n",
    "len(results)"
   ]
  },
  {
   "cell_type": "code",
   "execution_count": null,
   "id": "00a09175-1280-449b-a008-fbfb09d4209c",
   "metadata": {},
   "outputs": [],
   "source": [
    "results[0]"
   ]
  },
  {
   "cell_type": "code",
   "execution_count": 6,
   "id": "a480129c-4f2b-4192-85f5-a2244ec29ab3",
   "metadata": {},
   "outputs": [],
   "source": [
    "class Base(DeclarativeBase):\n",
    "    pass"
   ]
  },
  {
   "cell_type": "code",
   "execution_count": 7,
   "id": "16986f36-975a-4f47-b82b-082177d98f2e",
   "metadata": {},
   "outputs": [
    {
     "data": {
      "text/plain": [
       "MetaData()"
      ]
     },
     "execution_count": 7,
     "metadata": {},
     "output_type": "execute_result"
    }
   ],
   "source": [
    "Base.metadata"
   ]
  },
  {
   "cell_type": "code",
   "execution_count": 8,
   "id": "f8854843-99b7-4a9e-b9e0-49b3f4caff0a",
   "metadata": {},
   "outputs": [],
   "source": [
    "class utcnow(expression.FunctionElement):\n",
    "    type = DateTime()\n",
    "    inherit_cache = True\n",
    "\n",
    "\n",
    "@compiles(utcnow, \"postgresql\")\n",
    "def pg_utcnow(element, compiler, **kw):\n",
    "    return \"TIMEZONE('utc', CURRENT_TIMESTAMP)\"\n",
    "\n",
    "\n",
    "class Generation(Base):\n",
    "    __tablename__ = \"rori_generative_api_generations\"\n",
    "\n",
    "    id: Mapped[int] = mapped_column(primary_key=True)\n",
    "    created_at: Mapped[datetime] = mapped_column(DateTime, server_default=utcnow())\n",
    "    generation: Mapped[str]\n",
    "    context: Mapped[dict] = mapped_column(sqlalchemy.JSON)"
   ]
  },
  {
   "cell_type": "code",
   "execution_count": 9,
   "id": "26987c59-92fc-4c39-8bc0-f3b07dd4debc",
   "metadata": {},
   "outputs": [
    {
     "name": "stdout",
     "output_type": "stream",
     "text": [
      "2023-08-16 16:57:40,590 INFO sqlalchemy.engine.Engine BEGIN (implicit)\n"
     ]
    },
    {
     "name": "stderr",
     "output_type": "stream",
     "text": [
      "2023-08-16 16:57:40,590:INFO - BEGIN (implicit)\n"
     ]
    },
    {
     "name": "stdout",
     "output_type": "stream",
     "text": [
      "2023-08-16 16:57:40,596 INFO sqlalchemy.engine.Engine SELECT pg_catalog.pg_class.relname \n",
      "FROM pg_catalog.pg_class JOIN pg_catalog.pg_namespace ON pg_catalog.pg_namespace.oid = pg_catalog.pg_class.relnamespace \n",
      "WHERE pg_catalog.pg_class.relname = %(table_name)s AND pg_catalog.pg_class.relkind = ANY (ARRAY[%(param_1)s, %(param_2)s, %(param_3)s, %(param_4)s, %(param_5)s]) AND pg_catalog.pg_table_is_visible(pg_catalog.pg_class.oid) AND pg_catalog.pg_namespace.nspname != %(nspname_1)s\n"
     ]
    },
    {
     "name": "stderr",
     "output_type": "stream",
     "text": [
      "2023-08-16 16:57:40,596:INFO - SELECT pg_catalog.pg_class.relname \n",
      "FROM pg_catalog.pg_class JOIN pg_catalog.pg_namespace ON pg_catalog.pg_namespace.oid = pg_catalog.pg_class.relnamespace \n",
      "WHERE pg_catalog.pg_class.relname = %(table_name)s AND pg_catalog.pg_class.relkind = ANY (ARRAY[%(param_1)s, %(param_2)s, %(param_3)s, %(param_4)s, %(param_5)s]) AND pg_catalog.pg_table_is_visible(pg_catalog.pg_class.oid) AND pg_catalog.pg_namespace.nspname != %(nspname_1)s\n"
     ]
    },
    {
     "name": "stdout",
     "output_type": "stream",
     "text": [
      "2023-08-16 16:57:40,598 INFO sqlalchemy.engine.Engine [generated in 0.00155s] {'table_name': 'rori_generative_api_generations', 'param_1': 'r', 'param_2': 'p', 'param_3': 'f', 'param_4': 'v', 'param_5': 'm', 'nspname_1': 'pg_catalog'}\n"
     ]
    },
    {
     "name": "stderr",
     "output_type": "stream",
     "text": [
      "2023-08-16 16:57:40,598:INFO - [generated in 0.00155s] {'table_name': 'rori_generative_api_generations', 'param_1': 'r', 'param_2': 'p', 'param_3': 'f', 'param_4': 'v', 'param_5': 'm', 'nspname_1': 'pg_catalog'}\n"
     ]
    },
    {
     "name": "stdout",
     "output_type": "stream",
     "text": [
      "2023-08-16 16:57:40,758 INFO sqlalchemy.engine.Engine \n",
      "CREATE TABLE rori_generative_api_generations (\n",
      "\tid SERIAL NOT NULL, \n",
      "\tcreated_at TIMESTAMP WITHOUT TIME ZONE DEFAULT TIMEZONE('utc', CURRENT_TIMESTAMP) NOT NULL, \n",
      "\tgeneration VARCHAR NOT NULL, \n",
      "\tcontext JSON NOT NULL, \n",
      "\tPRIMARY KEY (id)\n",
      ")\n",
      "\n",
      "\n"
     ]
    },
    {
     "name": "stderr",
     "output_type": "stream",
     "text": [
      "2023-08-16 16:57:40,758:INFO - \n",
      "CREATE TABLE rori_generative_api_generations (\n",
      "\tid SERIAL NOT NULL, \n",
      "\tcreated_at TIMESTAMP WITHOUT TIME ZONE DEFAULT TIMEZONE('utc', CURRENT_TIMESTAMP) NOT NULL, \n",
      "\tgeneration VARCHAR NOT NULL, \n",
      "\tcontext JSON NOT NULL, \n",
      "\tPRIMARY KEY (id)\n",
      ")\n",
      "\n",
      "\n"
     ]
    },
    {
     "name": "stdout",
     "output_type": "stream",
     "text": [
      "2023-08-16 16:57:40,761 INFO sqlalchemy.engine.Engine [no key 0.00216s] {}\n"
     ]
    },
    {
     "name": "stderr",
     "output_type": "stream",
     "text": [
      "2023-08-16 16:57:40,761:INFO - [no key 0.00216s] {}\n"
     ]
    },
    {
     "name": "stdout",
     "output_type": "stream",
     "text": [
      "2023-08-16 16:57:40,877 INFO sqlalchemy.engine.Engine COMMIT\n"
     ]
    },
    {
     "name": "stderr",
     "output_type": "stream",
     "text": [
      "2023-08-16 16:57:40,877:INFO - COMMIT\n"
     ]
    }
   ],
   "source": [
    "Base.metadata.create_all(engine)"
   ]
  },
  {
   "cell_type": "code",
   "execution_count": 10,
   "id": "a9c2ccd2-0077-430c-9bdd-17cf70557c82",
   "metadata": {},
   "outputs": [
    {
     "data": {
      "text/plain": [
       "Table('rori_generative_api_generations', MetaData(), Column('id', Integer(), table=<rori_generative_api_generations>, primary_key=True, nullable=False), Column('created_at', DateTime(), table=<rori_generative_api_generations>, nullable=False, server_default=DefaultClause(<__main__.utcnow at 0x16c0a3520; utcnow object>, for_update=False)), Column('generation', String(), table=<rori_generative_api_generations>, nullable=False), Column('context', JSON(), table=<rori_generative_api_generations>, nullable=False), schema=None)"
      ]
     },
     "execution_count": 10,
     "metadata": {},
     "output_type": "execute_result"
    }
   ],
   "source": [
    "# Base.metadata.reflect(bind=engine)\n",
    "Base.metadata.tables[\"rori_generative_api_generations\"]"
   ]
  },
  {
   "cell_type": "code",
   "execution_count": 24,
   "id": "5188acd2-d13b-4d65-bbaa-00e9a4284e7b",
   "metadata": {},
   "outputs": [
    {
     "name": "stdout",
     "output_type": "stream",
     "text": [
      "2023-08-16 17:09:50,360 INFO sqlalchemy.engine.Engine BEGIN (implicit)\n"
     ]
    },
    {
     "name": "stderr",
     "output_type": "stream",
     "text": [
      "2023-08-16 17:09:50,360:INFO - BEGIN (implicit)\n"
     ]
    },
    {
     "name": "stdout",
     "output_type": "stream",
     "text": [
      "2023-08-16 17:09:50,364 INFO sqlalchemy.engine.Engine \n",
      "DROP TABLE rori_generative_api_generations\n"
     ]
    },
    {
     "name": "stderr",
     "output_type": "stream",
     "text": [
      "2023-08-16 17:09:50,364:INFO - \n",
      "DROP TABLE rori_generative_api_generations\n"
     ]
    },
    {
     "name": "stdout",
     "output_type": "stream",
     "text": [
      "2023-08-16 17:09:50,365 INFO sqlalchemy.engine.Engine [no key 0.00126s] {}\n"
     ]
    },
    {
     "name": "stderr",
     "output_type": "stream",
     "text": [
      "2023-08-16 17:09:50,365:INFO - [no key 0.00126s] {}\n"
     ]
    },
    {
     "name": "stdout",
     "output_type": "stream",
     "text": [
      "2023-08-16 17:09:50,531 INFO sqlalchemy.engine.Engine COMMIT\n"
     ]
    },
    {
     "name": "stderr",
     "output_type": "stream",
     "text": [
      "2023-08-16 17:09:50,531:INFO - COMMIT\n"
     ]
    }
   ],
   "source": [
    "Base.metadata.tables[\"rori_generative_api_generations\"].drop(bind=engine)"
   ]
  },
  {
   "cell_type": "code",
   "execution_count": 11,
   "id": "889f726b-c57b-48bf-aa28-f72dee6e19a8",
   "metadata": {},
   "outputs": [
    {
     "name": "stdout",
     "output_type": "stream",
     "text": [
      "2023-08-16 16:58:05,948 INFO sqlalchemy.engine.Engine BEGIN (implicit)\n"
     ]
    },
    {
     "name": "stderr",
     "output_type": "stream",
     "text": [
      "2023-08-16 16:58:05,948:INFO - BEGIN (implicit)\n"
     ]
    },
    {
     "name": "stdout",
     "output_type": "stream",
     "text": [
      "2023-08-16 16:58:05,952 INFO sqlalchemy.engine.Engine INSERT INTO rori_generative_api_generations (generation, context) VALUES (%(generation)s, %(context)s) RETURNING rori_generative_api_generations.id, rori_generative_api_generations.created_at\n"
     ]
    },
    {
     "name": "stderr",
     "output_type": "stream",
     "text": [
      "2023-08-16 16:58:05,952:INFO - INSERT INTO rori_generative_api_generations (generation, context) VALUES (%(generation)s, %(context)s) RETURNING rori_generative_api_generations.id, rori_generative_api_generations.created_at\n"
     ]
    },
    {
     "name": "stdout",
     "output_type": "stream",
     "text": [
      "2023-08-16 16:58:05,954 INFO sqlalchemy.engine.Engine [generated in 0.00158s] {'generation': 'Test text', 'context': '{\"messages\": []}'}\n"
     ]
    },
    {
     "name": "stderr",
     "output_type": "stream",
     "text": [
      "2023-08-16 16:58:05,954:INFO - [generated in 0.00158s] {'generation': 'Test text', 'context': '{\"messages\": []}'}\n"
     ]
    },
    {
     "name": "stdout",
     "output_type": "stream",
     "text": [
      "2023-08-16 16:58:06,111 INFO sqlalchemy.engine.Engine COMMIT\n"
     ]
    },
    {
     "name": "stderr",
     "output_type": "stream",
     "text": [
      "2023-08-16 16:58:06,111:INFO - COMMIT\n"
     ]
    }
   ],
   "source": [
    "with sqlalchemy.orm.Session(engine) as session:\n",
    "    new_gen = Generation(generation=\"Test text\", context={\"messages\": []})\n",
    "    session.add(new_gen)\n",
    "    session.commit()"
   ]
  },
  {
   "cell_type": "code",
   "execution_count": 17,
   "id": "b1bb2ba6-ccbd-438c-965c-29b03cc85f82",
   "metadata": {},
   "outputs": [
    {
     "name": "stdout",
     "output_type": "stream",
     "text": [
      "2023-08-16 17:00:19,735 INFO sqlalchemy.engine.Engine BEGIN (implicit)\n"
     ]
    },
    {
     "name": "stderr",
     "output_type": "stream",
     "text": [
      "2023-08-16 17:00:19,735:INFO - BEGIN (implicit)\n"
     ]
    },
    {
     "name": "stdout",
     "output_type": "stream",
     "text": [
      "2023-08-16 17:00:19,738 INFO sqlalchemy.engine.Engine SELECT rori_generative_api_generations.id, rori_generative_api_generations.created_at, rori_generative_api_generations.generation, rori_generative_api_generations.context \n",
      "FROM rori_generative_api_generations\n"
     ]
    },
    {
     "name": "stderr",
     "output_type": "stream",
     "text": [
      "2023-08-16 17:00:19,738:INFO - SELECT rori_generative_api_generations.id, rori_generative_api_generations.created_at, rori_generative_api_generations.generation, rori_generative_api_generations.context \n",
      "FROM rori_generative_api_generations\n"
     ]
    },
    {
     "name": "stdout",
     "output_type": "stream",
     "text": [
      "2023-08-16 17:00:19,740 INFO sqlalchemy.engine.Engine [cached since 26.3s ago] {}\n"
     ]
    },
    {
     "name": "stderr",
     "output_type": "stream",
     "text": [
      "2023-08-16 17:00:19,740:INFO - [cached since 26.3s ago] {}\n"
     ]
    },
    {
     "name": "stdout",
     "output_type": "stream",
     "text": [
      "2023-08-16 17:00:19,897 INFO sqlalchemy.engine.Engine ROLLBACK\n"
     ]
    },
    {
     "name": "stderr",
     "output_type": "stream",
     "text": [
      "2023-08-16 17:00:19,897:INFO - ROLLBACK\n"
     ]
    },
    {
     "data": {
      "text/plain": [
       "[<__main__.Generation at 0x16c6dd600>]"
      ]
     },
     "execution_count": 17,
     "metadata": {},
     "output_type": "execute_result"
    }
   ],
   "source": [
    "with sqlalchemy.orm.Session(engine) as session:\n",
    "    result = session.execute(select(Generation)).scalars().all()\n",
    "result"
   ]
  },
  {
   "cell_type": "code",
   "execution_count": 23,
   "id": "eb605c43-ea8d-4a07-a261-56fd379dbe81",
   "metadata": {},
   "outputs": [
    {
     "data": {
      "text/plain": [
       "{'messages': []}"
      ]
     },
     "execution_count": 23,
     "metadata": {},
     "output_type": "execute_result"
    }
   ],
   "source": [
    "result[0].context"
   ]
  },
  {
   "cell_type": "code",
   "execution_count": null,
   "id": "ff66d4a8-1d28-4a64-b4b6-63f7aca1feea",
   "metadata": {},
   "outputs": [],
   "source": []
  }
 ],
 "metadata": {
  "kernelspec": {
   "display_name": "Python 3 (ipykernel)",
   "language": "python",
   "name": "python3"
  },
  "language_info": {
   "codemirror_mode": {
    "name": "ipython",
    "version": 3
   },
   "file_extension": ".py",
   "mimetype": "text/x-python",
   "name": "python",
   "nbconvert_exporter": "python",
   "pygments_lexer": "ipython3",
   "version": "3.10.11"
  }
 },
 "nbformat": 4,
 "nbformat_minor": 5
}
