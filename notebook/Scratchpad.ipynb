{
 "cells": [
  {
   "cell_type": "markdown",
   "id": "4f27fa5e-0701-4dcc-927c-925b438449b9",
   "metadata": {},
   "source": [
    "Scratchpad\n",
    "==="
   ]
  },
  {
   "cell_type": "code",
   "execution_count": 1,
   "id": "02c8dea6-7377-4a22-98eb-3176e3be264a",
   "metadata": {},
   "outputs": [],
   "source": [
    "import dotenv"
   ]
  },
  {
   "cell_type": "code",
   "execution_count": null,
   "id": "d0cb7744-0216-4a69-936e-66397cbbd0dd",
   "metadata": {},
   "outputs": [],
   "source": []
  },
  {
   "cell_type": "code",
   "execution_count": null,
   "id": "a58ea662-e6aa-4c97-8c83-f32c874bba00",
   "metadata": {},
   "outputs": [],
   "source": []
  }
 ],
 "metadata": {
  "kernelspec": {
   "display_name": "llm-math-education",
   "language": "python",
   "name": "llm-math-education"
  },
  "language_info": {
   "codemirror_mode": {
    "name": "ipython",
    "version": 3
   },
   "file_extension": ".py",
   "mimetype": "text/x-python",
   "name": "python",
   "nbconvert_exporter": "python",
   "pygments_lexer": "ipython3",
   "version": "3.9.16"
  }
 },
 "nbformat": 4,
 "nbformat_minor": 5
}
