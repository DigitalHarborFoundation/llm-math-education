{
 "cells": [
  {
   "cell_type": "markdown",
   "id": "4f27fa5e-0701-4dcc-927c-925b438449b9",
   "metadata": {},
   "source": [
    "Scratchpad\n",
    "==="
   ]
  },
  {
   "cell_type": "code",
   "execution_count": 25,
   "id": "02c8dea6-7377-4a22-98eb-3176e3be264a",
   "metadata": {},
   "outputs": [],
   "source": [
    "import json\n",
    "import os\n",
    "import uuid\n",
    "from pathlib import Path\n",
    "\n",
    "import dotenv\n",
    "import openai"
   ]
  },
  {
   "cell_type": "code",
   "execution_count": 2,
   "id": "d0cb7744-0216-4a69-936e-66397cbbd0dd",
   "metadata": {},
   "outputs": [
    {
     "data": {
      "text/plain": [
       "True"
      ]
     },
     "execution_count": 2,
     "metadata": {},
     "output_type": "execute_result"
    }
   ],
   "source": [
    "dotenv.load_dotenv(\"../.env\")"
   ]
  },
  {
   "cell_type": "code",
   "execution_count": 6,
   "id": "a58ea662-e6aa-4c97-8c83-f32c874bba00",
   "metadata": {},
   "outputs": [
    {
     "data": {
      "text/plain": [
       "'sk-'"
      ]
     },
     "execution_count": 6,
     "metadata": {},
     "output_type": "execute_result"
    }
   ],
   "source": [
    "os.environ[\"OPENAI_API_KEY\"][:3]"
   ]
  },
  {
   "cell_type": "markdown",
   "id": "1bd3928a-65e2-4d95-821e-3280b6bb66e8",
   "metadata": {},
   "source": [
    "### OpenAI API testing"
   ]
  },
  {
   "cell_type": "code",
   "execution_count": 8,
   "id": "1533d1e7-029d-4831-b4b1-eeb90fe39b2d",
   "metadata": {},
   "outputs": [
    {
     "data": {
      "text/plain": [
       "<Model model id=whisper-1 at 0x10a8bfea0> JSON: {\n",
       "  \"id\": \"whisper-1\",\n",
       "  \"object\": \"model\",\n",
       "  \"created\": 1677532384,\n",
       "  \"owned_by\": \"openai-internal\",\n",
       "  \"permission\": [\n",
       "    {\n",
       "      \"id\": \"modelperm-KlsZlfft3Gma8pI6A8rTnyjs\",\n",
       "      \"object\": \"model_permission\",\n",
       "      \"created\": 1683912666,\n",
       "      \"allow_create_engine\": false,\n",
       "      \"allow_sampling\": true,\n",
       "      \"allow_logprobs\": true,\n",
       "      \"allow_search_indices\": false,\n",
       "      \"allow_view\": true,\n",
       "      \"allow_fine_tuning\": false,\n",
       "      \"organization\": \"*\",\n",
       "      \"group\": null,\n",
       "      \"is_blocking\": false\n",
       "    }\n",
       "  ],\n",
       "  \"root\": \"whisper-1\",\n",
       "  \"parent\": null\n",
       "}"
      ]
     },
     "execution_count": 8,
     "metadata": {},
     "output_type": "execute_result"
    }
   ],
   "source": [
    "models = openai.Model.list()\n",
    "models.data[0]"
   ]
  },
  {
   "cell_type": "code",
   "execution_count": 11,
   "id": "1b0e8be3-22ed-4774-81a3-38401b15b03a",
   "metadata": {},
   "outputs": [
    {
     "data": {
      "text/plain": [
       "53"
      ]
     },
     "execution_count": 11,
     "metadata": {},
     "output_type": "execute_result"
    }
   ],
   "source": [
    "len(models.data)"
   ]
  },
  {
   "cell_type": "code",
   "execution_count": 17,
   "id": "f7a32883-fa07-4518-8454-e5446ae9f817",
   "metadata": {},
   "outputs": [
    {
     "data": {
      "text/plain": [
       "<OpenAIObject chat.completion id=chatcmpl-7RqQuLq1WcYkjNFODeFrkfMHuQuaz at 0x10c696e50> JSON: {\n",
       "  \"id\": \"chatcmpl-7RqQuLq1WcYkjNFODeFrkfMHuQuaz\",\n",
       "  \"object\": \"chat.completion\",\n",
       "  \"created\": 1686870764,\n",
       "  \"model\": \"gpt-3.5-turbo-0613\",\n",
       "  \"choices\": [\n",
       "    {\n",
       "      \"index\": 0,\n",
       "      \"message\": {\n",
       "        \"role\": \"assistant\",\n",
       "        \"content\": \"Some commonly-covered topics in middle school math curricula include:\\n\\n1. Whole numbers, integers, and rational numbers\\n2. Number operations (addition, subtraction, multiplication, and division)\\n3. Fractions, decimals, and percentages\\n4. Ratios and proportions\\n5. Algebraic expressions and equations\\n6. Geometry (angles, lines, shapes, area, and perimeter)\\n7. Measurement (length, capacity, mass, and time)\\n8. Statistics and probability\\n9. Graphing and coordinate planes\\n10. Problem-solving and critical thinking skills.\"\n",
       "      },\n",
       "      \"finish_reason\": \"stop\"\n",
       "    }\n",
       "  ],\n",
       "  \"usage\": {\n",
       "    \"prompt_tokens\": 20,\n",
       "    \"completion_tokens\": 114,\n",
       "    \"total_tokens\": 134\n",
       "  }\n",
       "}"
      ]
     },
     "execution_count": 17,
     "metadata": {},
     "output_type": "execute_result"
    }
   ],
   "source": [
    "prompt = \"What are some commonly-covered topics in middle-school math curricula?\"\n",
    "completion = openai.ChatCompletion.create(model=\"gpt-3.5-turbo-0613\", messages=[{\"role\": \"user\", \"content\": prompt}])\n",
    "completion"
   ]
  },
  {
   "cell_type": "code",
   "execution_count": 23,
   "id": "141a69d7-29dc-40d3-b5e7-e7475cca7b7e",
   "metadata": {},
   "outputs": [
    {
     "data": {
      "text/plain": [
       "{'id': 'chatcmpl-7RqQuLq1WcYkjNFODeFrkfMHuQuaz',\n",
       " 'object': 'chat.completion',\n",
       " 'created': 1686870764,\n",
       " 'model': 'gpt-3.5-turbo-0613',\n",
       " 'choices': [{'index': 0,\n",
       "   'message': {'role': 'assistant',\n",
       "    'content': 'Some commonly-covered topics in middle school math curricula include:\\n\\n1. Whole numbers, integers, and rational numbers\\n2. Number operations (addition, subtraction, multiplication, and division)\\n3. Fractions, decimals, and percentages\\n4. Ratios and proportions\\n5. Algebraic expressions and equations\\n6. Geometry (angles, lines, shapes, area, and perimeter)\\n7. Measurement (length, capacity, mass, and time)\\n8. Statistics and probability\\n9. Graphing and coordinate planes\\n10. Problem-solving and critical thinking skills.'},\n",
       "   'finish_reason': 'stop'}],\n",
       " 'usage': {'prompt_tokens': 20, 'completion_tokens': 114, 'total_tokens': 134}}"
      ]
     },
     "execution_count": 23,
     "metadata": {},
     "output_type": "execute_result"
    }
   ],
   "source": [
    "completion.to_dict_recursive()"
   ]
  },
  {
   "cell_type": "code",
   "execution_count": 26,
   "id": "89148123-f74b-4f70-8c01-468b51aed747",
   "metadata": {},
   "outputs": [
    {
     "data": {
      "text/plain": [
       "'{\"id\": \"chatcmpl-7RqQuLq1WcYkjNFODeFrkfMHuQuaz\", \"object\": \"chat.completion\", \"created\": 1686870764, \"model\": \"gpt-3.5-turbo-0613\", \"choices\": [{\"index\": 0, \"message\": {\"role\": \"assistant\", \"content\": \"Some commonly-covered topics in middle school math curricula include:\\\\n\\\\n1. Whole numbers, integers, and rational numbers\\\\n2. Number operations (addition, subtraction, multiplication, and division)\\\\n3. Fractions, decimals, and percentages\\\\n4. Ratios and proportions\\\\n5. Algebraic expressions and equations\\\\n6. Geometry (angles, lines, shapes, area, and perimeter)\\\\n7. Measurement (length, capacity, mass, and time)\\\\n8. Statistics and probability\\\\n9. Graphing and coordinate planes\\\\n10. Problem-solving and critical thinking skills.\"}, \"finish_reason\": \"stop\"}], \"usage\": {\"prompt_tokens\": 20, \"completion_tokens\": 114, \"total_tokens\": 134}}'"
      ]
     },
     "execution_count": 26,
     "metadata": {},
     "output_type": "execute_result"
    }
   ],
   "source": [
    "json.dumps(completion.to_dict_recursive())"
   ]
  },
  {
   "cell_type": "code",
   "execution_count": 46,
   "id": "5c1858a1-8fb1-4c75-ac8a-7b6cebd35cd1",
   "metadata": {},
   "outputs": [
    {
     "data": {
      "text/plain": [
       "<OpenAIObject chat.completion id=chatcmpl-7S6a1fOp51N4RGt0i9hYkML99HPiQ at 0x1064bb720> JSON: {\n",
       "  \"id\": \"chatcmpl-7S6a1fOp51N4RGt0i9hYkML99HPiQ\",\n",
       "  \"object\": \"chat.completion\",\n",
       "  \"created\": 1686932833,\n",
       "  \"model\": \"gpt-3.5-turbo-0613\",\n",
       "  \"choices\": [\n",
       "    {\n",
       "      \"index\": 0,\n",
       "      \"message\": {\n",
       "        \"role\": \"assistant\",\n",
       "        \"content\": null,\n",
       "        \"function_call\": {\n",
       "          \"name\": \"get_concept_definition\",\n",
       "          \"arguments\": \"{\\n  \\\"concept\\\": \\\"slope\\\"\\n}\"\n",
       "        }\n",
       "      },\n",
       "      \"finish_reason\": \"function_call\"\n",
       "    }\n",
       "  ],\n",
       "  \"usage\": {\n",
       "    \"prompt_tokens\": 85,\n",
       "    \"completion_tokens\": 17,\n",
       "    \"total_tokens\": 102\n",
       "  }\n",
       "}"
      ]
     },
     "execution_count": 46,
     "metadata": {},
     "output_type": "execute_result"
    }
   ],
   "source": [
    "# https://platform.openai.com/docs/guides/gpt/function-calling\n",
    "completion = openai.ChatCompletion.create(\n",
    "    model=\"gpt-3.5-turbo-0613\",\n",
    "    messages=[\n",
    "        {\"role\": \"system\", \"content\": \"You are a middle-school math tutor.\"},\n",
    "        {\"role\": \"user\", \"content\": \"I don't understand how to find the slope from y=mx+b\"},\n",
    "    ],\n",
    "    functions=[\n",
    "        {\n",
    "            \"name\": \"get_concept_definition\",\n",
    "            \"description\": \"Retrieves the concept definition taught to the student during lecture that should be used in the response\",\n",
    "            \"parameters\": {\n",
    "                \"type\": \"object\",\n",
    "                \"properties\": {\n",
    "                    \"concept\": {\n",
    "                        \"type\": \"string\",\n",
    "                        \"description\": \"The concept most relevant to answering the student's question\",\n",
    "                    },\n",
    "                },\n",
    "                \"required\": [\"concept\"],\n",
    "            },\n",
    "        }\n",
    "    ],\n",
    "    function_call=\"auto\",\n",
    ")\n",
    "completion"
   ]
  },
  {
   "cell_type": "code",
   "execution_count": 49,
   "id": "5c804d58-b4b7-4ae7-ac76-59d5222a959c",
   "metadata": {},
   "outputs": [
    {
     "data": {
      "text/plain": [
       "[PosixPath('Scratchpad.ipynb'), PosixPath('.ipynb_checkpoints')]"
      ]
     },
     "execution_count": 49,
     "metadata": {},
     "output_type": "execute_result"
    }
   ],
   "source": [
    "list(Path(\".\").glob(\"*\"))"
   ]
  },
  {
   "cell_type": "code",
   "execution_count": 51,
   "id": "fbc6dc0a-4da0-42bf-ae87-7700c9501abe",
   "metadata": {},
   "outputs": [
    {
     "data": {
      "text/plain": [
       "'2023061614361686951398 '"
      ]
     },
     "execution_count": 51,
     "metadata": {},
     "output_type": "execute_result"
    }
   ],
   "source": [
    "datetime.now().strftime(\"%Y%m%d%H%M%s %Z\")"
   ]
  },
  {
   "cell_type": "code",
   "execution_count": 53,
   "id": "74925447-4687-42cf-b852-3bbdafc7198f",
   "metadata": {},
   "outputs": [
    {
     "data": {
      "text/plain": [
       "UUID('85c3611c-ff85-47d9-9fa4-de0c1b0e3d00')"
      ]
     },
     "execution_count": 53,
     "metadata": {},
     "output_type": "execute_result"
    }
   ],
   "source": [
    "uuid.uuid4()"
   ]
  },
  {
   "cell_type": "code",
   "execution_count": null,
   "id": "706d93ab-b421-4020-ba72-a34d9dcaf6e1",
   "metadata": {},
   "outputs": [],
   "source": []
  }
 ],
 "metadata": {
  "kernelspec": {
   "display_name": "llm-math-education",
   "language": "python",
   "name": "llm-math-education"
  },
  "language_info": {
   "codemirror_mode": {
    "name": "ipython",
    "version": 3
   },
   "file_extension": ".py",
   "mimetype": "text/x-python",
   "name": "python",
   "nbconvert_exporter": "python",
   "pygments_lexer": "ipython3",
   "version": "3.9.16"
  }
 },
 "nbformat": 4,
 "nbformat_minor": 5
}
