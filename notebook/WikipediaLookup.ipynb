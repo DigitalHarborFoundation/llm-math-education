{
 "cells": [
  {
   "cell_type": "markdown",
   "id": "b05f5512-9c9d-412f-ad63-04a941e8002b",
   "metadata": {},
   "source": [
    "Wikipedia Lookup\n",
    "===\n",
    "\n",
    "Quick experiments with Wikipedia lookup.\n",
    "\n",
    "Copying the API approach used by https://github.com/minimaxir/simpleaichat"
   ]
  },
  {
   "cell_type": "code",
   "execution_count": 4,
   "id": "4b1860ab-2ea7-46c0-834f-cdb802712216",
   "metadata": {},
   "outputs": [],
   "source": [
    "from typing import Union\n",
    "\n",
    "import httpx"
   ]
  },
  {
   "cell_type": "code",
   "execution_count": 6,
   "id": "2a41479b-3647-4337-a90e-33faa8a2a8ca",
   "metadata": {},
   "outputs": [
    {
     "data": {
      "text/plain": [
       "'0.24.1'"
      ]
     },
     "execution_count": 6,
     "metadata": {},
     "output_type": "execute_result"
    }
   ],
   "source": [
    "httpx.__version__"
   ]
  },
  {
   "cell_type": "code",
   "execution_count": 12,
   "id": "ed8fadf1-588a-43dc-99ee-0a48cdaef5f5",
   "metadata": {},
   "outputs": [],
   "source": [
    "# code adopted from https://github.com/minimaxir/simpleaichat/tree/main (MIT-licensed)\n",
    "WIKIPEDIA_API_URL = \"https://en.wikipedia.org/w/api.php\"\n",
    "# set the user agent according to https://www.mediawiki.org/wiki/API:Etiquette#The_User-Agent_header\n",
    "WIKIPEDIA_HEADERS = {\n",
    "    \"user-agent\": f\"WikipediaLookup/0.1 (https://github.com/levon003/llm-math-education; levon003@umn.org) httpx/{httpx.__version__}\"\n",
    "}\n",
    "\n",
    "\n",
    "def wikipedia_search(query: str, n: int = 1) -> Union[str, list[str]]:\n",
    "    SEARCH_PARAMS = {\n",
    "        \"action\": \"query\",\n",
    "        \"list\": \"search\",\n",
    "        \"format\": \"json\",\n",
    "        \"srlimit\": n,\n",
    "        \"srsearch\": query,\n",
    "        \"srwhat\": \"text\",\n",
    "        \"srprop\": \"\",\n",
    "    }\n",
    "\n",
    "    with httpx.Client(headers=WIKIPEDIA_HEADERS) as client:\n",
    "        r_search = client.get(WIKIPEDIA_API_URL, params=SEARCH_PARAMS)\n",
    "        results = [x[\"title\"] for x in r_search.json()[\"query\"][\"search\"]]\n",
    "\n",
    "    return results[0] if n == 1 else results\n",
    "\n",
    "\n",
    "def wikipedia_lookup(query: str, sentences: int = 1) -> str:\n",
    "    LOOKUP_PARAMS = {\n",
    "        \"action\": \"query\",\n",
    "        \"prop\": \"extracts\",\n",
    "        \"exsentences\": sentences,\n",
    "        \"exlimit\": \"1\",\n",
    "        \"explaintext\": \"1\",\n",
    "        \"formatversion\": \"2\",\n",
    "        \"format\": \"json\",\n",
    "        \"titles\": query,\n",
    "    }\n",
    "    with httpx.Client(headers=WIKIPEDIA_HEADERS) as client:\n",
    "        r_lookup = client.get(WIKIPEDIA_API_URL, params=LOOKUP_PARAMS)\n",
    "    return r_lookup.json()[\"query\"][\"pages\"][0][\"extract\"]\n",
    "\n",
    "\n",
    "def wikipedia_search_lookup(query: str, sentences: int = 1) -> str:\n",
    "    return wikipedia_lookup(wikipedia_search(query, 1), sentences)"
   ]
  },
  {
   "cell_type": "code",
   "execution_count": 15,
   "id": "c5881548-a21e-4e60-873c-1222708a22dd",
   "metadata": {},
   "outputs": [
    {
     "data": {
      "text/plain": [
       "'Mathematics'"
      ]
     },
     "execution_count": 15,
     "metadata": {},
     "output_type": "execute_result"
    }
   ],
   "source": [
    "wikipedia_search(\"Maths\")"
   ]
  },
  {
   "cell_type": "code",
   "execution_count": 16,
   "id": "f648e029-1868-453c-96ae-46198883b111",
   "metadata": {},
   "outputs": [
    {
     "data": {
      "text/plain": [
       "'Mathematics is an area of knowledge that includes the topics of numbers, formulas and related structures, shapes and the spaces in which they are contained, and quantities and their changes. These topics are represented in modern mathematics with the major subdisciplines of number theory, algebra, geometry, and analysis, respectively. There is no general consensus among mathematicians about a common definition for their academic discipline.\\nMost mathematical activity involves the discovery of properties of abstract objects and the use of pure reason to prove them. These objects consist of either abstractions from nature or—in modern mathematics—entities that are stipulated to have certain properties, called axioms.'"
      ]
     },
     "execution_count": 16,
     "metadata": {},
     "output_type": "execute_result"
    }
   ],
   "source": [
    "wikipedia_lookup(\"Mathematics\", sentences=5)"
   ]
  },
  {
   "cell_type": "code",
   "execution_count": 17,
   "id": "dc9268e3-abd7-4c68-8c83-1ac7600f7cc7",
   "metadata": {},
   "outputs": [
    {
     "data": {
      "text/plain": [
       "'A regular grid is a tessellation of n-dimensional Euclidean space by congruent parallelotopes (e.g. bricks). \\nIts opposite is irregular grid.'"
      ]
     },
     "execution_count": 17,
     "metadata": {},
     "output_type": "execute_result"
    }
   ],
   "source": [
    "wikipedia_search_lookup(\"Cartesian grid\", sentences=3)"
   ]
  },
  {
   "cell_type": "code",
   "execution_count": 19,
   "id": "9b0974fa-9c4a-4971-979b-50734f71a853",
   "metadata": {},
   "outputs": [
    {
     "data": {
      "text/plain": [
       "'In science, the probability of an event is a number that indicates how likely the event is to occur. It is expressed as a number in the range from 0 and 1, or, using percentage notation, in the range from 0% to 100%.  The more likely it is that the event will occur, the higher its probability.'"
      ]
     },
     "execution_count": 19,
     "metadata": {},
     "output_type": "execute_result"
    }
   ],
   "source": [
    "wikipedia_search_lookup(\"Probability\", sentences=3)"
   ]
  },
  {
   "cell_type": "code",
   "execution_count": null,
   "id": "1c52f9f5-4b7d-41e5-9cb1-dc19e2a76c04",
   "metadata": {},
   "outputs": [],
   "source": []
  },
  {
   "cell_type": "code",
   "execution_count": null,
   "id": "21b7ce4e-62b0-4fe9-b237-0e71bf3fe0cf",
   "metadata": {},
   "outputs": [],
   "source": []
  }
 ],
 "metadata": {
  "kernelspec": {
   "display_name": "Python 3 (ipykernel)",
   "language": "python",
   "name": "python3"
  },
  "language_info": {
   "codemirror_mode": {
    "name": "ipython",
    "version": 3
   },
   "file_extension": ".py",
   "mimetype": "text/x-python",
   "name": "python",
   "nbconvert_exporter": "python",
   "pygments_lexer": "ipython3",
   "version": "3.10.11"
  }
 },
 "nbformat": 4,
 "nbformat_minor": 5
}
